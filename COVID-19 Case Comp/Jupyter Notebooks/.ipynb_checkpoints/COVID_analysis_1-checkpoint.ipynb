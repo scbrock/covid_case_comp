{
 "cells": [
  {
   "cell_type": "markdown",
   "metadata": {},
   "source": [
    "Prophet package time series example (Facebook)\n",
    "https://towardsdatascience.com/time-series-analysis-in-python-an-introduction-70d5a5b1d52a"
   ]
  },
  {
   "cell_type": "code",
   "execution_count": 1,
   "metadata": {},
   "outputs": [],
   "source": [
    "import pandas as pd\n",
    "from datetime import datetime\n",
    "from datetime import timedelta\n",
    "import numpy as np\n",
    "import matplotlib.pyplot as plt"
   ]
  },
  {
   "cell_type": "code",
   "execution_count": 2,
   "metadata": {},
   "outputs": [
    {
     "data": {
      "text/plain": [
       "'/Users/stephenbrock/Documents/github/covid_case_comp/COVID-19 Case Comp/Jupyter Notebooks'"
      ]
     },
     "execution_count": 2,
     "metadata": {},
     "output_type": "execute_result"
    }
   ],
   "source": [
    "import os\n",
    "cwd = os.getcwd()\n",
    "cwd"
   ]
  },
  {
   "cell_type": "code",
   "execution_count": 3,
   "metadata": {},
   "outputs": [],
   "source": [
    "on_new = pd.read_csv(\"../Datasets/on_covid19.csv\")\n",
    "on_events = pd.read_csv(\"../Datasets/on_events.csv\")\n",
    "on_mobil = pd.read_csv(\"../Datasets/Mobility Data/ontario.csv\")"
   ]
  },
  {
   "cell_type": "code",
   "execution_count": null,
   "metadata": {},
   "outputs": [],
   "source": []
  },
  {
   "cell_type": "code",
   "execution_count": 4,
   "metadata": {},
   "outputs": [
    {
     "data": {
      "text/html": [
       "<div>\n",
       "<style scoped>\n",
       "    .dataframe tbody tr th:only-of-type {\n",
       "        vertical-align: middle;\n",
       "    }\n",
       "\n",
       "    .dataframe tbody tr th {\n",
       "        vertical-align: top;\n",
       "    }\n",
       "\n",
       "    .dataframe thead th {\n",
       "        text-align: right;\n",
       "    }\n",
       "</style>\n",
       "<table border=\"1\" class=\"dataframe\">\n",
       "  <thead>\n",
       "    <tr style=\"text-align: right;\">\n",
       "      <th></th>\n",
       "      <th>category</th>\n",
       "      <th>New cases</th>\n",
       "    </tr>\n",
       "  </thead>\n",
       "  <tbody>\n",
       "    <tr>\n",
       "      <th>0</th>\n",
       "      <td>2020-01-30T00:00:00</td>\n",
       "      <td>1</td>\n",
       "    </tr>\n",
       "    <tr>\n",
       "      <th>1</th>\n",
       "      <td>2020-01-31T00:00:00</td>\n",
       "      <td>0</td>\n",
       "    </tr>\n",
       "    <tr>\n",
       "      <th>2</th>\n",
       "      <td>2020-02-03T00:00:00</td>\n",
       "      <td>1</td>\n",
       "    </tr>\n",
       "    <tr>\n",
       "      <th>3</th>\n",
       "      <td>2020-02-04T00:00:00</td>\n",
       "      <td>0</td>\n",
       "    </tr>\n",
       "    <tr>\n",
       "      <th>4</th>\n",
       "      <td>2020-02-05T00:00:00</td>\n",
       "      <td>0</td>\n",
       "    </tr>\n",
       "  </tbody>\n",
       "</table>\n",
       "</div>"
      ],
      "text/plain": [
       "              category  New cases\n",
       "0  2020-01-30T00:00:00          1\n",
       "1  2020-01-31T00:00:00          0\n",
       "2  2020-02-03T00:00:00          1\n",
       "3  2020-02-04T00:00:00          0\n",
       "4  2020-02-05T00:00:00          0"
      ]
     },
     "execution_count": 4,
     "metadata": {},
     "output_type": "execute_result"
    }
   ],
   "source": [
    "on_new.head()"
   ]
  },
  {
   "cell_type": "code",
   "execution_count": 5,
   "metadata": {},
   "outputs": [],
   "source": [
    "on_new.columns = [\"date\", \"new\"]"
   ]
  },
  {
   "cell_type": "code",
   "execution_count": 6,
   "metadata": {},
   "outputs": [
    {
     "data": {
      "text/plain": [
       "str"
      ]
     },
     "execution_count": 6,
     "metadata": {},
     "output_type": "execute_result"
    }
   ],
   "source": [
    "type(on_new[\"date\"][1])"
   ]
  },
  {
   "cell_type": "code",
   "execution_count": 7,
   "metadata": {},
   "outputs": [
    {
     "data": {
      "text/plain": [
       "'2020-10-04T00:00:00'"
      ]
     },
     "execution_count": 7,
     "metadata": {},
     "output_type": "execute_result"
    }
   ],
   "source": [
    "max(on_new.date)"
   ]
  },
  {
   "cell_type": "code",
   "execution_count": 8,
   "metadata": {},
   "outputs": [],
   "source": [
    "on_new = on_new.assign(date = lambda x: x['date'].map(lambda d: d[:10]))\n",
    "#on_new['date'] = [d[:10] for d in on_new.date.values]"
   ]
  },
  {
   "cell_type": "code",
   "execution_count": 9,
   "metadata": {},
   "outputs": [
    {
     "data": {
      "text/html": [
       "<div>\n",
       "<style scoped>\n",
       "    .dataframe tbody tr th:only-of-type {\n",
       "        vertical-align: middle;\n",
       "    }\n",
       "\n",
       "    .dataframe tbody tr th {\n",
       "        vertical-align: top;\n",
       "    }\n",
       "\n",
       "    .dataframe thead th {\n",
       "        text-align: right;\n",
       "    }\n",
       "</style>\n",
       "<table border=\"1\" class=\"dataframe\">\n",
       "  <thead>\n",
       "    <tr style=\"text-align: right;\">\n",
       "      <th></th>\n",
       "      <th>date</th>\n",
       "      <th>new</th>\n",
       "    </tr>\n",
       "  </thead>\n",
       "  <tbody>\n",
       "    <tr>\n",
       "      <th>0</th>\n",
       "      <td>2020-01-30</td>\n",
       "      <td>1</td>\n",
       "    </tr>\n",
       "    <tr>\n",
       "      <th>1</th>\n",
       "      <td>2020-01-31</td>\n",
       "      <td>0</td>\n",
       "    </tr>\n",
       "    <tr>\n",
       "      <th>2</th>\n",
       "      <td>2020-02-03</td>\n",
       "      <td>1</td>\n",
       "    </tr>\n",
       "    <tr>\n",
       "      <th>3</th>\n",
       "      <td>2020-02-04</td>\n",
       "      <td>0</td>\n",
       "    </tr>\n",
       "    <tr>\n",
       "      <th>4</th>\n",
       "      <td>2020-02-05</td>\n",
       "      <td>0</td>\n",
       "    </tr>\n",
       "  </tbody>\n",
       "</table>\n",
       "</div>"
      ],
      "text/plain": [
       "         date  new\n",
       "0  2020-01-30    1\n",
       "1  2020-01-31    0\n",
       "2  2020-02-03    1\n",
       "3  2020-02-04    0\n",
       "4  2020-02-05    0"
      ]
     },
     "execution_count": 9,
     "metadata": {},
     "output_type": "execute_result"
    }
   ],
   "source": [
    "on_new.head()"
   ]
  },
  {
   "cell_type": "code",
   "execution_count": 10,
   "metadata": {},
   "outputs": [],
   "source": [
    "first_date = min(on_new.date.values)\n",
    "last_date = max(on_new.date.values)\n",
    "in_btw_dates = pd.date_range(start=first_date, end=last_date).values"
   ]
  },
  {
   "cell_type": "code",
   "execution_count": 11,
   "metadata": {},
   "outputs": [],
   "source": [
    "in_btw_dates = [str(d)[:10] for d in in_btw_dates]"
   ]
  },
  {
   "cell_type": "code",
   "execution_count": 12,
   "metadata": {},
   "outputs": [
    {
     "data": {
      "text/plain": [
       "249"
      ]
     },
     "execution_count": 12,
     "metadata": {},
     "output_type": "execute_result"
    }
   ],
   "source": [
    "len(in_btw_dates)"
   ]
  },
  {
   "cell_type": "code",
   "execution_count": 13,
   "metadata": {},
   "outputs": [
    {
     "data": {
      "text/plain": [
       "(239, 2)"
      ]
     },
     "execution_count": 13,
     "metadata": {},
     "output_type": "execute_result"
    }
   ],
   "source": [
    "on_new.shape"
   ]
  },
  {
   "cell_type": "code",
   "execution_count": 14,
   "metadata": {},
   "outputs": [],
   "source": [
    "dates = pd.DataFrame({'date':in_btw_dates})\n",
    "on_new = on_new.merge(right=dates, how='right', on='date')"
   ]
  },
  {
   "cell_type": "code",
   "execution_count": 15,
   "metadata": {},
   "outputs": [
    {
     "data": {
      "text/plain": [
       "(249, 2)"
      ]
     },
     "execution_count": 15,
     "metadata": {},
     "output_type": "execute_result"
    }
   ],
   "source": [
    "on_new.shape"
   ]
  },
  {
   "cell_type": "code",
   "execution_count": 16,
   "metadata": {},
   "outputs": [
    {
     "data": {
      "text/plain": [
       "date     0\n",
       "new     10\n",
       "dtype: int64"
      ]
     },
     "execution_count": 16,
     "metadata": {},
     "output_type": "execute_result"
    }
   ],
   "source": [
    "pd.isnull(on_new).sum()"
   ]
  },
  {
   "cell_type": "code",
   "execution_count": 17,
   "metadata": {},
   "outputs": [],
   "source": [
    "on_new = on_new.fillna(value=0)"
   ]
  },
  {
   "cell_type": "code",
   "execution_count": 18,
   "metadata": {},
   "outputs": [
    {
     "data": {
      "text/plain": [
       "date    0\n",
       "new     0\n",
       "dtype: int64"
      ]
     },
     "execution_count": 18,
     "metadata": {},
     "output_type": "execute_result"
    }
   ],
   "source": [
    "pd.isnull(on_new).sum()"
   ]
  },
  {
   "cell_type": "code",
   "execution_count": 19,
   "metadata": {},
   "outputs": [
    {
     "data": {
      "text/html": [
       "<div>\n",
       "<style scoped>\n",
       "    .dataframe tbody tr th:only-of-type {\n",
       "        vertical-align: middle;\n",
       "    }\n",
       "\n",
       "    .dataframe tbody tr th {\n",
       "        vertical-align: top;\n",
       "    }\n",
       "\n",
       "    .dataframe thead th {\n",
       "        text-align: right;\n",
       "    }\n",
       "</style>\n",
       "<table border=\"1\" class=\"dataframe\">\n",
       "  <thead>\n",
       "    <tr style=\"text-align: right;\">\n",
       "      <th></th>\n",
       "      <th>province</th>\n",
       "      <th>region</th>\n",
       "      <th>date</th>\n",
       "      <th>retail_and_recreation_percent_change_from_baseline</th>\n",
       "      <th>grocery_and_pharmacy_percent_change_from_baseline</th>\n",
       "      <th>parks_percent_change_from_baseline</th>\n",
       "      <th>transit_stations_percent_change_from_baseline</th>\n",
       "      <th>workplaces_percent_change_from_baseline</th>\n",
       "      <th>residential_percent_change_from_baseline</th>\n",
       "    </tr>\n",
       "  </thead>\n",
       "  <tbody>\n",
       "    <tr>\n",
       "      <th>0</th>\n",
       "      <td>Ontario</td>\n",
       "      <td>Algoma District</td>\n",
       "      <td>2020-02-15</td>\n",
       "      <td>0.0</td>\n",
       "      <td>0.0</td>\n",
       "      <td>23.0</td>\n",
       "      <td>8.0</td>\n",
       "      <td>-2.0</td>\n",
       "      <td>0.0</td>\n",
       "    </tr>\n",
       "    <tr>\n",
       "      <th>1</th>\n",
       "      <td>Ontario</td>\n",
       "      <td>Algoma District</td>\n",
       "      <td>2020-02-16</td>\n",
       "      <td>5.0</td>\n",
       "      <td>-1.0</td>\n",
       "      <td>NaN</td>\n",
       "      <td>-3.0</td>\n",
       "      <td>-5.0</td>\n",
       "      <td>0.0</td>\n",
       "    </tr>\n",
       "    <tr>\n",
       "      <th>2</th>\n",
       "      <td>Ontario</td>\n",
       "      <td>Algoma District</td>\n",
       "      <td>2020-02-17</td>\n",
       "      <td>-51.0</td>\n",
       "      <td>-66.0</td>\n",
       "      <td>NaN</td>\n",
       "      <td>-28.0</td>\n",
       "      <td>-66.0</td>\n",
       "      <td>12.0</td>\n",
       "    </tr>\n",
       "    <tr>\n",
       "      <th>3</th>\n",
       "      <td>Ontario</td>\n",
       "      <td>Algoma District</td>\n",
       "      <td>2020-02-18</td>\n",
       "      <td>-10.0</td>\n",
       "      <td>3.0</td>\n",
       "      <td>-16.0</td>\n",
       "      <td>-4.0</td>\n",
       "      <td>-4.0</td>\n",
       "      <td>3.0</td>\n",
       "    </tr>\n",
       "    <tr>\n",
       "      <th>4</th>\n",
       "      <td>Ontario</td>\n",
       "      <td>Algoma District</td>\n",
       "      <td>2020-02-19</td>\n",
       "      <td>3.0</td>\n",
       "      <td>-1.0</td>\n",
       "      <td>-6.0</td>\n",
       "      <td>-1.0</td>\n",
       "      <td>0.0</td>\n",
       "      <td>1.0</td>\n",
       "    </tr>\n",
       "  </tbody>\n",
       "</table>\n",
       "</div>"
      ],
      "text/plain": [
       "  province           region        date  \\\n",
       "0  Ontario  Algoma District  2020-02-15   \n",
       "1  Ontario  Algoma District  2020-02-16   \n",
       "2  Ontario  Algoma District  2020-02-17   \n",
       "3  Ontario  Algoma District  2020-02-18   \n",
       "4  Ontario  Algoma District  2020-02-19   \n",
       "\n",
       "   retail_and_recreation_percent_change_from_baseline  \\\n",
       "0                                                0.0    \n",
       "1                                                5.0    \n",
       "2                                              -51.0    \n",
       "3                                              -10.0    \n",
       "4                                                3.0    \n",
       "\n",
       "   grocery_and_pharmacy_percent_change_from_baseline  \\\n",
       "0                                                0.0   \n",
       "1                                               -1.0   \n",
       "2                                              -66.0   \n",
       "3                                                3.0   \n",
       "4                                               -1.0   \n",
       "\n",
       "   parks_percent_change_from_baseline  \\\n",
       "0                                23.0   \n",
       "1                                 NaN   \n",
       "2                                 NaN   \n",
       "3                               -16.0   \n",
       "4                                -6.0   \n",
       "\n",
       "   transit_stations_percent_change_from_baseline  \\\n",
       "0                                            8.0   \n",
       "1                                           -3.0   \n",
       "2                                          -28.0   \n",
       "3                                           -4.0   \n",
       "4                                           -1.0   \n",
       "\n",
       "   workplaces_percent_change_from_baseline  \\\n",
       "0                                     -2.0   \n",
       "1                                     -5.0   \n",
       "2                                    -66.0   \n",
       "3                                     -4.0   \n",
       "4                                      0.0   \n",
       "\n",
       "   residential_percent_change_from_baseline  \n",
       "0                                       0.0  \n",
       "1                                       0.0  \n",
       "2                                      12.0  \n",
       "3                                       3.0  \n",
       "4                                       1.0  "
      ]
     },
     "execution_count": 19,
     "metadata": {},
     "output_type": "execute_result"
    }
   ],
   "source": [
    "on_mobil.head()"
   ]
  },
  {
   "cell_type": "code",
   "execution_count": 20,
   "metadata": {},
   "outputs": [
    {
     "data": {
      "text/plain": [
       "(array(['Algoma District', 'Brant County', 'Brantford', 'Bruce County',\n",
       "        'Chatham-Kent Division', 'Cochrane District', 'Dufferin County',\n",
       "        'Elgin County', 'Essex County', 'Frontenac County',\n",
       "        'Greater Sudbury Division', 'Grey County', 'Haldimand County',\n",
       "        'Haliburton County', 'Hamilton Division', 'Hastings County',\n",
       "        'Huron County', 'Kawartha Lakes Division', 'Kenora District',\n",
       "        'Lambton County', 'Lanark County',\n",
       "        'Leeds and Grenville United Counties',\n",
       "        'Lennox and Addington County', 'Manitoulin District',\n",
       "        'Middlesex County', 'Muskoka District Municipality',\n",
       "        'Nipissing District', 'Norfolk County', 'Northumberland County',\n",
       "        'Ottawa Division', 'Oxford County', 'Parry Sound District',\n",
       "        'Perth County', 'Peterborough County',\n",
       "        'Prescott and Russell United Counties', 'Prince Edward County',\n",
       "        'Rainy River District', 'Regional Municipality of Durham',\n",
       "        'Regional Municipality of Halton',\n",
       "        'Regional Municipality of Niagara',\n",
       "        'Regional Municipality of Peel', 'Regional Municipality of York',\n",
       "        'Renfrew County', 'Simcoe County',\n",
       "        'Stormont, Dundas and Glengarry United Counties',\n",
       "        'Sudbury District', 'Thunder Bay District', 'Timiskaming District',\n",
       "        'Toronto Division', 'Waterloo Regional Municipality',\n",
       "        'Wellington County'], dtype=object),\n",
       " array([235, 229, 235, 228, 234, 229, 229, 232, 235, 235, 235, 232, 229,\n",
       "        146, 235, 235, 228, 229, 228, 235, 229, 232, 228,  95, 235, 229,\n",
       "        231, 229, 229, 235, 235, 213, 229, 235, 229, 148,  71, 235, 235,\n",
       "        235, 235, 235, 229, 235, 235, 151, 235, 193, 235, 235, 235]))"
      ]
     },
     "execution_count": 20,
     "metadata": {},
     "output_type": "execute_result"
    }
   ],
   "source": [
    "# get unique regions\n",
    "np.unique(on_mobil.region.values, return_counts=True)"
   ]
  },
  {
   "cell_type": "code",
   "execution_count": 21,
   "metadata": {},
   "outputs": [
    {
     "data": {
      "text/plain": [
       "235"
      ]
     },
     "execution_count": 21,
     "metadata": {},
     "output_type": "execute_result"
    }
   ],
   "source": [
    "len(np.unique(on_mobil.date.values))"
   ]
  },
  {
   "cell_type": "code",
   "execution_count": 22,
   "metadata": {},
   "outputs": [],
   "source": [
    "on_mobil_mean = on_mobil.groupby(['date', 'province']).agg(\n",
    "    mean_retail_change = pd.NamedAgg(column='retail_and_recreation_percent_change_from_baseline', aggfunc=np.mean),\n",
    "    mean_grocery_change = pd.NamedAgg(column='grocery_and_pharmacy_percent_change_from_baseline', aggfunc=np.mean),\n",
    "    mean_parks_change = pd.NamedAgg(column='parks_percent_change_from_baseline', aggfunc=np.mean),\n",
    "    mean_transit_change = pd.NamedAgg(column='transit_stations_percent_change_from_baseline', aggfunc=np.mean),\n",
    "    mean_workplace_change = pd.NamedAgg(column='workplaces_percent_change_from_baseline', aggfunc=np.mean),\n",
    "    mean_residential_change = pd.NamedAgg(column='residential_percent_change_from_baseline', aggfunc=np.mean)\n",
    ")"
   ]
  },
  {
   "cell_type": "code",
   "execution_count": 23,
   "metadata": {},
   "outputs": [],
   "source": [
    "on_mobil_mean = on_mobil_mean.reset_index()"
   ]
  },
  {
   "cell_type": "code",
   "execution_count": 24,
   "metadata": {},
   "outputs": [
    {
     "name": "stdout",
     "output_type": "stream",
     "text": [
      "2020-02-15\n",
      "2020-10-06\n"
     ]
    }
   ],
   "source": [
    "print(on_mobil_mean.date.min())\n",
    "print(on_mobil_mean.date.max())"
   ]
  },
  {
   "cell_type": "code",
   "execution_count": 25,
   "metadata": {},
   "outputs": [
    {
     "data": {
      "text/plain": [
       "234"
      ]
     },
     "execution_count": 25,
     "metadata": {},
     "output_type": "execute_result"
    }
   ],
   "source": [
    "diff = datetime.date(datetime.strptime(on_mobil_mean.date.max(), \"%Y-%m-%d\")) - \\\n",
    "datetime.date(datetime.strptime(on_mobil_mean.date.min(), \"%Y-%m-%d\"))\n",
    "diff.days"
   ]
  },
  {
   "cell_type": "code",
   "execution_count": null,
   "metadata": {},
   "outputs": [],
   "source": []
  },
  {
   "cell_type": "code",
   "execution_count": 26,
   "metadata": {},
   "outputs": [
    {
     "data": {
      "text/plain": [
       "datetime.date(2020, 10, 6)"
      ]
     },
     "execution_count": 26,
     "metadata": {},
     "output_type": "execute_result"
    }
   ],
   "source": [
    "datetime.date(datetime.strptime(on_mobil_mean.date.min(), \"%Y-%m-%d\")) + timedelta(days=234)"
   ]
  },
  {
   "cell_type": "code",
   "execution_count": 27,
   "metadata": {},
   "outputs": [],
   "source": [
    "# left join new cases onto mobil_mean\n",
    "data = on_mobil_mean.merge(right=on_new, how='left', on='date')"
   ]
  },
  {
   "cell_type": "code",
   "execution_count": 28,
   "metadata": {},
   "outputs": [
    {
     "data": {
      "text/html": [
       "<div>\n",
       "<style scoped>\n",
       "    .dataframe tbody tr th:only-of-type {\n",
       "        vertical-align: middle;\n",
       "    }\n",
       "\n",
       "    .dataframe tbody tr th {\n",
       "        vertical-align: top;\n",
       "    }\n",
       "\n",
       "    .dataframe thead th {\n",
       "        text-align: right;\n",
       "    }\n",
       "</style>\n",
       "<table border=\"1\" class=\"dataframe\">\n",
       "  <thead>\n",
       "    <tr style=\"text-align: right;\">\n",
       "      <th></th>\n",
       "      <th>date</th>\n",
       "      <th>province</th>\n",
       "      <th>mean_retail_change</th>\n",
       "      <th>mean_grocery_change</th>\n",
       "      <th>mean_parks_change</th>\n",
       "      <th>mean_transit_change</th>\n",
       "      <th>mean_workplace_change</th>\n",
       "      <th>mean_residential_change</th>\n",
       "      <th>new</th>\n",
       "    </tr>\n",
       "  </thead>\n",
       "  <tbody>\n",
       "    <tr>\n",
       "      <th>0</th>\n",
       "      <td>2020-02-15</td>\n",
       "      <td>Ontario</td>\n",
       "      <td>6.466667</td>\n",
       "      <td>4.674419</td>\n",
       "      <td>24.333333</td>\n",
       "      <td>23.724138</td>\n",
       "      <td>1.767442</td>\n",
       "      <td>-1.000000</td>\n",
       "      <td>0.0</td>\n",
       "    </tr>\n",
       "    <tr>\n",
       "      <th>1</th>\n",
       "      <td>2020-02-16</td>\n",
       "      <td>Ontario</td>\n",
       "      <td>15.555556</td>\n",
       "      <td>15.452381</td>\n",
       "      <td>46.368421</td>\n",
       "      <td>6.678571</td>\n",
       "      <td>-1.595238</td>\n",
       "      <td>-2.291667</td>\n",
       "      <td>0.0</td>\n",
       "    </tr>\n",
       "    <tr>\n",
       "      <th>2</th>\n",
       "      <td>2020-02-17</td>\n",
       "      <td>Ontario</td>\n",
       "      <td>-25.545455</td>\n",
       "      <td>-43.250000</td>\n",
       "      <td>67.333333</td>\n",
       "      <td>-4.827586</td>\n",
       "      <td>-67.725490</td>\n",
       "      <td>14.454545</td>\n",
       "      <td>0.0</td>\n",
       "    </tr>\n",
       "    <tr>\n",
       "      <th>3</th>\n",
       "      <td>2020-02-18</td>\n",
       "      <td>Ontario</td>\n",
       "      <td>-2.822222</td>\n",
       "      <td>11.777778</td>\n",
       "      <td>-8.600000</td>\n",
       "      <td>0.310345</td>\n",
       "      <td>-1.125000</td>\n",
       "      <td>1.266667</td>\n",
       "      <td>0.0</td>\n",
       "    </tr>\n",
       "    <tr>\n",
       "      <th>4</th>\n",
       "      <td>2020-02-19</td>\n",
       "      <td>Ontario</td>\n",
       "      <td>-0.466667</td>\n",
       "      <td>4.111111</td>\n",
       "      <td>-4.538462</td>\n",
       "      <td>0.758621</td>\n",
       "      <td>1.375000</td>\n",
       "      <td>0.533333</td>\n",
       "      <td>0.0</td>\n",
       "    </tr>\n",
       "    <tr>\n",
       "      <th>5</th>\n",
       "      <td>2020-02-20</td>\n",
       "      <td>Ontario</td>\n",
       "      <td>5.311111</td>\n",
       "      <td>6.822222</td>\n",
       "      <td>0.652174</td>\n",
       "      <td>1.034483</td>\n",
       "      <td>2.395833</td>\n",
       "      <td>-0.288889</td>\n",
       "      <td>0.0</td>\n",
       "    </tr>\n",
       "    <tr>\n",
       "      <th>6</th>\n",
       "      <td>2020-02-21</td>\n",
       "      <td>Ontario</td>\n",
       "      <td>0.913043</td>\n",
       "      <td>-2.377778</td>\n",
       "      <td>3.629630</td>\n",
       "      <td>1.344828</td>\n",
       "      <td>-6.187500</td>\n",
       "      <td>1.466667</td>\n",
       "      <td>0.0</td>\n",
       "    </tr>\n",
       "    <tr>\n",
       "      <th>7</th>\n",
       "      <td>2020-02-22</td>\n",
       "      <td>Ontario</td>\n",
       "      <td>10.977778</td>\n",
       "      <td>7.000000</td>\n",
       "      <td>45.826087</td>\n",
       "      <td>18.620690</td>\n",
       "      <td>7.255814</td>\n",
       "      <td>-2.035714</td>\n",
       "      <td>0.0</td>\n",
       "    </tr>\n",
       "    <tr>\n",
       "      <th>8</th>\n",
       "      <td>2020-02-23</td>\n",
       "      <td>Ontario</td>\n",
       "      <td>12.933333</td>\n",
       "      <td>8.095238</td>\n",
       "      <td>50.100000</td>\n",
       "      <td>14.785714</td>\n",
       "      <td>4.804878</td>\n",
       "      <td>-1.541667</td>\n",
       "      <td>0.0</td>\n",
       "    </tr>\n",
       "    <tr>\n",
       "      <th>9</th>\n",
       "      <td>2020-02-24</td>\n",
       "      <td>Ontario</td>\n",
       "      <td>2.000000</td>\n",
       "      <td>3.311111</td>\n",
       "      <td>14.200000</td>\n",
       "      <td>2.724138</td>\n",
       "      <td>2.729167</td>\n",
       "      <td>-0.022222</td>\n",
       "      <td>1.0</td>\n",
       "    </tr>\n",
       "    <tr>\n",
       "      <th>10</th>\n",
       "      <td>2020-02-25</td>\n",
       "      <td>Ontario</td>\n",
       "      <td>1.488889</td>\n",
       "      <td>6.800000</td>\n",
       "      <td>1.260870</td>\n",
       "      <td>1.724138</td>\n",
       "      <td>3.166667</td>\n",
       "      <td>-0.333333</td>\n",
       "      <td>0.0</td>\n",
       "    </tr>\n",
       "    <tr>\n",
       "      <th>11</th>\n",
       "      <td>2020-02-26</td>\n",
       "      <td>Ontario</td>\n",
       "      <td>-7.000000</td>\n",
       "      <td>-0.733333</td>\n",
       "      <td>-14.192308</td>\n",
       "      <td>-3.758621</td>\n",
       "      <td>-0.937500</td>\n",
       "      <td>2.333333</td>\n",
       "      <td>0.0</td>\n",
       "    </tr>\n",
       "    <tr>\n",
       "      <th>12</th>\n",
       "      <td>2020-02-27</td>\n",
       "      <td>Ontario</td>\n",
       "      <td>-17.444444</td>\n",
       "      <td>-13.545455</td>\n",
       "      <td>-21.576923</td>\n",
       "      <td>-9.689655</td>\n",
       "      <td>-10.591837</td>\n",
       "      <td>6.177778</td>\n",
       "      <td>1.0</td>\n",
       "    </tr>\n",
       "    <tr>\n",
       "      <th>13</th>\n",
       "      <td>2020-02-28</td>\n",
       "      <td>Ontario</td>\n",
       "      <td>-6.891304</td>\n",
       "      <td>-2.977778</td>\n",
       "      <td>-13.392857</td>\n",
       "      <td>2.172414</td>\n",
       "      <td>-4.145833</td>\n",
       "      <td>3.000000</td>\n",
       "      <td>1.0</td>\n",
       "    </tr>\n",
       "    <tr>\n",
       "      <th>14</th>\n",
       "      <td>2020-02-29</td>\n",
       "      <td>Ontario</td>\n",
       "      <td>10.600000</td>\n",
       "      <td>9.511628</td>\n",
       "      <td>13.880000</td>\n",
       "      <td>17.965517</td>\n",
       "      <td>8.651163</td>\n",
       "      <td>-1.551724</td>\n",
       "      <td>0.0</td>\n",
       "    </tr>\n",
       "    <tr>\n",
       "      <th>15</th>\n",
       "      <td>2020-03-01</td>\n",
       "      <td>Ontario</td>\n",
       "      <td>14.222222</td>\n",
       "      <td>12.761905</td>\n",
       "      <td>24.652174</td>\n",
       "      <td>8.392857</td>\n",
       "      <td>6.219512</td>\n",
       "      <td>-1.160000</td>\n",
       "      <td>0.0</td>\n",
       "    </tr>\n",
       "    <tr>\n",
       "      <th>16</th>\n",
       "      <td>2020-03-02</td>\n",
       "      <td>Ontario</td>\n",
       "      <td>4.333333</td>\n",
       "      <td>5.511111</td>\n",
       "      <td>-5.047619</td>\n",
       "      <td>1.137931</td>\n",
       "      <td>3.562500</td>\n",
       "      <td>0.311111</td>\n",
       "      <td>12.0</td>\n",
       "    </tr>\n",
       "    <tr>\n",
       "      <th>17</th>\n",
       "      <td>2020-03-03</td>\n",
       "      <td>Ontario</td>\n",
       "      <td>2.355556</td>\n",
       "      <td>2.933333</td>\n",
       "      <td>-8.545455</td>\n",
       "      <td>1.413793</td>\n",
       "      <td>4.083333</td>\n",
       "      <td>0.111111</td>\n",
       "      <td>2.0</td>\n",
       "    </tr>\n",
       "    <tr>\n",
       "      <th>18</th>\n",
       "      <td>2020-03-04</td>\n",
       "      <td>Ontario</td>\n",
       "      <td>4.266667</td>\n",
       "      <td>4.444444</td>\n",
       "      <td>0.920000</td>\n",
       "      <td>3.655172</td>\n",
       "      <td>4.062500</td>\n",
       "      <td>-0.111111</td>\n",
       "      <td>0.0</td>\n",
       "    </tr>\n",
       "    <tr>\n",
       "      <th>19</th>\n",
       "      <td>2020-03-05</td>\n",
       "      <td>Ontario</td>\n",
       "      <td>7.088889</td>\n",
       "      <td>6.111111</td>\n",
       "      <td>14.409091</td>\n",
       "      <td>3.896552</td>\n",
       "      <td>1.500000</td>\n",
       "      <td>0.088889</td>\n",
       "      <td>2.0</td>\n",
       "    </tr>\n",
       "  </tbody>\n",
       "</table>\n",
       "</div>"
      ],
      "text/plain": [
       "          date province  mean_retail_change  mean_grocery_change  \\\n",
       "0   2020-02-15  Ontario            6.466667             4.674419   \n",
       "1   2020-02-16  Ontario           15.555556            15.452381   \n",
       "2   2020-02-17  Ontario          -25.545455           -43.250000   \n",
       "3   2020-02-18  Ontario           -2.822222            11.777778   \n",
       "4   2020-02-19  Ontario           -0.466667             4.111111   \n",
       "5   2020-02-20  Ontario            5.311111             6.822222   \n",
       "6   2020-02-21  Ontario            0.913043            -2.377778   \n",
       "7   2020-02-22  Ontario           10.977778             7.000000   \n",
       "8   2020-02-23  Ontario           12.933333             8.095238   \n",
       "9   2020-02-24  Ontario            2.000000             3.311111   \n",
       "10  2020-02-25  Ontario            1.488889             6.800000   \n",
       "11  2020-02-26  Ontario           -7.000000            -0.733333   \n",
       "12  2020-02-27  Ontario          -17.444444           -13.545455   \n",
       "13  2020-02-28  Ontario           -6.891304            -2.977778   \n",
       "14  2020-02-29  Ontario           10.600000             9.511628   \n",
       "15  2020-03-01  Ontario           14.222222            12.761905   \n",
       "16  2020-03-02  Ontario            4.333333             5.511111   \n",
       "17  2020-03-03  Ontario            2.355556             2.933333   \n",
       "18  2020-03-04  Ontario            4.266667             4.444444   \n",
       "19  2020-03-05  Ontario            7.088889             6.111111   \n",
       "\n",
       "    mean_parks_change  mean_transit_change  mean_workplace_change  \\\n",
       "0           24.333333            23.724138               1.767442   \n",
       "1           46.368421             6.678571              -1.595238   \n",
       "2           67.333333            -4.827586             -67.725490   \n",
       "3           -8.600000             0.310345              -1.125000   \n",
       "4           -4.538462             0.758621               1.375000   \n",
       "5            0.652174             1.034483               2.395833   \n",
       "6            3.629630             1.344828              -6.187500   \n",
       "7           45.826087            18.620690               7.255814   \n",
       "8           50.100000            14.785714               4.804878   \n",
       "9           14.200000             2.724138               2.729167   \n",
       "10           1.260870             1.724138               3.166667   \n",
       "11         -14.192308            -3.758621              -0.937500   \n",
       "12         -21.576923            -9.689655             -10.591837   \n",
       "13         -13.392857             2.172414              -4.145833   \n",
       "14          13.880000            17.965517               8.651163   \n",
       "15          24.652174             8.392857               6.219512   \n",
       "16          -5.047619             1.137931               3.562500   \n",
       "17          -8.545455             1.413793               4.083333   \n",
       "18           0.920000             3.655172               4.062500   \n",
       "19          14.409091             3.896552               1.500000   \n",
       "\n",
       "    mean_residential_change   new  \n",
       "0                 -1.000000   0.0  \n",
       "1                 -2.291667   0.0  \n",
       "2                 14.454545   0.0  \n",
       "3                  1.266667   0.0  \n",
       "4                  0.533333   0.0  \n",
       "5                 -0.288889   0.0  \n",
       "6                  1.466667   0.0  \n",
       "7                 -2.035714   0.0  \n",
       "8                 -1.541667   0.0  \n",
       "9                 -0.022222   1.0  \n",
       "10                -0.333333   0.0  \n",
       "11                 2.333333   0.0  \n",
       "12                 6.177778   1.0  \n",
       "13                 3.000000   1.0  \n",
       "14                -1.551724   0.0  \n",
       "15                -1.160000   0.0  \n",
       "16                 0.311111  12.0  \n",
       "17                 0.111111   2.0  \n",
       "18                -0.111111   0.0  \n",
       "19                 0.088889   2.0  "
      ]
     },
     "execution_count": 28,
     "metadata": {},
     "output_type": "execute_result"
    }
   ],
   "source": [
    "data.head(20)"
   ]
  },
  {
   "cell_type": "code",
   "execution_count": 29,
   "metadata": {},
   "outputs": [],
   "source": [
    "# create 3 day and 5 day moving averages\n",
    "# shift the moving average down 3 and 5 respectively and drop NA rows at the tail\n",
    "data['1d_lag'] = data['new'].shift(-1)\n",
    "data['3d_SMA'] = data['1d_lag'].rolling(window=3).mean().shift(-2)\n",
    "data['5d_SMA'] = data['1d_lag'].rolling(window=5).mean().shift(-4)\n",
    "data['3d_SMA_14d_lag'] = data['new'].shift(-1)\n",
    "\n",
    "# auto-correlation investigation"
   ]
  },
  {
   "cell_type": "code",
   "execution_count": 30,
   "metadata": {},
   "outputs": [
    {
     "data": {
      "text/plain": [
       "<matplotlib.axes._subplots.AxesSubplot at 0x7fb1f61c2748>"
      ]
     },
     "execution_count": 30,
     "metadata": {},
     "output_type": "execute_result"
    },
    {
     "data": {
      "image/png": "[encoded data removed]",
      "text/plain": [
       "<matplotlib.figure.Figure at 0x7fb1f61b9ef0>"
      ]
     },
     "metadata": {
      "needs_background": "light"
     },
     "output_type": "display_data"
    }
   ],
   "source": [
    "data['3d_SMA'].plot()"
   ]
  },
  {
   "cell_type": "code",
   "execution_count": 31,
   "metadata": {},
   "outputs": [
    {
     "data": {
      "text/plain": [
       "<matplotlib.axes._subplots.AxesSubplot at 0x7fb1f6251f60>"
      ]
     },
     "execution_count": 31,
     "metadata": {},
     "output_type": "execute_result"
    },
    {
     "data": {
      "image/png": "[encoded data removed]",
      "text/plain": [
       "<matplotlib.figure.Figure at 0x7fb1f78e24a8>"
      ]
     },
     "metadata": {
      "needs_background": "light"
     },
     "output_type": "display_data"
    }
   ],
   "source": [
    "data['5d_SMA'].plot()"
   ]
  },
  {
   "cell_type": "code",
   "execution_count": 32,
   "metadata": {},
   "outputs": [
    {
     "data": {
      "text/html": [
       "<div>\n",
       "<style scoped>\n",
       "    .dataframe tbody tr th:only-of-type {\n",
       "        vertical-align: middle;\n",
       "    }\n",
       "\n",
       "    .dataframe tbody tr th {\n",
       "        vertical-align: top;\n",
       "    }\n",
       "\n",
       "    .dataframe thead th {\n",
       "        text-align: right;\n",
       "    }\n",
       "</style>\n",
       "<table border=\"1\" class=\"dataframe\">\n",
       "  <thead>\n",
       "    <tr style=\"text-align: right;\">\n",
       "      <th></th>\n",
       "      <th>date</th>\n",
       "      <th>province</th>\n",
       "      <th>mean_retail_change</th>\n",
       "      <th>mean_grocery_change</th>\n",
       "      <th>mean_parks_change</th>\n",
       "      <th>mean_transit_change</th>\n",
       "      <th>mean_workplace_change</th>\n",
       "      <th>mean_residential_change</th>\n",
       "      <th>new</th>\n",
       "      <th>1d_lag</th>\n",
       "      <th>3d_SMA</th>\n",
       "      <th>5d_SMA</th>\n",
       "      <th>3d_SMA_14d_lag</th>\n",
       "    </tr>\n",
       "  </thead>\n",
       "  <tbody>\n",
       "    <tr>\n",
       "      <th>0</th>\n",
       "      <td>2020-02-15</td>\n",
       "      <td>Ontario</td>\n",
       "      <td>6.466667</td>\n",
       "      <td>4.674419</td>\n",
       "      <td>24.333333</td>\n",
       "      <td>23.724138</td>\n",
       "      <td>1.767442</td>\n",
       "      <td>-1.000000</td>\n",
       "      <td>0.0</td>\n",
       "      <td>0.0</td>\n",
       "      <td>0.0</td>\n",
       "      <td>0.0</td>\n",
       "      <td>0.0</td>\n",
       "    </tr>\n",
       "    <tr>\n",
       "      <th>1</th>\n",
       "      <td>2020-02-16</td>\n",
       "      <td>Ontario</td>\n",
       "      <td>15.555556</td>\n",
       "      <td>15.452381</td>\n",
       "      <td>46.368421</td>\n",
       "      <td>6.678571</td>\n",
       "      <td>-1.595238</td>\n",
       "      <td>-2.291667</td>\n",
       "      <td>0.0</td>\n",
       "      <td>0.0</td>\n",
       "      <td>0.0</td>\n",
       "      <td>0.0</td>\n",
       "      <td>0.0</td>\n",
       "    </tr>\n",
       "    <tr>\n",
       "      <th>2</th>\n",
       "      <td>2020-02-17</td>\n",
       "      <td>Ontario</td>\n",
       "      <td>-25.545455</td>\n",
       "      <td>-43.250000</td>\n",
       "      <td>67.333333</td>\n",
       "      <td>-4.827586</td>\n",
       "      <td>-67.725490</td>\n",
       "      <td>14.454545</td>\n",
       "      <td>0.0</td>\n",
       "      <td>0.0</td>\n",
       "      <td>0.0</td>\n",
       "      <td>0.0</td>\n",
       "      <td>0.0</td>\n",
       "    </tr>\n",
       "    <tr>\n",
       "      <th>3</th>\n",
       "      <td>2020-02-18</td>\n",
       "      <td>Ontario</td>\n",
       "      <td>-2.822222</td>\n",
       "      <td>11.777778</td>\n",
       "      <td>-8.600000</td>\n",
       "      <td>0.310345</td>\n",
       "      <td>-1.125000</td>\n",
       "      <td>1.266667</td>\n",
       "      <td>0.0</td>\n",
       "      <td>0.0</td>\n",
       "      <td>0.0</td>\n",
       "      <td>0.0</td>\n",
       "      <td>0.0</td>\n",
       "    </tr>\n",
       "    <tr>\n",
       "      <th>4</th>\n",
       "      <td>2020-02-19</td>\n",
       "      <td>Ontario</td>\n",
       "      <td>-0.466667</td>\n",
       "      <td>4.111111</td>\n",
       "      <td>-4.538462</td>\n",
       "      <td>0.758621</td>\n",
       "      <td>1.375000</td>\n",
       "      <td>0.533333</td>\n",
       "      <td>0.0</td>\n",
       "      <td>0.0</td>\n",
       "      <td>0.0</td>\n",
       "      <td>0.2</td>\n",
       "      <td>0.0</td>\n",
       "    </tr>\n",
       "  </tbody>\n",
       "</table>\n",
       "</div>"
      ],
      "text/plain": [
       "         date province  mean_retail_change  mean_grocery_change  \\\n",
       "0  2020-02-15  Ontario            6.466667             4.674419   \n",
       "1  2020-02-16  Ontario           15.555556            15.452381   \n",
       "2  2020-02-17  Ontario          -25.545455           -43.250000   \n",
       "3  2020-02-18  Ontario           -2.822222            11.777778   \n",
       "4  2020-02-19  Ontario           -0.466667             4.111111   \n",
       "\n",
       "   mean_parks_change  mean_transit_change  mean_workplace_change  \\\n",
       "0          24.333333            23.724138               1.767442   \n",
       "1          46.368421             6.678571              -1.595238   \n",
       "2          67.333333            -4.827586             -67.725490   \n",
       "3          -8.600000             0.310345              -1.125000   \n",
       "4          -4.538462             0.758621               1.375000   \n",
       "\n",
       "   mean_residential_change  new  1d_lag  3d_SMA  5d_SMA  3d_SMA_14d_lag  \n",
       "0                -1.000000  0.0     0.0     0.0     0.0             0.0  \n",
       "1                -2.291667  0.0     0.0     0.0     0.0             0.0  \n",
       "2                14.454545  0.0     0.0     0.0     0.0             0.0  \n",
       "3                 1.266667  0.0     0.0     0.0     0.0             0.0  \n",
       "4                 0.533333  0.0     0.0     0.0     0.2             0.0  "
      ]
     },
     "execution_count": 32,
     "metadata": {},
     "output_type": "execute_result"
    }
   ],
   "source": [
    "data.head()"
   ]
  },
  {
   "cell_type": "code",
   "execution_count": 33,
   "metadata": {},
   "outputs": [
    {
     "data": {
      "text/plain": [
       "date                       0\n",
       "province                   0\n",
       "mean_retail_change         0\n",
       "mean_grocery_change        0\n",
       "mean_parks_change          0\n",
       "mean_transit_change        0\n",
       "mean_workplace_change      0\n",
       "mean_residential_change    0\n",
       "new                        2\n",
       "1d_lag                     3\n",
       "3d_SMA                     5\n",
       "5d_SMA                     7\n",
       "3d_SMA_14d_lag             3\n",
       "dtype: int64"
      ]
     },
     "execution_count": 33,
     "metadata": {},
     "output_type": "execute_result"
    }
   ],
   "source": [
    "data.isnull().sum()"
   ]
  },
  {
   "cell_type": "code",
   "execution_count": 34,
   "metadata": {},
   "outputs": [
    {
     "data": {
      "text/plain": [
       "date                       0\n",
       "province                   0\n",
       "mean_retail_change         0\n",
       "mean_grocery_change        0\n",
       "mean_parks_change          0\n",
       "mean_transit_change        0\n",
       "mean_workplace_change      0\n",
       "mean_residential_change    0\n",
       "new                        2\n",
       "1d_lag                     3\n",
       "3d_SMA                     5\n",
       "5d_SMA                     7\n",
       "3d_SMA_14d_lag             3\n",
       "dtype: int64"
      ]
     },
     "execution_count": 34,
     "metadata": {},
     "output_type": "execute_result"
    }
   ],
   "source": [
    "data.tail(7).isnull().sum()"
   ]
  },
  {
   "cell_type": "code",
   "execution_count": 35,
   "metadata": {},
   "outputs": [],
   "source": [
    "data = data.dropna()"
   ]
  },
  {
   "cell_type": "code",
   "execution_count": 36,
   "metadata": {},
   "outputs": [
    {
     "data": {
      "text/plain": [
       "date                       0\n",
       "province                   0\n",
       "mean_retail_change         0\n",
       "mean_grocery_change        0\n",
       "mean_parks_change          0\n",
       "mean_transit_change        0\n",
       "mean_workplace_change      0\n",
       "mean_residential_change    0\n",
       "new                        0\n",
       "1d_lag                     0\n",
       "3d_SMA                     0\n",
       "5d_SMA                     0\n",
       "3d_SMA_14d_lag             0\n",
       "dtype: int64"
      ]
     },
     "execution_count": 36,
     "metadata": {},
     "output_type": "execute_result"
    }
   ],
   "source": [
    "data.isnull().sum()"
   ]
  },
  {
   "cell_type": "code",
   "execution_count": 37,
   "metadata": {},
   "outputs": [],
   "source": [
    "data = data.reset_index()"
   ]
  },
  {
   "cell_type": "code",
   "execution_count": 38,
   "metadata": {},
   "outputs": [],
   "source": [
    "from sklearn.linear_model import LinearRegression"
   ]
  },
  {
   "cell_type": "code",
   "execution_count": 39,
   "metadata": {},
   "outputs": [
    {
     "data": {
      "text/plain": [
       "LinearRegression()"
      ]
     },
     "execution_count": 39,
     "metadata": {},
     "output_type": "execute_result"
    }
   ],
   "source": [
    "X = data[['index', 'mean_retail_change', 'mean_grocery_change', 'mean_parks_change', \\\n",
    "         'mean_transit_change', 'mean_workplace_change', 'mean_residential_change']]\n",
    "y_new = data['new']\n",
    "y_3d_sma = data['3d_SMA']\n",
    "y_5d_sma = data['5d_SMA']\n",
    "\n",
    "# fit to new\n",
    "model_new = LinearRegression()\n",
    "model_new.fit(X,y_new)\n",
    "\n",
    "# fit to 3d sma\n",
    "model_3d = LinearRegression()\n",
    "model_3d.fit(X,y_3d_sma)\n",
    "\n",
    "# fit to 5d sma\n",
    "model_5d = LinearRegression()\n",
    "model_5d.fit(X,y_5d_sma)"
   ]
  },
  {
   "cell_type": "code",
   "execution_count": 40,
   "metadata": {},
   "outputs": [
    {
     "name": "stdout",
     "output_type": "stream",
     "text": [
      "model_new has R2: 0.5867772108283704\n",
      "model_3d has R2: 0.6236913891831168\n",
      "model_5d has R2: 0.6418469704140596\n"
     ]
    }
   ],
   "source": [
    "print(\"model_new has R2:\",model_new.score(X, y_new))\n",
    "print(\"model_3d has R2:\",model_3d.score(X, y_3d_sma))\n",
    "print(\"model_5d has R2:\",model_5d.score(X, y_5d_sma))"
   ]
  },
  {
   "cell_type": "code",
   "execution_count": null,
   "metadata": {},
   "outputs": [],
   "source": []
  },
  {
   "cell_type": "code",
   "execution_count": 41,
   "metadata": {
    "scrolled": false
   },
   "outputs": [
    {
     "data": {
      "text/html": [
       "<table class=\"simpletable\">\n",
       "<caption>OLS Regression Results</caption>\n",
       "<tr>\n",
       "  <th>Dep. Variable:</th>           <td>new</td>       <th>  R-squared (uncentered):</th>      <td>   0.850</td>\n",
       "</tr>\n",
       "<tr>\n",
       "  <th>Model:</th>                   <td>OLS</td>       <th>  Adj. R-squared (uncentered):</th> <td>   0.845</td>\n",
       "</tr>\n",
       "<tr>\n",
       "  <th>Method:</th>             <td>Least Squares</td>  <th>  F-statistic:       </th>          <td>   178.6</td>\n",
       "</tr>\n",
       "<tr>\n",
       "  <th>Date:</th>             <td>Thu, 05 Nov 2020</td> <th>  Prob (F-statistic):</th>          <td>2.79e-87</td>\n",
       "</tr>\n",
       "<tr>\n",
       "  <th>Time:</th>                 <td>09:22:05</td>     <th>  Log-Likelihood:    </th>          <td> -1392.6</td>\n",
       "</tr>\n",
       "<tr>\n",
       "  <th>No. Observations:</th>      <td>   228</td>      <th>  AIC:               </th>          <td>   2799.</td>\n",
       "</tr>\n",
       "<tr>\n",
       "  <th>Df Residuals:</th>          <td>   221</td>      <th>  BIC:               </th>          <td>   2823.</td>\n",
       "</tr>\n",
       "<tr>\n",
       "  <th>Df Model:</th>              <td>     7</td>      <th>                     </th>              <td> </td>   \n",
       "</tr>\n",
       "<tr>\n",
       "  <th>Covariance Type:</th>      <td>nonrobust</td>    <th>                     </th>              <td> </td>   \n",
       "</tr>\n",
       "</table>\n",
       "<table class=\"simpletable\">\n",
       "<tr>\n",
       "             <td></td>                <th>coef</th>     <th>std err</th>      <th>t</th>      <th>P>|t|</th>  <th>[0.025</th>    <th>0.975]</th>  \n",
       "</tr>\n",
       "<tr>\n",
       "  <th>index</th>                   <td>    0.9308</td> <td>    0.255</td> <td>    3.647</td> <td> 0.000</td> <td>    0.428</td> <td>    1.434</td>\n",
       "</tr>\n",
       "<tr>\n",
       "  <th>mean_retail_change</th>      <td>   -1.2280</td> <td>    1.691</td> <td>   -0.726</td> <td> 0.469</td> <td>   -4.561</td> <td>    2.105</td>\n",
       "</tr>\n",
       "<tr>\n",
       "  <th>mean_grocery_change</th>     <td>   -1.0574</td> <td>    0.996</td> <td>   -1.061</td> <td> 0.290</td> <td>   -3.021</td> <td>    0.906</td>\n",
       "</tr>\n",
       "<tr>\n",
       "  <th>mean_parks_change</th>       <td>    0.1002</td> <td>    0.211</td> <td>    0.475</td> <td> 0.635</td> <td>   -0.315</td> <td>    0.516</td>\n",
       "</tr>\n",
       "<tr>\n",
       "  <th>mean_transit_change</th>     <td>   -2.9989</td> <td>    1.527</td> <td>   -1.964</td> <td> 0.051</td> <td>   -6.008</td> <td>    0.011</td>\n",
       "</tr>\n",
       "<tr>\n",
       "  <th>mean_workplace_change</th>   <td>    9.7987</td> <td>    1.311</td> <td>    7.473</td> <td> 0.000</td> <td>    7.215</td> <td>   12.383</td>\n",
       "</tr>\n",
       "<tr>\n",
       "  <th>mean_residential_change</th> <td>   30.3296</td> <td>    4.100</td> <td>    7.398</td> <td> 0.000</td> <td>   22.250</td> <td>   38.409</td>\n",
       "</tr>\n",
       "</table>\n",
       "<table class=\"simpletable\">\n",
       "<tr>\n",
       "  <th>Omnibus:</th>       <td> 3.760</td> <th>  Durbin-Watson:     </th> <td>   0.564</td>\n",
       "</tr>\n",
       "<tr>\n",
       "  <th>Prob(Omnibus):</th> <td> 0.153</td> <th>  Jarque-Bera (JB):  </th> <td>   3.797</td>\n",
       "</tr>\n",
       "<tr>\n",
       "  <th>Skew:</th>          <td> 0.172</td> <th>  Prob(JB):          </th> <td>   0.150</td>\n",
       "</tr>\n",
       "<tr>\n",
       "  <th>Kurtosis:</th>      <td> 3.530</td> <th>  Cond. No.          </th> <td>    94.6</td>\n",
       "</tr>\n",
       "</table><br/><br/>Notes:<br/>[1] R² is computed without centering (uncentered) since the model does not contain a constant.<br/>[2] Standard Errors assume that the covariance matrix of the errors is correctly specified."
      ],
      "text/plain": [
       "<class 'statsmodels.iolib.summary.Summary'>\n",
       "\"\"\"\n",
       "                                 OLS Regression Results                                \n",
       "=======================================================================================\n",
       "Dep. Variable:                    new   R-squared (uncentered):                   0.850\n",
       "Model:                            OLS   Adj. R-squared (uncentered):              0.845\n",
       "Method:                 Least Squares   F-statistic:                              178.6\n",
       "Date:                Thu, 05 Nov 2020   Prob (F-statistic):                    2.79e-87\n",
       "Time:                        09:22:05   Log-Likelihood:                         -1392.6\n",
       "No. Observations:                 228   AIC:                                      2799.\n",
       "Df Residuals:                     221   BIC:                                      2823.\n",
       "Df Model:                           7                                                  \n",
       "Covariance Type:            nonrobust                                                  \n",
       "===========================================================================================\n",
       "                              coef    std err          t      P>|t|      [0.025      0.975]\n",
       "-------------------------------------------------------------------------------------------\n",
       "index                       0.9308      0.255      3.647      0.000       0.428       1.434\n",
       "mean_retail_change         -1.2280      1.691     -0.726      0.469      -4.561       2.105\n",
       "mean_grocery_change        -1.0574      0.996     -1.061      0.290      -3.021       0.906\n",
       "mean_parks_change           0.1002      0.211      0.475      0.635      -0.315       0.516\n",
       "mean_transit_change        -2.9989      1.527     -1.964      0.051      -6.008       0.011\n",
       "mean_workplace_change       9.7987      1.311      7.473      0.000       7.215      12.383\n",
       "mean_residential_change    30.3296      4.100      7.398      0.000      22.250      38.409\n",
       "==============================================================================\n",
       "Omnibus:                        3.760   Durbin-Watson:                   0.564\n",
       "Prob(Omnibus):                  0.153   Jarque-Bera (JB):                3.797\n",
       "Skew:                           0.172   Prob(JB):                        0.150\n",
       "Kurtosis:                       3.530   Cond. No.                         94.6\n",
       "==============================================================================\n",
       "\n",
       "Notes:\n",
       "[1] R² is computed without centering (uncentered) since the model does not contain a constant.\n",
       "[2] Standard Errors assume that the covariance matrix of the errors is correctly specified.\n",
       "\"\"\""
      ]
     },
     "execution_count": 41,
     "metadata": {},
     "output_type": "execute_result"
    }
   ],
   "source": [
    "from statsmodels.api import OLS\n",
    "OLS(y_new,X).fit().summary()"
   ]
  },
  {
   "cell_type": "code",
   "execution_count": 42,
   "metadata": {},
   "outputs": [],
   "source": [
    "# try splitting into train test\n",
    "from sklearn.model_selection import train_test_split\n",
    "\n",
    "\n",
    "X_train_new, X_test_new, y_train_new, y_test_new = train_test_split(X, y_new, test_size=0.3, random_state=23)\n",
    "X_train_3d, X_test_3d, y_train_3d, y_test_3d = train_test_split(X, y_3d_sma, test_size=0.3, random_state=23)\n",
    "X_train_5d, X_test_5d, y_train_5d, y_test_5d = train_test_split(X, y_5d_sma, test_size=0.3, random_state=23)"
   ]
  },
  {
   "cell_type": "code",
   "execution_count": 43,
   "metadata": {},
   "outputs": [
    {
     "name": "stdout",
     "output_type": "stream",
     "text": [
      "m1_new\n",
      "training rmse: 106.8890914898478\n",
      "test rmse: 113.450207074951\n",
      "m1_3d\n",
      "training rmse: 103.48217664109609\n",
      "test rmse: 103.73874663881357\n",
      "m1_5d\n",
      "training rmse: 100.94234079688711\n",
      "test rmse: 101.35697741781462\n"
     ]
    }
   ],
   "source": [
    "# check new performance\n",
    "from sklearn.metrics import mean_squared_error\n",
    "m1_new = LinearRegression()\n",
    "m1_new.fit(X_train_new, y_train_new)\n",
    "m1_new_pred = m1_new.predict(X_test_new)\n",
    "m1_new_pred_train = m1_new.predict(X_train_new)\n",
    "\n",
    "m1_3d = LinearRegression()\n",
    "m1_3d.fit(X_train_3d, y_train_3d)\n",
    "m1_3d_pred = m1_3d.predict(X_test_3d)\n",
    "m1_3d_pred_train = m1_3d.predict(X_train_3d)\n",
    "\n",
    "m1_5d = LinearRegression()\n",
    "m1_5d.fit(X_train_5d, y_train_5d)\n",
    "m1_5d_pred = m1_5d.predict(X_test_5d)\n",
    "m1_5d_pred_train = m1_5d.predict(X_train_5d)\n",
    "\n",
    "# we will use rmse to evaluate model performance\n",
    "print('m1_new')\n",
    "print('training rmse:', mean_squared_error(m1_new_pred_train, y_train_new, squared=False))\n",
    "print('test rmse:', mean_squared_error(m1_new_pred, y_test_new)**0.5)\n",
    "\n",
    "print('m1_3d')\n",
    "print('training rmse:', mean_squared_error(m1_3d_pred_train, y_train_3d, squared=False))\n",
    "print('test rmse:', mean_squared_error(m1_3d_pred, y_test_3d, squared=False))\n",
    "\n",
    "print('m1_5d')\n",
    "print('training rmse:', mean_squared_error(m1_5d_pred_train, y_train_5d, squared=False))\n",
    "print('test rmse:', mean_squared_error(m1_5d_pred, y_test_5d, squared=False))\n",
    "\n",
    "\n",
    "\n",
    "\n"
   ]
  },
  {
   "cell_type": "markdown",
   "metadata": {},
   "source": [
    "This means that our predictions are off by a margin of $\\pm 100$ cases on average"
   ]
  },
  {
   "cell_type": "code",
   "execution_count": 44,
   "metadata": {},
   "outputs": [
    {
     "data": {
      "text/html": [
       "<div>\n",
       "<style scoped>\n",
       "    .dataframe tbody tr th:only-of-type {\n",
       "        vertical-align: middle;\n",
       "    }\n",
       "\n",
       "    .dataframe tbody tr th {\n",
       "        vertical-align: top;\n",
       "    }\n",
       "\n",
       "    .dataframe thead th {\n",
       "        text-align: right;\n",
       "    }\n",
       "</style>\n",
       "<table border=\"1\" class=\"dataframe\">\n",
       "  <thead>\n",
       "    <tr style=\"text-align: right;\">\n",
       "      <th></th>\n",
       "      <th>new_pred</th>\n",
       "      <th>new_actual</th>\n",
       "      <th>3d_pred</th>\n",
       "      <th>3d_actual</th>\n",
       "      <th>5d_pred</th>\n",
       "      <th>5d_actual</th>\n",
       "    </tr>\n",
       "  </thead>\n",
       "  <tbody>\n",
       "    <tr>\n",
       "      <th>0</th>\n",
       "      <td>343.100051</td>\n",
       "      <td>525.0</td>\n",
       "      <td>351.559285</td>\n",
       "      <td>409.000000</td>\n",
       "      <td>359.984569</td>\n",
       "      <td>434.4</td>\n",
       "    </tr>\n",
       "    <tr>\n",
       "      <th>1</th>\n",
       "      <td>203.822596</td>\n",
       "      <td>105.0</td>\n",
       "      <td>222.901124</td>\n",
       "      <td>102.000000</td>\n",
       "      <td>234.931259</td>\n",
       "      <td>115.2</td>\n",
       "    </tr>\n",
       "    <tr>\n",
       "      <th>2</th>\n",
       "      <td>237.341643</td>\n",
       "      <td>197.0</td>\n",
       "      <td>236.607651</td>\n",
       "      <td>185.000000</td>\n",
       "      <td>238.447646</td>\n",
       "      <td>181.2</td>\n",
       "    </tr>\n",
       "    <tr>\n",
       "      <th>3</th>\n",
       "      <td>267.141255</td>\n",
       "      <td>203.0</td>\n",
       "      <td>265.606751</td>\n",
       "      <td>215.000000</td>\n",
       "      <td>267.189643</td>\n",
       "      <td>202.0</td>\n",
       "    </tr>\n",
       "    <tr>\n",
       "      <th>4</th>\n",
       "      <td>393.813698</td>\n",
       "      <td>351.0</td>\n",
       "      <td>407.441721</td>\n",
       "      <td>362.333333</td>\n",
       "      <td>420.444777</td>\n",
       "      <td>384.8</td>\n",
       "    </tr>\n",
       "    <tr>\n",
       "      <th>5</th>\n",
       "      <td>363.141591</td>\n",
       "      <td>426.0</td>\n",
       "      <td>368.387666</td>\n",
       "      <td>412.666667</td>\n",
       "      <td>377.535812</td>\n",
       "      <td>391.0</td>\n",
       "    </tr>\n",
       "    <tr>\n",
       "      <th>6</th>\n",
       "      <td>337.538720</td>\n",
       "      <td>424.0</td>\n",
       "      <td>345.888948</td>\n",
       "      <td>443.666667</td>\n",
       "      <td>355.066826</td>\n",
       "      <td>452.6</td>\n",
       "    </tr>\n",
       "    <tr>\n",
       "      <th>7</th>\n",
       "      <td>381.923299</td>\n",
       "      <td>309.0</td>\n",
       "      <td>391.874467</td>\n",
       "      <td>470.666667</td>\n",
       "      <td>403.296795</td>\n",
       "      <td>460.2</td>\n",
       "    </tr>\n",
       "    <tr>\n",
       "      <th>8</th>\n",
       "      <td>193.431102</td>\n",
       "      <td>129.0</td>\n",
       "      <td>192.445929</td>\n",
       "      <td>109.666667</td>\n",
       "      <td>192.481403</td>\n",
       "      <td>110.2</td>\n",
       "    </tr>\n",
       "    <tr>\n",
       "      <th>9</th>\n",
       "      <td>368.669109</td>\n",
       "      <td>399.0</td>\n",
       "      <td>375.683952</td>\n",
       "      <td>372.333333</td>\n",
       "      <td>383.003409</td>\n",
       "      <td>357.2</td>\n",
       "    </tr>\n",
       "    <tr>\n",
       "      <th>10</th>\n",
       "      <td>195.127983</td>\n",
       "      <td>173.0</td>\n",
       "      <td>188.774524</td>\n",
       "      <td>186.333333</td>\n",
       "      <td>187.673302</td>\n",
       "      <td>187.2</td>\n",
       "    </tr>\n",
       "    <tr>\n",
       "      <th>11</th>\n",
       "      <td>196.764063</td>\n",
       "      <td>112.0</td>\n",
       "      <td>215.318398</td>\n",
       "      <td>137.666667</td>\n",
       "      <td>225.678198</td>\n",
       "      <td>148.0</td>\n",
       "    </tr>\n",
       "    <tr>\n",
       "      <th>12</th>\n",
       "      <td>335.620411</td>\n",
       "      <td>700.0</td>\n",
       "      <td>361.383867</td>\n",
       "      <td>572.333333</td>\n",
       "      <td>371.657798</td>\n",
       "      <td>620.4</td>\n",
       "    </tr>\n",
       "    <tr>\n",
       "      <th>13</th>\n",
       "      <td>-33.124849</td>\n",
       "      <td>0.0</td>\n",
       "      <td>-30.681026</td>\n",
       "      <td>4.666667</td>\n",
       "      <td>-32.487708</td>\n",
       "      <td>3.2</td>\n",
       "    </tr>\n",
       "    <tr>\n",
       "      <th>14</th>\n",
       "      <td>274.494207</td>\n",
       "      <td>266.0</td>\n",
       "      <td>274.467597</td>\n",
       "      <td>187.333333</td>\n",
       "      <td>272.521714</td>\n",
       "      <td>185.0</td>\n",
       "    </tr>\n",
       "    <tr>\n",
       "      <th>15</th>\n",
       "      <td>233.960752</td>\n",
       "      <td>413.0</td>\n",
       "      <td>227.655197</td>\n",
       "      <td>437.666667</td>\n",
       "      <td>228.760028</td>\n",
       "      <td>400.8</td>\n",
       "    </tr>\n",
       "    <tr>\n",
       "      <th>16</th>\n",
       "      <td>-3.233371</td>\n",
       "      <td>2.0</td>\n",
       "      <td>-0.386319</td>\n",
       "      <td>2.333333</td>\n",
       "      <td>1.176282</td>\n",
       "      <td>2.8</td>\n",
       "    </tr>\n",
       "    <tr>\n",
       "      <th>17</th>\n",
       "      <td>180.350333</td>\n",
       "      <td>170.0</td>\n",
       "      <td>177.122647</td>\n",
       "      <td>125.000000</td>\n",
       "      <td>177.069377</td>\n",
       "      <td>120.4</td>\n",
       "    </tr>\n",
       "    <tr>\n",
       "      <th>18</th>\n",
       "      <td>305.001036</td>\n",
       "      <td>483.0</td>\n",
       "      <td>299.664274</td>\n",
       "      <td>430.000000</td>\n",
       "      <td>302.971107</td>\n",
       "      <td>438.8</td>\n",
       "    </tr>\n",
       "    <tr>\n",
       "      <th>19</th>\n",
       "      <td>229.192273</td>\n",
       "      <td>133.0</td>\n",
       "      <td>252.638491</td>\n",
       "      <td>149.666667</td>\n",
       "      <td>265.201840</td>\n",
       "      <td>159.4</td>\n",
       "    </tr>\n",
       "  </tbody>\n",
       "</table>\n",
       "</div>"
      ],
      "text/plain": [
       "      new_pred  new_actual     3d_pred   3d_actual     5d_pred  5d_actual\n",
       "0   343.100051       525.0  351.559285  409.000000  359.984569      434.4\n",
       "1   203.822596       105.0  222.901124  102.000000  234.931259      115.2\n",
       "2   237.341643       197.0  236.607651  185.000000  238.447646      181.2\n",
       "3   267.141255       203.0  265.606751  215.000000  267.189643      202.0\n",
       "4   393.813698       351.0  407.441721  362.333333  420.444777      384.8\n",
       "5   363.141591       426.0  368.387666  412.666667  377.535812      391.0\n",
       "6   337.538720       424.0  345.888948  443.666667  355.066826      452.6\n",
       "7   381.923299       309.0  391.874467  470.666667  403.296795      460.2\n",
       "8   193.431102       129.0  192.445929  109.666667  192.481403      110.2\n",
       "9   368.669109       399.0  375.683952  372.333333  383.003409      357.2\n",
       "10  195.127983       173.0  188.774524  186.333333  187.673302      187.2\n",
       "11  196.764063       112.0  215.318398  137.666667  225.678198      148.0\n",
       "12  335.620411       700.0  361.383867  572.333333  371.657798      620.4\n",
       "13  -33.124849         0.0  -30.681026    4.666667  -32.487708        3.2\n",
       "14  274.494207       266.0  274.467597  187.333333  272.521714      185.0\n",
       "15  233.960752       413.0  227.655197  437.666667  228.760028      400.8\n",
       "16   -3.233371         2.0   -0.386319    2.333333    1.176282        2.8\n",
       "17  180.350333       170.0  177.122647  125.000000  177.069377      120.4\n",
       "18  305.001036       483.0  299.664274  430.000000  302.971107      438.8\n",
       "19  229.192273       133.0  252.638491  149.666667  265.201840      159.4"
      ]
     },
     "execution_count": 44,
     "metadata": {},
     "output_type": "execute_result"
    }
   ],
   "source": [
    "results = pd.DataFrame({'new_pred':m1_new_pred, 'new_actual':y_test_new, \\\n",
    "                        '3d_pred':m1_3d_pred, '3d_actual':y_test_3d, \\\n",
    "                        '5d_pred':m1_5d_pred, '5d_actual':y_test_5d}).reset_index(drop=True)\n",
    "results.head(20)"
   ]
  },
  {
   "cell_type": "markdown",
   "metadata": {},
   "source": [
    "### Check for auto-correlation in the response"
   ]
  },
  {
   "cell_type": "code",
   "execution_count": 45,
   "metadata": {},
   "outputs": [],
   "source": [
    "import statsmodels.api as sm"
   ]
  },
  {
   "cell_type": "code",
   "execution_count": 46,
   "metadata": {},
   "outputs": [
    {
     "data": {
      "text/plain": [
       "[<matplotlib.lines.Line2D at 0x7fb1fc1055f8>]"
      ]
     },
     "execution_count": 46,
     "metadata": {},
     "output_type": "execute_result"
    },
    {
     "data": {
      "image/png": "[encoded data removed]",
      "text/plain": [
       "<matplotlib.figure.Figure at 0x7fb1fc0abc50>"
      ]
     },
     "metadata": {
      "needs_background": "light"
     },
     "output_type": "display_data"
    }
   ],
   "source": [
    "plt.plot(data['new'])"
   ]
  },
  {
   "cell_type": "code",
   "execution_count": 47,
   "metadata": {},
   "outputs": [
    {
     "data": {
      "image/png": "[encoded data removed]",
      "text/plain": [
       "<matplotlib.figure.Figure at 0x7fb1fc0e2898>"
      ]
     },
     "metadata": {
      "needs_background": "light"
     },
     "output_type": "display_data"
    }
   ],
   "source": [
    "sm.graphics.tsa.plot_acf(data['new'], lags=40)\n",
    "plt.show()"
   ]
  },
  {
   "cell_type": "markdown",
   "metadata": {},
   "source": [
    "The correlation between 2 points diminishes as the time between the points increases"
   ]
  },
  {
   "cell_type": "code",
   "execution_count": 48,
   "metadata": {},
   "outputs": [
    {
     "data": {
      "image/png": "[encoded data removed]",
      "text/plain": [
       "<matplotlib.figure.Figure at 0x7fb1fc1432b0>"
      ]
     },
     "metadata": {
      "needs_background": "light"
     },
     "output_type": "display_data"
    }
   ],
   "source": [
    "sm.graphics.tsa.plot_pacf(data['new'], lags=40)\n",
    "plt.show()"
   ]
  },
  {
   "cell_type": "markdown",
   "metadata": {},
   "source": [
    "After lag 4, the correlation is no longer statistically significant. This suggests that with the previous 4 day counts, we can predict the number of new cases on the 5th day. "
   ]
  },
  {
   "cell_type": "markdown",
   "metadata": {},
   "source": [
    "#### Hypotheses to Explore\n",
    "Be careful not to use SMA data to predict one of the points in the SMA.\n",
    "\n",
    "1. Try a bunch of different lags with a 3d SMA and see which day gives the best performance.\n",
    "2. Try using mobility for day t with counts for day t, t+1, t+2, and t+3 to predict t+4."
   ]
  },
  {
   "cell_type": "markdown",
   "metadata": {},
   "source": [
    "1. lag of reporting per province\n",
    "2. lag of environment to onset (mobility -> onset)\n",
    "3. lag of onset to reporting"
   ]
  },
  {
   "cell_type": "code",
   "execution_count": 49,
   "metadata": {},
   "outputs": [],
   "source": [
    "# try lag 0 to lag 20 (up to 3 weeks)\n",
    "max_lag = 21\n",
    "\n",
    "data2 = data.copy()\n",
    "\n",
    "# 3d_SMA is lag 0\n",
    "for i in range(1,max_lag):\n",
    "    data2[\"lag_\"+str(i)] = data['3d_SMA'].shift(-i)\n",
    "    \n"
   ]
  },
  {
   "cell_type": "code",
   "execution_count": 50,
   "metadata": {},
   "outputs": [],
   "source": [
    "data2 = data2.dropna()"
   ]
  },
  {
   "cell_type": "code",
   "execution_count": 51,
   "metadata": {},
   "outputs": [],
   "source": [
    "np.random.seed(23)"
   ]
  },
  {
   "cell_type": "code",
   "execution_count": 52,
   "metadata": {
    "scrolled": false
   },
   "outputs": [
    {
     "data": {
      "text/html": [
       "<div>\n",
       "<style scoped>\n",
       "    .dataframe tbody tr th:only-of-type {\n",
       "        vertical-align: middle;\n",
       "    }\n",
       "\n",
       "    .dataframe tbody tr th {\n",
       "        vertical-align: top;\n",
       "    }\n",
       "\n",
       "    .dataframe thead th {\n",
       "        text-align: right;\n",
       "    }\n",
       "</style>\n",
       "<table border=\"1\" class=\"dataframe\">\n",
       "  <thead>\n",
       "    <tr style=\"text-align: right;\">\n",
       "      <th></th>\n",
       "      <th>lag</th>\n",
       "      <th>R2</th>\n",
       "    </tr>\n",
       "  </thead>\n",
       "  <tbody>\n",
       "    <tr>\n",
       "      <th>0</th>\n",
       "      <td>1</td>\n",
       "      <td>0.724061</td>\n",
       "    </tr>\n",
       "    <tr>\n",
       "      <th>1</th>\n",
       "      <td>2</td>\n",
       "      <td>0.748467</td>\n",
       "    </tr>\n",
       "    <tr>\n",
       "      <th>2</th>\n",
       "      <td>3</td>\n",
       "      <td>0.775463</td>\n",
       "    </tr>\n",
       "    <tr>\n",
       "      <th>3</th>\n",
       "      <td>4</td>\n",
       "      <td>0.799781</td>\n",
       "    </tr>\n",
       "    <tr>\n",
       "      <th>4</th>\n",
       "      <td>5</td>\n",
       "      <td>0.817607</td>\n",
       "    </tr>\n",
       "    <tr>\n",
       "      <th>5</th>\n",
       "      <td>6</td>\n",
       "      <td>0.830104</td>\n",
       "    </tr>\n",
       "    <tr>\n",
       "      <th>6</th>\n",
       "      <td>7</td>\n",
       "      <td>0.836798</td>\n",
       "    </tr>\n",
       "    <tr>\n",
       "      <th>7</th>\n",
       "      <td>8</td>\n",
       "      <td>0.847311</td>\n",
       "    </tr>\n",
       "    <tr>\n",
       "      <th>8</th>\n",
       "      <td>9</td>\n",
       "      <td>0.852135</td>\n",
       "    </tr>\n",
       "    <tr>\n",
       "      <th>9</th>\n",
       "      <td>10</td>\n",
       "      <td>0.848698</td>\n",
       "    </tr>\n",
       "    <tr>\n",
       "      <th>10</th>\n",
       "      <td>11</td>\n",
       "      <td>0.839214</td>\n",
       "    </tr>\n",
       "    <tr>\n",
       "      <th>11</th>\n",
       "      <td>12</td>\n",
       "      <td>0.826782</td>\n",
       "    </tr>\n",
       "    <tr>\n",
       "      <th>12</th>\n",
       "      <td>13</td>\n",
       "      <td>0.813446</td>\n",
       "    </tr>\n",
       "    <tr>\n",
       "      <th>13</th>\n",
       "      <td>14</td>\n",
       "      <td>0.800073</td>\n",
       "    </tr>\n",
       "    <tr>\n",
       "      <th>14</th>\n",
       "      <td>15</td>\n",
       "      <td>0.781336</td>\n",
       "    </tr>\n",
       "    <tr>\n",
       "      <th>15</th>\n",
       "      <td>16</td>\n",
       "      <td>0.758593</td>\n",
       "    </tr>\n",
       "    <tr>\n",
       "      <th>16</th>\n",
       "      <td>17</td>\n",
       "      <td>0.726065</td>\n",
       "    </tr>\n",
       "    <tr>\n",
       "      <th>17</th>\n",
       "      <td>18</td>\n",
       "      <td>0.690536</td>\n",
       "    </tr>\n",
       "    <tr>\n",
       "      <th>18</th>\n",
       "      <td>19</td>\n",
       "      <td>0.648135</td>\n",
       "    </tr>\n",
       "    <tr>\n",
       "      <th>19</th>\n",
       "      <td>20</td>\n",
       "      <td>0.613112</td>\n",
       "    </tr>\n",
       "  </tbody>\n",
       "</table>\n",
       "</div>"
      ],
      "text/plain": [
       "    lag        R2\n",
       "0     1  0.724061\n",
       "1     2  0.748467\n",
       "2     3  0.775463\n",
       "3     4  0.799781\n",
       "4     5  0.817607\n",
       "5     6  0.830104\n",
       "6     7  0.836798\n",
       "7     8  0.847311\n",
       "8     9  0.852135\n",
       "9    10  0.848698\n",
       "10   11  0.839214\n",
       "11   12  0.826782\n",
       "12   13  0.813446\n",
       "13   14  0.800073\n",
       "14   15  0.781336\n",
       "15   16  0.758593\n",
       "16   17  0.726065\n",
       "17   18  0.690536\n",
       "18   19  0.648135\n",
       "19   20  0.613112"
      ]
     },
     "execution_count": 52,
     "metadata": {},
     "output_type": "execute_result"
    }
   ],
   "source": [
    "X2 = data2[['index', 'mean_retail_change', 'mean_grocery_change', \n",
    "            'mean_parks_change', 'mean_transit_change',\n",
    "            'mean_workplace_change', 'mean_residential_change']]\n",
    "\n",
    "lag_results = list()\n",
    "\n",
    "for i in range(1,max_lag):\n",
    "    #print('predicting:',\"lag_\"+str(i))\n",
    "    name = \"lag_\"+str(i)\n",
    "    target = data2[name]\n",
    "    temp_model = LinearRegression()\n",
    "    temp_model.fit(X2, target)\n",
    "    R2 = temp_model.score(X2, target)\n",
    "    lag_results.append(R2)\n",
    "    #print(\"R2\", R2)\n",
    "\n",
    "lag_res_df = pd.DataFrame({'lag':np.array(range(1,max_lag)), 'R2': lag_results})\n",
    "lag_res_df\n"
   ]
  },
  {
   "cell_type": "markdown",
   "metadata": {},
   "source": [
    "Lag 7 to 11 are good, with lag 9 being the best predicted.\n",
    "\n",
    "#### Improvements to hypothesis 2:\n",
    "- we can add case counts for the 3-4 days leading up to the predicted lag time.\n",
    "- this can get tricky with the smoothing (we do not want to overlap explanatory new cases and predicted new cases), so we can redo hypothesis 1 without using the 3 day smoothed new case count.\n",
    "- alternatively, we could only attach new case counts for days -3 to -6"
   ]
  },
  {
   "cell_type": "code",
   "execution_count": 53,
   "metadata": {},
   "outputs": [],
   "source": [
    "\n",
    "can2 = pd.read_csv('../Datasets/data_can2.csv')"
   ]
  },
  {
   "cell_type": "code",
   "execution_count": 54,
   "metadata": {},
   "outputs": [
    {
     "data": {
      "text/html": [
       "<div>\n",
       "<style scoped>\n",
       "    .dataframe tbody tr th:only-of-type {\n",
       "        vertical-align: middle;\n",
       "    }\n",
       "\n",
       "    .dataframe tbody tr th {\n",
       "        vertical-align: top;\n",
       "    }\n",
       "\n",
       "    .dataframe thead th {\n",
       "        text-align: right;\n",
       "    }\n",
       "</style>\n",
       "<table border=\"1\" class=\"dataframe\">\n",
       "  <thead>\n",
       "    <tr style=\"text-align: right;\">\n",
       "      <th></th>\n",
       "      <th>date</th>\n",
       "      <th>key_apple_mobility</th>\n",
       "      <th>key_google_mobility</th>\n",
       "      <th>id</th>\n",
       "      <th>tests</th>\n",
       "      <th>confirmed</th>\n",
       "      <th>recovered</th>\n",
       "      <th>deaths</th>\n",
       "      <th>hosp</th>\n",
       "      <th>vent</th>\n",
       "      <th>...</th>\n",
       "      <th>census_fips_code</th>\n",
       "      <th>retail_and_recreation_percent_change_from_baseline</th>\n",
       "      <th>grocery_and_pharmacy_percent_change_from_baseline</th>\n",
       "      <th>parks_percent_change_from_baseline</th>\n",
       "      <th>transit_stations_percent_change_from_baseline</th>\n",
       "      <th>workplaces_percent_change_from_baseline</th>\n",
       "      <th>residential_percent_change_from_baseline</th>\n",
       "      <th>driving</th>\n",
       "      <th>walking</th>\n",
       "      <th>transit</th>\n",
       "    </tr>\n",
       "  </thead>\n",
       "  <tbody>\n",
       "    <tr>\n",
       "      <th>0</th>\n",
       "      <td>2020-03-11</td>\n",
       "      <td>Prince Edward Island</td>\n",
       "      <td>CA, Prince Edward Island</td>\n",
       "      <td>015d95fc</td>\n",
       "      <td>6.0</td>\n",
       "      <td>0</td>\n",
       "      <td>NaN</td>\n",
       "      <td>0</td>\n",
       "      <td>NaN</td>\n",
       "      <td>NaN</td>\n",
       "      <td>...</td>\n",
       "      <td>NaN</td>\n",
       "      <td>-1.0</td>\n",
       "      <td>0.0</td>\n",
       "      <td>NaN</td>\n",
       "      <td>NaN</td>\n",
       "      <td>0.0</td>\n",
       "      <td>1.0</td>\n",
       "      <td>112.23</td>\n",
       "      <td>NaN</td>\n",
       "      <td>NaN</td>\n",
       "    </tr>\n",
       "    <tr>\n",
       "      <th>1</th>\n",
       "      <td>2020-03-12</td>\n",
       "      <td>Prince Edward Island</td>\n",
       "      <td>CA, Prince Edward Island</td>\n",
       "      <td>015d95fc</td>\n",
       "      <td>6.0</td>\n",
       "      <td>0</td>\n",
       "      <td>NaN</td>\n",
       "      <td>0</td>\n",
       "      <td>NaN</td>\n",
       "      <td>NaN</td>\n",
       "      <td>...</td>\n",
       "      <td>NaN</td>\n",
       "      <td>8.0</td>\n",
       "      <td>16.0</td>\n",
       "      <td>NaN</td>\n",
       "      <td>NaN</td>\n",
       "      <td>0.0</td>\n",
       "      <td>0.0</td>\n",
       "      <td>107.63</td>\n",
       "      <td>NaN</td>\n",
       "      <td>NaN</td>\n",
       "    </tr>\n",
       "    <tr>\n",
       "      <th>2</th>\n",
       "      <td>2020-03-13</td>\n",
       "      <td>Prince Edward Island</td>\n",
       "      <td>CA, Prince Edward Island</td>\n",
       "      <td>015d95fc</td>\n",
       "      <td>6.0</td>\n",
       "      <td>0</td>\n",
       "      <td>NaN</td>\n",
       "      <td>0</td>\n",
       "      <td>NaN</td>\n",
       "      <td>NaN</td>\n",
       "      <td>...</td>\n",
       "      <td>NaN</td>\n",
       "      <td>-5.0</td>\n",
       "      <td>35.0</td>\n",
       "      <td>NaN</td>\n",
       "      <td>NaN</td>\n",
       "      <td>-3.0</td>\n",
       "      <td>3.0</td>\n",
       "      <td>108.80</td>\n",
       "      <td>NaN</td>\n",
       "      <td>NaN</td>\n",
       "    </tr>\n",
       "    <tr>\n",
       "      <th>3</th>\n",
       "      <td>2020-03-14</td>\n",
       "      <td>Prince Edward Island</td>\n",
       "      <td>CA, Prince Edward Island</td>\n",
       "      <td>015d95fc</td>\n",
       "      <td>6.0</td>\n",
       "      <td>0</td>\n",
       "      <td>NaN</td>\n",
       "      <td>0</td>\n",
       "      <td>NaN</td>\n",
       "      <td>NaN</td>\n",
       "      <td>...</td>\n",
       "      <td>NaN</td>\n",
       "      <td>-17.0</td>\n",
       "      <td>11.0</td>\n",
       "      <td>NaN</td>\n",
       "      <td>NaN</td>\n",
       "      <td>-4.0</td>\n",
       "      <td>NaN</td>\n",
       "      <td>104.16</td>\n",
       "      <td>NaN</td>\n",
       "      <td>NaN</td>\n",
       "    </tr>\n",
       "    <tr>\n",
       "      <th>4</th>\n",
       "      <td>2020-03-15</td>\n",
       "      <td>Prince Edward Island</td>\n",
       "      <td>CA, Prince Edward Island</td>\n",
       "      <td>015d95fc</td>\n",
       "      <td>6.0</td>\n",
       "      <td>1</td>\n",
       "      <td>NaN</td>\n",
       "      <td>0</td>\n",
       "      <td>NaN</td>\n",
       "      <td>NaN</td>\n",
       "      <td>...</td>\n",
       "      <td>NaN</td>\n",
       "      <td>-3.0</td>\n",
       "      <td>18.0</td>\n",
       "      <td>NaN</td>\n",
       "      <td>NaN</td>\n",
       "      <td>2.0</td>\n",
       "      <td>NaN</td>\n",
       "      <td>77.46</td>\n",
       "      <td>NaN</td>\n",
       "      <td>NaN</td>\n",
       "    </tr>\n",
       "  </tbody>\n",
       "</table>\n",
       "<p>5 rows × 49 columns</p>\n",
       "</div>"
      ],
      "text/plain": [
       "         date    key_apple_mobility       key_google_mobility        id  \\\n",
       "0  2020-03-11  Prince Edward Island  CA, Prince Edward Island  015d95fc   \n",
       "1  2020-03-12  Prince Edward Island  CA, Prince Edward Island  015d95fc   \n",
       "2  2020-03-13  Prince Edward Island  CA, Prince Edward Island  015d95fc   \n",
       "3  2020-03-14  Prince Edward Island  CA, Prince Edward Island  015d95fc   \n",
       "4  2020-03-15  Prince Edward Island  CA, Prince Edward Island  015d95fc   \n",
       "\n",
       "   tests  confirmed  recovered  deaths  hosp  vent  ...  census_fips_code  \\\n",
       "0    6.0          0        NaN       0   NaN   NaN  ...               NaN   \n",
       "1    6.0          0        NaN       0   NaN   NaN  ...               NaN   \n",
       "2    6.0          0        NaN       0   NaN   NaN  ...               NaN   \n",
       "3    6.0          0        NaN       0   NaN   NaN  ...               NaN   \n",
       "4    6.0          1        NaN       0   NaN   NaN  ...               NaN   \n",
       "\n",
       "   retail_and_recreation_percent_change_from_baseline  \\\n",
       "0                                               -1.0    \n",
       "1                                                8.0    \n",
       "2                                               -5.0    \n",
       "3                                              -17.0    \n",
       "4                                               -3.0    \n",
       "\n",
       "   grocery_and_pharmacy_percent_change_from_baseline  \\\n",
       "0                                                0.0   \n",
       "1                                               16.0   \n",
       "2                                               35.0   \n",
       "3                                               11.0   \n",
       "4                                               18.0   \n",
       "\n",
       "   parks_percent_change_from_baseline  \\\n",
       "0                                 NaN   \n",
       "1                                 NaN   \n",
       "2                                 NaN   \n",
       "3                                 NaN   \n",
       "4                                 NaN   \n",
       "\n",
       "   transit_stations_percent_change_from_baseline  \\\n",
       "0                                            NaN   \n",
       "1                                            NaN   \n",
       "2                                            NaN   \n",
       "3                                            NaN   \n",
       "4                                            NaN   \n",
       "\n",
       "   workplaces_percent_change_from_baseline  \\\n",
       "0                                      0.0   \n",
       "1                                      0.0   \n",
       "2                                     -3.0   \n",
       "3                                     -4.0   \n",
       "4                                      2.0   \n",
       "\n",
       "   residential_percent_change_from_baseline  driving  walking  transit  \n",
       "0                                       1.0   112.23      NaN      NaN  \n",
       "1                                       0.0   107.63      NaN      NaN  \n",
       "2                                       3.0   108.80      NaN      NaN  \n",
       "3                                       NaN   104.16      NaN      NaN  \n",
       "4                                       NaN    77.46      NaN      NaN  \n",
       "\n",
       "[5 rows x 49 columns]"
      ]
     },
     "execution_count": 54,
     "metadata": {},
     "output_type": "execute_result"
    }
   ],
   "source": [
    "can2.head()"
   ]
  },
  {
   "cell_type": "code",
   "execution_count": 55,
   "metadata": {},
   "outputs": [
    {
     "data": {
      "text/plain": [
       "(2862, 49)"
      ]
     },
     "execution_count": 55,
     "metadata": {},
     "output_type": "execute_result"
    }
   ],
   "source": [
    "can2.shape"
   ]
  },
  {
   "cell_type": "code",
   "execution_count": 56,
   "metadata": {},
   "outputs": [
    {
     "data": {
      "text/plain": [
       "array(['CA, Alberta', 'CA, British Columbia', 'CA, Manitoba',\n",
       "       'CA, New Brunswick', 'CA, Newfoundland and Labrador',\n",
       "       'CA, Northwest Territories', 'CA, Nova Scotia', 'CA, Nunavut',\n",
       "       'CA, Ontario', 'CA, Prince Edward Island', 'CA, Quebec',\n",
       "       'CA, Saskatchewan', 'CA, Yukon'], dtype=object)"
      ]
     },
     "execution_count": 56,
     "metadata": {},
     "output_type": "execute_result"
    }
   ],
   "source": [
    "np.unique(can2['key_google_mobility'].values)"
   ]
  },
  {
   "cell_type": "code",
   "execution_count": 57,
   "metadata": {},
   "outputs": [],
   "source": [
    "on2 = can2[can2['key_google_mobility'] == 'CA, Ontario']\n",
    "bc = can2[can2['key_google_mobility'] == 'CA, British Columbia']"
   ]
  },
  {
   "cell_type": "code",
   "execution_count": 58,
   "metadata": {},
   "outputs": [
    {
     "data": {
      "text/plain": [
       "Index(['date', 'key_apple_mobility', 'key_google_mobility', 'id', 'tests',\n",
       "       'confirmed', 'recovered', 'deaths', 'hosp', 'vent', 'icu', 'population',\n",
       "       'school_closing', 'workplace_closing', 'cancel_events',\n",
       "       'gatherings_restrictions', 'transport_closing',\n",
       "       'stay_home_restrictions', 'internal_movement_restrictions',\n",
       "       'international_movement_restrictions', 'information_campaigns',\n",
       "       'testing_policy', 'contact_tracing', 'stringency_index', 'iso_alpha_3',\n",
       "       'iso_alpha_2', 'iso_numeric', 'currency', 'administrative_area_level',\n",
       "       'administrative_area_level_1', 'administrative_area_level_2',\n",
       "       'administrative_area_level_3', 'latitude', 'longitude', 'key',\n",
       "       'key_alpha_2', 'key_numeric', 'metro_area', 'iso_3166_2_code',\n",
       "       'census_fips_code',\n",
       "       'retail_and_recreation_percent_change_from_baseline',\n",
       "       'grocery_and_pharmacy_percent_change_from_baseline',\n",
       "       'parks_percent_change_from_baseline',\n",
       "       'transit_stations_percent_change_from_baseline',\n",
       "       'workplaces_percent_change_from_baseline',\n",
       "       'residential_percent_change_from_baseline', 'driving', 'walking',\n",
       "       'transit'],\n",
       "      dtype='object')"
      ]
     },
     "execution_count": 58,
     "metadata": {},
     "output_type": "execute_result"
    }
   ],
   "source": [
    "can2.columns"
   ]
  },
  {
   "cell_type": "code",
   "execution_count": 59,
   "metadata": {},
   "outputs": [
    {
     "data": {
      "text/plain": [
       "(233, 49)"
      ]
     },
     "execution_count": 59,
     "metadata": {},
     "output_type": "execute_result"
    }
   ],
   "source": [
    "on2.shape"
   ]
  },
  {
   "cell_type": "code",
   "execution_count": 60,
   "metadata": {},
   "outputs": [
    {
     "data": {
      "text/plain": [
       "<matplotlib.axes._subplots.AxesSubplot at 0x7fb1fc289278>"
      ]
     },
     "execution_count": 60,
     "metadata": {},
     "output_type": "execute_result"
    },
    {
     "data": {
      "image/png": "[encoded data removed]",
      "text/plain": [
       "<matplotlib.figure.Figure at 0x7fb1fc2707b8>"
      ]
     },
     "metadata": {
      "needs_background": "light"
     },
     "output_type": "display_data"
    }
   ],
   "source": [
    "on2.school_closing.plot()"
   ]
  },
  {
   "cell_type": "code",
   "execution_count": 61,
   "metadata": {},
   "outputs": [
    {
     "data": {
      "image/png": "[encoded data removed]",
      "text/plain": [
       "<matplotlib.figure.Figure at 0x7fb1fa2d82b0>"
      ]
     },
     "metadata": {
      "needs_background": "light"
     },
     "output_type": "display_data"
    }
   ],
   "source": [
    "from matplotlib.pyplot import figure\n",
    "lockdown_procs = ['school_closing', 'workplace_closing', 'cancel_events',\n",
    " 'gatherings_restrictions', 'transport_closing',\n",
    " 'stay_home_restrictions', 'internal_movement_restrictions',\n",
    " 'international_movement_restrictions', 'information_campaigns']\n",
    "\n",
    "\n",
    "#figure(num=None, figsize=(20, 6), dpi=80, facecolor='w', edgecolor='k')\n",
    "fig, axs = plt.subplots(3, 3)\n",
    "fig.set_size_inches(18.5, 10.5)\n",
    "x = on2['date']\n",
    "for i, proc in enumerate(lockdown_procs):\n",
    "    a = i//3\n",
    "    b = i%3\n",
    "    y = on2[proc]\n",
    "    axs[a,b].plot(x.values,y.values)\n",
    "    axs[a,b].set_title(proc)\n",
    "    axs[a,b].tick_params(\n",
    "        axis='x',          # changes apply to the x-axis\n",
    "        which='both',      # both major and minor ticks are affected\n",
    "        bottom=False,      # ticks along the bottom edge are off\n",
    "        top=False,         # ticks along the top edge are off\n",
    "        labelbottom=False) # labels along the bottom edge are off\n",
    "plt.show()\n",
    "    "
   ]
  },
  {
   "cell_type": "code",
   "execution_count": 62,
   "metadata": {},
   "outputs": [
    {
     "data": {
      "image/png": "[encoded data removed]",
      "text/plain": [
       "<matplotlib.figure.Figure at 0x7fb1ffcb3240>"
      ]
     },
     "metadata": {
      "needs_background": "light"
     },
     "output_type": "display_data"
    }
   ],
   "source": [
    "from matplotlib.pyplot import figure\n",
    "lockdown_procs = ['school_closing', 'workplace_closing', 'cancel_events',\n",
    " 'gatherings_restrictions', 'transport_closing',\n",
    " 'stay_home_restrictions', 'internal_movement_restrictions',\n",
    " 'international_movement_restrictions', 'information_campaigns']\n",
    "\n",
    "\n",
    "#figure(num=None, figsize=(20, 6), dpi=80, facecolor='w', edgecolor='k')\n",
    "fig, axs = plt.subplots(3, 3)\n",
    "fig.set_size_inches(18.5, 10.5)\n",
    "x = bc['date']\n",
    "for i, proc in enumerate(lockdown_procs):\n",
    "    a = i//3\n",
    "    b = i%3\n",
    "    y = on2[proc]\n",
    "    axs[a,b].plot(x.values,y.values)\n",
    "    axs[a,b].set_title(proc)\n",
    "    axs[a,b].tick_params(\n",
    "        axis='x',          # changes apply to the x-axis\n",
    "        which='both',      # both major and minor ticks are affected\n",
    "        bottom=False,      # ticks along the bottom edge are off\n",
    "        top=False,         # ticks along the top edge are off\n",
    "        labelbottom=False) # labels along the bottom edge are off\n",
    "plt.show()"
   ]
  },
  {
   "cell_type": "code",
   "execution_count": 63,
   "metadata": {},
   "outputs": [
    {
     "name": "stderr",
     "output_type": "stream",
     "text": [
      "/Users/stephenbrock/anaconda3/lib/python3.6/site-packages/ipykernel_launcher.py:4: SettingWithCopyWarning: \n",
      "A value is trying to be set on a copy of a slice from a DataFrame.\n",
      "Try using .loc[row_indexer,col_indexer] = value instead\n",
      "\n",
      "See the caveats in the documentation: https://pandas.pydata.org/pandas-docs/stable/user_guide/indexing.html#returning-a-view-versus-a-copy\n",
      "  after removing the cwd from sys.path.\n"
     ]
    },
    {
     "data": {
      "text/html": [
       "<div>\n",
       "<style scoped>\n",
       "    .dataframe tbody tr th:only-of-type {\n",
       "        vertical-align: middle;\n",
       "    }\n",
       "\n",
       "    .dataframe tbody tr th {\n",
       "        vertical-align: top;\n",
       "    }\n",
       "\n",
       "    .dataframe thead th {\n",
       "        text-align: right;\n",
       "    }\n",
       "</style>\n",
       "<table border=\"1\" class=\"dataframe\">\n",
       "  <thead>\n",
       "    <tr style=\"text-align: right;\">\n",
       "      <th></th>\n",
       "      <th>school_closing</th>\n",
       "      <th>workplace_closing</th>\n",
       "      <th>cancel_events</th>\n",
       "      <th>gatherings_restrictions</th>\n",
       "      <th>transport_closing</th>\n",
       "      <th>stay_home_restrictions</th>\n",
       "      <th>internal_movement_restrictions</th>\n",
       "      <th>international_movement_restrictions</th>\n",
       "      <th>information_campaigns</th>\n",
       "      <th>new</th>\n",
       "    </tr>\n",
       "  </thead>\n",
       "  <tbody>\n",
       "    <tr>\n",
       "      <th>school_closing</th>\n",
       "      <td>1.000000</td>\n",
       "      <td>0.819194</td>\n",
       "      <td>0.830990</td>\n",
       "      <td>0.918324</td>\n",
       "      <td>NaN</td>\n",
       "      <td>0.882788</td>\n",
       "      <td>0.837906</td>\n",
       "      <td>0.893071</td>\n",
       "      <td>0.804239</td>\n",
       "      <td>0.283065</td>\n",
       "    </tr>\n",
       "    <tr>\n",
       "      <th>workplace_closing</th>\n",
       "      <td>0.819194</td>\n",
       "      <td>1.000000</td>\n",
       "      <td>0.717060</td>\n",
       "      <td>0.805183</td>\n",
       "      <td>NaN</td>\n",
       "      <td>0.761756</td>\n",
       "      <td>0.791130</td>\n",
       "      <td>0.894532</td>\n",
       "      <td>0.693976</td>\n",
       "      <td>0.588409</td>\n",
       "    </tr>\n",
       "    <tr>\n",
       "      <th>cancel_events</th>\n",
       "      <td>0.830990</td>\n",
       "      <td>0.717060</td>\n",
       "      <td>1.000000</td>\n",
       "      <td>0.881106</td>\n",
       "      <td>NaN</td>\n",
       "      <td>0.941325</td>\n",
       "      <td>0.808529</td>\n",
       "      <td>0.755774</td>\n",
       "      <td>0.967808</td>\n",
       "      <td>0.379328</td>\n",
       "    </tr>\n",
       "    <tr>\n",
       "      <th>gatherings_restrictions</th>\n",
       "      <td>0.918324</td>\n",
       "      <td>0.805183</td>\n",
       "      <td>0.881106</td>\n",
       "      <td>1.000000</td>\n",
       "      <td>NaN</td>\n",
       "      <td>0.936028</td>\n",
       "      <td>0.944209</td>\n",
       "      <td>0.854969</td>\n",
       "      <td>0.852741</td>\n",
       "      <td>0.453021</td>\n",
       "    </tr>\n",
       "    <tr>\n",
       "      <th>transport_closing</th>\n",
       "      <td>NaN</td>\n",
       "      <td>NaN</td>\n",
       "      <td>NaN</td>\n",
       "      <td>NaN</td>\n",
       "      <td>NaN</td>\n",
       "      <td>NaN</td>\n",
       "      <td>NaN</td>\n",
       "      <td>NaN</td>\n",
       "      <td>NaN</td>\n",
       "      <td>NaN</td>\n",
       "    </tr>\n",
       "    <tr>\n",
       "      <th>stay_home_restrictions</th>\n",
       "      <td>0.882788</td>\n",
       "      <td>0.761756</td>\n",
       "      <td>0.941325</td>\n",
       "      <td>0.936028</td>\n",
       "      <td>NaN</td>\n",
       "      <td>1.000000</td>\n",
       "      <td>0.858927</td>\n",
       "      <td>0.802884</td>\n",
       "      <td>0.911021</td>\n",
       "      <td>0.401297</td>\n",
       "    </tr>\n",
       "    <tr>\n",
       "      <th>internal_movement_restrictions</th>\n",
       "      <td>0.837906</td>\n",
       "      <td>0.791130</td>\n",
       "      <td>0.808529</td>\n",
       "      <td>0.944209</td>\n",
       "      <td>NaN</td>\n",
       "      <td>0.858927</td>\n",
       "      <td>1.000000</td>\n",
       "      <td>0.843218</td>\n",
       "      <td>0.782501</td>\n",
       "      <td>0.457702</td>\n",
       "    </tr>\n",
       "    <tr>\n",
       "      <th>international_movement_restrictions</th>\n",
       "      <td>0.893071</td>\n",
       "      <td>0.894532</td>\n",
       "      <td>0.755774</td>\n",
       "      <td>0.854969</td>\n",
       "      <td>NaN</td>\n",
       "      <td>0.802884</td>\n",
       "      <td>0.843218</td>\n",
       "      <td>1.000000</td>\n",
       "      <td>0.731444</td>\n",
       "      <td>0.406007</td>\n",
       "    </tr>\n",
       "    <tr>\n",
       "      <th>information_campaigns</th>\n",
       "      <td>0.804239</td>\n",
       "      <td>0.693976</td>\n",
       "      <td>0.967808</td>\n",
       "      <td>0.852741</td>\n",
       "      <td>NaN</td>\n",
       "      <td>0.911021</td>\n",
       "      <td>0.782501</td>\n",
       "      <td>0.731444</td>\n",
       "      <td>1.000000</td>\n",
       "      <td>0.366964</td>\n",
       "    </tr>\n",
       "    <tr>\n",
       "      <th>new</th>\n",
       "      <td>0.283065</td>\n",
       "      <td>0.588409</td>\n",
       "      <td>0.379328</td>\n",
       "      <td>0.453021</td>\n",
       "      <td>NaN</td>\n",
       "      <td>0.401297</td>\n",
       "      <td>0.457702</td>\n",
       "      <td>0.406007</td>\n",
       "      <td>0.366964</td>\n",
       "      <td>1.000000</td>\n",
       "    </tr>\n",
       "  </tbody>\n",
       "</table>\n",
       "</div>"
      ],
      "text/plain": [
       "                                     school_closing  workplace_closing  \\\n",
       "school_closing                             1.000000           0.819194   \n",
       "workplace_closing                          0.819194           1.000000   \n",
       "cancel_events                              0.830990           0.717060   \n",
       "gatherings_restrictions                    0.918324           0.805183   \n",
       "transport_closing                               NaN                NaN   \n",
       "stay_home_restrictions                     0.882788           0.761756   \n",
       "internal_movement_restrictions             0.837906           0.791130   \n",
       "international_movement_restrictions        0.893071           0.894532   \n",
       "information_campaigns                      0.804239           0.693976   \n",
       "new                                        0.283065           0.588409   \n",
       "\n",
       "                                     cancel_events  gatherings_restrictions  \\\n",
       "school_closing                            0.830990                 0.918324   \n",
       "workplace_closing                         0.717060                 0.805183   \n",
       "cancel_events                             1.000000                 0.881106   \n",
       "gatherings_restrictions                   0.881106                 1.000000   \n",
       "transport_closing                              NaN                      NaN   \n",
       "stay_home_restrictions                    0.941325                 0.936028   \n",
       "internal_movement_restrictions            0.808529                 0.944209   \n",
       "international_movement_restrictions       0.755774                 0.854969   \n",
       "information_campaigns                     0.967808                 0.852741   \n",
       "new                                       0.379328                 0.453021   \n",
       "\n",
       "                                     transport_closing  \\\n",
       "school_closing                                     NaN   \n",
       "workplace_closing                                  NaN   \n",
       "cancel_events                                      NaN   \n",
       "gatherings_restrictions                            NaN   \n",
       "transport_closing                                  NaN   \n",
       "stay_home_restrictions                             NaN   \n",
       "internal_movement_restrictions                     NaN   \n",
       "international_movement_restrictions                NaN   \n",
       "information_campaigns                              NaN   \n",
       "new                                                NaN   \n",
       "\n",
       "                                     stay_home_restrictions  \\\n",
       "school_closing                                     0.882788   \n",
       "workplace_closing                                  0.761756   \n",
       "cancel_events                                      0.941325   \n",
       "gatherings_restrictions                            0.936028   \n",
       "transport_closing                                       NaN   \n",
       "stay_home_restrictions                             1.000000   \n",
       "internal_movement_restrictions                     0.858927   \n",
       "international_movement_restrictions                0.802884   \n",
       "information_campaigns                              0.911021   \n",
       "new                                                0.401297   \n",
       "\n",
       "                                     internal_movement_restrictions  \\\n",
       "school_closing                                             0.837906   \n",
       "workplace_closing                                          0.791130   \n",
       "cancel_events                                              0.808529   \n",
       "gatherings_restrictions                                    0.944209   \n",
       "transport_closing                                               NaN   \n",
       "stay_home_restrictions                                     0.858927   \n",
       "internal_movement_restrictions                             1.000000   \n",
       "international_movement_restrictions                        0.843218   \n",
       "information_campaigns                                      0.782501   \n",
       "new                                                        0.457702   \n",
       "\n",
       "                                     international_movement_restrictions  \\\n",
       "school_closing                                                  0.893071   \n",
       "workplace_closing                                               0.894532   \n",
       "cancel_events                                                   0.755774   \n",
       "gatherings_restrictions                                         0.854969   \n",
       "transport_closing                                                    NaN   \n",
       "stay_home_restrictions                                          0.802884   \n",
       "internal_movement_restrictions                                  0.843218   \n",
       "international_movement_restrictions                             1.000000   \n",
       "information_campaigns                                           0.731444   \n",
       "new                                                             0.406007   \n",
       "\n",
       "                                     information_campaigns       new  \n",
       "school_closing                                    0.804239  0.283065  \n",
       "workplace_closing                                 0.693976  0.588409  \n",
       "cancel_events                                     0.967808  0.379328  \n",
       "gatherings_restrictions                           0.852741  0.453021  \n",
       "transport_closing                                      NaN       NaN  \n",
       "stay_home_restrictions                            0.911021  0.401297  \n",
       "internal_movement_restrictions                    0.782501  0.457702  \n",
       "international_movement_restrictions               0.731444  0.406007  \n",
       "information_campaigns                             1.000000  0.366964  \n",
       "new                                               0.366964  1.000000  "
      ]
     },
     "execution_count": 63,
     "metadata": {},
     "output_type": "execute_result"
    }
   ],
   "source": [
    "# check for correlation between lockdown procedures and case count\n",
    "temp = lockdown_procs+['new']\n",
    "\n",
    "on2['new'] = on2['confirmed'].values - on2['confirmed'].shift(1).values  # new cases today\n",
    "\n",
    "\n",
    "on2[temp].corr()"
   ]
  },
  {
   "cell_type": "markdown",
   "metadata": {},
   "source": [
    "Could try predicting new cases for the next week instead of the current week. The biggest issue here is the amount of data that we have.\n",
    "\n",
    "These correlations between lockdown procedure and new case count have a positive correlation. This suggests that more lockdown procedures result in an increase in new cases; however, we would expect the opposite.\n",
    "\n",
    "Let us try including these lockdown procedures into our model. The signal might not be that strong because we are only looking at the procedures in Ontario.\n",
    "\n",
    "Rationale for positive correlation:\n",
    "- should be compared between what happened and what would have happened\n",
    "- these procedures are applied when the numbers are going up\n"
   ]
  },
  {
   "cell_type": "code",
   "execution_count": null,
   "metadata": {},
   "outputs": [],
   "source": []
  },
  {
   "cell_type": "code",
   "execution_count": 64,
   "metadata": {},
   "outputs": [
    {
     "data": {
      "text/plain": [
       "233"
      ]
     },
     "execution_count": 64,
     "metadata": {},
     "output_type": "execute_result"
    }
   ],
   "source": [
    "on2.shape[0]"
   ]
  },
  {
   "cell_type": "code",
   "execution_count": 65,
   "metadata": {},
   "outputs": [
    {
     "data": {
      "text/plain": [
       "<matplotlib.axes._subplots.AxesSubplot at 0x7fb1fe898f60>"
      ]
     },
     "execution_count": 65,
     "metadata": {},
     "output_type": "execute_result"
    },
    {
     "data": {
      "image/png": "[encoded data removed]",
      "text/plain": [
       "<matplotlib.figure.Figure at 0x7fb1fa2af6d8>"
      ]
     },
     "metadata": {
      "needs_background": "light"
     },
     "output_type": "display_data"
    }
   ],
   "source": [
    "on2.new.plot()"
   ]
  },
  {
   "cell_type": "code",
   "execution_count": 204,
   "metadata": {},
   "outputs": [
    {
     "data": {
      "text/plain": [
       "<matplotlib.axes._subplots.AxesSubplot at 0x7fb1e6dd5cf8>"
      ]
     },
     "execution_count": 204,
     "metadata": {},
     "output_type": "execute_result"
    },
    {
     "data": {
      "image/png": "[encoded data removed]",
      "text/plain": [
       "<matplotlib.figure.Figure at 0x7fb1e6e59940>"
      ]
     },
     "metadata": {
      "needs_background": "light"
     },
     "output_type": "display_data"
    }
   ],
   "source": [
    "on2.new.hist()"
   ]
  },
  {
   "cell_type": "code",
   "execution_count": 66,
   "metadata": {},
   "outputs": [
    {
     "data": {
      "text/plain": [
       "<matplotlib.axes._subplots.AxesSubplot at 0x7fb1fdcd0828>"
      ]
     },
     "execution_count": 66,
     "metadata": {},
     "output_type": "execute_result"
    },
    {
     "data": {
      "image/png": "[encoded data removed]",
      "text/plain": [
       "<matplotlib.figure.Figure at 0x7fb1fe892908>"
      ]
     },
     "metadata": {
      "needs_background": "light"
     },
     "output_type": "display_data"
    }
   ],
   "source": [
    "import seaborn as sns\n",
    "\n",
    "sns.heatmap(on2[temp].corr())"
   ]
  },
  {
   "cell_type": "markdown",
   "metadata": {},
   "source": [
    "Can use all except transport_closing (no changes)\n",
    "\n",
    "We will use all the procedures as explanatory variables, except transport closing"
   ]
  },
  {
   "cell_type": "code",
   "execution_count": 67,
   "metadata": {},
   "outputs": [
    {
     "data": {
      "text/html": [
       "<div>\n",
       "<style scoped>\n",
       "    .dataframe tbody tr th:only-of-type {\n",
       "        vertical-align: middle;\n",
       "    }\n",
       "\n",
       "    .dataframe tbody tr th {\n",
       "        vertical-align: top;\n",
       "    }\n",
       "\n",
       "    .dataframe thead th {\n",
       "        text-align: right;\n",
       "    }\n",
       "</style>\n",
       "<table border=\"1\" class=\"dataframe\">\n",
       "  <thead>\n",
       "    <tr style=\"text-align: right;\">\n",
       "      <th></th>\n",
       "      <th>date</th>\n",
       "      <th>key_apple_mobility</th>\n",
       "      <th>key_google_mobility</th>\n",
       "      <th>id</th>\n",
       "      <th>tests</th>\n",
       "      <th>confirmed</th>\n",
       "      <th>recovered</th>\n",
       "      <th>deaths</th>\n",
       "      <th>hosp</th>\n",
       "      <th>vent</th>\n",
       "      <th>...</th>\n",
       "      <th>retail_and_recreation_percent_change_from_baseline</th>\n",
       "      <th>grocery_and_pharmacy_percent_change_from_baseline</th>\n",
       "      <th>parks_percent_change_from_baseline</th>\n",
       "      <th>transit_stations_percent_change_from_baseline</th>\n",
       "      <th>workplaces_percent_change_from_baseline</th>\n",
       "      <th>residential_percent_change_from_baseline</th>\n",
       "      <th>driving</th>\n",
       "      <th>walking</th>\n",
       "      <th>transit</th>\n",
       "      <th>new</th>\n",
       "    </tr>\n",
       "  </thead>\n",
       "  <tbody>\n",
       "    <tr>\n",
       "      <th>868</th>\n",
       "      <td>2020-01-31</td>\n",
       "      <td>Ontario</td>\n",
       "      <td>CA, Ontario</td>\n",
       "      <td>83fc0fa9</td>\n",
       "      <td>NaN</td>\n",
       "      <td>3</td>\n",
       "      <td>NaN</td>\n",
       "      <td>0</td>\n",
       "      <td>NaN</td>\n",
       "      <td>NaN</td>\n",
       "      <td>...</td>\n",
       "      <td>NaN</td>\n",
       "      <td>NaN</td>\n",
       "      <td>NaN</td>\n",
       "      <td>NaN</td>\n",
       "      <td>NaN</td>\n",
       "      <td>NaN</td>\n",
       "      <td>126.57</td>\n",
       "      <td>128.71</td>\n",
       "      <td>102.95</td>\n",
       "      <td>NaN</td>\n",
       "    </tr>\n",
       "    <tr>\n",
       "      <th>869</th>\n",
       "      <td>2020-02-08</td>\n",
       "      <td>Ontario</td>\n",
       "      <td>CA, Ontario</td>\n",
       "      <td>83fc0fa9</td>\n",
       "      <td>NaN</td>\n",
       "      <td>3</td>\n",
       "      <td>NaN</td>\n",
       "      <td>0</td>\n",
       "      <td>NaN</td>\n",
       "      <td>NaN</td>\n",
       "      <td>...</td>\n",
       "      <td>NaN</td>\n",
       "      <td>NaN</td>\n",
       "      <td>NaN</td>\n",
       "      <td>NaN</td>\n",
       "      <td>NaN</td>\n",
       "      <td>NaN</td>\n",
       "      <td>113.55</td>\n",
       "      <td>120.61</td>\n",
       "      <td>89.23</td>\n",
       "      <td>0.0</td>\n",
       "    </tr>\n",
       "    <tr>\n",
       "      <th>870</th>\n",
       "      <td>2020-02-16</td>\n",
       "      <td>Ontario</td>\n",
       "      <td>CA, Ontario</td>\n",
       "      <td>83fc0fa9</td>\n",
       "      <td>NaN</td>\n",
       "      <td>3</td>\n",
       "      <td>NaN</td>\n",
       "      <td>0</td>\n",
       "      <td>NaN</td>\n",
       "      <td>NaN</td>\n",
       "      <td>...</td>\n",
       "      <td>16.0</td>\n",
       "      <td>13.0</td>\n",
       "      <td>44.0</td>\n",
       "      <td>5.0</td>\n",
       "      <td>-2.0</td>\n",
       "      <td>-2.0</td>\n",
       "      <td>101.27</td>\n",
       "      <td>107.86</td>\n",
       "      <td>72.52</td>\n",
       "      <td>0.0</td>\n",
       "    </tr>\n",
       "    <tr>\n",
       "      <th>871</th>\n",
       "      <td>2020-02-21</td>\n",
       "      <td>Ontario</td>\n",
       "      <td>CA, Ontario</td>\n",
       "      <td>83fc0fa9</td>\n",
       "      <td>NaN</td>\n",
       "      <td>3</td>\n",
       "      <td>NaN</td>\n",
       "      <td>0</td>\n",
       "      <td>NaN</td>\n",
       "      <td>NaN</td>\n",
       "      <td>...</td>\n",
       "      <td>1.0</td>\n",
       "      <td>-3.0</td>\n",
       "      <td>11.0</td>\n",
       "      <td>-1.0</td>\n",
       "      <td>-7.0</td>\n",
       "      <td>1.0</td>\n",
       "      <td>136.47</td>\n",
       "      <td>141.55</td>\n",
       "      <td>108.22</td>\n",
       "      <td>0.0</td>\n",
       "    </tr>\n",
       "    <tr>\n",
       "      <th>872</th>\n",
       "      <td>2020-02-24</td>\n",
       "      <td>Ontario</td>\n",
       "      <td>CA, Ontario</td>\n",
       "      <td>83fc0fa9</td>\n",
       "      <td>NaN</td>\n",
       "      <td>4</td>\n",
       "      <td>NaN</td>\n",
       "      <td>0</td>\n",
       "      <td>NaN</td>\n",
       "      <td>NaN</td>\n",
       "      <td>...</td>\n",
       "      <td>2.0</td>\n",
       "      <td>2.0</td>\n",
       "      <td>18.0</td>\n",
       "      <td>-2.0</td>\n",
       "      <td>2.0</td>\n",
       "      <td>0.0</td>\n",
       "      <td>101.42</td>\n",
       "      <td>104.62</td>\n",
       "      <td>92.71</td>\n",
       "      <td>1.0</td>\n",
       "    </tr>\n",
       "    <tr>\n",
       "      <th>873</th>\n",
       "      <td>2020-02-25</td>\n",
       "      <td>Ontario</td>\n",
       "      <td>CA, Ontario</td>\n",
       "      <td>83fc0fa9</td>\n",
       "      <td>NaN</td>\n",
       "      <td>4</td>\n",
       "      <td>NaN</td>\n",
       "      <td>0</td>\n",
       "      <td>NaN</td>\n",
       "      <td>NaN</td>\n",
       "      <td>...</td>\n",
       "      <td>1.0</td>\n",
       "      <td>7.0</td>\n",
       "      <td>2.0</td>\n",
       "      <td>1.0</td>\n",
       "      <td>3.0</td>\n",
       "      <td>0.0</td>\n",
       "      <td>105.84</td>\n",
       "      <td>103.71</td>\n",
       "      <td>93.98</td>\n",
       "      <td>0.0</td>\n",
       "    </tr>\n",
       "    <tr>\n",
       "      <th>874</th>\n",
       "      <td>2020-02-26</td>\n",
       "      <td>Ontario</td>\n",
       "      <td>CA, Ontario</td>\n",
       "      <td>83fc0fa9</td>\n",
       "      <td>NaN</td>\n",
       "      <td>5</td>\n",
       "      <td>NaN</td>\n",
       "      <td>0</td>\n",
       "      <td>NaN</td>\n",
       "      <td>NaN</td>\n",
       "      <td>...</td>\n",
       "      <td>-8.0</td>\n",
       "      <td>-5.0</td>\n",
       "      <td>-15.0</td>\n",
       "      <td>-6.0</td>\n",
       "      <td>-2.0</td>\n",
       "      <td>3.0</td>\n",
       "      <td>96.75</td>\n",
       "      <td>90.03</td>\n",
       "      <td>88.68</td>\n",
       "      <td>1.0</td>\n",
       "    </tr>\n",
       "    <tr>\n",
       "      <th>875</th>\n",
       "      <td>2020-02-27</td>\n",
       "      <td>Ontario</td>\n",
       "      <td>CA, Ontario</td>\n",
       "      <td>83fc0fa9</td>\n",
       "      <td>NaN</td>\n",
       "      <td>6</td>\n",
       "      <td>NaN</td>\n",
       "      <td>0</td>\n",
       "      <td>NaN</td>\n",
       "      <td>NaN</td>\n",
       "      <td>...</td>\n",
       "      <td>-13.0</td>\n",
       "      <td>-12.0</td>\n",
       "      <td>-17.0</td>\n",
       "      <td>-5.0</td>\n",
       "      <td>-8.0</td>\n",
       "      <td>5.0</td>\n",
       "      <td>101.12</td>\n",
       "      <td>91.16</td>\n",
       "      <td>90.22</td>\n",
       "      <td>1.0</td>\n",
       "    </tr>\n",
       "    <tr>\n",
       "      <th>876</th>\n",
       "      <td>2020-02-29</td>\n",
       "      <td>Ontario</td>\n",
       "      <td>CA, Ontario</td>\n",
       "      <td>83fc0fa9</td>\n",
       "      <td>NaN</td>\n",
       "      <td>8</td>\n",
       "      <td>NaN</td>\n",
       "      <td>0</td>\n",
       "      <td>NaN</td>\n",
       "      <td>NaN</td>\n",
       "      <td>...</td>\n",
       "      <td>5.0</td>\n",
       "      <td>6.0</td>\n",
       "      <td>9.0</td>\n",
       "      <td>6.0</td>\n",
       "      <td>8.0</td>\n",
       "      <td>-1.0</td>\n",
       "      <td>121.00</td>\n",
       "      <td>127.34</td>\n",
       "      <td>93.33</td>\n",
       "      <td>2.0</td>\n",
       "    </tr>\n",
       "    <tr>\n",
       "      <th>877</th>\n",
       "      <td>2020-03-01</td>\n",
       "      <td>Ontario</td>\n",
       "      <td>CA, Ontario</td>\n",
       "      <td>83fc0fa9</td>\n",
       "      <td>NaN</td>\n",
       "      <td>15</td>\n",
       "      <td>NaN</td>\n",
       "      <td>0</td>\n",
       "      <td>NaN</td>\n",
       "      <td>NaN</td>\n",
       "      <td>...</td>\n",
       "      <td>11.0</td>\n",
       "      <td>10.0</td>\n",
       "      <td>23.0</td>\n",
       "      <td>4.0</td>\n",
       "      <td>6.0</td>\n",
       "      <td>-1.0</td>\n",
       "      <td>93.15</td>\n",
       "      <td>93.66</td>\n",
       "      <td>76.25</td>\n",
       "      <td>7.0</td>\n",
       "    </tr>\n",
       "  </tbody>\n",
       "</table>\n",
       "<p>10 rows × 50 columns</p>\n",
       "</div>"
      ],
      "text/plain": [
       "           date key_apple_mobility key_google_mobility        id  tests  \\\n",
       "868  2020-01-31            Ontario         CA, Ontario  83fc0fa9    NaN   \n",
       "869  2020-02-08            Ontario         CA, Ontario  83fc0fa9    NaN   \n",
       "870  2020-02-16            Ontario         CA, Ontario  83fc0fa9    NaN   \n",
       "871  2020-02-21            Ontario         CA, Ontario  83fc0fa9    NaN   \n",
       "872  2020-02-24            Ontario         CA, Ontario  83fc0fa9    NaN   \n",
       "873  2020-02-25            Ontario         CA, Ontario  83fc0fa9    NaN   \n",
       "874  2020-02-26            Ontario         CA, Ontario  83fc0fa9    NaN   \n",
       "875  2020-02-27            Ontario         CA, Ontario  83fc0fa9    NaN   \n",
       "876  2020-02-29            Ontario         CA, Ontario  83fc0fa9    NaN   \n",
       "877  2020-03-01            Ontario         CA, Ontario  83fc0fa9    NaN   \n",
       "\n",
       "     confirmed  recovered  deaths  hosp  vent  ...  \\\n",
       "868          3        NaN       0   NaN   NaN  ...   \n",
       "869          3        NaN       0   NaN   NaN  ...   \n",
       "870          3        NaN       0   NaN   NaN  ...   \n",
       "871          3        NaN       0   NaN   NaN  ...   \n",
       "872          4        NaN       0   NaN   NaN  ...   \n",
       "873          4        NaN       0   NaN   NaN  ...   \n",
       "874          5        NaN       0   NaN   NaN  ...   \n",
       "875          6        NaN       0   NaN   NaN  ...   \n",
       "876          8        NaN       0   NaN   NaN  ...   \n",
       "877         15        NaN       0   NaN   NaN  ...   \n",
       "\n",
       "     retail_and_recreation_percent_change_from_baseline  \\\n",
       "868                                                NaN    \n",
       "869                                                NaN    \n",
       "870                                               16.0    \n",
       "871                                                1.0    \n",
       "872                                                2.0    \n",
       "873                                                1.0    \n",
       "874                                               -8.0    \n",
       "875                                              -13.0    \n",
       "876                                                5.0    \n",
       "877                                               11.0    \n",
       "\n",
       "     grocery_and_pharmacy_percent_change_from_baseline  \\\n",
       "868                                                NaN   \n",
       "869                                                NaN   \n",
       "870                                               13.0   \n",
       "871                                               -3.0   \n",
       "872                                                2.0   \n",
       "873                                                7.0   \n",
       "874                                               -5.0   \n",
       "875                                              -12.0   \n",
       "876                                                6.0   \n",
       "877                                               10.0   \n",
       "\n",
       "     parks_percent_change_from_baseline  \\\n",
       "868                                 NaN   \n",
       "869                                 NaN   \n",
       "870                                44.0   \n",
       "871                                11.0   \n",
       "872                                18.0   \n",
       "873                                 2.0   \n",
       "874                               -15.0   \n",
       "875                               -17.0   \n",
       "876                                 9.0   \n",
       "877                                23.0   \n",
       "\n",
       "     transit_stations_percent_change_from_baseline  \\\n",
       "868                                            NaN   \n",
       "869                                            NaN   \n",
       "870                                            5.0   \n",
       "871                                           -1.0   \n",
       "872                                           -2.0   \n",
       "873                                            1.0   \n",
       "874                                           -6.0   \n",
       "875                                           -5.0   \n",
       "876                                            6.0   \n",
       "877                                            4.0   \n",
       "\n",
       "     workplaces_percent_change_from_baseline  \\\n",
       "868                                      NaN   \n",
       "869                                      NaN   \n",
       "870                                     -2.0   \n",
       "871                                     -7.0   \n",
       "872                                      2.0   \n",
       "873                                      3.0   \n",
       "874                                     -2.0   \n",
       "875                                     -8.0   \n",
       "876                                      8.0   \n",
       "877                                      6.0   \n",
       "\n",
       "     residential_percent_change_from_baseline  driving  walking  transit  new  \n",
       "868                                       NaN   126.57   128.71   102.95  NaN  \n",
       "869                                       NaN   113.55   120.61    89.23  0.0  \n",
       "870                                      -2.0   101.27   107.86    72.52  0.0  \n",
       "871                                       1.0   136.47   141.55   108.22  0.0  \n",
       "872                                       0.0   101.42   104.62    92.71  1.0  \n",
       "873                                       0.0   105.84   103.71    93.98  0.0  \n",
       "874                                       3.0    96.75    90.03    88.68  1.0  \n",
       "875                                       5.0   101.12    91.16    90.22  1.0  \n",
       "876                                      -1.0   121.00   127.34    93.33  2.0  \n",
       "877                                      -1.0    93.15    93.66    76.25  7.0  \n",
       "\n",
       "[10 rows x 50 columns]"
      ]
     },
     "execution_count": 67,
     "metadata": {},
     "output_type": "execute_result"
    }
   ],
   "source": [
    "# get dates to fill range of min(on2[date]) and max(on2[date]), merge dataset, and ffill na's for lockdown data\n",
    "on2.head(10)"
   ]
  },
  {
   "cell_type": "code",
   "execution_count": 68,
   "metadata": {},
   "outputs": [
    {
     "name": "stdout",
     "output_type": "stream",
     "text": [
      "2020-01-31\n"
     ]
    }
   ],
   "source": [
    "# how to fill in missing data values? Just leave as NA?\n",
    "# we do not need to fill in missing data if we take into account the gaps between dates\n",
    "# this could be problematic if the missing date cases are represented in the next report of new cases\n",
    "# but we can address that later.\n",
    "\n",
    "base_date = on2.date.min()\n",
    "print(base_date)\n",
    "diff = datetime.date(datetime.strptime(on_mobil_mean.date.max(), \"%Y-%m-%d\")) - \\\n",
    "datetime.date(datetime.strptime(\"2020-01-31\", \"%Y-%m-%d\"))\n",
    "diff.days\n",
    "\n",
    "day_num = [datetime.date(datetime.strptime(x, \"%Y-%m-%d\")) - datetime.date(datetime.strptime(\"2020-01-31\", \"%Y-%m-%d\")) for x in on2.date.values]\n",
    "day_num = [x.days for x in day_num]\n",
    "\n"
   ]
  },
  {
   "cell_type": "code",
   "execution_count": 69,
   "metadata": {},
   "outputs": [
    {
     "data": {
      "text/plain": [
       "[0, 8, 16, 21, 24, 25, 26, 27, 29, 30]"
      ]
     },
     "execution_count": 69,
     "metadata": {},
     "output_type": "execute_result"
    }
   ],
   "source": [
    "day_num[:10]"
   ]
  },
  {
   "cell_type": "code",
   "execution_count": 70,
   "metadata": {},
   "outputs": [],
   "source": [
    "# get missing days\n",
    "\n",
    "first_date = min(on2.date.values)\n",
    "last_date = max(on2.date.values)\n",
    "in_btw_dates = pd.date_range(start=first_date, end=last_date).values\n",
    "\n",
    "in_btw_dates = [str(d)[:10] for d in in_btw_dates]\n",
    "\n",
    "dates_temp = set(on2.date.values)\n",
    "\n",
    "missing_dates = [d for d in in_btw_dates if d not in dates_temp]\n"
   ]
  },
  {
   "cell_type": "code",
   "execution_count": 71,
   "metadata": {},
   "outputs": [
    {
     "name": "stdout",
     "output_type": "stream",
     "text": [
      "24\n",
      "['2020-02-01', '2020-02-02', '2020-02-03', '2020-02-04', '2020-02-05', '2020-02-06', '2020-02-07', '2020-02-09', '2020-02-10', '2020-02-11', '2020-02-12', '2020-02-13', '2020-02-14', '2020-02-15', '2020-02-17', '2020-02-18', '2020-02-19', '2020-02-20', '2020-02-22', '2020-02-23', '2020-02-28', '2020-03-02', '2020-03-04', '2020-03-10']\n"
     ]
    }
   ],
   "source": [
    "print(len(missing_dates))\n",
    "print(missing_dates)"
   ]
  },
  {
   "cell_type": "markdown",
   "metadata": {},
   "source": [
    "Reporting was not consistent before March 11."
   ]
  },
  {
   "cell_type": "code",
   "execution_count": 72,
   "metadata": {},
   "outputs": [
    {
     "name": "stdout",
     "output_type": "stream",
     "text": [
      "(233, 50)\n",
      "(217, 50)\n"
     ]
    }
   ],
   "source": [
    "print(on2.shape)\n",
    "print(on2[on2.date > '2020-03-10'].shape)"
   ]
  },
  {
   "cell_type": "code",
   "execution_count": 73,
   "metadata": {},
   "outputs": [
    {
     "data": {
      "text/plain": [
       "16"
      ]
     },
     "execution_count": 73,
     "metadata": {},
     "output_type": "execute_result"
    }
   ],
   "source": [
    "233-217 # 16, but shouldn't this be 24?"
   ]
  },
  {
   "cell_type": "code",
   "execution_count": 74,
   "metadata": {},
   "outputs": [
    {
     "name": "stderr",
     "output_type": "stream",
     "text": [
      "/Users/stephenbrock/anaconda3/lib/python3.6/site-packages/ipykernel_launcher.py:6: SettingWithCopyWarning: \n",
      "A value is trying to be set on a copy of a slice from a DataFrame.\n",
      "Try using .loc[row_indexer,col_indexer] = value instead\n",
      "\n",
      "See the caveats in the documentation: https://pandas.pydata.org/pandas-docs/stable/user_guide/indexing.html#returning-a-view-versus-a-copy\n",
      "  \n",
      "/Users/stephenbrock/anaconda3/lib/python3.6/site-packages/ipykernel_launcher.py:12: SettingWithCopyWarning: \n",
      "A value is trying to be set on a copy of a slice from a DataFrame.\n",
      "Try using .loc[row_indexer,col_indexer] = value instead\n",
      "\n",
      "See the caveats in the documentation: https://pandas.pydata.org/pandas-docs/stable/user_guide/indexing.html#returning-a-view-versus-a-copy\n",
      "  if sys.path[0] == '':\n",
      "/Users/stephenbrock/anaconda3/lib/python3.6/site-packages/ipykernel_launcher.py:13: SettingWithCopyWarning: \n",
      "A value is trying to be set on a copy of a slice from a DataFrame.\n",
      "Try using .loc[row_indexer,col_indexer] = value instead\n",
      "\n",
      "See the caveats in the documentation: https://pandas.pydata.org/pandas-docs/stable/user_guide/indexing.html#returning-a-view-versus-a-copy\n",
      "  del sys.path[0]\n",
      "/Users/stephenbrock/anaconda3/lib/python3.6/site-packages/ipykernel_launcher.py:14: SettingWithCopyWarning: \n",
      "A value is trying to be set on a copy of a slice from a DataFrame.\n",
      "Try using .loc[row_indexer,col_indexer] = value instead\n",
      "\n",
      "See the caveats in the documentation: https://pandas.pydata.org/pandas-docs/stable/user_guide/indexing.html#returning-a-view-versus-a-copy\n",
      "  \n"
     ]
    },
    {
     "data": {
      "text/plain": [
       "(208, 16)"
      ]
     },
     "execution_count": 74,
     "metadata": {},
     "output_type": "execute_result"
    }
   ],
   "source": [
    "data_hyp2 = on2[on2.date > '2020-03-10']\n",
    "\n",
    "day_num = [datetime.date(datetime.strptime(x, \"%Y-%m-%d\")) - datetime.date(datetime.strptime(\"2020-03-10\", \"%Y-%m-%d\")) for x in data_hyp2.date.values]\n",
    "day_num = [x.days for x in day_num]\n",
    "\n",
    "data_hyp2['day_num'] = day_num\n",
    "\n",
    "# we will introduce a 7 day lag in factors -> new case count\n",
    "# we will also do a 7 day lag on a 3-day moving average -> new case count\n",
    "\n",
    "# 7 day lag\n",
    "data_hyp2['new_lag7'] = data_hyp2['new'].shift(-7).values\n",
    "data_hyp2['3d_SMA'] = data_hyp2['new'].rolling(window=3).mean()\n",
    "data_hyp2['3d_SMA_lag7'] = data_hyp2['3d_SMA'].shift(-7).values\n",
    "\n",
    "\n",
    "lockdown_procs_no_transport = ['school_closing', 'workplace_closing', 'cancel_events',\n",
    " 'gatherings_restrictions',\n",
    " 'stay_home_restrictions', 'internal_movement_restrictions',\n",
    " 'international_movement_restrictions', 'information_campaigns']\n",
    "\n",
    "mobility = ['retail_and_recreation_percent_change_from_baseline',\n",
    "       'grocery_and_pharmacy_percent_change_from_baseline',\n",
    "       'parks_percent_change_from_baseline',\n",
    "       'transit_stations_percent_change_from_baseline',\n",
    "       'workplaces_percent_change_from_baseline',\n",
    "       'residential_percent_change_from_baseline']\n",
    "\n",
    "hyp2_vars = lockdown_procs_no_transport+mobility+['day_num', 'constant']\n",
    "data_hyp2 = data_hyp2[lockdown_procs_no_transport+mobility+['day_num', 'new_lag7', '3d_SMA_lag7']]\n",
    "data_hyp2 = data_hyp2.dropna().reset_index(drop=True)\n",
    "data_hyp2.insert(0,'constant',np.array(data_hyp2.shape[0]*[1.0]))\n",
    "# print(data_hyp2.dtypes)\n",
    "# data_hyp2 = pd.to_numeric(data_hyp2)\n",
    "data_hyp2 = data_hyp2.astype(np.float64)\n",
    "\n",
    "X_hyp2 = data_hyp2[hyp2_vars]\n",
    "new7 =  data_hyp2['new_lag7']\n",
    "sma_3d7 = data_hyp2['3d_SMA_lag7']\n",
    "\n",
    "X_hyp2.shape\n"
   ]
  },
  {
   "cell_type": "code",
   "execution_count": 75,
   "metadata": {},
   "outputs": [
    {
     "name": "stdout",
     "output_type": "stream",
     "text": [
      "                            OLS Regression Results                            \n",
      "==============================================================================\n",
      "Dep. Variable:               new_lag7   R-squared:                       0.795\n",
      "Model:                            OLS   Adj. R-squared:                  0.785\n",
      "Method:                 Least Squares   F-statistic:                     76.48\n",
      "Date:                Thu, 05 Nov 2020   Prob (F-statistic):           2.60e-62\n",
      "Time:                        09:22:11   Log-Likelihood:                -1214.3\n",
      "No. Observations:                 208   AIC:                             2451.\n",
      "Df Residuals:                     197   BIC:                             2487.\n",
      "Df Model:                          10                                         \n",
      "Covariance Type:            nonrobust                                         \n",
      "======================================================================================================================\n",
      "                                                         coef    std err          t      P>|t|      [0.025      0.975]\n",
      "----------------------------------------------------------------------------------------------------------------------\n",
      "school_closing                                      -278.0936     28.191     -9.865      0.000    -333.688    -222.500\n",
      "workplace_closing                                     39.4323     20.525      1.921      0.056      -1.044      79.908\n",
      "cancel_events                                       -118.1542     53.219     -2.220      0.028    -223.106     -13.203\n",
      "gatherings_restrictions                              184.8770     38.720      4.775      0.000     108.518     261.236\n",
      "international_movement_restrictions                  -69.6464     18.163     -3.835      0.000    -105.465     -33.828\n",
      "retail_and_recreation_percent_change_from_baseline   -12.7870      2.064     -6.194      0.000     -16.858      -8.716\n",
      "grocery_and_pharmacy_percent_change_from_baseline      6.2156      1.337      4.650      0.000       3.580       8.852\n",
      "transit_stations_percent_change_from_baseline         -8.2234      2.504     -3.284      0.001     -13.162      -3.285\n",
      "workplaces_percent_change_from_baseline                4.1167      1.063      3.873      0.000       2.021       6.213\n",
      "day_num                                                1.1698      0.420      2.785      0.006       0.341       1.998\n",
      "constant                                              25.9777     89.307      0.291      0.771    -150.143     202.099\n",
      "==============================================================================\n",
      "Omnibus:                       23.012   Durbin-Watson:                   1.325\n",
      "Prob(Omnibus):                  0.000   Jarque-Bera (JB):               30.076\n",
      "Skew:                           0.723   Prob(JB):                     2.95e-07\n",
      "Kurtosis:                       4.174   Cond. No.                     2.24e+03\n",
      "==============================================================================\n",
      "\n",
      "Notes:\n",
      "[1] Standard Errors assume that the covariance matrix of the errors is correctly specified.\n",
      "[2] The condition number is large, 2.24e+03. This might indicate that there are\n",
      "strong multicollinearity or other numerical problems.\n",
      "                            OLS Regression Results                            \n",
      "==============================================================================\n",
      "Dep. Variable:            3d_SMA_lag7   R-squared:                       0.849\n",
      "Model:                            OLS   Adj. R-squared:                  0.841\n",
      "Method:                 Least Squares   F-statistic:                     110.9\n",
      "Date:                Thu, 05 Nov 2020   Prob (F-statistic):           2.86e-75\n",
      "Time:                        09:22:11   Log-Likelihood:                -1172.9\n",
      "No. Observations:                 208   AIC:                             2368.\n",
      "Df Residuals:                     197   BIC:                             2404.\n",
      "Df Model:                          10                                         \n",
      "Covariance Type:            nonrobust                                         \n",
      "======================================================================================================================\n",
      "                                                         coef    std err          t      P>|t|      [0.025      0.975]\n",
      "----------------------------------------------------------------------------------------------------------------------\n",
      "school_closing                                      -273.4116     23.102    -11.835      0.000    -318.971    -227.852\n",
      "workplace_closing                                     38.6070     16.820      2.295      0.023       5.437      71.777\n",
      "cancel_events                                       -135.2282     43.613     -3.101      0.002    -221.237     -49.220\n",
      "gatherings_restrictions                              185.7673     31.731      5.854      0.000     123.190     248.344\n",
      "international_movement_restrictions                  -63.1962     14.885     -4.246      0.000     -92.550     -33.842\n",
      "retail_and_recreation_percent_change_from_baseline   -12.0767      1.692     -7.139      0.000     -15.413      -8.741\n",
      "grocery_and_pharmacy_percent_change_from_baseline      6.0484      1.095      5.522      0.000       3.888       8.209\n",
      "transit_stations_percent_change_from_baseline         -9.1585      2.052     -4.462      0.000     -13.206      -5.111\n",
      "workplaces_percent_change_from_baseline                4.7615      0.871      5.467      0.000       3.044       6.479\n",
      "day_num                                                1.0574      0.344      3.071      0.002       0.378       1.736\n",
      "constant                                              29.3813     73.188      0.401      0.689    -114.952     173.714\n",
      "==============================================================================\n",
      "Omnibus:                       14.856   Durbin-Watson:                   0.707\n",
      "Prob(Omnibus):                  0.001   Jarque-Bera (JB):               22.000\n",
      "Skew:                           0.444   Prob(JB):                     1.67e-05\n",
      "Kurtosis:                       4.323   Cond. No.                     2.24e+03\n",
      "==============================================================================\n",
      "\n",
      "Notes:\n",
      "[1] Standard Errors assume that the covariance matrix of the errors is correctly specified.\n",
      "[2] The condition number is large, 2.24e+03. This might indicate that there are\n",
      "strong multicollinearity or other numerical problems.\n"
     ]
    }
   ],
   "source": [
    "# create OLS model with linear regression\n",
    "\n",
    "import statsmodels.api as sm\n",
    "\n",
    "new_set = ['school_closing', \n",
    "           'workplace_closing', \n",
    "           'cancel_events',\n",
    "           'gatherings_restrictions',\n",
    "           #'stay_home_restrictions', \n",
    "           #'internal_movement_restrictions',\n",
    "           'international_movement_restrictions',\n",
    "           #'information_campaigns',\n",
    "           'retail_and_recreation_percent_change_from_baseline',\n",
    "           'grocery_and_pharmacy_percent_change_from_baseline',\n",
    "           #'parks_percent_change_from_baseline',\n",
    "           'transit_stations_percent_change_from_baseline',\n",
    "           'workplaces_percent_change_from_baseline',\n",
    "           #'residential_percent_change_from_baseline', \n",
    "           'day_num', \n",
    "           'constant']\n",
    "\n",
    "X_hyp2 = X_hyp2[new_set]\n",
    "\n",
    "model_hyp2 = sm.OLS(new7,X_hyp2)\n",
    "res1 = model_hyp2.fit()\n",
    "print(res1.summary())\n",
    "\n",
    "model2_hyp2 = sm.OLS(sma_3d7,X_hyp2)\n",
    "res2 = model2_hyp2.fit()\n",
    "print(res2.summary())\n"
   ]
  },
  {
   "cell_type": "markdown",
   "metadata": {},
   "source": [
    "List of changes to full model:\n",
    "1. remove parks_percent_change_from_baseline (0.94)\n",
    "2. remove information_campaigns (0.79)\n",
    "3. could remove intercept, but will leave it for now\n",
    "4. remove internal_movement_restrictions (0.26)\n",
    "5. remove stay_home_restrictions (0.179)\n",
    "6. remove residential_percent_change_from_baseline (0.116)"
   ]
  },
  {
   "cell_type": "markdown",
   "metadata": {},
   "source": [
    "### Check predictive performance..."
   ]
  },
  {
   "cell_type": "code",
   "execution_count": null,
   "metadata": {},
   "outputs": [],
   "source": []
  },
  {
   "cell_type": "code",
   "execution_count": null,
   "metadata": {},
   "outputs": [],
   "source": []
  },
  {
   "cell_type": "markdown",
   "metadata": {},
   "source": [
    "### Using Nick's code"
   ]
  },
  {
   "cell_type": "code",
   "execution_count": 76,
   "metadata": {},
   "outputs": [],
   "source": [
    "import pandas as pd\n",
    "import numpy as np\n",
    "\n",
    "# # Samuel's data set\n",
    "# ont_data = pd.read_csv(\"data_can2.csv\")\n",
    "\n",
    "# # create new variables\n",
    "# ont_data = ont_data.assign(\n",
    "#     new_confirmed = ont_data[\"confirmed\"].diff(),\n",
    "#     new_tests = ont_data[\"tests\"].diff(),\n",
    "#     new_recovered = ont_data[\"recovered\"].diff()\n",
    "#     )\n",
    "\n",
    "# # Ontario data\n",
    "# ont_data = ont_data[ont_data[\"key_apple_mobility\"] == \"Ontario\"]\n",
    "# ont_data[\"date\"] = pd.to_datetime(ont_data[\"date\"])\n",
    "\n",
    "# Ontario data on estimated positive case onset dates\n",
    "pos_data = pd.read_csv(\"../Datasets/conposcovidloc.csv\")\n",
    "pos_data[\"Accurate_Episode_Date\"] = pd.to_datetime(pos_data[\"Accurate_Episode_Date\"])\n",
    "pos_data[\"Test_Reported_Date\"] = pd.to_datetime(pos_data[\"Test_Reported_Date\"])\n",
    "\n",
    "# Create lag variable\n",
    "lag = pos_data[\"Test_Reported_Date\"] - pos_data[\"Accurate_Episode_Date\"]\n",
    "pos_data['lag'] = lag.dt.days # timedelta object to integer for means\n",
    "mean_lag = pos_data.groupby(by='Accurate_Episode_Date').mean()['lag']\n",
    "mean_lag_dates = pd.Series(mean_lag.index.values)\n",
    "mean_lag = pd.Series(mean_lag.values)\n",
    "mean_lag_data = pd.concat([mean_lag_dates, mean_lag], axis = 1)\n",
    "mean_lag_data.columns = [\"date\", \"mean_lag\"]\n",
    "\n",
    "# estimated date of onset for confirmed positive cases\n",
    "onset_date = pos_data[\"Accurate_Episode_Date\"]  # symptom onset\n",
    "cases = pd.Series(onset_date.value_counts().values)\n",
    "date = pd.Series(onset_date.value_counts().index.values)\n",
    "date = pd.to_datetime(date)\n",
    "onset_data = pd.concat([date, cases], axis=1)\n",
    "onset_data.columns = ['date', 'onset']\n",
    "\n",
    "# merge the data frames\n",
    "onset_data = onset_data.merge(mean_lag_data, on = \"date\")\n",
    "onset_data[\"date\"] = pd.to_datetime(onset_data[\"date\"])\n",
    "\n",
    "# The data frame below has the following new variables:\n",
    "# onset: Number of confirmed positives whose symptoms started on that date.\n",
    "# mean_lag: The mean number of days it took to report the confirmed cases whose\n",
    "# onset of symptoms was the corresponding date.\n",
    "# ont_data = ont_data.merge(onset_data, on = \"date\")"
   ]
  },
  {
   "cell_type": "code",
   "execution_count": 77,
   "metadata": {},
   "outputs": [
    {
     "data": {
      "text/html": [
       "<div>\n",
       "<style scoped>\n",
       "    .dataframe tbody tr th:only-of-type {\n",
       "        vertical-align: middle;\n",
       "    }\n",
       "\n",
       "    .dataframe tbody tr th {\n",
       "        vertical-align: top;\n",
       "    }\n",
       "\n",
       "    .dataframe thead th {\n",
       "        text-align: right;\n",
       "    }\n",
       "</style>\n",
       "<table border=\"1\" class=\"dataframe\">\n",
       "  <thead>\n",
       "    <tr style=\"text-align: right;\">\n",
       "      <th></th>\n",
       "      <th>Row_ID</th>\n",
       "      <th>Accurate_Episode_Date</th>\n",
       "      <th>Case_Reported_Date</th>\n",
       "      <th>Test_Reported_Date</th>\n",
       "      <th>Specimen_Date</th>\n",
       "      <th>Age_Group</th>\n",
       "      <th>Client_Gender</th>\n",
       "      <th>Case_AcquisitionInfo</th>\n",
       "      <th>Outcome1</th>\n",
       "      <th>Outbreak_Related</th>\n",
       "      <th>Reporting_PHU</th>\n",
       "      <th>Reporting_PHU_Address</th>\n",
       "      <th>Reporting_PHU_City</th>\n",
       "      <th>Reporting_PHU_Postal_Code</th>\n",
       "      <th>Reporting_PHU_Website</th>\n",
       "      <th>Reporting_PHU_Latitude</th>\n",
       "      <th>Reporting_PHU_Longitude</th>\n",
       "      <th>lag</th>\n",
       "    </tr>\n",
       "  </thead>\n",
       "  <tbody>\n",
       "    <tr>\n",
       "      <th>0</th>\n",
       "      <td>1</td>\n",
       "      <td>2020-10-01</td>\n",
       "      <td>2020-10-05</td>\n",
       "      <td>2020-10-05</td>\n",
       "      <td>2020-10-04</td>\n",
       "      <td>20s</td>\n",
       "      <td>FEMALE</td>\n",
       "      <td>CC</td>\n",
       "      <td>Resolved</td>\n",
       "      <td>NaN</td>\n",
       "      <td>Peel Public Health</td>\n",
       "      <td>7120 Hurontario Street</td>\n",
       "      <td>Mississauga</td>\n",
       "      <td>L5W 1N4</td>\n",
       "      <td>www.peelregion.ca/health/</td>\n",
       "      <td>43.647471</td>\n",
       "      <td>-79.708893</td>\n",
       "      <td>4.0</td>\n",
       "    </tr>\n",
       "    <tr>\n",
       "      <th>1</th>\n",
       "      <td>2</td>\n",
       "      <td>2020-08-10</td>\n",
       "      <td>2020-08-13</td>\n",
       "      <td>2020-08-13</td>\n",
       "      <td>2020-08-10</td>\n",
       "      <td>40s</td>\n",
       "      <td>FEMALE</td>\n",
       "      <td>OB</td>\n",
       "      <td>Resolved</td>\n",
       "      <td>NaN</td>\n",
       "      <td>York Region Public Health Services</td>\n",
       "      <td>17250 Yonge Street</td>\n",
       "      <td>Newmarket</td>\n",
       "      <td>L3Y 6Z1</td>\n",
       "      <td>www.york.ca/wps/portal/yorkhome/health/</td>\n",
       "      <td>44.048023</td>\n",
       "      <td>-79.480239</td>\n",
       "      <td>3.0</td>\n",
       "    </tr>\n",
       "    <tr>\n",
       "      <th>2</th>\n",
       "      <td>3</td>\n",
       "      <td>2020-10-07</td>\n",
       "      <td>2020-10-09</td>\n",
       "      <td>2020-10-09</td>\n",
       "      <td>2020-10-09</td>\n",
       "      <td>40s</td>\n",
       "      <td>FEMALE</td>\n",
       "      <td>CC</td>\n",
       "      <td>Not Resolved</td>\n",
       "      <td>NaN</td>\n",
       "      <td>Windsor-Essex County Health Unit</td>\n",
       "      <td>1005 Ouellette Avenue</td>\n",
       "      <td>Windsor</td>\n",
       "      <td>N9A 4J8</td>\n",
       "      <td>www.wechu.org</td>\n",
       "      <td>42.308796</td>\n",
       "      <td>-83.033670</td>\n",
       "      <td>2.0</td>\n",
       "    </tr>\n",
       "    <tr>\n",
       "      <th>3</th>\n",
       "      <td>4</td>\n",
       "      <td>2020-10-06</td>\n",
       "      <td>2020-10-10</td>\n",
       "      <td>2020-10-10</td>\n",
       "      <td>2020-10-06</td>\n",
       "      <td>40s</td>\n",
       "      <td>FEMALE</td>\n",
       "      <td>Missing Information</td>\n",
       "      <td>Not Resolved</td>\n",
       "      <td>NaN</td>\n",
       "      <td>York Region Public Health Services</td>\n",
       "      <td>17250 Yonge Street</td>\n",
       "      <td>Newmarket</td>\n",
       "      <td>L3Y 6Z1</td>\n",
       "      <td>www.york.ca/wps/portal/yorkhome/health/</td>\n",
       "      <td>44.048023</td>\n",
       "      <td>-79.480239</td>\n",
       "      <td>4.0</td>\n",
       "    </tr>\n",
       "    <tr>\n",
       "      <th>4</th>\n",
       "      <td>5</td>\n",
       "      <td>2020-08-20</td>\n",
       "      <td>2020-08-24</td>\n",
       "      <td>2020-08-24</td>\n",
       "      <td>2020-08-24</td>\n",
       "      <td>80s</td>\n",
       "      <td>FEMALE</td>\n",
       "      <td>No known epi link</td>\n",
       "      <td>Resolved</td>\n",
       "      <td>NaN</td>\n",
       "      <td>Peel Public Health</td>\n",
       "      <td>7120 Hurontario Street</td>\n",
       "      <td>Mississauga</td>\n",
       "      <td>L5W 1N4</td>\n",
       "      <td>www.peelregion.ca/health/</td>\n",
       "      <td>43.647471</td>\n",
       "      <td>-79.708893</td>\n",
       "      <td>4.0</td>\n",
       "    </tr>\n",
       "  </tbody>\n",
       "</table>\n",
       "</div>"
      ],
      "text/plain": [
       "   Row_ID Accurate_Episode_Date Case_Reported_Date Test_Reported_Date  \\\n",
       "0       1            2020-10-01         2020-10-05         2020-10-05   \n",
       "1       2            2020-08-10         2020-08-13         2020-08-13   \n",
       "2       3            2020-10-07         2020-10-09         2020-10-09   \n",
       "3       4            2020-10-06         2020-10-10         2020-10-10   \n",
       "4       5            2020-08-20         2020-08-24         2020-08-24   \n",
       "\n",
       "  Specimen_Date Age_Group Client_Gender Case_AcquisitionInfo      Outcome1  \\\n",
       "0    2020-10-04       20s        FEMALE                   CC      Resolved   \n",
       "1    2020-08-10       40s        FEMALE                   OB      Resolved   \n",
       "2    2020-10-09       40s        FEMALE                   CC  Not Resolved   \n",
       "3    2020-10-06       40s        FEMALE  Missing Information  Not Resolved   \n",
       "4    2020-08-24       80s        FEMALE    No known epi link      Resolved   \n",
       "\n",
       "  Outbreak_Related                       Reporting_PHU  \\\n",
       "0              NaN                  Peel Public Health   \n",
       "1              NaN  York Region Public Health Services   \n",
       "2              NaN    Windsor-Essex County Health Unit   \n",
       "3              NaN  York Region Public Health Services   \n",
       "4              NaN                  Peel Public Health   \n",
       "\n",
       "    Reporting_PHU_Address Reporting_PHU_City Reporting_PHU_Postal_Code  \\\n",
       "0  7120 Hurontario Street        Mississauga                   L5W 1N4   \n",
       "1      17250 Yonge Street          Newmarket                   L3Y 6Z1   \n",
       "2   1005 Ouellette Avenue            Windsor                   N9A 4J8   \n",
       "3      17250 Yonge Street          Newmarket                   L3Y 6Z1   \n",
       "4  7120 Hurontario Street        Mississauga                   L5W 1N4   \n",
       "\n",
       "                      Reporting_PHU_Website  Reporting_PHU_Latitude  \\\n",
       "0                 www.peelregion.ca/health/               43.647471   \n",
       "1  www.york.ca/wps/portal/yorkhome/health/                44.048023   \n",
       "2                             www.wechu.org               42.308796   \n",
       "3  www.york.ca/wps/portal/yorkhome/health/                44.048023   \n",
       "4                 www.peelregion.ca/health/               43.647471   \n",
       "\n",
       "   Reporting_PHU_Longitude  lag  \n",
       "0               -79.708893  4.0  \n",
       "1               -79.480239  3.0  \n",
       "2               -83.033670  2.0  \n",
       "3               -79.480239  4.0  \n",
       "4               -79.708893  4.0  "
      ]
     },
     "execution_count": 77,
     "metadata": {},
     "output_type": "execute_result"
    }
   ],
   "source": [
    "pos_data.head()"
   ]
  },
  {
   "cell_type": "markdown",
   "metadata": {},
   "source": [
    "Notes:\n",
    "All these cases are positive\n",
    "\n",
    "1. Accurate_Episode_Date - when symptoms started\n",
    "2. Case_Reported_Date - when case was reported\n",
    "3. Test_Reported_Date - when test results reported\n",
    "4. Specimen_Date - earliest date of the case sent to lab (backlog)\n",
    "\n",
    "Accurate_Episode_Date < Specimen_Date < Case_Reported_Date < Test_Reported_Date"
   ]
  },
  {
   "cell_type": "code",
   "execution_count": 78,
   "metadata": {},
   "outputs": [
    {
     "data": {
      "text/html": [
       "<div>\n",
       "<style scoped>\n",
       "    .dataframe tbody tr th:only-of-type {\n",
       "        vertical-align: middle;\n",
       "    }\n",
       "\n",
       "    .dataframe tbody tr th {\n",
       "        vertical-align: top;\n",
       "    }\n",
       "\n",
       "    .dataframe thead th {\n",
       "        text-align: right;\n",
       "    }\n",
       "</style>\n",
       "<table border=\"1\" class=\"dataframe\">\n",
       "  <thead>\n",
       "    <tr style=\"text-align: right;\">\n",
       "      <th></th>\n",
       "      <th>date</th>\n",
       "      <th>onset</th>\n",
       "      <th>mean_lag</th>\n",
       "    </tr>\n",
       "  </thead>\n",
       "  <tbody>\n",
       "    <tr>\n",
       "      <th>0</th>\n",
       "      <td>2020-09-28</td>\n",
       "      <td>790</td>\n",
       "      <td>5.005135</td>\n",
       "    </tr>\n",
       "    <tr>\n",
       "      <th>1</th>\n",
       "      <td>2020-09-29</td>\n",
       "      <td>734</td>\n",
       "      <td>4.490305</td>\n",
       "    </tr>\n",
       "    <tr>\n",
       "      <th>2</th>\n",
       "      <td>2020-09-25</td>\n",
       "      <td>723</td>\n",
       "      <td>5.014045</td>\n",
       "    </tr>\n",
       "    <tr>\n",
       "      <th>3</th>\n",
       "      <td>2020-09-30</td>\n",
       "      <td>694</td>\n",
       "      <td>4.861314</td>\n",
       "    </tr>\n",
       "    <tr>\n",
       "      <th>4</th>\n",
       "      <td>2020-04-17</td>\n",
       "      <td>680</td>\n",
       "      <td>7.002959</td>\n",
       "    </tr>\n",
       "  </tbody>\n",
       "</table>\n",
       "</div>"
      ],
      "text/plain": [
       "        date  onset  mean_lag\n",
       "0 2020-09-28    790  5.005135\n",
       "1 2020-09-29    734  4.490305\n",
       "2 2020-09-25    723  5.014045\n",
       "3 2020-09-30    694  4.861314\n",
       "4 2020-04-17    680  7.002959"
      ]
     },
     "execution_count": 78,
     "metadata": {},
     "output_type": "execute_result"
    }
   ],
   "source": [
    "onset_data.head()"
   ]
  },
  {
   "cell_type": "code",
   "execution_count": 79,
   "metadata": {},
   "outputs": [
    {
     "data": {
      "text/html": [
       "<div>\n",
       "<style scoped>\n",
       "    .dataframe tbody tr th:only-of-type {\n",
       "        vertical-align: middle;\n",
       "    }\n",
       "\n",
       "    .dataframe tbody tr th {\n",
       "        vertical-align: top;\n",
       "    }\n",
       "\n",
       "    .dataframe thead th {\n",
       "        text-align: right;\n",
       "    }\n",
       "</style>\n",
       "<table border=\"1\" class=\"dataframe\">\n",
       "  <thead>\n",
       "    <tr style=\"text-align: right;\">\n",
       "      <th></th>\n",
       "      <th>date</th>\n",
       "      <th>onset</th>\n",
       "      <th>mean_lag</th>\n",
       "    </tr>\n",
       "  </thead>\n",
       "  <tbody>\n",
       "    <tr>\n",
       "      <th>252</th>\n",
       "      <td>2019-12-25</td>\n",
       "      <td>1</td>\n",
       "      <td>95.000000</td>\n",
       "    </tr>\n",
       "    <tr>\n",
       "      <th>238</th>\n",
       "      <td>2020-01-01</td>\n",
       "      <td>3</td>\n",
       "      <td>177.666667</td>\n",
       "    </tr>\n",
       "    <tr>\n",
       "      <th>247</th>\n",
       "      <td>2020-01-10</td>\n",
       "      <td>1</td>\n",
       "      <td>152.000000</td>\n",
       "    </tr>\n",
       "    <tr>\n",
       "      <th>256</th>\n",
       "      <td>2020-01-16</td>\n",
       "      <td>1</td>\n",
       "      <td>266.000000</td>\n",
       "    </tr>\n",
       "    <tr>\n",
       "      <th>250</th>\n",
       "      <td>2020-01-21</td>\n",
       "      <td>1</td>\n",
       "      <td>6.000000</td>\n",
       "    </tr>\n",
       "    <tr>\n",
       "      <th>...</th>\n",
       "      <td>...</td>\n",
       "      <td>...</td>\n",
       "      <td>...</td>\n",
       "    </tr>\n",
       "    <tr>\n",
       "      <th>58</th>\n",
       "      <td>2020-10-12</td>\n",
       "      <td>395</td>\n",
       "      <td>1.658974</td>\n",
       "    </tr>\n",
       "    <tr>\n",
       "      <th>38</th>\n",
       "      <td>2020-10-13</td>\n",
       "      <td>457</td>\n",
       "      <td>1.441648</td>\n",
       "    </tr>\n",
       "    <tr>\n",
       "      <th>84</th>\n",
       "      <td>2020-10-14</td>\n",
       "      <td>322</td>\n",
       "      <td>1.165605</td>\n",
       "    </tr>\n",
       "    <tr>\n",
       "      <th>193</th>\n",
       "      <td>2020-10-15</td>\n",
       "      <td>104</td>\n",
       "      <td>0.587629</td>\n",
       "    </tr>\n",
       "    <tr>\n",
       "      <th>229</th>\n",
       "      <td>2020-10-16</td>\n",
       "      <td>8</td>\n",
       "      <td>-0.500000</td>\n",
       "    </tr>\n",
       "  </tbody>\n",
       "</table>\n",
       "<p>258 rows × 3 columns</p>\n",
       "</div>"
      ],
      "text/plain": [
       "          date  onset    mean_lag\n",
       "252 2019-12-25      1   95.000000\n",
       "238 2020-01-01      3  177.666667\n",
       "247 2020-01-10      1  152.000000\n",
       "256 2020-01-16      1  266.000000\n",
       "250 2020-01-21      1    6.000000\n",
       "..         ...    ...         ...\n",
       "58  2020-10-12    395    1.658974\n",
       "38  2020-10-13    457    1.441648\n",
       "84  2020-10-14    322    1.165605\n",
       "193 2020-10-15    104    0.587629\n",
       "229 2020-10-16      8   -0.500000\n",
       "\n",
       "[258 rows x 3 columns]"
      ]
     },
     "execution_count": 79,
     "metadata": {},
     "output_type": "execute_result"
    }
   ],
   "source": [
    "onset_data.sort_values('date')"
   ]
  },
  {
   "cell_type": "code",
   "execution_count": 80,
   "metadata": {},
   "outputs": [],
   "source": [
    "mean_lag = onset_data[['date', 'mean_lag']]"
   ]
  },
  {
   "cell_type": "code",
   "execution_count": 81,
   "metadata": {},
   "outputs": [],
   "source": [
    "data3 = on2[on2.date > '2020-03-10']"
   ]
  },
  {
   "cell_type": "code",
   "execution_count": null,
   "metadata": {},
   "outputs": [],
   "source": []
  },
  {
   "cell_type": "code",
   "execution_count": 82,
   "metadata": {},
   "outputs": [
    {
     "name": "stderr",
     "output_type": "stream",
     "text": [
      "/Users/stephenbrock/anaconda3/lib/python3.6/site-packages/ipykernel_launcher.py:1: SettingWithCopyWarning: \n",
      "A value is trying to be set on a copy of a slice from a DataFrame.\n",
      "Try using .loc[row_indexer,col_indexer] = value instead\n",
      "\n",
      "See the caveats in the documentation: https://pandas.pydata.org/pandas-docs/stable/user_guide/indexing.html#returning-a-view-versus-a-copy\n",
      "  \"\"\"Entry point for launching an IPython kernel.\n"
     ]
    }
   ],
   "source": [
    "\n",
    "data3['date'] = pd.to_datetime(data3['date'])"
   ]
  },
  {
   "cell_type": "code",
   "execution_count": 83,
   "metadata": {},
   "outputs": [],
   "source": [
    "data3 = data3.merge(mean_lag, how='left', on='date')"
   ]
  },
  {
   "cell_type": "code",
   "execution_count": 84,
   "metadata": {},
   "outputs": [
    {
     "data": {
      "text/plain": [
       "Index(['date', 'key_apple_mobility', 'key_google_mobility', 'id', 'tests',\n",
       "       'confirmed', 'recovered', 'deaths', 'hosp', 'vent', 'icu', 'population',\n",
       "       'school_closing', 'workplace_closing', 'cancel_events',\n",
       "       'gatherings_restrictions', 'transport_closing',\n",
       "       'stay_home_restrictions', 'internal_movement_restrictions',\n",
       "       'international_movement_restrictions', 'information_campaigns',\n",
       "       'testing_policy', 'contact_tracing', 'stringency_index', 'iso_alpha_3',\n",
       "       'iso_alpha_2', 'iso_numeric', 'currency', 'administrative_area_level',\n",
       "       'administrative_area_level_1', 'administrative_area_level_2',\n",
       "       'administrative_area_level_3', 'latitude', 'longitude', 'key',\n",
       "       'key_alpha_2', 'key_numeric', 'metro_area', 'iso_3166_2_code',\n",
       "       'census_fips_code',\n",
       "       'retail_and_recreation_percent_change_from_baseline',\n",
       "       'grocery_and_pharmacy_percent_change_from_baseline',\n",
       "       'parks_percent_change_from_baseline',\n",
       "       'transit_stations_percent_change_from_baseline',\n",
       "       'workplaces_percent_change_from_baseline',\n",
       "       'residential_percent_change_from_baseline', 'driving', 'walking',\n",
       "       'transit', 'new', 'mean_lag'],\n",
       "      dtype='object')"
      ]
     },
     "execution_count": 84,
     "metadata": {},
     "output_type": "execute_result"
    }
   ],
   "source": [
    "data3.columns"
   ]
  },
  {
   "cell_type": "code",
   "execution_count": 85,
   "metadata": {},
   "outputs": [
    {
     "data": {
      "text/html": [
       "<div>\n",
       "<style scoped>\n",
       "    .dataframe tbody tr th:only-of-type {\n",
       "        vertical-align: middle;\n",
       "    }\n",
       "\n",
       "    .dataframe tbody tr th {\n",
       "        vertical-align: top;\n",
       "    }\n",
       "\n",
       "    .dataframe thead th {\n",
       "        text-align: right;\n",
       "    }\n",
       "</style>\n",
       "<table border=\"1\" class=\"dataframe\">\n",
       "  <thead>\n",
       "    <tr style=\"text-align: right;\">\n",
       "      <th></th>\n",
       "      <th>date</th>\n",
       "      <th>key_apple_mobility</th>\n",
       "      <th>key_google_mobility</th>\n",
       "      <th>id</th>\n",
       "      <th>tests</th>\n",
       "      <th>confirmed</th>\n",
       "      <th>recovered</th>\n",
       "      <th>deaths</th>\n",
       "      <th>hosp</th>\n",
       "      <th>vent</th>\n",
       "      <th>...</th>\n",
       "      <th>grocery_and_pharmacy_percent_change_from_baseline</th>\n",
       "      <th>parks_percent_change_from_baseline</th>\n",
       "      <th>transit_stations_percent_change_from_baseline</th>\n",
       "      <th>workplaces_percent_change_from_baseline</th>\n",
       "      <th>residential_percent_change_from_baseline</th>\n",
       "      <th>driving</th>\n",
       "      <th>walking</th>\n",
       "      <th>transit</th>\n",
       "      <th>new</th>\n",
       "      <th>mean_lag</th>\n",
       "    </tr>\n",
       "  </thead>\n",
       "  <tbody>\n",
       "    <tr>\n",
       "      <th>0</th>\n",
       "      <td>2020-03-11</td>\n",
       "      <td>Ontario</td>\n",
       "      <td>CA, Ontario</td>\n",
       "      <td>83fc0fa9</td>\n",
       "      <td>3394.0</td>\n",
       "      <td>42</td>\n",
       "      <td>NaN</td>\n",
       "      <td>1</td>\n",
       "      <td>NaN</td>\n",
       "      <td>NaN</td>\n",
       "      <td>...</td>\n",
       "      <td>7.0</td>\n",
       "      <td>1.0</td>\n",
       "      <td>-5.0</td>\n",
       "      <td>2.0</td>\n",
       "      <td>1.0</td>\n",
       "      <td>101.30</td>\n",
       "      <td>100.64</td>\n",
       "      <td>88.14</td>\n",
       "      <td>8.0</td>\n",
       "      <td>14.563107</td>\n",
       "    </tr>\n",
       "    <tr>\n",
       "      <th>1</th>\n",
       "      <td>2020-03-12</td>\n",
       "      <td>Ontario</td>\n",
       "      <td>CA, Ontario</td>\n",
       "      <td>83fc0fa9</td>\n",
       "      <td>4185.0</td>\n",
       "      <td>59</td>\n",
       "      <td>NaN</td>\n",
       "      <td>1</td>\n",
       "      <td>NaN</td>\n",
       "      <td>NaN</td>\n",
       "      <td>...</td>\n",
       "      <td>32.0</td>\n",
       "      <td>9.0</td>\n",
       "      <td>-6.0</td>\n",
       "      <td>1.0</td>\n",
       "      <td>1.0</td>\n",
       "      <td>98.61</td>\n",
       "      <td>96.65</td>\n",
       "      <td>82.08</td>\n",
       "      <td>17.0</td>\n",
       "      <td>14.393701</td>\n",
       "    </tr>\n",
       "    <tr>\n",
       "      <th>2</th>\n",
       "      <td>2020-03-13</td>\n",
       "      <td>Ontario</td>\n",
       "      <td>CA, Ontario</td>\n",
       "      <td>83fc0fa9</td>\n",
       "      <td>4185.0</td>\n",
       "      <td>79</td>\n",
       "      <td>NaN</td>\n",
       "      <td>1</td>\n",
       "      <td>NaN</td>\n",
       "      <td>NaN</td>\n",
       "      <td>...</td>\n",
       "      <td>41.0</td>\n",
       "      <td>-7.0</td>\n",
       "      <td>-16.0</td>\n",
       "      <td>-4.0</td>\n",
       "      <td>3.0</td>\n",
       "      <td>101.36</td>\n",
       "      <td>95.71</td>\n",
       "      <td>74.12</td>\n",
       "      <td>20.0</td>\n",
       "      <td>18.269737</td>\n",
       "    </tr>\n",
       "    <tr>\n",
       "      <th>3</th>\n",
       "      <td>2020-03-14</td>\n",
       "      <td>Ontario</td>\n",
       "      <td>CA, Ontario</td>\n",
       "      <td>83fc0fa9</td>\n",
       "      <td>6646.0</td>\n",
       "      <td>79</td>\n",
       "      <td>NaN</td>\n",
       "      <td>1</td>\n",
       "      <td>NaN</td>\n",
       "      <td>NaN</td>\n",
       "      <td>...</td>\n",
       "      <td>26.0</td>\n",
       "      <td>5.0</td>\n",
       "      <td>-17.0</td>\n",
       "      <td>0.0</td>\n",
       "      <td>3.0</td>\n",
       "      <td>86.36</td>\n",
       "      <td>96.90</td>\n",
       "      <td>59.10</td>\n",
       "      <td>0.0</td>\n",
       "      <td>14.159722</td>\n",
       "    </tr>\n",
       "    <tr>\n",
       "      <th>4</th>\n",
       "      <td>2020-03-15</td>\n",
       "      <td>Ontario</td>\n",
       "      <td>CA, Ontario</td>\n",
       "      <td>83fc0fa9</td>\n",
       "      <td>8461.0</td>\n",
       "      <td>103</td>\n",
       "      <td>NaN</td>\n",
       "      <td>1</td>\n",
       "      <td>NaN</td>\n",
       "      <td>NaN</td>\n",
       "      <td>...</td>\n",
       "      <td>14.0</td>\n",
       "      <td>44.0</td>\n",
       "      <td>-22.0</td>\n",
       "      <td>-6.0</td>\n",
       "      <td>4.0</td>\n",
       "      <td>66.59</td>\n",
       "      <td>67.40</td>\n",
       "      <td>47.37</td>\n",
       "      <td>24.0</td>\n",
       "      <td>14.735450</td>\n",
       "    </tr>\n",
       "  </tbody>\n",
       "</table>\n",
       "<p>5 rows × 51 columns</p>\n",
       "</div>"
      ],
      "text/plain": [
       "        date key_apple_mobility key_google_mobility        id   tests  \\\n",
       "0 2020-03-11            Ontario         CA, Ontario  83fc0fa9  3394.0   \n",
       "1 2020-03-12            Ontario         CA, Ontario  83fc0fa9  4185.0   \n",
       "2 2020-03-13            Ontario         CA, Ontario  83fc0fa9  4185.0   \n",
       "3 2020-03-14            Ontario         CA, Ontario  83fc0fa9  6646.0   \n",
       "4 2020-03-15            Ontario         CA, Ontario  83fc0fa9  8461.0   \n",
       "\n",
       "   confirmed  recovered  deaths  hosp  vent  ...  \\\n",
       "0         42        NaN       1   NaN   NaN  ...   \n",
       "1         59        NaN       1   NaN   NaN  ...   \n",
       "2         79        NaN       1   NaN   NaN  ...   \n",
       "3         79        NaN       1   NaN   NaN  ...   \n",
       "4        103        NaN       1   NaN   NaN  ...   \n",
       "\n",
       "   grocery_and_pharmacy_percent_change_from_baseline  \\\n",
       "0                                                7.0   \n",
       "1                                               32.0   \n",
       "2                                               41.0   \n",
       "3                                               26.0   \n",
       "4                                               14.0   \n",
       "\n",
       "   parks_percent_change_from_baseline  \\\n",
       "0                                 1.0   \n",
       "1                                 9.0   \n",
       "2                                -7.0   \n",
       "3                                 5.0   \n",
       "4                                44.0   \n",
       "\n",
       "   transit_stations_percent_change_from_baseline  \\\n",
       "0                                           -5.0   \n",
       "1                                           -6.0   \n",
       "2                                          -16.0   \n",
       "3                                          -17.0   \n",
       "4                                          -22.0   \n",
       "\n",
       "   workplaces_percent_change_from_baseline  \\\n",
       "0                                      2.0   \n",
       "1                                      1.0   \n",
       "2                                     -4.0   \n",
       "3                                      0.0   \n",
       "4                                     -6.0   \n",
       "\n",
       "   residential_percent_change_from_baseline  driving  walking  transit   new  \\\n",
       "0                                       1.0   101.30   100.64    88.14   8.0   \n",
       "1                                       1.0    98.61    96.65    82.08  17.0   \n",
       "2                                       3.0   101.36    95.71    74.12  20.0   \n",
       "3                                       3.0    86.36    96.90    59.10   0.0   \n",
       "4                                       4.0    66.59    67.40    47.37  24.0   \n",
       "\n",
       "    mean_lag  \n",
       "0  14.563107  \n",
       "1  14.393701  \n",
       "2  18.269737  \n",
       "3  14.159722  \n",
       "4  14.735450  \n",
       "\n",
       "[5 rows x 51 columns]"
      ]
     },
     "execution_count": 85,
     "metadata": {},
     "output_type": "execute_result"
    }
   ],
   "source": [
    "data3.head()"
   ]
  },
  {
   "cell_type": "code",
   "execution_count": 86,
   "metadata": {},
   "outputs": [
    {
     "data": {
      "text/plain": [
       "(217, 51)"
      ]
     },
     "execution_count": 86,
     "metadata": {},
     "output_type": "execute_result"
    }
   ],
   "source": [
    "data3.shape"
   ]
  },
  {
   "cell_type": "code",
   "execution_count": 87,
   "metadata": {},
   "outputs": [
    {
     "data": {
      "text/plain": [
       "Index(['date', 'key_apple_mobility', 'key_google_mobility', 'id', 'tests',\n",
       "       'confirmed', 'recovered', 'deaths', 'hosp', 'vent', 'icu', 'population',\n",
       "       'school_closing', 'workplace_closing', 'cancel_events',\n",
       "       'gatherings_restrictions', 'transport_closing',\n",
       "       'stay_home_restrictions', 'internal_movement_restrictions',\n",
       "       'international_movement_restrictions', 'information_campaigns',\n",
       "       'testing_policy', 'contact_tracing', 'stringency_index', 'iso_alpha_3',\n",
       "       'iso_alpha_2', 'iso_numeric', 'currency', 'administrative_area_level',\n",
       "       'administrative_area_level_1', 'administrative_area_level_2',\n",
       "       'administrative_area_level_3', 'latitude', 'longitude', 'key',\n",
       "       'key_alpha_2', 'key_numeric', 'metro_area', 'iso_3166_2_code',\n",
       "       'census_fips_code',\n",
       "       'retail_and_recreation_percent_change_from_baseline',\n",
       "       'grocery_and_pharmacy_percent_change_from_baseline',\n",
       "       'parks_percent_change_from_baseline',\n",
       "       'transit_stations_percent_change_from_baseline',\n",
       "       'workplaces_percent_change_from_baseline',\n",
       "       'residential_percent_change_from_baseline', 'driving', 'walking',\n",
       "       'transit', 'new', 'mean_lag'],\n",
       "      dtype='object')"
      ]
     },
     "execution_count": 87,
     "metadata": {},
     "output_type": "execute_result"
    }
   ],
   "source": [
    "data3.columns"
   ]
  },
  {
   "cell_type": "code",
   "execution_count": 88,
   "metadata": {},
   "outputs": [],
   "source": [
    "new_set = ['school_closing', \n",
    "           'workplace_closing', \n",
    "           'cancel_events',\n",
    "           'gatherings_restrictions',\n",
    "           #'stay_home_restrictions', \n",
    "           #'internal_movement_restrictions',\n",
    "           'international_movement_restrictions',\n",
    "           #'information_campaigns',\n",
    "           'retail_and_recreation_percent_change_from_baseline',\n",
    "           'grocery_and_pharmacy_percent_change_from_baseline',\n",
    "           #'parks_percent_change_from_baseline',\n",
    "           'transit_stations_percent_change_from_baseline',\n",
    "           'workplaces_percent_change_from_baseline',\n",
    "           #'residential_percent_change_from_baseline', \n",
    "           'day_num', \n",
    "           'constant',\n",
    "           'mean_lag',\n",
    "           'new']\n",
    "\n",
    "new_set2 = ['school_closing', \n",
    "           'workplace_closing', \n",
    "           'cancel_events',\n",
    "           'gatherings_restrictions',\n",
    "           #'stay_home_restrictions', \n",
    "           #'internal_movement_restrictions',\n",
    "           'international_movement_restrictions',\n",
    "           #'information_campaigns',\n",
    "           'retail_and_recreation_percent_change_from_baseline',\n",
    "           'grocery_and_pharmacy_percent_change_from_baseline',\n",
    "           #'parks_percent_change_from_baseline',\n",
    "           'transit_stations_percent_change_from_baseline',\n",
    "           'workplaces_percent_change_from_baseline',\n",
    "           #'residential_percent_change_from_baseline', \n",
    "           #'day_num', \n",
    "           'constant',\n",
    "           'mean_lag',\n",
    "           'new',\n",
    "           'new_lag7', '3d_SMA', '3d_SMA_lag7']"
   ]
  },
  {
   "cell_type": "code",
   "execution_count": 89,
   "metadata": {},
   "outputs": [],
   "source": [
    "\n",
    "data3['new_lag7'] = data3['new'].shift(-7).values\n",
    "data3['3d_SMA'] = data3['new'].rolling(window=3).mean()\n",
    "data3['3d_SMA_lag7'] = data3['3d_SMA'].shift(-7).values\n",
    "if 'constant' not in data3.columns:\n",
    "    data3.insert(0,'constant',np.array(data3.shape[0]*[1.0]))\n",
    "data3 = data3[new_set2]\n",
    "data3['day_num'] = day_num\n",
    "data3 = data3.dropna().reset_index(drop=True)\n",
    "\n",
    "\n",
    "\n",
    "X3 = data3[new_set[:-1]]\n",
    "new7 =  data3['new_lag7']\n",
    "sma_3d7 = data3['3d_SMA_lag7']"
   ]
  },
  {
   "cell_type": "code",
   "execution_count": 90,
   "metadata": {},
   "outputs": [
    {
     "name": "stdout",
     "output_type": "stream",
     "text": [
      "                            OLS Regression Results                            \n",
      "==============================================================================\n",
      "Dep. Variable:               new_lag7   R-squared:                       0.798\n",
      "Model:                            OLS   Adj. R-squared:                  0.787\n",
      "Method:                 Least Squares   F-statistic:                     76.93\n",
      "Date:                Thu, 05 Nov 2020   Prob (F-statistic):           3.53e-62\n",
      "Time:                        09:22:11   Log-Likelihood:                -1200.5\n",
      "No. Observations:                 206   AIC:                             2423.\n",
      "Df Residuals:                     195   BIC:                             2460.\n",
      "Df Model:                          10                                         \n",
      "Covariance Type:            nonrobust                                         \n",
      "======================================================================================================================\n",
      "                                                         coef    std err          t      P>|t|      [0.025      0.975]\n",
      "----------------------------------------------------------------------------------------------------------------------\n",
      "school_closing                                      -260.4810     28.827     -9.036      0.000    -317.333    -203.628\n",
      "workplace_closing                                     35.8514     20.459      1.752      0.081      -4.498      76.201\n",
      "cancel_events                                       -131.8062     45.551     -2.894      0.004    -221.642     -41.970\n",
      "gatherings_restrictions                              177.4386     38.975      4.553      0.000     100.572     254.305\n",
      "international_movement_restrictions                  -67.1413     19.092     -3.517      0.001    -104.794     -29.488\n",
      "retail_and_recreation_percent_change_from_baseline   -13.6874      2.085     -6.566      0.000     -17.798      -9.576\n",
      "grocery_and_pharmacy_percent_change_from_baseline      6.9286      1.360      5.095      0.000       4.247       9.611\n",
      "transit_stations_percent_change_from_baseline         -9.4260      2.593     -3.635      0.000     -14.541      -4.311\n",
      "workplaces_percent_change_from_baseline                4.6738      1.103      4.236      0.000       2.498       6.850\n",
      "day_num                                                1.4636      0.448      3.264      0.001       0.579       2.348\n",
      "constant                                             -65.9031     22.776     -2.894      0.004    -110.821     -20.985\n",
      "mean_lag                                               0.8646      4.514      0.192      0.848      -8.038       9.768\n",
      "==============================================================================\n",
      "Omnibus:                       21.899   Durbin-Watson:                   1.321\n",
      "Prob(Omnibus):                  0.000   Jarque-Bera (JB):               27.962\n",
      "Skew:                           0.710   Prob(JB):                     8.47e-07\n",
      "Kurtosis:                       4.113   Cond. No.                     2.18e+17\n",
      "==============================================================================\n",
      "\n",
      "Notes:\n",
      "[1] Standard Errors assume that the covariance matrix of the errors is correctly specified.\n",
      "[2] The smallest eigenvalue is 7.97e-29. This might indicate that there are\n",
      "strong multicollinearity problems or that the design matrix is singular.\n"
     ]
    }
   ],
   "source": [
    "model3 = sm.OLS(new7,X3)\n",
    "res3 = model3.fit()\n",
    "print(res3.summary())"
   ]
  },
  {
   "cell_type": "code",
   "execution_count": 91,
   "metadata": {},
   "outputs": [
    {
     "name": "stdout",
     "output_type": "stream",
     "text": [
      "                            OLS Regression Results                            \n",
      "==============================================================================\n",
      "Dep. Variable:            3d_SMA_lag7   R-squared:                       0.855\n",
      "Model:                            OLS   Adj. R-squared:                  0.847\n",
      "Method:                 Least Squares   F-statistic:                     114.6\n",
      "Date:                Thu, 05 Nov 2020   Prob (F-statistic):           5.08e-76\n",
      "Time:                        09:22:12   Log-Likelihood:                -1156.8\n",
      "No. Observations:                 206   AIC:                             2336.\n",
      "Df Residuals:                     195   BIC:                             2372.\n",
      "Df Model:                          10                                         \n",
      "Covariance Type:            nonrobust                                         \n",
      "======================================================================================================================\n",
      "                                                         coef    std err          t      P>|t|      [0.025      0.975]\n",
      "----------------------------------------------------------------------------------------------------------------------\n",
      "school_closing                                      -258.8208     23.316    -11.101      0.000    -304.805    -212.837\n",
      "workplace_closing                                     32.3154     16.548      1.953      0.052      -0.320      64.951\n",
      "cancel_events                                        -91.8592     36.843     -2.493      0.013    -164.521     -19.197\n",
      "gatherings_restrictions                              168.5961     31.524      5.348      0.000     106.424     230.768\n",
      "international_movement_restrictions                  -71.6291     15.442     -4.639      0.000    -102.084     -41.174\n",
      "retail_and_recreation_percent_change_from_baseline   -13.1714      1.686     -7.812      0.000     -16.497      -9.846\n",
      "grocery_and_pharmacy_percent_change_from_baseline      6.8668      1.100      6.243      0.000       4.698       9.036\n",
      "transit_stations_percent_change_from_baseline        -11.1859      2.098     -5.333      0.000     -15.323      -7.049\n",
      "workplaces_percent_change_from_baseline                5.6540      0.892      6.336      0.000       3.894       7.414\n",
      "day_num                                                1.1186      0.363      3.084      0.002       0.403       1.834\n",
      "constant                                             -45.9296     18.422     -2.493      0.013     -82.261      -9.598\n",
      "mean_lag                                              -6.7950      3.651     -1.861      0.064     -13.996       0.406\n",
      "==============================================================================\n",
      "Omnibus:                       13.927   Durbin-Watson:                   0.750\n",
      "Prob(Omnibus):                  0.001   Jarque-Bera (JB):               21.221\n",
      "Skew:                           0.408   Prob(JB):                     2.47e-05\n",
      "Kurtosis:                       4.344   Cond. No.                     2.18e+17\n",
      "==============================================================================\n",
      "\n",
      "Notes:\n",
      "[1] Standard Errors assume that the covariance matrix of the errors is correctly specified.\n",
      "[2] The smallest eigenvalue is 7.97e-29. This might indicate that there are\n",
      "strong multicollinearity problems or that the design matrix is singular.\n"
     ]
    }
   ],
   "source": [
    "model4 = sm.OLS(sma_3d7,X3)\n",
    "res4 = model4.fit()\n",
    "print(res4.summary())"
   ]
  },
  {
   "cell_type": "code",
   "execution_count": 92,
   "metadata": {},
   "outputs": [],
   "source": [
    "# investigate a lag of 2 weeks\n",
    "# mean_lag effect"
   ]
  },
  {
   "cell_type": "markdown",
   "metadata": {},
   "source": [
    "### Ontario linear model performance\n",
    "\n",
    "To-do:\n",
    "- train/test split over data\n",
    "- check performance\n",
    "- see residual plot \n",
    "- see qq-plot"
   ]
  },
  {
   "cell_type": "code",
   "execution_count": 187,
   "metadata": {},
   "outputs": [
    {
     "name": "stdout",
     "output_type": "stream",
     "text": [
      "92.24367110221012\n",
      "80.47753850060822\n"
     ]
    }
   ],
   "source": [
    "from sklearn.model_selection import train_test_split\n",
    "from sklearn.metrics import mean_squared_error\n",
    "\n",
    "on_pop = 14.73e6  # from Google\n",
    "on_pop = 14.73 # million\n",
    "\n",
    "n = X3.shape[0]\n",
    "index_list = list(range(n))\n",
    "\n",
    "train_ind, test_ind = train_test_split(index_list, train_size=0.8, random_state=23)\n",
    "\n",
    "X3_train = X3[X3.index.isin(train_ind)]\n",
    "X3_test = X3[X3.index.isin(test_ind)]\n",
    "\n",
    "y7_train = new7[new7.index.isin(train_ind)] #/on_pop\n",
    "y7_test = new7[new7.index.isin(test_ind)] #/on_pop\n",
    "\n",
    "y3d7_train = sma_3d7[sma_3d7.index.isin(train_ind)] #/on_pop\n",
    "y3d7_test = sma_3d7[sma_3d7.index.isin(test_ind)] #/on_pop\n",
    "\n",
    "model_7 = sm.OLS(y7_train,X3_train)\n",
    "res_7 = model_7.fit()\n",
    "pred_7 = res_7.predict(X3_test)\n",
    "\n",
    "model_3d7 = sm.OLS(y3d7_train,X3_train)\n",
    "res_3d7 = model_3d7.fit()\n",
    "pred_3d7 = res_3d7.predict(X3_test)\n",
    "\n",
    "rmse_7 = mean_squared_error(y7_test, pred_7, squared=False)\n",
    "rmse_3d7 = mean_squared_error(y3d7_test, pred_3d7, squared=False)\n",
    "\n",
    "print(rmse_7)\n",
    "print(rmse_3d7)\n",
    "\n",
    "# rmse model 7, no pop = 92.24367110221012\n",
    "# rmse model 3d7, no pop = 80.47753850060822"
   ]
  },
  {
   "cell_type": "code",
   "execution_count": 188,
   "metadata": {},
   "outputs": [
    {
     "data": {
      "text/plain": [
       "Index(['school_closing', 'workplace_closing', 'cancel_events',\n",
       "       'gatherings_restrictions', 'international_movement_restrictions',\n",
       "       'retail_and_recreation_percent_change_from_baseline',\n",
       "       'grocery_and_pharmacy_percent_change_from_baseline',\n",
       "       'transit_stations_percent_change_from_baseline',\n",
       "       'workplaces_percent_change_from_baseline', 'day_num', 'constant',\n",
       "       'mean_lag'],\n",
       "      dtype='object')"
      ]
     },
     "execution_count": 188,
     "metadata": {},
     "output_type": "execute_result"
    }
   ],
   "source": [
    "X3_train.columns"
   ]
  },
  {
   "cell_type": "code",
   "execution_count": 94,
   "metadata": {},
   "outputs": [
    {
     "name": "stdout",
     "output_type": "stream",
     "text": [
      "94.45033032190992\n",
      "79.8842028918318\n"
     ]
    }
   ],
   "source": [
    "# poinson regression => predict log response and then exponentiate\n",
    "\n",
    "y7_train_log = np.log(y7_train+1)\n",
    "y7_test_log = np.log(y7_test+1)\n",
    "\n",
    "y3d7_train_log = np.log(y3d7_train+1)\n",
    "y3d7_test_log = np.log(y3d7_test+1)\n",
    "\n",
    "model_7_log = sm.OLS(y7_train_log,X3_train)\n",
    "res_7_log = model_7_log.fit()\n",
    "pred_7_log = res_7_log.predict(X3_test)\n",
    "\n",
    "model_3d7_log = sm.OLS(y3d7_train_log,X3_train)\n",
    "res_3d7_log = model_3d7_log.fit()\n",
    "pred_3d7_log = res_3d7_log.predict(X3_test)\n",
    "\n",
    "rmse_7_log = mean_squared_error(y7_test, np.exp(pred_7_log), squared=False)\n",
    "rmse_3d7_log = mean_squared_error(y3d7_test, np.exp(pred_3d7_log), squared=False)\n",
    "\n",
    "print(rmse_7_log)\n",
    "print(rmse_3d7_log)\n"
   ]
  },
  {
   "cell_type": "markdown",
   "metadata": {},
   "source": [
    "#### Notes\n",
    "- log does not improve predictions"
   ]
  },
  {
   "cell_type": "code",
   "execution_count": 95,
   "metadata": {},
   "outputs": [
    {
     "name": "stdout",
     "output_type": "stream",
     "text": [
      "8     5.101413\n",
      "14    5.969502\n",
      "18    5.948273\n",
      "19    5.815152\n",
      "20    5.874786\n",
      "24    6.055479\n",
      "30    6.532961\n",
      "44    6.365766\n",
      "46    6.010755\n",
      "51    6.000592\n",
      "dtype: float64\n",
      "8     4.876544\n",
      "14    5.923530\n",
      "18    5.965183\n",
      "19    5.819171\n",
      "20    5.918706\n",
      "24    6.046193\n",
      "30    6.434775\n",
      "44    6.306695\n",
      "46    5.988077\n",
      "51    5.925666\n",
      "dtype: float64\n"
     ]
    }
   ],
   "source": [
    "print(pred_7_log[:10])\n",
    "print(pred_3d7_log[:10])"
   ]
  },
  {
   "cell_type": "code",
   "execution_count": 104,
   "metadata": {},
   "outputs": [
    {
     "data": {
      "text/html": [
       "<table class=\"simpletable\">\n",
       "<caption>OLS Regression Results</caption>\n",
       "<tr>\n",
       "  <th>Dep. Variable:</th>        <td>new_lag7</td>     <th>  R-squared:         </th> <td>   0.796</td>\n",
       "</tr>\n",
       "<tr>\n",
       "  <th>Model:</th>                   <td>OLS</td>       <th>  Adj. R-squared:    </th> <td>   0.783</td>\n",
       "</tr>\n",
       "<tr>\n",
       "  <th>Method:</th>             <td>Least Squares</td>  <th>  F-statistic:       </th> <td>   59.85</td>\n",
       "</tr>\n",
       "<tr>\n",
       "  <th>Date:</th>             <td>Thu, 05 Nov 2020</td> <th>  Prob (F-statistic):</th> <td>8.76e-48</td>\n",
       "</tr>\n",
       "<tr>\n",
       "  <th>Time:</th>                 <td>09:26:54</td>     <th>  Log-Likelihood:    </th> <td> -952.26</td>\n",
       "</tr>\n",
       "<tr>\n",
       "  <th>No. Observations:</th>      <td>   164</td>      <th>  AIC:               </th> <td>   1927.</td>\n",
       "</tr>\n",
       "<tr>\n",
       "  <th>Df Residuals:</th>          <td>   153</td>      <th>  BIC:               </th> <td>   1961.</td>\n",
       "</tr>\n",
       "<tr>\n",
       "  <th>Df Model:</th>              <td>    10</td>      <th>                     </th>     <td> </td>   \n",
       "</tr>\n",
       "<tr>\n",
       "  <th>Covariance Type:</th>      <td>nonrobust</td>    <th>                     </th>     <td> </td>   \n",
       "</tr>\n",
       "</table>\n",
       "<table class=\"simpletable\">\n",
       "<tr>\n",
       "                           <td></td>                             <th>coef</th>     <th>std err</th>      <th>t</th>      <th>P>|t|</th>  <th>[0.025</th>    <th>0.975]</th>  \n",
       "</tr>\n",
       "<tr>\n",
       "  <th>school_closing</th>                                     <td> -218.5863</td> <td>   32.563</td> <td>   -6.713</td> <td> 0.000</td> <td> -282.918</td> <td> -154.254</td>\n",
       "</tr>\n",
       "<tr>\n",
       "  <th>workplace_closing</th>                                  <td>   33.9451</td> <td>   22.326</td> <td>    1.520</td> <td> 0.130</td> <td>  -10.161</td> <td>   78.051</td>\n",
       "</tr>\n",
       "<tr>\n",
       "  <th>cancel_events</th>                                      <td> -136.0154</td> <td>   49.121</td> <td>   -2.769</td> <td> 0.006</td> <td> -233.059</td> <td>  -38.972</td>\n",
       "</tr>\n",
       "<tr>\n",
       "  <th>gatherings_restrictions</th>                            <td>  117.6398</td> <td>   44.218</td> <td>    2.660</td> <td> 0.009</td> <td>   30.283</td> <td>  204.997</td>\n",
       "</tr>\n",
       "<tr>\n",
       "  <th>international_movement_restrictions</th>                <td>  -65.2963</td> <td>   20.374</td> <td>   -3.205</td> <td> 0.002</td> <td> -105.548</td> <td>  -25.045</td>\n",
       "</tr>\n",
       "<tr>\n",
       "  <th>retail_and_recreation_percent_change_from_baseline</th> <td>  -15.7669</td> <td>    2.328</td> <td>   -6.774</td> <td> 0.000</td> <td>  -20.365</td> <td>  -11.168</td>\n",
       "</tr>\n",
       "<tr>\n",
       "  <th>grocery_and_pharmacy_percent_change_from_baseline</th>  <td>    8.1112</td> <td>    1.526</td> <td>    5.316</td> <td> 0.000</td> <td>    5.097</td> <td>   11.125</td>\n",
       "</tr>\n",
       "<tr>\n",
       "  <th>transit_stations_percent_change_from_baseline</th>      <td>  -10.7696</td> <td>    2.870</td> <td>   -3.753</td> <td> 0.000</td> <td>  -16.439</td> <td>   -5.100</td>\n",
       "</tr>\n",
       "<tr>\n",
       "  <th>workplaces_percent_change_from_baseline</th>            <td>    5.4333</td> <td>    1.263</td> <td>    4.300</td> <td> 0.000</td> <td>    2.937</td> <td>    7.929</td>\n",
       "</tr>\n",
       "<tr>\n",
       "  <th>day_num</th>                                            <td>    1.9205</td> <td>    0.513</td> <td>    3.743</td> <td> 0.000</td> <td>    0.907</td> <td>    2.934</td>\n",
       "</tr>\n",
       "<tr>\n",
       "  <th>constant</th>                                           <td>  -68.0077</td> <td>   24.561</td> <td>   -2.769</td> <td> 0.006</td> <td> -116.530</td> <td>  -19.486</td>\n",
       "</tr>\n",
       "<tr>\n",
       "  <th>mean_lag</th>                                           <td>   -2.4763</td> <td>    4.935</td> <td>   -0.502</td> <td> 0.617</td> <td>  -12.227</td> <td>    7.274</td>\n",
       "</tr>\n",
       "</table>\n",
       "<table class=\"simpletable\">\n",
       "<tr>\n",
       "  <th>Omnibus:</th>       <td>26.907</td> <th>  Durbin-Watson:     </th> <td>   1.388</td>\n",
       "</tr>\n",
       "<tr>\n",
       "  <th>Prob(Omnibus):</th> <td> 0.000</td> <th>  Jarque-Bera (JB):  </th> <td>  39.432</td>\n",
       "</tr>\n",
       "<tr>\n",
       "  <th>Skew:</th>          <td> 0.896</td> <th>  Prob(JB):          </th> <td>2.74e-09</td>\n",
       "</tr>\n",
       "<tr>\n",
       "  <th>Kurtosis:</th>      <td> 4.599</td> <th>  Cond. No.          </th> <td>5.72e+17</td>\n",
       "</tr>\n",
       "</table><br/><br/>Notes:<br/>[1] Standard Errors assume that the covariance matrix of the errors is correctly specified.<br/>[2] The smallest eigenvalue is 9.14e-30. This might indicate that there are<br/>strong multicollinearity problems or that the design matrix is singular."
      ],
      "text/plain": [
       "<class 'statsmodels.iolib.summary.Summary'>\n",
       "\"\"\"\n",
       "                            OLS Regression Results                            \n",
       "==============================================================================\n",
       "Dep. Variable:               new_lag7   R-squared:                       0.796\n",
       "Model:                            OLS   Adj. R-squared:                  0.783\n",
       "Method:                 Least Squares   F-statistic:                     59.85\n",
       "Date:                Thu, 05 Nov 2020   Prob (F-statistic):           8.76e-48\n",
       "Time:                        09:26:54   Log-Likelihood:                -952.26\n",
       "No. Observations:                 164   AIC:                             1927.\n",
       "Df Residuals:                     153   BIC:                             1961.\n",
       "Df Model:                          10                                         \n",
       "Covariance Type:            nonrobust                                         \n",
       "======================================================================================================================\n",
       "                                                         coef    std err          t      P>|t|      [0.025      0.975]\n",
       "----------------------------------------------------------------------------------------------------------------------\n",
       "school_closing                                      -218.5863     32.563     -6.713      0.000    -282.918    -154.254\n",
       "workplace_closing                                     33.9451     22.326      1.520      0.130     -10.161      78.051\n",
       "cancel_events                                       -136.0154     49.121     -2.769      0.006    -233.059     -38.972\n",
       "gatherings_restrictions                              117.6398     44.218      2.660      0.009      30.283     204.997\n",
       "international_movement_restrictions                  -65.2963     20.374     -3.205      0.002    -105.548     -25.045\n",
       "retail_and_recreation_percent_change_from_baseline   -15.7669      2.328     -6.774      0.000     -20.365     -11.168\n",
       "grocery_and_pharmacy_percent_change_from_baseline      8.1112      1.526      5.316      0.000       5.097      11.125\n",
       "transit_stations_percent_change_from_baseline        -10.7696      2.870     -3.753      0.000     -16.439      -5.100\n",
       "workplaces_percent_change_from_baseline                5.4333      1.263      4.300      0.000       2.937       7.929\n",
       "day_num                                                1.9205      0.513      3.743      0.000       0.907       2.934\n",
       "constant                                             -68.0077     24.561     -2.769      0.006    -116.530     -19.486\n",
       "mean_lag                                              -2.4763      4.935     -0.502      0.617     -12.227       7.274\n",
       "==============================================================================\n",
       "Omnibus:                       26.907   Durbin-Watson:                   1.388\n",
       "Prob(Omnibus):                  0.000   Jarque-Bera (JB):               39.432\n",
       "Skew:                           0.896   Prob(JB):                     2.74e-09\n",
       "Kurtosis:                       4.599   Cond. No.                     5.72e+17\n",
       "==============================================================================\n",
       "\n",
       "Notes:\n",
       "[1] Standard Errors assume that the covariance matrix of the errors is correctly specified.\n",
       "[2] The smallest eigenvalue is 9.14e-30. This might indicate that there are\n",
       "strong multicollinearity problems or that the design matrix is singular.\n",
       "\"\"\""
      ]
     },
     "execution_count": 104,
     "metadata": {},
     "output_type": "execute_result"
    }
   ],
   "source": [
    "res_7.summary()"
   ]
  },
  {
   "cell_type": "code",
   "execution_count": 117,
   "metadata": {},
   "outputs": [
    {
     "data": {
      "text/plain": [
       "Text(0.5,1,'residual vs index')"
      ]
     },
     "execution_count": 117,
     "metadata": {},
     "output_type": "execute_result"
    },
    {
     "data": {
      "image/png": "[encoded data removed]",
      "text/plain": [
       "<matplotlib.figure.Figure at 0x7fb1fd887ef0>"
      ]
     },
     "metadata": {
      "needs_background": "light"
     },
     "output_type": "display_data"
    }
   ],
   "source": [
    "# check residual plot\n",
    "\n",
    "\n",
    "\n",
    "# train set residuals\n",
    "scat_x = list(range(len(y7_train)))\n",
    "scat_y = y7_train-res_7.predict(X3_train)\n",
    "plt.scatter(scat_x, scat_y)\n",
    "\n",
    "slope, intercept = np.polyfit(scat_x, scat_y, 1)\n",
    "abline_values = [slope * i + intercept for i in scat_x]\n",
    "\n",
    "plt.plot(scat_x, abline_values, 'b')\n",
    "plt.title('residual vs index')"
   ]
  },
  {
   "cell_type": "code",
   "execution_count": 108,
   "metadata": {},
   "outputs": [
    {
     "data": {
      "text/plain": [
       "0      -32.626999\n",
       "1      -52.927872\n",
       "2        4.663641\n",
       "3      148.928894\n",
       "4      -46.236372\n",
       "          ...    \n",
       "199     24.549880\n",
       "200    -48.875905\n",
       "201    -12.102764\n",
       "202    209.415304\n",
       "203    322.045516\n",
       "Length: 164, dtype: float64"
      ]
     },
     "execution_count": 108,
     "metadata": {},
     "output_type": "execute_result"
    }
   ],
   "source": [
    "# Some dummy data\n",
    "x = [1, 2, 3, 4, 5, 6, 7]\n",
    "y = [1, 3, 3, 2, 5, 7, 9]\n",
    "\n",
    "# Find the slope and intercept of the best fit line\n",
    "slope, intercept = np.polyfit(x, y, 1)\n",
    "\n",
    "# Create a list of values in the best fit line\n",
    "abline_values = [slope * i + intercept for i in x]\n",
    "\n",
    "# Plot the best fit line over the actual values\n",
    "plt.plot(x, y, '--')\n",
    "plt.plot(x, abline_values, 'b')\n",
    "plt.title(slope)\n",
    "plt.show()"
   ]
  },
  {
   "cell_type": "code",
   "execution_count": 126,
   "metadata": {},
   "outputs": [
    {
     "data": {
      "text/plain": [
       "Text(0,0.5,'residual')"
      ]
     },
     "execution_count": 126,
     "metadata": {},
     "output_type": "execute_result"
    },
    {
     "data": {
      "image/png": "[encoded data removed]",
      "text/plain": [
       "<matplotlib.figure.Figure at 0x7fb1fd9fafd0>"
      ]
     },
     "metadata": {
      "needs_background": "light"
     },
     "output_type": "display_data"
    }
   ],
   "source": [
    "pairs = list(zip(res_7.predict(X3_train), y7_train-res_7.predict(X3_train)))\n",
    "pairs.sort(key=lambda t: t[0])\n",
    "scat_x, scat_y = zip(*pairs)\n",
    "\n",
    "slope, intercept = np.polyfit(scat_x, scat_y, 1)\n",
    "\n",
    "# Create a list of values in the best fit line\n",
    "abline_values = [slope * i + intercept for i in scat_x]\n",
    "\n",
    "plt.scatter(scat_x, scat_y)\n",
    "plt.plot(scat_x, abline_values, 'b')\n",
    "plt.title('residual vs fitted')\n",
    "plt.xlabel('fitted')\n",
    "plt.ylabel('residual')\n"
   ]
  },
  {
   "cell_type": "code",
   "execution_count": 139,
   "metadata": {},
   "outputs": [
    {
     "data": {
      "image/png": "[encoded data removed]",
      "text/plain": [
       "<matplotlib.figure.Figure at 0x7fb1fdb3c2e8>"
      ]
     },
     "execution_count": 139,
     "metadata": {},
     "output_type": "execute_result"
    },
    {
     "data": {
      "image/png": "[encoded data removed]",
      "text/plain": [
       "<matplotlib.figure.Figure at 0x7fb1fdb3c2e8>"
      ]
     },
     "metadata": {
      "needs_background": "light"
     },
     "output_type": "display_data"
    }
   ],
   "source": [
    "from sklearn.preprocessing import normalize\n",
    "sm.qqplot(np.array(scat_y))"
   ]
  },
  {
   "cell_type": "code",
   "execution_count": null,
   "metadata": {},
   "outputs": [],
   "source": [
    "# create a prediction plot where you can vary the input of the model\n",
    "\n",
    "# plot predicted vs actual curve\n",
    "\n",
    "# investigate mean_lag vs time variable - why is time predictive?\n",
    "# why is mean lag not very predictive? \n",
    "# because it helps predict relative to other variables\n",
    "\n",
    "# create a prediction interval\n",
    "dt = lm_fit.get_prediction(x_mat).summary_frame(alpha = 0.05)\n",
    "y_prd = dt['mean']\n",
    "yprd_ci_lower = dt['obs_ci_lower']\n",
    "yprd_ci_upper = dt['obs_ci_upper']\n",
    "print(pd.DataFrame(np.column_stack([y_prd, yprd_ci_lower, yprd_ci_upper])).head())"
   ]
  },
  {
   "cell_type": "code",
   "execution_count": 141,
   "metadata": {},
   "outputs": [
    {
     "data": {
      "text/html": [
       "<div>\n",
       "<style scoped>\n",
       "    .dataframe tbody tr th:only-of-type {\n",
       "        vertical-align: middle;\n",
       "    }\n",
       "\n",
       "    .dataframe tbody tr th {\n",
       "        vertical-align: top;\n",
       "    }\n",
       "\n",
       "    .dataframe thead th {\n",
       "        text-align: right;\n",
       "    }\n",
       "</style>\n",
       "<table border=\"1\" class=\"dataframe\">\n",
       "  <thead>\n",
       "    <tr style=\"text-align: right;\">\n",
       "      <th></th>\n",
       "      <th>mean</th>\n",
       "      <th>mean_se</th>\n",
       "      <th>mean_ci_lower</th>\n",
       "      <th>mean_ci_upper</th>\n",
       "      <th>obs_ci_lower</th>\n",
       "      <th>obs_ci_upper</th>\n",
       "    </tr>\n",
       "  </thead>\n",
       "  <tbody>\n",
       "    <tr>\n",
       "      <th>8</th>\n",
       "      <td>190.667611</td>\n",
       "      <td>30.551766</td>\n",
       "      <td>130.309838</td>\n",
       "      <td>251.025384</td>\n",
       "      <td>15.412908</td>\n",
       "      <td>365.922313</td>\n",
       "    </tr>\n",
       "    <tr>\n",
       "      <th>14</th>\n",
       "      <td>388.556154</td>\n",
       "      <td>23.804617</td>\n",
       "      <td>341.527984</td>\n",
       "      <td>435.584324</td>\n",
       "      <td>217.433979</td>\n",
       "      <td>559.678329</td>\n",
       "    </tr>\n",
       "    <tr>\n",
       "      <th>18</th>\n",
       "      <td>401.313282</td>\n",
       "      <td>18.241572</td>\n",
       "      <td>365.275410</td>\n",
       "      <td>437.351154</td>\n",
       "      <td>232.879680</td>\n",
       "      <td>569.746884</td>\n",
       "    </tr>\n",
       "    <tr>\n",
       "      <th>19</th>\n",
       "      <td>360.631214</td>\n",
       "      <td>26.570008</td>\n",
       "      <td>308.139763</td>\n",
       "      <td>413.122664</td>\n",
       "      <td>187.927704</td>\n",
       "      <td>533.334724</td>\n",
       "    </tr>\n",
       "    <tr>\n",
       "      <th>20</th>\n",
       "      <td>376.556201</td>\n",
       "      <td>18.597858</td>\n",
       "      <td>339.814453</td>\n",
       "      <td>413.297948</td>\n",
       "      <td>207.970596</td>\n",
       "      <td>545.141805</td>\n",
       "    </tr>\n",
       "  </tbody>\n",
       "</table>\n",
       "</div>"
      ],
      "text/plain": [
       "          mean    mean_se  mean_ci_lower  mean_ci_upper  obs_ci_lower  \\\n",
       "8   190.667611  30.551766     130.309838     251.025384     15.412908   \n",
       "14  388.556154  23.804617     341.527984     435.584324    217.433979   \n",
       "18  401.313282  18.241572     365.275410     437.351154    232.879680   \n",
       "19  360.631214  26.570008     308.139763     413.122664    187.927704   \n",
       "20  376.556201  18.597858     339.814453     413.297948    207.970596   \n",
       "\n",
       "    obs_ci_upper  \n",
       "8     365.922313  \n",
       "14    559.678329  \n",
       "18    569.746884  \n",
       "19    533.334724  \n",
       "20    545.141805  "
      ]
     },
     "execution_count": 141,
     "metadata": {},
     "output_type": "execute_result"
    }
   ],
   "source": [
    "pred_int7 = res_7.get_prediction(X3_test).summary_frame(alpha=0.05)\n",
    "pred_int7.head()"
   ]
  },
  {
   "cell_type": "code",
   "execution_count": 202,
   "metadata": {},
   "outputs": [
    {
     "data": {
      "text/html": [
       "<table class=\"simpletable\">\n",
       "<caption>OLS Regression Results</caption>\n",
       "<tr>\n",
       "  <th>Dep. Variable:</th>        <td>new_lag7</td>     <th>  R-squared:         </th> <td>   0.778</td>\n",
       "</tr>\n",
       "<tr>\n",
       "  <th>Model:</th>                   <td>OLS</td>       <th>  Adj. R-squared:    </th> <td>   0.765</td>\n",
       "</tr>\n",
       "<tr>\n",
       "  <th>Method:</th>             <td>Least Squares</td>  <th>  F-statistic:       </th> <td>   59.88</td>\n",
       "</tr>\n",
       "<tr>\n",
       "  <th>Date:</th>             <td>Thu, 05 Nov 2020</td> <th>  Prob (F-statistic):</th> <td>8.13e-46</td>\n",
       "</tr>\n",
       "<tr>\n",
       "  <th>Time:</th>                 <td>11:59:52</td>     <th>  Log-Likelihood:    </th> <td> -959.44</td>\n",
       "</tr>\n",
       "<tr>\n",
       "  <th>No. Observations:</th>      <td>   164</td>      <th>  AIC:               </th> <td>   1939.</td>\n",
       "</tr>\n",
       "<tr>\n",
       "  <th>Df Residuals:</th>          <td>   154</td>      <th>  BIC:               </th> <td>   1970.</td>\n",
       "</tr>\n",
       "<tr>\n",
       "  <th>Df Model:</th>              <td>     9</td>      <th>                     </th>     <td> </td>   \n",
       "</tr>\n",
       "<tr>\n",
       "  <th>Covariance Type:</th>      <td>nonrobust</td>    <th>                     </th>     <td> </td>   \n",
       "</tr>\n",
       "</table>\n",
       "<table class=\"simpletable\">\n",
       "<tr>\n",
       "                           <td></td>                             <th>coef</th>     <th>std err</th>      <th>t</th>      <th>P>|t|</th>  <th>[0.025</th>    <th>0.975]</th>  \n",
       "</tr>\n",
       "<tr>\n",
       "  <th>school_closing</th>                                     <td> -302.8539</td> <td>   24.499</td> <td>  -12.362</td> <td> 0.000</td> <td> -351.251</td> <td> -254.457</td>\n",
       "</tr>\n",
       "<tr>\n",
       "  <th>workplace_closing</th>                                  <td>   33.5737</td> <td>   23.249</td> <td>    1.444</td> <td> 0.151</td> <td>  -12.355</td> <td>   79.502</td>\n",
       "</tr>\n",
       "<tr>\n",
       "  <th>gatherings_restrictions</th>                            <td>  239.9323</td> <td>   31.026</td> <td>    7.733</td> <td> 0.000</td> <td>  178.641</td> <td>  301.223</td>\n",
       "</tr>\n",
       "<tr>\n",
       "  <th>international_movement_restrictions</th>                <td>  -86.1465</td> <td>   20.409</td> <td>   -4.221</td> <td> 0.000</td> <td> -126.464</td> <td>  -45.829</td>\n",
       "</tr>\n",
       "<tr>\n",
       "  <th>retail_and_recreation_percent_change_from_baseline</th> <td>   -9.5126</td> <td>    1.687</td> <td>   -5.638</td> <td> 0.000</td> <td>  -12.846</td> <td>   -6.179</td>\n",
       "</tr>\n",
       "<tr>\n",
       "  <th>grocery_and_pharmacy_percent_change_from_baseline</th>  <td>    4.2549</td> <td>    1.172</td> <td>    3.631</td> <td> 0.000</td> <td>    1.940</td> <td>    6.570</td>\n",
       "</tr>\n",
       "<tr>\n",
       "  <th>transit_stations_percent_change_from_baseline</th>      <td>   -8.3392</td> <td>    2.911</td> <td>   -2.865</td> <td> 0.005</td> <td>  -14.090</td> <td>   -2.588</td>\n",
       "</tr>\n",
       "<tr>\n",
       "  <th>workplaces_percent_change_from_baseline</th>            <td>    4.1487</td> <td>    1.266</td> <td>    3.276</td> <td> 0.001</td> <td>    1.647</td> <td>    6.650</td>\n",
       "</tr>\n",
       "<tr>\n",
       "  <th>constant</th>                                           <td>  -37.9580</td> <td>   96.384</td> <td>   -0.394</td> <td> 0.694</td> <td> -228.364</td> <td>  152.448</td>\n",
       "</tr>\n",
       "<tr>\n",
       "  <th>mean_lag</th>                                           <td>   -6.8633</td> <td>    4.993</td> <td>   -1.375</td> <td> 0.171</td> <td>  -16.726</td> <td>    2.999</td>\n",
       "</tr>\n",
       "</table>\n",
       "<table class=\"simpletable\">\n",
       "<tr>\n",
       "  <th>Omnibus:</th>       <td>38.575</td> <th>  Durbin-Watson:     </th> <td>   1.216</td>\n",
       "</tr>\n",
       "<tr>\n",
       "  <th>Prob(Omnibus):</th> <td> 0.000</td> <th>  Jarque-Bera (JB):  </th> <td>  79.754</td>\n",
       "</tr>\n",
       "<tr>\n",
       "  <th>Skew:</th>          <td> 1.057</td> <th>  Prob(JB):          </th> <td>4.80e-18</td>\n",
       "</tr>\n",
       "<tr>\n",
       "  <th>Kurtosis:</th>      <td> 5.684</td> <th>  Cond. No.          </th> <td>1.13e+03</td>\n",
       "</tr>\n",
       "</table><br/><br/>Notes:<br/>[1] Standard Errors assume that the covariance matrix of the errors is correctly specified.<br/>[2] The condition number is large, 1.13e+03. This might indicate that there are<br/>strong multicollinearity or other numerical problems."
      ],
      "text/plain": [
       "<class 'statsmodels.iolib.summary.Summary'>\n",
       "\"\"\"\n",
       "                            OLS Regression Results                            \n",
       "==============================================================================\n",
       "Dep. Variable:               new_lag7   R-squared:                       0.778\n",
       "Model:                            OLS   Adj. R-squared:                  0.765\n",
       "Method:                 Least Squares   F-statistic:                     59.88\n",
       "Date:                Thu, 05 Nov 2020   Prob (F-statistic):           8.13e-46\n",
       "Time:                        11:59:52   Log-Likelihood:                -959.44\n",
       "No. Observations:                 164   AIC:                             1939.\n",
       "Df Residuals:                     154   BIC:                             1970.\n",
       "Df Model:                           9                                         \n",
       "Covariance Type:            nonrobust                                         \n",
       "======================================================================================================================\n",
       "                                                         coef    std err          t      P>|t|      [0.025      0.975]\n",
       "----------------------------------------------------------------------------------------------------------------------\n",
       "school_closing                                      -302.8539     24.499    -12.362      0.000    -351.251    -254.457\n",
       "workplace_closing                                     33.5737     23.249      1.444      0.151     -12.355      79.502\n",
       "gatherings_restrictions                              239.9323     31.026      7.733      0.000     178.641     301.223\n",
       "international_movement_restrictions                  -86.1465     20.409     -4.221      0.000    -126.464     -45.829\n",
       "retail_and_recreation_percent_change_from_baseline    -9.5126      1.687     -5.638      0.000     -12.846      -6.179\n",
       "grocery_and_pharmacy_percent_change_from_baseline      4.2549      1.172      3.631      0.000       1.940       6.570\n",
       "transit_stations_percent_change_from_baseline         -8.3392      2.911     -2.865      0.005     -14.090      -2.588\n",
       "workplaces_percent_change_from_baseline                4.1487      1.266      3.276      0.001       1.647       6.650\n",
       "constant                                             -37.9580     96.384     -0.394      0.694    -228.364     152.448\n",
       "mean_lag                                              -6.8633      4.993     -1.375      0.171     -16.726       2.999\n",
       "==============================================================================\n",
       "Omnibus:                       38.575   Durbin-Watson:                   1.216\n",
       "Prob(Omnibus):                  0.000   Jarque-Bera (JB):               79.754\n",
       "Skew:                           1.057   Prob(JB):                     4.80e-18\n",
       "Kurtosis:                       5.684   Cond. No.                     1.13e+03\n",
       "==============================================================================\n",
       "\n",
       "Notes:\n",
       "[1] Standard Errors assume that the covariance matrix of the errors is correctly specified.\n",
       "[2] The condition number is large, 1.13e+03. This might indicate that there are\n",
       "strong multicollinearity or other numerical problems.\n",
       "\"\"\""
      ]
     },
     "execution_count": 202,
     "metadata": {},
     "output_type": "execute_result"
    }
   ],
   "source": [
    "# remove time component\n",
    "expl = [\n",
    "    'school_closing', 'workplace_closing', \n",
    "    #'cancel_events',\n",
    "       'gatherings_restrictions', 'international_movement_restrictions',\n",
    "       'retail_and_recreation_percent_change_from_baseline',\n",
    "       'grocery_and_pharmacy_percent_change_from_baseline',\n",
    "       'transit_stations_percent_change_from_baseline',\n",
    "       'workplaces_percent_change_from_baseline', \n",
    "    #'day_num', \n",
    "    'constant',\n",
    "    'mean_lag'\n",
    "]\n",
    "\n",
    "X4_train = X3_train[expl]\n",
    "X4_test = X3_test[expl]\n",
    "\n",
    "mt = sm.OLS(y7_train, X4_train)\n",
    "mt_fit = mt.fit()\n",
    "mt_fit.summary()"
   ]
  },
  {
   "cell_type": "code",
   "execution_count": 203,
   "metadata": {},
   "outputs": [
    {
     "data": {
      "text/plain": [
       "88.20732319503004"
      ]
     },
     "execution_count": 203,
     "metadata": {},
     "output_type": "execute_result"
    }
   ],
   "source": [
    "mt_pred = mt_fit.predict(X4_test)\n",
    "mean_squared_error(mt_pred, y7_test, squared=False)"
   ]
  },
  {
   "cell_type": "code",
   "execution_count": 150,
   "metadata": {},
   "outputs": [
    {
     "data": {
      "text/plain": [
       "[<matplotlib.lines.Line2D at 0x7fb1e2fea8d0>]"
      ]
     },
     "execution_count": 150,
     "metadata": {},
     "output_type": "execute_result"
    },
    {
     "data": {
      "image/png": "[encoded data removed]",
      "text/plain": [
       "<matplotlib.figure.Figure at 0x7fb1fd9652e8>"
      ]
     },
     "metadata": {
      "needs_background": "light"
     },
     "output_type": "display_data"
    }
   ],
   "source": [
    "mt_pred = mt_fit.predict(X4_test)\n",
    "plt.plot(y7_test-mt_pred)"
   ]
  },
  {
   "cell_type": "code",
   "execution_count": 159,
   "metadata": {},
   "outputs": [
    {
     "data": {
      "text/html": [
       "<table class=\"simpletable\">\n",
       "<caption>OLS Regression Results</caption>\n",
       "<tr>\n",
       "  <th>Dep. Variable:</th>        <td>new_lag7</td>     <th>  R-squared:         </th> <td>   0.828</td>\n",
       "</tr>\n",
       "<tr>\n",
       "  <th>Model:</th>                   <td>OLS</td>       <th>  Adj. R-squared:    </th> <td>   0.818</td>\n",
       "</tr>\n",
       "<tr>\n",
       "  <th>Method:</th>             <td>Least Squares</td>  <th>  F-statistic:       </th> <td>   82.29</td>\n",
       "</tr>\n",
       "<tr>\n",
       "  <th>Date:</th>             <td>Thu, 05 Nov 2020</td> <th>  Prob (F-statistic):</th> <td>2.90e-54</td>\n",
       "</tr>\n",
       "<tr>\n",
       "  <th>Time:</th>                 <td>11:24:44</td>     <th>  Log-Likelihood:    </th> <td> -917.86</td>\n",
       "</tr>\n",
       "<tr>\n",
       "  <th>No. Observations:</th>      <td>   164</td>      <th>  AIC:               </th> <td>   1856.</td>\n",
       "</tr>\n",
       "<tr>\n",
       "  <th>Df Residuals:</th>          <td>   154</td>      <th>  BIC:               </th> <td>   1887.</td>\n",
       "</tr>\n",
       "<tr>\n",
       "  <th>Df Model:</th>              <td>     9</td>      <th>                     </th>     <td> </td>   \n",
       "</tr>\n",
       "<tr>\n",
       "  <th>Covariance Type:</th>      <td>nonrobust</td>    <th>                     </th>     <td> </td>   \n",
       "</tr>\n",
       "</table>\n",
       "<table class=\"simpletable\">\n",
       "<tr>\n",
       "                           <td></td>                             <th>coef</th>     <th>std err</th>      <th>t</th>      <th>P>|t|</th>  <th>[0.025</th>    <th>0.975]</th>  \n",
       "</tr>\n",
       "<tr>\n",
       "  <th>school_closing</th>                                     <td> -207.6330</td> <td>   43.912</td> <td>   -4.728</td> <td> 0.000</td> <td> -294.381</td> <td> -120.885</td>\n",
       "</tr>\n",
       "<tr>\n",
       "  <th>workplace_closing</th>                                  <td>   24.1960</td> <td>   17.484</td> <td>    1.384</td> <td> 0.168</td> <td>  -10.343</td> <td>   58.735</td>\n",
       "</tr>\n",
       "<tr>\n",
       "  <th>cancel_events</th>                                      <td>  -35.7557</td> <td>   29.670</td> <td>   -1.205</td> <td> 0.230</td> <td>  -94.368</td> <td>   22.856</td>\n",
       "</tr>\n",
       "<tr>\n",
       "  <th>gatherings_restrictions</th>                            <td>  151.9437</td> <td>   42.072</td> <td>    3.612</td> <td> 0.000</td> <td>   68.831</td> <td>  235.056</td>\n",
       "</tr>\n",
       "<tr>\n",
       "  <th>international_movement_restrictions</th>                <td>  -49.2551</td> <td>   17.317</td> <td>   -2.844</td> <td> 0.005</td> <td>  -83.464</td> <td>  -15.046</td>\n",
       "</tr>\n",
       "<tr>\n",
       "  <th>retail_and_recreation_percent_change_from_baseline</th> <td>  -10.2585</td> <td>    1.349</td> <td>   -7.605</td> <td> 0.000</td> <td>  -12.923</td> <td>   -7.594</td>\n",
       "</tr>\n",
       "<tr>\n",
       "  <th>grocery_and_pharmacy_percent_change_from_baseline</th>  <td>    4.7872</td> <td>    0.942</td> <td>    5.084</td> <td> 0.000</td> <td>    2.927</td> <td>    6.647</td>\n",
       "</tr>\n",
       "<tr>\n",
       "  <th>transit_stations_percent_change_from_baseline</th>      <td>   -7.1106</td> <td>    2.311</td> <td>   -3.077</td> <td> 0.002</td> <td>  -11.675</td> <td>   -2.546</td>\n",
       "</tr>\n",
       "<tr>\n",
       "  <th>workplaces_percent_change_from_baseline</th>            <td>    3.1417</td> <td>    0.995</td> <td>    3.157</td> <td> 0.002</td> <td>    1.176</td> <td>    5.107</td>\n",
       "</tr>\n",
       "<tr>\n",
       "  <th>constant</th>                                           <td>  -17.8779</td> <td>   14.835</td> <td>   -1.205</td> <td> 0.230</td> <td>  -47.184</td> <td>   11.428</td>\n",
       "</tr>\n",
       "<tr>\n",
       "  <th>mean_lag</th>                                           <td>   -8.4902</td> <td>    4.056</td> <td>   -2.093</td> <td> 0.038</td> <td>  -16.502</td> <td>   -0.478</td>\n",
       "</tr>\n",
       "</table>\n",
       "<table class=\"simpletable\">\n",
       "<tr>\n",
       "  <th>Omnibus:</th>       <td> 6.364</td> <th>  Durbin-Watson:     </th> <td>   1.498</td>\n",
       "</tr>\n",
       "<tr>\n",
       "  <th>Prob(Omnibus):</th> <td> 0.041</td> <th>  Jarque-Bera (JB):  </th> <td>   6.044</td>\n",
       "</tr>\n",
       "<tr>\n",
       "  <th>Skew:</th>          <td> 0.400</td> <th>  Prob(JB):          </th> <td>  0.0487</td>\n",
       "</tr>\n",
       "<tr>\n",
       "  <th>Kurtosis:</th>      <td> 3.495</td> <th>  Cond. No.          </th> <td>5.07e+16</td>\n",
       "</tr>\n",
       "</table><br/><br/>Notes:<br/>[1] Standard Errors assume that the covariance matrix of the errors is correctly specified.<br/>[2] The smallest eigenvalue is 4.21e-28. This might indicate that there are<br/>strong multicollinearity problems or that the design matrix is singular."
      ],
      "text/plain": [
       "<class 'statsmodels.iolib.summary.Summary'>\n",
       "\"\"\"\n",
       "                            OLS Regression Results                            \n",
       "==============================================================================\n",
       "Dep. Variable:               new_lag7   R-squared:                       0.828\n",
       "Model:                            OLS   Adj. R-squared:                  0.818\n",
       "Method:                 Least Squares   F-statistic:                     82.29\n",
       "Date:                Thu, 05 Nov 2020   Prob (F-statistic):           2.90e-54\n",
       "Time:                        11:24:44   Log-Likelihood:                -917.86\n",
       "No. Observations:                 164   AIC:                             1856.\n",
       "Df Residuals:                     154   BIC:                             1887.\n",
       "Df Model:                           9                                         \n",
       "Covariance Type:            nonrobust                                         \n",
       "======================================================================================================================\n",
       "                                                         coef    std err          t      P>|t|      [0.025      0.975]\n",
       "----------------------------------------------------------------------------------------------------------------------\n",
       "school_closing                                      -207.6330     43.912     -4.728      0.000    -294.381    -120.885\n",
       "workplace_closing                                     24.1960     17.484      1.384      0.168     -10.343      58.735\n",
       "cancel_events                                        -35.7557     29.670     -1.205      0.230     -94.368      22.856\n",
       "gatherings_restrictions                              151.9437     42.072      3.612      0.000      68.831     235.056\n",
       "international_movement_restrictions                  -49.2551     17.317     -2.844      0.005     -83.464     -15.046\n",
       "retail_and_recreation_percent_change_from_baseline   -10.2585      1.349     -7.605      0.000     -12.923      -7.594\n",
       "grocery_and_pharmacy_percent_change_from_baseline      4.7872      0.942      5.084      0.000       2.927       6.647\n",
       "transit_stations_percent_change_from_baseline         -7.1106      2.311     -3.077      0.002     -11.675      -2.546\n",
       "workplaces_percent_change_from_baseline                3.1417      0.995      3.157      0.002       1.176       5.107\n",
       "constant                                             -17.8779     14.835     -1.205      0.230     -47.184      11.428\n",
       "mean_lag                                              -8.4902      4.056     -2.093      0.038     -16.502      -0.478\n",
       "==============================================================================\n",
       "Omnibus:                        6.364   Durbin-Watson:                   1.498\n",
       "Prob(Omnibus):                  0.041   Jarque-Bera (JB):                6.044\n",
       "Skew:                           0.400   Prob(JB):                       0.0487\n",
       "Kurtosis:                       3.495   Cond. No.                     5.07e+16\n",
       "==============================================================================\n",
       "\n",
       "Notes:\n",
       "[1] Standard Errors assume that the covariance matrix of the errors is correctly specified.\n",
       "[2] The smallest eigenvalue is 4.21e-28. This might indicate that there are\n",
       "strong multicollinearity problems or that the design matrix is singular.\n",
       "\"\"\""
      ]
     },
     "execution_count": 159,
     "metadata": {},
     "output_type": "execute_result"
    }
   ],
   "source": [
    "# train on first 80%\n",
    "# test on next 20%\n",
    "X4 = X3[expl]\n",
    "ind_train4 = list(range(int(np.floor(0.8*X4.shape[0]))))\n",
    "ind_test4 = list(range(int(np.floor(0.8*X4.shape[0])), X3.shape[0]))\n",
    "\n",
    "X4_train = X4.iloc[ind_train4, :]\n",
    "X4_test = X4.iloc[ind_test4, :]\n",
    "y4_train = new7.iloc[ind_train4]\n",
    "y4_test = new7.iloc[ind_test4]\n",
    "\n",
    "# model with first 80% of data\n",
    "m4 = sm.OLS(y4_train, X4_train)\n",
    "m4_fit = m4.fit()\n",
    "m4_fit.summary()\n",
    "\n"
   ]
  },
  {
   "cell_type": "code",
   "execution_count": 160,
   "metadata": {},
   "outputs": [
    {
     "data": {
      "text/plain": [
       "[<matplotlib.lines.Line2D at 0x7fb1e421e748>]"
      ]
     },
     "execution_count": 160,
     "metadata": {},
     "output_type": "execute_result"
    },
    {
     "data": {
      "image/png": "[encoded data removed]",
      "text/plain": [
       "<matplotlib.figure.Figure at 0x7fb1e2ff9c88>"
      ]
     },
     "metadata": {
      "needs_background": "light"
     },
     "output_type": "display_data"
    }
   ],
   "source": [
    "m4_pred = m4_fit.predict(X4_test)\n",
    "plt.plot(y4_test-m4_pred)"
   ]
  },
  {
   "cell_type": "code",
   "execution_count": 161,
   "metadata": {},
   "outputs": [
    {
     "data": {
      "text/plain": [
       "[<matplotlib.lines.Line2D at 0x7fb1e423e198>]"
      ]
     },
     "execution_count": 161,
     "metadata": {},
     "output_type": "execute_result"
    },
    {
     "data": {
      "image/png": "[encoded data removed]",
      "text/plain": [
       "<matplotlib.figure.Figure at 0x7fb1e41e7940>"
      ]
     },
     "metadata": {
      "needs_background": "light"
     },
     "output_type": "display_data"
    }
   ],
   "source": [
    "m4_pred_train = m4_fit.predict(X4_train)\n",
    "plt.plot(y4_train-m4_pred_train)\n",
    "\n",
    "# create autoregressive model for residuals"
   ]
  },
  {
   "cell_type": "code",
   "execution_count": 174,
   "metadata": {},
   "outputs": [
    {
     "name": "stdout",
     "output_type": "stream",
     "text": [
      "Coefficients: intercept   -2.716441\n",
      "y.L1         0.263420\n",
      "y.L2        -0.030118\n",
      "y.L3         0.151655\n",
      "y.L4         0.064874\n",
      "y.L5         0.084116\n",
      "y.L6        -0.121694\n",
      "y.L7         0.061949\n",
      "y.L8        -0.096115\n",
      "y.L9        -0.007283\n",
      "y.L10        0.066226\n",
      "y.L11       -0.083775\n",
      "y.L12       -0.031660\n",
      "y.L13       -0.029077\n",
      "y.L14       -0.054246\n",
      "y.L15        0.012614\n",
      "y.L16        0.055932\n",
      "y.L17       -0.054633\n",
      "y.L18       -0.182061\n",
      "y.L19        0.083129\n",
      "y.L20       -0.184800\n",
      "y.L21       -0.094223\n",
      "y.L22        0.131689\n",
      "y.L23       -0.119821\n",
      "y.L24       -0.150963\n",
      "y.L25        0.056507\n",
      "y.L26        0.077169\n",
      "y.L27       -0.082070\n",
      "y.L28        0.144873\n",
      "y.L29       -0.136508\n",
      "y.L30        0.153080\n",
      "y.L31        0.010921\n",
      "y.L32       -0.157252\n",
      "y.L33        0.096780\n",
      "y.L34       -0.103416\n",
      "y.L35        0.008724\n",
      "y.L36        0.038343\n",
      "y.L37       -0.051568\n",
      "y.L38       -0.121397\n",
      "y.L39        0.133851\n",
      "y.L40       -0.061549\n",
      "y.L41       -0.068741\n",
      "y.L42        0.092510\n",
      "y.L43       -0.004282\n",
      "y.L44        0.182857\n",
      "y.L45       -0.107798\n",
      "y.L46        0.052842\n",
      "y.L47       -0.086514\n",
      "y.L48        0.052750\n",
      "y.L49       -0.122817\n",
      "y.L50        0.101269\n",
      "dtype: float64\n",
      "Test RMSE: 200.408\n"
     ]
    },
    {
     "name": "stderr",
     "output_type": "stream",
     "text": [
      "/Users/stephenbrock/anaconda3/lib/python3.6/site-packages/statsmodels/tsa/ar_model.py:252: FutureWarning: The parameter names will change after 0.12 is released. Set old_names to False to use the new names now. Set old_names to True to use the old names. \n",
      "  FutureWarning,\n"
     ]
    },
    {
     "data": {
      "image/png": "[encoded data removed]",
      "text/plain": [
       "<matplotlib.figure.Figure at 0x7fb1e4980eb8>"
      ]
     },
     "metadata": {
      "needs_background": "light"
     },
     "output_type": "display_data"
    }
   ],
   "source": [
    "# investigating lag\n",
    "from statsmodels.tsa.ar_model import AutoReg\n",
    "errs = y4_train-m4_pred_train\n",
    "errs_test = y4_test-m4_pred\n",
    "model = AutoReg(errs, lags=50)\n",
    "\n",
    "model_fit = model.fit()\n",
    "print('Coefficients: %s' % model_fit.params)\n",
    "# make predictions\n",
    "predictions = model_fit.predict(start=len(errs), end=len(errs)+len(errs_test)-1, dynamic=False)\n",
    "# for i in range(len(predictions)):\n",
    "#     print('predicted=%f, expected=%f' % (predictions[i], test[i]))\n",
    "rmse = np.sqrt(mean_squared_error(errs_test, predictions))\n",
    "print('Test RMSE: %.3f' % rmse)\n",
    "# plot results\n",
    "plt.plot(errs_test)\n",
    "plt.plot(predictions, color='red')\n",
    "plt.show()"
   ]
  },
  {
   "cell_type": "markdown",
   "metadata": {},
   "source": [
    "#### Does using the autoregressive model of errors help predictions?"
   ]
  },
  {
   "cell_type": "code",
   "execution_count": 180,
   "metadata": {},
   "outputs": [
    {
     "name": "stdout",
     "output_type": "stream",
     "text": [
      "new: 200.40770398476678\n",
      "old: 195.55244394458492\n"
     ]
    }
   ],
   "source": [
    "pred4_adj = m4_pred + predictions\n",
    "print('old:',mean_squared_error(y4_test, m4_pred, squared=False))\n",
    "print('new:',mean_squared_error(y4_test, pred4_adj, squared=False))\n"
   ]
  },
  {
   "cell_type": "markdown",
   "metadata": {},
   "source": [
    "#### Performance is worse!"
   ]
  },
  {
   "cell_type": "markdown",
   "metadata": {},
   "source": [
    "## US Data"
   ]
  },
  {
   "cell_type": "code",
   "execution_count": 96,
   "metadata": {},
   "outputs": [],
   "source": [
    "usa = pd.read_csv('../Datasets/data_usa2.csv')"
   ]
  },
  {
   "cell_type": "code",
   "execution_count": 97,
   "metadata": {},
   "outputs": [
    {
     "data": {
      "text/html": [
       "<div>\n",
       "<style scoped>\n",
       "    .dataframe tbody tr th:only-of-type {\n",
       "        vertical-align: middle;\n",
       "    }\n",
       "\n",
       "    .dataframe tbody tr th {\n",
       "        vertical-align: top;\n",
       "    }\n",
       "\n",
       "    .dataframe thead th {\n",
       "        text-align: right;\n",
       "    }\n",
       "</style>\n",
       "<table border=\"1\" class=\"dataframe\">\n",
       "  <thead>\n",
       "    <tr style=\"text-align: right;\">\n",
       "      <th></th>\n",
       "      <th>date</th>\n",
       "      <th>key_apple_mobility</th>\n",
       "      <th>key_google_mobility</th>\n",
       "      <th>id</th>\n",
       "      <th>tests</th>\n",
       "      <th>confirmed</th>\n",
       "      <th>recovered</th>\n",
       "      <th>deaths</th>\n",
       "      <th>hosp</th>\n",
       "      <th>vent</th>\n",
       "      <th>...</th>\n",
       "      <th>census_fips_code</th>\n",
       "      <th>retail_and_recreation_percent_change_from_baseline</th>\n",
       "      <th>grocery_and_pharmacy_percent_change_from_baseline</th>\n",
       "      <th>parks_percent_change_from_baseline</th>\n",
       "      <th>transit_stations_percent_change_from_baseline</th>\n",
       "      <th>workplaces_percent_change_from_baseline</th>\n",
       "      <th>residential_percent_change_from_baseline</th>\n",
       "      <th>driving</th>\n",
       "      <th>walking</th>\n",
       "      <th>transit</th>\n",
       "    </tr>\n",
       "  </thead>\n",
       "  <tbody>\n",
       "    <tr>\n",
       "      <th>0</th>\n",
       "      <td>2020-03-06</td>\n",
       "      <td>Minnesota</td>\n",
       "      <td>US, Minnesota</td>\n",
       "      <td>121cd66e</td>\n",
       "      <td>37</td>\n",
       "      <td>1.0</td>\n",
       "      <td>NaN</td>\n",
       "      <td>NaN</td>\n",
       "      <td>NaN</td>\n",
       "      <td>NaN</td>\n",
       "      <td>...</td>\n",
       "      <td>NaN</td>\n",
       "      <td>6.0</td>\n",
       "      <td>6.0</td>\n",
       "      <td>6.0</td>\n",
       "      <td>3.0</td>\n",
       "      <td>-1.0</td>\n",
       "      <td>0.0</td>\n",
       "      <td>130.68</td>\n",
       "      <td>172.31</td>\n",
       "      <td>107.38</td>\n",
       "    </tr>\n",
       "    <tr>\n",
       "      <th>1</th>\n",
       "      <td>2020-03-07</td>\n",
       "      <td>Minnesota</td>\n",
       "      <td>US, Minnesota</td>\n",
       "      <td>121cd66e</td>\n",
       "      <td>50</td>\n",
       "      <td>2.0</td>\n",
       "      <td>NaN</td>\n",
       "      <td>NaN</td>\n",
       "      <td>NaN</td>\n",
       "      <td>NaN</td>\n",
       "      <td>...</td>\n",
       "      <td>NaN</td>\n",
       "      <td>7.0</td>\n",
       "      <td>9.0</td>\n",
       "      <td>21.0</td>\n",
       "      <td>7.0</td>\n",
       "      <td>3.0</td>\n",
       "      <td>-1.0</td>\n",
       "      <td>129.45</td>\n",
       "      <td>198.51</td>\n",
       "      <td>92.95</td>\n",
       "    </tr>\n",
       "    <tr>\n",
       "      <th>2</th>\n",
       "      <td>2020-03-08</td>\n",
       "      <td>Minnesota</td>\n",
       "      <td>US, Minnesota</td>\n",
       "      <td>121cd66e</td>\n",
       "      <td>50</td>\n",
       "      <td>2.0</td>\n",
       "      <td>NaN</td>\n",
       "      <td>NaN</td>\n",
       "      <td>NaN</td>\n",
       "      <td>NaN</td>\n",
       "      <td>...</td>\n",
       "      <td>NaN</td>\n",
       "      <td>13.0</td>\n",
       "      <td>12.0</td>\n",
       "      <td>93.0</td>\n",
       "      <td>7.0</td>\n",
       "      <td>2.0</td>\n",
       "      <td>-2.0</td>\n",
       "      <td>94.26</td>\n",
       "      <td>132.89</td>\n",
       "      <td>75.35</td>\n",
       "    </tr>\n",
       "    <tr>\n",
       "      <th>3</th>\n",
       "      <td>2020-03-09</td>\n",
       "      <td>Minnesota</td>\n",
       "      <td>US, Minnesota</td>\n",
       "      <td>121cd66e</td>\n",
       "      <td>85</td>\n",
       "      <td>5.0</td>\n",
       "      <td>NaN</td>\n",
       "      <td>NaN</td>\n",
       "      <td>NaN</td>\n",
       "      <td>NaN</td>\n",
       "      <td>...</td>\n",
       "      <td>NaN</td>\n",
       "      <td>4.0</td>\n",
       "      <td>3.0</td>\n",
       "      <td>-1.0</td>\n",
       "      <td>-5.0</td>\n",
       "      <td>-2.0</td>\n",
       "      <td>1.0</td>\n",
       "      <td>94.67</td>\n",
       "      <td>109.94</td>\n",
       "      <td>87.54</td>\n",
       "    </tr>\n",
       "    <tr>\n",
       "      <th>4</th>\n",
       "      <td>2020-03-10</td>\n",
       "      <td>Minnesota</td>\n",
       "      <td>US, Minnesota</td>\n",
       "      <td>121cd66e</td>\n",
       "      <td>143</td>\n",
       "      <td>11.0</td>\n",
       "      <td>NaN</td>\n",
       "      <td>NaN</td>\n",
       "      <td>NaN</td>\n",
       "      <td>NaN</td>\n",
       "      <td>...</td>\n",
       "      <td>NaN</td>\n",
       "      <td>6.0</td>\n",
       "      <td>4.0</td>\n",
       "      <td>6.0</td>\n",
       "      <td>-1.0</td>\n",
       "      <td>-2.0</td>\n",
       "      <td>1.0</td>\n",
       "      <td>99.09</td>\n",
       "      <td>116.13</td>\n",
       "      <td>92.28</td>\n",
       "    </tr>\n",
       "  </tbody>\n",
       "</table>\n",
       "<p>5 rows × 49 columns</p>\n",
       "</div>"
      ],
      "text/plain": [
       "         date key_apple_mobility key_google_mobility        id  tests  \\\n",
       "0  2020-03-06          Minnesota       US, Minnesota  121cd66e     37   \n",
       "1  2020-03-07          Minnesota       US, Minnesota  121cd66e     50   \n",
       "2  2020-03-08          Minnesota       US, Minnesota  121cd66e     50   \n",
       "3  2020-03-09          Minnesota       US, Minnesota  121cd66e     85   \n",
       "4  2020-03-10          Minnesota       US, Minnesota  121cd66e    143   \n",
       "\n",
       "   confirmed  recovered  deaths  hosp  vent  ...  census_fips_code  \\\n",
       "0        1.0        NaN     NaN   NaN   NaN  ...               NaN   \n",
       "1        2.0        NaN     NaN   NaN   NaN  ...               NaN   \n",
       "2        2.0        NaN     NaN   NaN   NaN  ...               NaN   \n",
       "3        5.0        NaN     NaN   NaN   NaN  ...               NaN   \n",
       "4       11.0        NaN     NaN   NaN   NaN  ...               NaN   \n",
       "\n",
       "   retail_and_recreation_percent_change_from_baseline  \\\n",
       "0                                                6.0    \n",
       "1                                                7.0    \n",
       "2                                               13.0    \n",
       "3                                                4.0    \n",
       "4                                                6.0    \n",
       "\n",
       "   grocery_and_pharmacy_percent_change_from_baseline  \\\n",
       "0                                                6.0   \n",
       "1                                                9.0   \n",
       "2                                               12.0   \n",
       "3                                                3.0   \n",
       "4                                                4.0   \n",
       "\n",
       "   parks_percent_change_from_baseline  \\\n",
       "0                                 6.0   \n",
       "1                                21.0   \n",
       "2                                93.0   \n",
       "3                                -1.0   \n",
       "4                                 6.0   \n",
       "\n",
       "   transit_stations_percent_change_from_baseline  \\\n",
       "0                                            3.0   \n",
       "1                                            7.0   \n",
       "2                                            7.0   \n",
       "3                                           -5.0   \n",
       "4                                           -1.0   \n",
       "\n",
       "   workplaces_percent_change_from_baseline  \\\n",
       "0                                     -1.0   \n",
       "1                                      3.0   \n",
       "2                                      2.0   \n",
       "3                                     -2.0   \n",
       "4                                     -2.0   \n",
       "\n",
       "   residential_percent_change_from_baseline  driving  walking  transit  \n",
       "0                                       0.0   130.68   172.31   107.38  \n",
       "1                                      -1.0   129.45   198.51    92.95  \n",
       "2                                      -2.0    94.26   132.89    75.35  \n",
       "3                                       1.0    94.67   109.94    87.54  \n",
       "4                                       1.0    99.09   116.13    92.28  \n",
       "\n",
       "[5 rows x 49 columns]"
      ]
     },
     "execution_count": 97,
     "metadata": {},
     "output_type": "execute_result"
    }
   ],
   "source": [
    "usa.head()"
   ]
  },
  {
   "cell_type": "code",
   "execution_count": 98,
   "metadata": {},
   "outputs": [
    {
     "data": {
      "text/plain": [
       "array(['US, Minnesota', 'US, California', 'US, Florida', 'US, Wyoming'],\n",
       "      dtype=object)"
      ]
     },
     "execution_count": 98,
     "metadata": {},
     "output_type": "execute_result"
    }
   ],
   "source": [
    "# use the top 4 to compare closings\n",
    "states1 = usa.key_google_mobility.unique()[:4]\n",
    "states1"
   ]
  },
  {
   "cell_type": "code",
   "execution_count": 99,
   "metadata": {},
   "outputs": [
    {
     "data": {
      "text/plain": [
       "Index(['date', 'key_apple_mobility', 'key_google_mobility', 'id', 'tests',\n",
       "       'confirmed', 'recovered', 'deaths', 'hosp', 'vent', 'icu', 'population',\n",
       "       'school_closing', 'workplace_closing', 'cancel_events',\n",
       "       'gatherings_restrictions', 'transport_closing',\n",
       "       'stay_home_restrictions', 'internal_movement_restrictions',\n",
       "       'international_movement_restrictions', 'information_campaigns',\n",
       "       'testing_policy', 'contact_tracing', 'stringency_index', 'iso_alpha_3',\n",
       "       'iso_alpha_2', 'iso_numeric', 'currency', 'administrative_area_level',\n",
       "       'administrative_area_level_1', 'administrative_area_level_2',\n",
       "       'administrative_area_level_3', 'latitude', 'longitude', 'key',\n",
       "       'key_alpha_2', 'key_numeric', 'metro_area', 'iso_3166_2_code',\n",
       "       'census_fips_code',\n",
       "       'retail_and_recreation_percent_change_from_baseline',\n",
       "       'grocery_and_pharmacy_percent_change_from_baseline',\n",
       "       'parks_percent_change_from_baseline',\n",
       "       'transit_stations_percent_change_from_baseline',\n",
       "       'workplaces_percent_change_from_baseline',\n",
       "       'residential_percent_change_from_baseline', 'driving', 'walking',\n",
       "       'transit'],\n",
       "      dtype='object')"
      ]
     },
     "execution_count": 99,
     "metadata": {},
     "output_type": "execute_result"
    }
   ],
   "source": [
    "usa.columns"
   ]
  },
  {
   "cell_type": "code",
   "execution_count": 100,
   "metadata": {},
   "outputs": [],
   "source": [
    "lockdown_procs = ['school_closing', 'workplace_closing', 'cancel_events',\n",
    "       'gatherings_restrictions', 'transport_closing',\n",
    "       'stay_home_restrictions', 'internal_movement_restrictions','international_movement_restrictions']"
   ]
  },
  {
   "cell_type": "code",
   "execution_count": 101,
   "metadata": {},
   "outputs": [
    {
     "data": {
      "image/png": "[encoded data removed]",
      "text/plain": [
       "<matplotlib.figure.Figure at 0x7fb1fcc44ba8>"
      ]
     },
     "metadata": {
      "needs_background": "light"
     },
     "output_type": "display_data"
    },
    {
     "data": {
      "image/png": "[encoded data removed]",
      "text/plain": [
       "<matplotlib.figure.Figure at 0x7fb1fc1431d0>"
      ]
     },
     "metadata": {
      "needs_background": "light"
     },
     "output_type": "display_data"
    },
    {
     "data": {
      "image/png": "[encoded data removed]",
      "text/plain": [
       "<matplotlib.figure.Figure at 0x7fb1fc143b00>"
      ]
     },
     "metadata": {
      "needs_background": "light"
     },
     "output_type": "display_data"
    },
    {
     "data": {
      "image/png": "[encoded data removed]",
      "text/plain": [
       "<matplotlib.figure.Figure at 0x7fb1fd8f7160>"
      ]
     },
     "metadata": {
      "needs_background": "light"
     },
     "output_type": "display_data"
    },
    {
     "data": {
      "image/png": "[encoded data removed]",
      "text/plain": [
       "<matplotlib.figure.Figure at 0x7fb1fd93c208>"
      ]
     },
     "metadata": {
      "needs_background": "light"
     },
     "output_type": "display_data"
    },
    {
     "data": {
      "image/png": "[encoded data removed]",
      "text/plain": [
       "<matplotlib.figure.Figure at 0x7fb1fd93c400>"
      ]
     },
     "metadata": {
      "needs_background": "light"
     },
     "output_type": "display_data"
    },
    {
     "data": {
      "image/png": "[encoded data removed]",
      "text/plain": [
       "<matplotlib.figure.Figure at 0x7fb1fdb15518>"
      ]
     },
     "metadata": {
      "needs_background": "light"
     },
     "output_type": "display_data"
    },
    {
     "data": {
      "image/png": "[encoded data removed]",
      "text/plain": [
       "<matplotlib.figure.Figure at 0x7fb1fdb50c18>"
      ]
     },
     "metadata": {
      "needs_background": "light"
     },
     "output_type": "display_data"
    }
   ],
   "source": [
    "temp = usa[usa.key_google_mobility.isin(states1)][lockdown_procs+['date']].dropna()\n",
    "for i, p in enumerate(lockdown_procs):\n",
    "    temp[['date']+[p]].plot()"
   ]
  },
  {
   "cell_type": "code",
   "execution_count": 102,
   "metadata": {},
   "outputs": [],
   "source": [
    "# USA is also country wide"
   ]
  },
  {
   "cell_type": "code",
   "execution_count": 103,
   "metadata": {},
   "outputs": [],
   "source": [
    "# weekly mobility data\n"
   ]
  },
  {
   "cell_type": "code",
   "execution_count": null,
   "metadata": {},
   "outputs": [],
   "source": []
  }
 ],
 "metadata": {
  "kernelspec": {
   "display_name": "Python 3",
   "language": "python",
   "name": "python3"
  },
  "language_info": {
   "codemirror_mode": {
    "name": "ipython",
    "version": 3
   },
   "file_extension": ".py",
   "mimetype": "text/x-python",
   "name": "python",
   "nbconvert_exporter": "python",
   "pygments_lexer": "ipython3",
   "version": "3.6.4"
  }
 },
 "nbformat": 4,
 "nbformat_minor": 2
}
