{
 "cells": [
  {
   "cell_type": "markdown",
   "metadata": {},
   "source": [
    "Prophet package time series example (Facebook)\n",
    "https://towardsdatascience.com/time-series-analysis-in-python-an-introduction-70d5a5b1d52a"
   ]
  },
  {
   "cell_type": "code",
   "execution_count": 1,
   "metadata": {},
   "outputs": [],
   "source": [
    "import pandas as pd\n",
    "from datetime import datetime\n",
    "from datetime import timedelta\n",
    "import numpy as np\n",
    "import matplotlib.pyplot as plt"
   ]
  },
  {
   "cell_type": "code",
   "execution_count": 2,
   "metadata": {},
   "outputs": [
    {
     "data": {
      "text/plain": [
       "'/Users/stephenbrock/Documents/github/covid_case_comp/COVID-19 Case Comp/Jupyter Notebooks'"
      ]
     },
     "execution_count": 2,
     "metadata": {},
     "output_type": "execute_result"
    }
   ],
   "source": [
    "import os\n",
    "cwd = os.getcwd()\n",
    "cwd"
   ]
  },
  {
   "cell_type": "code",
   "execution_count": 3,
   "metadata": {},
   "outputs": [],
   "source": [
    "on_new = pd.read_csv(\"../Datasets/on_covid19.csv\")\n",
    "on_events = pd.read_csv(\"../Datasets/on_events.csv\")\n",
    "on_mobil = pd.read_csv(\"../Datasets/Mobility Data/ontario.csv\")"
   ]
  },
  {
   "cell_type": "code",
   "execution_count": null,
   "metadata": {},
   "outputs": [],
   "source": []
  },
  {
   "cell_type": "code",
   "execution_count": 4,
   "metadata": {},
   "outputs": [
    {
     "data": {
      "text/html": [
       "<div>\n",
       "<style scoped>\n",
       "    .dataframe tbody tr th:only-of-type {\n",
       "        vertical-align: middle;\n",
       "    }\n",
       "\n",
       "    .dataframe tbody tr th {\n",
       "        vertical-align: top;\n",
       "    }\n",
       "\n",
       "    .dataframe thead th {\n",
       "        text-align: right;\n",
       "    }\n",
       "</style>\n",
       "<table border=\"1\" class=\"dataframe\">\n",
       "  <thead>\n",
       "    <tr style=\"text-align: right;\">\n",
       "      <th></th>\n",
       "      <th>category</th>\n",
       "      <th>New cases</th>\n",
       "    </tr>\n",
       "  </thead>\n",
       "  <tbody>\n",
       "    <tr>\n",
       "      <th>0</th>\n",
       "      <td>2020-01-30T00:00:00</td>\n",
       "      <td>1</td>\n",
       "    </tr>\n",
       "    <tr>\n",
       "      <th>1</th>\n",
       "      <td>2020-01-31T00:00:00</td>\n",
       "      <td>0</td>\n",
       "    </tr>\n",
       "    <tr>\n",
       "      <th>2</th>\n",
       "      <td>2020-02-03T00:00:00</td>\n",
       "      <td>1</td>\n",
       "    </tr>\n",
       "    <tr>\n",
       "      <th>3</th>\n",
       "      <td>2020-02-04T00:00:00</td>\n",
       "      <td>0</td>\n",
       "    </tr>\n",
       "    <tr>\n",
       "      <th>4</th>\n",
       "      <td>2020-02-05T00:00:00</td>\n",
       "      <td>0</td>\n",
       "    </tr>\n",
       "  </tbody>\n",
       "</table>\n",
       "</div>"
      ],
      "text/plain": [
       "              category  New cases\n",
       "0  2020-01-30T00:00:00          1\n",
       "1  2020-01-31T00:00:00          0\n",
       "2  2020-02-03T00:00:00          1\n",
       "3  2020-02-04T00:00:00          0\n",
       "4  2020-02-05T00:00:00          0"
      ]
     },
     "execution_count": 4,
     "metadata": {},
     "output_type": "execute_result"
    }
   ],
   "source": [
    "on_new.head()"
   ]
  },
  {
   "cell_type": "code",
   "execution_count": 5,
   "metadata": {},
   "outputs": [],
   "source": [
    "on_new.columns = [\"date\", \"new\"]"
   ]
  },
  {
   "cell_type": "code",
   "execution_count": 6,
   "metadata": {},
   "outputs": [
    {
     "data": {
      "text/plain": [
       "str"
      ]
     },
     "execution_count": 6,
     "metadata": {},
     "output_type": "execute_result"
    }
   ],
   "source": [
    "type(on_new[\"date\"][1])"
   ]
  },
  {
   "cell_type": "code",
   "execution_count": 7,
   "metadata": {},
   "outputs": [
    {
     "data": {
      "text/plain": [
       "'2020-10-04T00:00:00'"
      ]
     },
     "execution_count": 7,
     "metadata": {},
     "output_type": "execute_result"
    }
   ],
   "source": [
    "max(on_new.date)"
   ]
  },
  {
   "cell_type": "code",
   "execution_count": 8,
   "metadata": {},
   "outputs": [],
   "source": [
    "on_new = on_new.assign(date = lambda x: x['date'].map(lambda d: d[:10]))\n",
    "#on_new['date'] = [d[:10] for d in on_new.date.values]"
   ]
  },
  {
   "cell_type": "code",
   "execution_count": 9,
   "metadata": {},
   "outputs": [
    {
     "data": {
      "text/html": [
       "<div>\n",
       "<style scoped>\n",
       "    .dataframe tbody tr th:only-of-type {\n",
       "        vertical-align: middle;\n",
       "    }\n",
       "\n",
       "    .dataframe tbody tr th {\n",
       "        vertical-align: top;\n",
       "    }\n",
       "\n",
       "    .dataframe thead th {\n",
       "        text-align: right;\n",
       "    }\n",
       "</style>\n",
       "<table border=\"1\" class=\"dataframe\">\n",
       "  <thead>\n",
       "    <tr style=\"text-align: right;\">\n",
       "      <th></th>\n",
       "      <th>date</th>\n",
       "      <th>new</th>\n",
       "    </tr>\n",
       "  </thead>\n",
       "  <tbody>\n",
       "    <tr>\n",
       "      <th>0</th>\n",
       "      <td>2020-01-30</td>\n",
       "      <td>1</td>\n",
       "    </tr>\n",
       "    <tr>\n",
       "      <th>1</th>\n",
       "      <td>2020-01-31</td>\n",
       "      <td>0</td>\n",
       "    </tr>\n",
       "    <tr>\n",
       "      <th>2</th>\n",
       "      <td>2020-02-03</td>\n",
       "      <td>1</td>\n",
       "    </tr>\n",
       "    <tr>\n",
       "      <th>3</th>\n",
       "      <td>2020-02-04</td>\n",
       "      <td>0</td>\n",
       "    </tr>\n",
       "    <tr>\n",
       "      <th>4</th>\n",
       "      <td>2020-02-05</td>\n",
       "      <td>0</td>\n",
       "    </tr>\n",
       "  </tbody>\n",
       "</table>\n",
       "</div>"
      ],
      "text/plain": [
       "         date  new\n",
       "0  2020-01-30    1\n",
       "1  2020-01-31    0\n",
       "2  2020-02-03    1\n",
       "3  2020-02-04    0\n",
       "4  2020-02-05    0"
      ]
     },
     "execution_count": 9,
     "metadata": {},
     "output_type": "execute_result"
    }
   ],
   "source": [
    "on_new.head()"
   ]
  },
  {
   "cell_type": "code",
   "execution_count": 10,
   "metadata": {},
   "outputs": [],
   "source": [
    "first_date = min(on_new.date.values)\n",
    "last_date = max(on_new.date.values)\n",
    "in_btw_dates = pd.date_range(start=first_date, end=last_date).values"
   ]
  },
  {
   "cell_type": "code",
   "execution_count": 11,
   "metadata": {},
   "outputs": [],
   "source": [
    "in_btw_dates = [str(d)[:10] for d in in_btw_dates]"
   ]
  },
  {
   "cell_type": "code",
   "execution_count": 12,
   "metadata": {},
   "outputs": [
    {
     "data": {
      "text/plain": [
       "249"
      ]
     },
     "execution_count": 12,
     "metadata": {},
     "output_type": "execute_result"
    }
   ],
   "source": [
    "len(in_btw_dates)"
   ]
  },
  {
   "cell_type": "code",
   "execution_count": 13,
   "metadata": {},
   "outputs": [
    {
     "data": {
      "text/plain": [
       "(239, 2)"
      ]
     },
     "execution_count": 13,
     "metadata": {},
     "output_type": "execute_result"
    }
   ],
   "source": [
    "on_new.shape"
   ]
  },
  {
   "cell_type": "code",
   "execution_count": 14,
   "metadata": {},
   "outputs": [],
   "source": [
    "dates = pd.DataFrame({'date':in_btw_dates})\n",
    "on_new = on_new.merge(right=dates, how='right', on='date')"
   ]
  },
  {
   "cell_type": "code",
   "execution_count": 15,
   "metadata": {},
   "outputs": [
    {
     "data": {
      "text/plain": [
       "(249, 2)"
      ]
     },
     "execution_count": 15,
     "metadata": {},
     "output_type": "execute_result"
    }
   ],
   "source": [
    "on_new.shape"
   ]
  },
  {
   "cell_type": "code",
   "execution_count": 16,
   "metadata": {},
   "outputs": [
    {
     "data": {
      "text/plain": [
       "date     0\n",
       "new     10\n",
       "dtype: int64"
      ]
     },
     "execution_count": 16,
     "metadata": {},
     "output_type": "execute_result"
    }
   ],
   "source": [
    "pd.isnull(on_new).sum()"
   ]
  },
  {
   "cell_type": "code",
   "execution_count": 17,
   "metadata": {},
   "outputs": [],
   "source": [
    "on_new = on_new.fillna(value=0)"
   ]
  },
  {
   "cell_type": "code",
   "execution_count": 18,
   "metadata": {},
   "outputs": [
    {
     "data": {
      "text/plain": [
       "date    0\n",
       "new     0\n",
       "dtype: int64"
      ]
     },
     "execution_count": 18,
     "metadata": {},
     "output_type": "execute_result"
    }
   ],
   "source": [
    "pd.isnull(on_new).sum()"
   ]
  },
  {
   "cell_type": "code",
   "execution_count": 19,
   "metadata": {},
   "outputs": [
    {
     "data": {
      "text/html": [
       "<div>\n",
       "<style scoped>\n",
       "    .dataframe tbody tr th:only-of-type {\n",
       "        vertical-align: middle;\n",
       "    }\n",
       "\n",
       "    .dataframe tbody tr th {\n",
       "        vertical-align: top;\n",
       "    }\n",
       "\n",
       "    .dataframe thead th {\n",
       "        text-align: right;\n",
       "    }\n",
       "</style>\n",
       "<table border=\"1\" class=\"dataframe\">\n",
       "  <thead>\n",
       "    <tr style=\"text-align: right;\">\n",
       "      <th></th>\n",
       "      <th>province</th>\n",
       "      <th>region</th>\n",
       "      <th>date</th>\n",
       "      <th>retail_and_recreation_percent_change_from_baseline</th>\n",
       "      <th>grocery_and_pharmacy_percent_change_from_baseline</th>\n",
       "      <th>parks_percent_change_from_baseline</th>\n",
       "      <th>transit_stations_percent_change_from_baseline</th>\n",
       "      <th>workplaces_percent_change_from_baseline</th>\n",
       "      <th>residential_percent_change_from_baseline</th>\n",
       "    </tr>\n",
       "  </thead>\n",
       "  <tbody>\n",
       "    <tr>\n",
       "      <th>0</th>\n",
       "      <td>Ontario</td>\n",
       "      <td>Algoma District</td>\n",
       "      <td>2020-02-15</td>\n",
       "      <td>0.0</td>\n",
       "      <td>0.0</td>\n",
       "      <td>23.0</td>\n",
       "      <td>8.0</td>\n",
       "      <td>-2.0</td>\n",
       "      <td>0.0</td>\n",
       "    </tr>\n",
       "    <tr>\n",
       "      <th>1</th>\n",
       "      <td>Ontario</td>\n",
       "      <td>Algoma District</td>\n",
       "      <td>2020-02-16</td>\n",
       "      <td>5.0</td>\n",
       "      <td>-1.0</td>\n",
       "      <td>NaN</td>\n",
       "      <td>-3.0</td>\n",
       "      <td>-5.0</td>\n",
       "      <td>0.0</td>\n",
       "    </tr>\n",
       "    <tr>\n",
       "      <th>2</th>\n",
       "      <td>Ontario</td>\n",
       "      <td>Algoma District</td>\n",
       "      <td>2020-02-17</td>\n",
       "      <td>-51.0</td>\n",
       "      <td>-66.0</td>\n",
       "      <td>NaN</td>\n",
       "      <td>-28.0</td>\n",
       "      <td>-66.0</td>\n",
       "      <td>12.0</td>\n",
       "    </tr>\n",
       "    <tr>\n",
       "      <th>3</th>\n",
       "      <td>Ontario</td>\n",
       "      <td>Algoma District</td>\n",
       "      <td>2020-02-18</td>\n",
       "      <td>-10.0</td>\n",
       "      <td>3.0</td>\n",
       "      <td>-16.0</td>\n",
       "      <td>-4.0</td>\n",
       "      <td>-4.0</td>\n",
       "      <td>3.0</td>\n",
       "    </tr>\n",
       "    <tr>\n",
       "      <th>4</th>\n",
       "      <td>Ontario</td>\n",
       "      <td>Algoma District</td>\n",
       "      <td>2020-02-19</td>\n",
       "      <td>3.0</td>\n",
       "      <td>-1.0</td>\n",
       "      <td>-6.0</td>\n",
       "      <td>-1.0</td>\n",
       "      <td>0.0</td>\n",
       "      <td>1.0</td>\n",
       "    </tr>\n",
       "  </tbody>\n",
       "</table>\n",
       "</div>"
      ],
      "text/plain": [
       "  province           region        date  \\\n",
       "0  Ontario  Algoma District  2020-02-15   \n",
       "1  Ontario  Algoma District  2020-02-16   \n",
       "2  Ontario  Algoma District  2020-02-17   \n",
       "3  Ontario  Algoma District  2020-02-18   \n",
       "4  Ontario  Algoma District  2020-02-19   \n",
       "\n",
       "   retail_and_recreation_percent_change_from_baseline  \\\n",
       "0                                                0.0    \n",
       "1                                                5.0    \n",
       "2                                              -51.0    \n",
       "3                                              -10.0    \n",
       "4                                                3.0    \n",
       "\n",
       "   grocery_and_pharmacy_percent_change_from_baseline  \\\n",
       "0                                                0.0   \n",
       "1                                               -1.0   \n",
       "2                                              -66.0   \n",
       "3                                                3.0   \n",
       "4                                               -1.0   \n",
       "\n",
       "   parks_percent_change_from_baseline  \\\n",
       "0                                23.0   \n",
       "1                                 NaN   \n",
       "2                                 NaN   \n",
       "3                               -16.0   \n",
       "4                                -6.0   \n",
       "\n",
       "   transit_stations_percent_change_from_baseline  \\\n",
       "0                                            8.0   \n",
       "1                                           -3.0   \n",
       "2                                          -28.0   \n",
       "3                                           -4.0   \n",
       "4                                           -1.0   \n",
       "\n",
       "   workplaces_percent_change_from_baseline  \\\n",
       "0                                     -2.0   \n",
       "1                                     -5.0   \n",
       "2                                    -66.0   \n",
       "3                                     -4.0   \n",
       "4                                      0.0   \n",
       "\n",
       "   residential_percent_change_from_baseline  \n",
       "0                                       0.0  \n",
       "1                                       0.0  \n",
       "2                                      12.0  \n",
       "3                                       3.0  \n",
       "4                                       1.0  "
      ]
     },
     "execution_count": 19,
     "metadata": {},
     "output_type": "execute_result"
    }
   ],
   "source": [
    "on_mobil.head()"
   ]
  },
  {
   "cell_type": "code",
   "execution_count": 20,
   "metadata": {},
   "outputs": [
    {
     "data": {
      "text/plain": [
       "(array(['Algoma District', 'Brant County', 'Brantford', 'Bruce County',\n",
       "        'Chatham-Kent Division', 'Cochrane District', 'Dufferin County',\n",
       "        'Elgin County', 'Essex County', 'Frontenac County',\n",
       "        'Greater Sudbury Division', 'Grey County', 'Haldimand County',\n",
       "        'Haliburton County', 'Hamilton Division', 'Hastings County',\n",
       "        'Huron County', 'Kawartha Lakes Division', 'Kenora District',\n",
       "        'Lambton County', 'Lanark County',\n",
       "        'Leeds and Grenville United Counties',\n",
       "        'Lennox and Addington County', 'Manitoulin District',\n",
       "        'Middlesex County', 'Muskoka District Municipality',\n",
       "        'Nipissing District', 'Norfolk County', 'Northumberland County',\n",
       "        'Ottawa Division', 'Oxford County', 'Parry Sound District',\n",
       "        'Perth County', 'Peterborough County',\n",
       "        'Prescott and Russell United Counties', 'Prince Edward County',\n",
       "        'Rainy River District', 'Regional Municipality of Durham',\n",
       "        'Regional Municipality of Halton',\n",
       "        'Regional Municipality of Niagara',\n",
       "        'Regional Municipality of Peel', 'Regional Municipality of York',\n",
       "        'Renfrew County', 'Simcoe County',\n",
       "        'Stormont, Dundas and Glengarry United Counties',\n",
       "        'Sudbury District', 'Thunder Bay District', 'Timiskaming District',\n",
       "        'Toronto Division', 'Waterloo Regional Municipality',\n",
       "        'Wellington County'], dtype=object),\n",
       " array([235, 229, 235, 228, 234, 229, 229, 232, 235, 235, 235, 232, 229,\n",
       "        146, 235, 235, 228, 229, 228, 235, 229, 232, 228,  95, 235, 229,\n",
       "        231, 229, 229, 235, 235, 213, 229, 235, 229, 148,  71, 235, 235,\n",
       "        235, 235, 235, 229, 235, 235, 151, 235, 193, 235, 235, 235]))"
      ]
     },
     "execution_count": 20,
     "metadata": {},
     "output_type": "execute_result"
    }
   ],
   "source": [
    "# get unique regions\n",
    "np.unique(on_mobil.region.values, return_counts=True)"
   ]
  },
  {
   "cell_type": "code",
   "execution_count": 21,
   "metadata": {},
   "outputs": [
    {
     "data": {
      "text/plain": [
       "235"
      ]
     },
     "execution_count": 21,
     "metadata": {},
     "output_type": "execute_result"
    }
   ],
   "source": [
    "len(np.unique(on_mobil.date.values))"
   ]
  },
  {
   "cell_type": "code",
   "execution_count": 22,
   "metadata": {},
   "outputs": [],
   "source": [
    "on_mobil_mean = on_mobil.groupby(['date', 'province']).agg(\n",
    "    mean_retail_change = pd.NamedAgg(column='retail_and_recreation_percent_change_from_baseline', aggfunc=np.mean),\n",
    "    mean_grocery_change = pd.NamedAgg(column='grocery_and_pharmacy_percent_change_from_baseline', aggfunc=np.mean),\n",
    "    mean_parks_change = pd.NamedAgg(column='parks_percent_change_from_baseline', aggfunc=np.mean),\n",
    "    mean_transit_change = pd.NamedAgg(column='transit_stations_percent_change_from_baseline', aggfunc=np.mean),\n",
    "    mean_workplace_change = pd.NamedAgg(column='workplaces_percent_change_from_baseline', aggfunc=np.mean),\n",
    "    mean_residential_change = pd.NamedAgg(column='residential_percent_change_from_baseline', aggfunc=np.mean)\n",
    ")"
   ]
  },
  {
   "cell_type": "code",
   "execution_count": 23,
   "metadata": {},
   "outputs": [],
   "source": [
    "on_mobil_mean = on_mobil_mean.reset_index()"
   ]
  },
  {
   "cell_type": "code",
   "execution_count": 24,
   "metadata": {},
   "outputs": [
    {
     "name": "stdout",
     "output_type": "stream",
     "text": [
      "2020-02-15\n",
      "2020-10-06\n"
     ]
    }
   ],
   "source": [
    "print(on_mobil_mean.date.min())\n",
    "print(on_mobil_mean.date.max())"
   ]
  },
  {
   "cell_type": "code",
   "execution_count": 25,
   "metadata": {},
   "outputs": [
    {
     "data": {
      "text/plain": [
       "234"
      ]
     },
     "execution_count": 25,
     "metadata": {},
     "output_type": "execute_result"
    }
   ],
   "source": [
    "diff = datetime.date(datetime.strptime(on_mobil_mean.date.max(), \"%Y-%m-%d\")) - \\\n",
    "datetime.date(datetime.strptime(on_mobil_mean.date.min(), \"%Y-%m-%d\"))\n",
    "diff.days"
   ]
  },
  {
   "cell_type": "code",
   "execution_count": null,
   "metadata": {},
   "outputs": [],
   "source": []
  },
  {
   "cell_type": "code",
   "execution_count": 26,
   "metadata": {},
   "outputs": [
    {
     "data": {
      "text/plain": [
       "datetime.date(2020, 10, 6)"
      ]
     },
     "execution_count": 26,
     "metadata": {},
     "output_type": "execute_result"
    }
   ],
   "source": [
    "datetime.date(datetime.strptime(on_mobil_mean.date.min(), \"%Y-%m-%d\")) + timedelta(days=234)"
   ]
  },
  {
   "cell_type": "code",
   "execution_count": 27,
   "metadata": {},
   "outputs": [],
   "source": [
    "# left join new cases onto mobil_mean\n",
    "data = on_mobil_mean.merge(right=on_new, how='left', on='date')"
   ]
  },
  {
   "cell_type": "code",
   "execution_count": 28,
   "metadata": {},
   "outputs": [
    {
     "data": {
      "text/html": [
       "<div>\n",
       "<style scoped>\n",
       "    .dataframe tbody tr th:only-of-type {\n",
       "        vertical-align: middle;\n",
       "    }\n",
       "\n",
       "    .dataframe tbody tr th {\n",
       "        vertical-align: top;\n",
       "    }\n",
       "\n",
       "    .dataframe thead th {\n",
       "        text-align: right;\n",
       "    }\n",
       "</style>\n",
       "<table border=\"1\" class=\"dataframe\">\n",
       "  <thead>\n",
       "    <tr style=\"text-align: right;\">\n",
       "      <th></th>\n",
       "      <th>date</th>\n",
       "      <th>province</th>\n",
       "      <th>mean_retail_change</th>\n",
       "      <th>mean_grocery_change</th>\n",
       "      <th>mean_parks_change</th>\n",
       "      <th>mean_transit_change</th>\n",
       "      <th>mean_workplace_change</th>\n",
       "      <th>mean_residential_change</th>\n",
       "      <th>new</th>\n",
       "    </tr>\n",
       "  </thead>\n",
       "  <tbody>\n",
       "    <tr>\n",
       "      <th>0</th>\n",
       "      <td>2020-02-15</td>\n",
       "      <td>Ontario</td>\n",
       "      <td>6.466667</td>\n",
       "      <td>4.674419</td>\n",
       "      <td>24.333333</td>\n",
       "      <td>23.724138</td>\n",
       "      <td>1.767442</td>\n",
       "      <td>-1.000000</td>\n",
       "      <td>0.0</td>\n",
       "    </tr>\n",
       "    <tr>\n",
       "      <th>1</th>\n",
       "      <td>2020-02-16</td>\n",
       "      <td>Ontario</td>\n",
       "      <td>15.555556</td>\n",
       "      <td>15.452381</td>\n",
       "      <td>46.368421</td>\n",
       "      <td>6.678571</td>\n",
       "      <td>-1.595238</td>\n",
       "      <td>-2.291667</td>\n",
       "      <td>0.0</td>\n",
       "    </tr>\n",
       "    <tr>\n",
       "      <th>2</th>\n",
       "      <td>2020-02-17</td>\n",
       "      <td>Ontario</td>\n",
       "      <td>-25.545455</td>\n",
       "      <td>-43.250000</td>\n",
       "      <td>67.333333</td>\n",
       "      <td>-4.827586</td>\n",
       "      <td>-67.725490</td>\n",
       "      <td>14.454545</td>\n",
       "      <td>0.0</td>\n",
       "    </tr>\n",
       "    <tr>\n",
       "      <th>3</th>\n",
       "      <td>2020-02-18</td>\n",
       "      <td>Ontario</td>\n",
       "      <td>-2.822222</td>\n",
       "      <td>11.777778</td>\n",
       "      <td>-8.600000</td>\n",
       "      <td>0.310345</td>\n",
       "      <td>-1.125000</td>\n",
       "      <td>1.266667</td>\n",
       "      <td>0.0</td>\n",
       "    </tr>\n",
       "    <tr>\n",
       "      <th>4</th>\n",
       "      <td>2020-02-19</td>\n",
       "      <td>Ontario</td>\n",
       "      <td>-0.466667</td>\n",
       "      <td>4.111111</td>\n",
       "      <td>-4.538462</td>\n",
       "      <td>0.758621</td>\n",
       "      <td>1.375000</td>\n",
       "      <td>0.533333</td>\n",
       "      <td>0.0</td>\n",
       "    </tr>\n",
       "    <tr>\n",
       "      <th>5</th>\n",
       "      <td>2020-02-20</td>\n",
       "      <td>Ontario</td>\n",
       "      <td>5.311111</td>\n",
       "      <td>6.822222</td>\n",
       "      <td>0.652174</td>\n",
       "      <td>1.034483</td>\n",
       "      <td>2.395833</td>\n",
       "      <td>-0.288889</td>\n",
       "      <td>0.0</td>\n",
       "    </tr>\n",
       "    <tr>\n",
       "      <th>6</th>\n",
       "      <td>2020-02-21</td>\n",
       "      <td>Ontario</td>\n",
       "      <td>0.913043</td>\n",
       "      <td>-2.377778</td>\n",
       "      <td>3.629630</td>\n",
       "      <td>1.344828</td>\n",
       "      <td>-6.187500</td>\n",
       "      <td>1.466667</td>\n",
       "      <td>0.0</td>\n",
       "    </tr>\n",
       "    <tr>\n",
       "      <th>7</th>\n",
       "      <td>2020-02-22</td>\n",
       "      <td>Ontario</td>\n",
       "      <td>10.977778</td>\n",
       "      <td>7.000000</td>\n",
       "      <td>45.826087</td>\n",
       "      <td>18.620690</td>\n",
       "      <td>7.255814</td>\n",
       "      <td>-2.035714</td>\n",
       "      <td>0.0</td>\n",
       "    </tr>\n",
       "    <tr>\n",
       "      <th>8</th>\n",
       "      <td>2020-02-23</td>\n",
       "      <td>Ontario</td>\n",
       "      <td>12.933333</td>\n",
       "      <td>8.095238</td>\n",
       "      <td>50.100000</td>\n",
       "      <td>14.785714</td>\n",
       "      <td>4.804878</td>\n",
       "      <td>-1.541667</td>\n",
       "      <td>0.0</td>\n",
       "    </tr>\n",
       "    <tr>\n",
       "      <th>9</th>\n",
       "      <td>2020-02-24</td>\n",
       "      <td>Ontario</td>\n",
       "      <td>2.000000</td>\n",
       "      <td>3.311111</td>\n",
       "      <td>14.200000</td>\n",
       "      <td>2.724138</td>\n",
       "      <td>2.729167</td>\n",
       "      <td>-0.022222</td>\n",
       "      <td>1.0</td>\n",
       "    </tr>\n",
       "    <tr>\n",
       "      <th>10</th>\n",
       "      <td>2020-02-25</td>\n",
       "      <td>Ontario</td>\n",
       "      <td>1.488889</td>\n",
       "      <td>6.800000</td>\n",
       "      <td>1.260870</td>\n",
       "      <td>1.724138</td>\n",
       "      <td>3.166667</td>\n",
       "      <td>-0.333333</td>\n",
       "      <td>0.0</td>\n",
       "    </tr>\n",
       "    <tr>\n",
       "      <th>11</th>\n",
       "      <td>2020-02-26</td>\n",
       "      <td>Ontario</td>\n",
       "      <td>-7.000000</td>\n",
       "      <td>-0.733333</td>\n",
       "      <td>-14.192308</td>\n",
       "      <td>-3.758621</td>\n",
       "      <td>-0.937500</td>\n",
       "      <td>2.333333</td>\n",
       "      <td>0.0</td>\n",
       "    </tr>\n",
       "    <tr>\n",
       "      <th>12</th>\n",
       "      <td>2020-02-27</td>\n",
       "      <td>Ontario</td>\n",
       "      <td>-17.444444</td>\n",
       "      <td>-13.545455</td>\n",
       "      <td>-21.576923</td>\n",
       "      <td>-9.689655</td>\n",
       "      <td>-10.591837</td>\n",
       "      <td>6.177778</td>\n",
       "      <td>1.0</td>\n",
       "    </tr>\n",
       "    <tr>\n",
       "      <th>13</th>\n",
       "      <td>2020-02-28</td>\n",
       "      <td>Ontario</td>\n",
       "      <td>-6.891304</td>\n",
       "      <td>-2.977778</td>\n",
       "      <td>-13.392857</td>\n",
       "      <td>2.172414</td>\n",
       "      <td>-4.145833</td>\n",
       "      <td>3.000000</td>\n",
       "      <td>1.0</td>\n",
       "    </tr>\n",
       "    <tr>\n",
       "      <th>14</th>\n",
       "      <td>2020-02-29</td>\n",
       "      <td>Ontario</td>\n",
       "      <td>10.600000</td>\n",
       "      <td>9.511628</td>\n",
       "      <td>13.880000</td>\n",
       "      <td>17.965517</td>\n",
       "      <td>8.651163</td>\n",
       "      <td>-1.551724</td>\n",
       "      <td>0.0</td>\n",
       "    </tr>\n",
       "    <tr>\n",
       "      <th>15</th>\n",
       "      <td>2020-03-01</td>\n",
       "      <td>Ontario</td>\n",
       "      <td>14.222222</td>\n",
       "      <td>12.761905</td>\n",
       "      <td>24.652174</td>\n",
       "      <td>8.392857</td>\n",
       "      <td>6.219512</td>\n",
       "      <td>-1.160000</td>\n",
       "      <td>0.0</td>\n",
       "    </tr>\n",
       "    <tr>\n",
       "      <th>16</th>\n",
       "      <td>2020-03-02</td>\n",
       "      <td>Ontario</td>\n",
       "      <td>4.333333</td>\n",
       "      <td>5.511111</td>\n",
       "      <td>-5.047619</td>\n",
       "      <td>1.137931</td>\n",
       "      <td>3.562500</td>\n",
       "      <td>0.311111</td>\n",
       "      <td>12.0</td>\n",
       "    </tr>\n",
       "    <tr>\n",
       "      <th>17</th>\n",
       "      <td>2020-03-03</td>\n",
       "      <td>Ontario</td>\n",
       "      <td>2.355556</td>\n",
       "      <td>2.933333</td>\n",
       "      <td>-8.545455</td>\n",
       "      <td>1.413793</td>\n",
       "      <td>4.083333</td>\n",
       "      <td>0.111111</td>\n",
       "      <td>2.0</td>\n",
       "    </tr>\n",
       "    <tr>\n",
       "      <th>18</th>\n",
       "      <td>2020-03-04</td>\n",
       "      <td>Ontario</td>\n",
       "      <td>4.266667</td>\n",
       "      <td>4.444444</td>\n",
       "      <td>0.920000</td>\n",
       "      <td>3.655172</td>\n",
       "      <td>4.062500</td>\n",
       "      <td>-0.111111</td>\n",
       "      <td>0.0</td>\n",
       "    </tr>\n",
       "    <tr>\n",
       "      <th>19</th>\n",
       "      <td>2020-03-05</td>\n",
       "      <td>Ontario</td>\n",
       "      <td>7.088889</td>\n",
       "      <td>6.111111</td>\n",
       "      <td>14.409091</td>\n",
       "      <td>3.896552</td>\n",
       "      <td>1.500000</td>\n",
       "      <td>0.088889</td>\n",
       "      <td>2.0</td>\n",
       "    </tr>\n",
       "  </tbody>\n",
       "</table>\n",
       "</div>"
      ],
      "text/plain": [
       "          date province  mean_retail_change  mean_grocery_change  \\\n",
       "0   2020-02-15  Ontario            6.466667             4.674419   \n",
       "1   2020-02-16  Ontario           15.555556            15.452381   \n",
       "2   2020-02-17  Ontario          -25.545455           -43.250000   \n",
       "3   2020-02-18  Ontario           -2.822222            11.777778   \n",
       "4   2020-02-19  Ontario           -0.466667             4.111111   \n",
       "5   2020-02-20  Ontario            5.311111             6.822222   \n",
       "6   2020-02-21  Ontario            0.913043            -2.377778   \n",
       "7   2020-02-22  Ontario           10.977778             7.000000   \n",
       "8   2020-02-23  Ontario           12.933333             8.095238   \n",
       "9   2020-02-24  Ontario            2.000000             3.311111   \n",
       "10  2020-02-25  Ontario            1.488889             6.800000   \n",
       "11  2020-02-26  Ontario           -7.000000            -0.733333   \n",
       "12  2020-02-27  Ontario          -17.444444           -13.545455   \n",
       "13  2020-02-28  Ontario           -6.891304            -2.977778   \n",
       "14  2020-02-29  Ontario           10.600000             9.511628   \n",
       "15  2020-03-01  Ontario           14.222222            12.761905   \n",
       "16  2020-03-02  Ontario            4.333333             5.511111   \n",
       "17  2020-03-03  Ontario            2.355556             2.933333   \n",
       "18  2020-03-04  Ontario            4.266667             4.444444   \n",
       "19  2020-03-05  Ontario            7.088889             6.111111   \n",
       "\n",
       "    mean_parks_change  mean_transit_change  mean_workplace_change  \\\n",
       "0           24.333333            23.724138               1.767442   \n",
       "1           46.368421             6.678571              -1.595238   \n",
       "2           67.333333            -4.827586             -67.725490   \n",
       "3           -8.600000             0.310345              -1.125000   \n",
       "4           -4.538462             0.758621               1.375000   \n",
       "5            0.652174             1.034483               2.395833   \n",
       "6            3.629630             1.344828              -6.187500   \n",
       "7           45.826087            18.620690               7.255814   \n",
       "8           50.100000            14.785714               4.804878   \n",
       "9           14.200000             2.724138               2.729167   \n",
       "10           1.260870             1.724138               3.166667   \n",
       "11         -14.192308            -3.758621              -0.937500   \n",
       "12         -21.576923            -9.689655             -10.591837   \n",
       "13         -13.392857             2.172414              -4.145833   \n",
       "14          13.880000            17.965517               8.651163   \n",
       "15          24.652174             8.392857               6.219512   \n",
       "16          -5.047619             1.137931               3.562500   \n",
       "17          -8.545455             1.413793               4.083333   \n",
       "18           0.920000             3.655172               4.062500   \n",
       "19          14.409091             3.896552               1.500000   \n",
       "\n",
       "    mean_residential_change   new  \n",
       "0                 -1.000000   0.0  \n",
       "1                 -2.291667   0.0  \n",
       "2                 14.454545   0.0  \n",
       "3                  1.266667   0.0  \n",
       "4                  0.533333   0.0  \n",
       "5                 -0.288889   0.0  \n",
       "6                  1.466667   0.0  \n",
       "7                 -2.035714   0.0  \n",
       "8                 -1.541667   0.0  \n",
       "9                 -0.022222   1.0  \n",
       "10                -0.333333   0.0  \n",
       "11                 2.333333   0.0  \n",
       "12                 6.177778   1.0  \n",
       "13                 3.000000   1.0  \n",
       "14                -1.551724   0.0  \n",
       "15                -1.160000   0.0  \n",
       "16                 0.311111  12.0  \n",
       "17                 0.111111   2.0  \n",
       "18                -0.111111   0.0  \n",
       "19                 0.088889   2.0  "
      ]
     },
     "execution_count": 28,
     "metadata": {},
     "output_type": "execute_result"
    }
   ],
   "source": [
    "data.head(20)"
   ]
  },
  {
   "cell_type": "code",
   "execution_count": 29,
   "metadata": {},
   "outputs": [],
   "source": [
    "# create 3 day and 5 day moving averages\n",
    "# shift the moving average down 3 and 5 respectively and drop NA rows at the tail\n",
    "data['1d_lag'] = data['new'].shift(-1)\n",
    "data['3d_SMA'] = data['1d_lag'].rolling(window=3).mean().shift(-2)\n",
    "data['5d_SMA'] = data['1d_lag'].rolling(window=5).mean().shift(-4)\n",
    "data['3d_SMA_14d_lag'] = data['new'].shift(-1)\n",
    "\n",
    "# auto-correlation investigation"
   ]
  },
  {
   "cell_type": "code",
   "execution_count": 30,
   "metadata": {},
   "outputs": [
    {
     "data": {
      "text/plain": [
       "<matplotlib.axes._subplots.AxesSubplot at 0x7fbe643e39b0>"
      ]
     },
     "execution_count": 30,
     "metadata": {},
     "output_type": "execute_result"
    },
    {
     "data": {
      "image/png": "[encoded data removed]",
      "text/plain": [
       "<matplotlib.figure.Figure at 0x7fbe643e3160>"
      ]
     },
     "metadata": {
      "needs_background": "light"
     },
     "output_type": "display_data"
    }
   ],
   "source": [
    "data['3d_SMA'].plot()"
   ]
  },
  {
   "cell_type": "code",
   "execution_count": 31,
   "metadata": {},
   "outputs": [
    {
     "data": {
      "text/plain": [
       "<matplotlib.axes._subplots.AxesSubplot at 0x7fbe644722b0>"
      ]
     },
     "execution_count": 31,
     "metadata": {},
     "output_type": "execute_result"
    },
    {
     "data": {
      "image/png": "[encoded data removed]",
      "text/plain": [
       "<matplotlib.figure.Figure at 0x7fbe6449f2e8>"
      ]
     },
     "metadata": {
      "needs_background": "light"
     },
     "output_type": "display_data"
    }
   ],
   "source": [
    "data['5d_SMA'].plot()"
   ]
  },
  {
   "cell_type": "code",
   "execution_count": 32,
   "metadata": {},
   "outputs": [
    {
     "data": {
      "text/html": [
       "<div>\n",
       "<style scoped>\n",
       "    .dataframe tbody tr th:only-of-type {\n",
       "        vertical-align: middle;\n",
       "    }\n",
       "\n",
       "    .dataframe tbody tr th {\n",
       "        vertical-align: top;\n",
       "    }\n",
       "\n",
       "    .dataframe thead th {\n",
       "        text-align: right;\n",
       "    }\n",
       "</style>\n",
       "<table border=\"1\" class=\"dataframe\">\n",
       "  <thead>\n",
       "    <tr style=\"text-align: right;\">\n",
       "      <th></th>\n",
       "      <th>date</th>\n",
       "      <th>province</th>\n",
       "      <th>mean_retail_change</th>\n",
       "      <th>mean_grocery_change</th>\n",
       "      <th>mean_parks_change</th>\n",
       "      <th>mean_transit_change</th>\n",
       "      <th>mean_workplace_change</th>\n",
       "      <th>mean_residential_change</th>\n",
       "      <th>new</th>\n",
       "      <th>1d_lag</th>\n",
       "      <th>3d_SMA</th>\n",
       "      <th>5d_SMA</th>\n",
       "      <th>3d_SMA_14d_lag</th>\n",
       "    </tr>\n",
       "  </thead>\n",
       "  <tbody>\n",
       "    <tr>\n",
       "      <th>0</th>\n",
       "      <td>2020-02-15</td>\n",
       "      <td>Ontario</td>\n",
       "      <td>6.466667</td>\n",
       "      <td>4.674419</td>\n",
       "      <td>24.333333</td>\n",
       "      <td>23.724138</td>\n",
       "      <td>1.767442</td>\n",
       "      <td>-1.000000</td>\n",
       "      <td>0.0</td>\n",
       "      <td>0.0</td>\n",
       "      <td>0.0</td>\n",
       "      <td>0.0</td>\n",
       "      <td>0.0</td>\n",
       "    </tr>\n",
       "    <tr>\n",
       "      <th>1</th>\n",
       "      <td>2020-02-16</td>\n",
       "      <td>Ontario</td>\n",
       "      <td>15.555556</td>\n",
       "      <td>15.452381</td>\n",
       "      <td>46.368421</td>\n",
       "      <td>6.678571</td>\n",
       "      <td>-1.595238</td>\n",
       "      <td>-2.291667</td>\n",
       "      <td>0.0</td>\n",
       "      <td>0.0</td>\n",
       "      <td>0.0</td>\n",
       "      <td>0.0</td>\n",
       "      <td>0.0</td>\n",
       "    </tr>\n",
       "    <tr>\n",
       "      <th>2</th>\n",
       "      <td>2020-02-17</td>\n",
       "      <td>Ontario</td>\n",
       "      <td>-25.545455</td>\n",
       "      <td>-43.250000</td>\n",
       "      <td>67.333333</td>\n",
       "      <td>-4.827586</td>\n",
       "      <td>-67.725490</td>\n",
       "      <td>14.454545</td>\n",
       "      <td>0.0</td>\n",
       "      <td>0.0</td>\n",
       "      <td>0.0</td>\n",
       "      <td>0.0</td>\n",
       "      <td>0.0</td>\n",
       "    </tr>\n",
       "    <tr>\n",
       "      <th>3</th>\n",
       "      <td>2020-02-18</td>\n",
       "      <td>Ontario</td>\n",
       "      <td>-2.822222</td>\n",
       "      <td>11.777778</td>\n",
       "      <td>-8.600000</td>\n",
       "      <td>0.310345</td>\n",
       "      <td>-1.125000</td>\n",
       "      <td>1.266667</td>\n",
       "      <td>0.0</td>\n",
       "      <td>0.0</td>\n",
       "      <td>0.0</td>\n",
       "      <td>0.0</td>\n",
       "      <td>0.0</td>\n",
       "    </tr>\n",
       "    <tr>\n",
       "      <th>4</th>\n",
       "      <td>2020-02-19</td>\n",
       "      <td>Ontario</td>\n",
       "      <td>-0.466667</td>\n",
       "      <td>4.111111</td>\n",
       "      <td>-4.538462</td>\n",
       "      <td>0.758621</td>\n",
       "      <td>1.375000</td>\n",
       "      <td>0.533333</td>\n",
       "      <td>0.0</td>\n",
       "      <td>0.0</td>\n",
       "      <td>0.0</td>\n",
       "      <td>0.2</td>\n",
       "      <td>0.0</td>\n",
       "    </tr>\n",
       "  </tbody>\n",
       "</table>\n",
       "</div>"
      ],
      "text/plain": [
       "         date province  mean_retail_change  mean_grocery_change  \\\n",
       "0  2020-02-15  Ontario            6.466667             4.674419   \n",
       "1  2020-02-16  Ontario           15.555556            15.452381   \n",
       "2  2020-02-17  Ontario          -25.545455           -43.250000   \n",
       "3  2020-02-18  Ontario           -2.822222            11.777778   \n",
       "4  2020-02-19  Ontario           -0.466667             4.111111   \n",
       "\n",
       "   mean_parks_change  mean_transit_change  mean_workplace_change  \\\n",
       "0          24.333333            23.724138               1.767442   \n",
       "1          46.368421             6.678571              -1.595238   \n",
       "2          67.333333            -4.827586             -67.725490   \n",
       "3          -8.600000             0.310345              -1.125000   \n",
       "4          -4.538462             0.758621               1.375000   \n",
       "\n",
       "   mean_residential_change  new  1d_lag  3d_SMA  5d_SMA  3d_SMA_14d_lag  \n",
       "0                -1.000000  0.0     0.0     0.0     0.0             0.0  \n",
       "1                -2.291667  0.0     0.0     0.0     0.0             0.0  \n",
       "2                14.454545  0.0     0.0     0.0     0.0             0.0  \n",
       "3                 1.266667  0.0     0.0     0.0     0.0             0.0  \n",
       "4                 0.533333  0.0     0.0     0.0     0.2             0.0  "
      ]
     },
     "execution_count": 32,
     "metadata": {},
     "output_type": "execute_result"
    }
   ],
   "source": [
    "data.head()"
   ]
  },
  {
   "cell_type": "code",
   "execution_count": 33,
   "metadata": {},
   "outputs": [
    {
     "data": {
      "text/plain": [
       "date                       0\n",
       "province                   0\n",
       "mean_retail_change         0\n",
       "mean_grocery_change        0\n",
       "mean_parks_change          0\n",
       "mean_transit_change        0\n",
       "mean_workplace_change      0\n",
       "mean_residential_change    0\n",
       "new                        2\n",
       "1d_lag                     3\n",
       "3d_SMA                     5\n",
       "5d_SMA                     7\n",
       "3d_SMA_14d_lag             3\n",
       "dtype: int64"
      ]
     },
     "execution_count": 33,
     "metadata": {},
     "output_type": "execute_result"
    }
   ],
   "source": [
    "data.isnull().sum()"
   ]
  },
  {
   "cell_type": "code",
   "execution_count": 34,
   "metadata": {},
   "outputs": [
    {
     "data": {
      "text/plain": [
       "date                       0\n",
       "province                   0\n",
       "mean_retail_change         0\n",
       "mean_grocery_change        0\n",
       "mean_parks_change          0\n",
       "mean_transit_change        0\n",
       "mean_workplace_change      0\n",
       "mean_residential_change    0\n",
       "new                        2\n",
       "1d_lag                     3\n",
       "3d_SMA                     5\n",
       "5d_SMA                     7\n",
       "3d_SMA_14d_lag             3\n",
       "dtype: int64"
      ]
     },
     "execution_count": 34,
     "metadata": {},
     "output_type": "execute_result"
    }
   ],
   "source": [
    "data.tail(7).isnull().sum()"
   ]
  },
  {
   "cell_type": "code",
   "execution_count": 35,
   "metadata": {},
   "outputs": [],
   "source": [
    "data = data.dropna()"
   ]
  },
  {
   "cell_type": "code",
   "execution_count": 36,
   "metadata": {},
   "outputs": [
    {
     "data": {
      "text/plain": [
       "date                       0\n",
       "province                   0\n",
       "mean_retail_change         0\n",
       "mean_grocery_change        0\n",
       "mean_parks_change          0\n",
       "mean_transit_change        0\n",
       "mean_workplace_change      0\n",
       "mean_residential_change    0\n",
       "new                        0\n",
       "1d_lag                     0\n",
       "3d_SMA                     0\n",
       "5d_SMA                     0\n",
       "3d_SMA_14d_lag             0\n",
       "dtype: int64"
      ]
     },
     "execution_count": 36,
     "metadata": {},
     "output_type": "execute_result"
    }
   ],
   "source": [
    "data.isnull().sum()"
   ]
  },
  {
   "cell_type": "code",
   "execution_count": 37,
   "metadata": {},
   "outputs": [],
   "source": [
    "data = data.reset_index()"
   ]
  },
  {
   "cell_type": "code",
   "execution_count": 38,
   "metadata": {},
   "outputs": [],
   "source": [
    "from sklearn.linear_model import LinearRegression"
   ]
  },
  {
   "cell_type": "code",
   "execution_count": 39,
   "metadata": {},
   "outputs": [
    {
     "data": {
      "text/plain": [
       "LinearRegression()"
      ]
     },
     "execution_count": 39,
     "metadata": {},
     "output_type": "execute_result"
    }
   ],
   "source": [
    "X = data[['index', 'mean_retail_change', 'mean_grocery_change', 'mean_parks_change', \\\n",
    "         'mean_transit_change', 'mean_workplace_change', 'mean_residential_change']]\n",
    "y_new = data['new']\n",
    "y_3d_sma = data['3d_SMA']\n",
    "y_5d_sma = data['5d_SMA']\n",
    "\n",
    "# fit to new\n",
    "model_new = LinearRegression()\n",
    "model_new.fit(X,y_new)\n",
    "\n",
    "# fit to 3d sma\n",
    "model_3d = LinearRegression()\n",
    "model_3d.fit(X,y_3d_sma)\n",
    "\n",
    "# fit to 5d sma\n",
    "model_5d = LinearRegression()\n",
    "model_5d.fit(X,y_5d_sma)"
   ]
  },
  {
   "cell_type": "code",
   "execution_count": 40,
   "metadata": {},
   "outputs": [
    {
     "name": "stdout",
     "output_type": "stream",
     "text": [
      "model_new has R2: 0.5867772108283704\n",
      "model_3d has R2: 0.6236913891831168\n",
      "model_5d has R2: 0.6418469704140596\n"
     ]
    }
   ],
   "source": [
    "print(\"model_new has R2:\",model_new.score(X, y_new))\n",
    "print(\"model_3d has R2:\",model_3d.score(X, y_3d_sma))\n",
    "print(\"model_5d has R2:\",model_5d.score(X, y_5d_sma))"
   ]
  },
  {
   "cell_type": "code",
   "execution_count": null,
   "metadata": {},
   "outputs": [],
   "source": []
  },
  {
   "cell_type": "code",
   "execution_count": 41,
   "metadata": {
    "scrolled": false
   },
   "outputs": [
    {
     "data": {
      "text/html": [
       "<table class=\"simpletable\">\n",
       "<caption>OLS Regression Results</caption>\n",
       "<tr>\n",
       "  <th>Dep. Variable:</th>           <td>new</td>       <th>  R-squared (uncentered):</th>      <td>   0.850</td>\n",
       "</tr>\n",
       "<tr>\n",
       "  <th>Model:</th>                   <td>OLS</td>       <th>  Adj. R-squared (uncentered):</th> <td>   0.845</td>\n",
       "</tr>\n",
       "<tr>\n",
       "  <th>Method:</th>             <td>Least Squares</td>  <th>  F-statistic:       </th>          <td>   178.6</td>\n",
       "</tr>\n",
       "<tr>\n",
       "  <th>Date:</th>             <td>Wed, 11 Nov 2020</td> <th>  Prob (F-statistic):</th>          <td>2.79e-87</td>\n",
       "</tr>\n",
       "<tr>\n",
       "  <th>Time:</th>                 <td>09:33:19</td>     <th>  Log-Likelihood:    </th>          <td> -1392.6</td>\n",
       "</tr>\n",
       "<tr>\n",
       "  <th>No. Observations:</th>      <td>   228</td>      <th>  AIC:               </th>          <td>   2799.</td>\n",
       "</tr>\n",
       "<tr>\n",
       "  <th>Df Residuals:</th>          <td>   221</td>      <th>  BIC:               </th>          <td>   2823.</td>\n",
       "</tr>\n",
       "<tr>\n",
       "  <th>Df Model:</th>              <td>     7</td>      <th>                     </th>              <td> </td>   \n",
       "</tr>\n",
       "<tr>\n",
       "  <th>Covariance Type:</th>      <td>nonrobust</td>    <th>                     </th>              <td> </td>   \n",
       "</tr>\n",
       "</table>\n",
       "<table class=\"simpletable\">\n",
       "<tr>\n",
       "             <td></td>                <th>coef</th>     <th>std err</th>      <th>t</th>      <th>P>|t|</th>  <th>[0.025</th>    <th>0.975]</th>  \n",
       "</tr>\n",
       "<tr>\n",
       "  <th>index</th>                   <td>    0.9308</td> <td>    0.255</td> <td>    3.647</td> <td> 0.000</td> <td>    0.428</td> <td>    1.434</td>\n",
       "</tr>\n",
       "<tr>\n",
       "  <th>mean_retail_change</th>      <td>   -1.2280</td> <td>    1.691</td> <td>   -0.726</td> <td> 0.469</td> <td>   -4.561</td> <td>    2.105</td>\n",
       "</tr>\n",
       "<tr>\n",
       "  <th>mean_grocery_change</th>     <td>   -1.0574</td> <td>    0.996</td> <td>   -1.061</td> <td> 0.290</td> <td>   -3.021</td> <td>    0.906</td>\n",
       "</tr>\n",
       "<tr>\n",
       "  <th>mean_parks_change</th>       <td>    0.1002</td> <td>    0.211</td> <td>    0.475</td> <td> 0.635</td> <td>   -0.315</td> <td>    0.516</td>\n",
       "</tr>\n",
       "<tr>\n",
       "  <th>mean_transit_change</th>     <td>   -2.9989</td> <td>    1.527</td> <td>   -1.964</td> <td> 0.051</td> <td>   -6.008</td> <td>    0.011</td>\n",
       "</tr>\n",
       "<tr>\n",
       "  <th>mean_workplace_change</th>   <td>    9.7987</td> <td>    1.311</td> <td>    7.473</td> <td> 0.000</td> <td>    7.215</td> <td>   12.383</td>\n",
       "</tr>\n",
       "<tr>\n",
       "  <th>mean_residential_change</th> <td>   30.3296</td> <td>    4.100</td> <td>    7.398</td> <td> 0.000</td> <td>   22.250</td> <td>   38.409</td>\n",
       "</tr>\n",
       "</table>\n",
       "<table class=\"simpletable\">\n",
       "<tr>\n",
       "  <th>Omnibus:</th>       <td> 3.760</td> <th>  Durbin-Watson:     </th> <td>   0.564</td>\n",
       "</tr>\n",
       "<tr>\n",
       "  <th>Prob(Omnibus):</th> <td> 0.153</td> <th>  Jarque-Bera (JB):  </th> <td>   3.797</td>\n",
       "</tr>\n",
       "<tr>\n",
       "  <th>Skew:</th>          <td> 0.172</td> <th>  Prob(JB):          </th> <td>   0.150</td>\n",
       "</tr>\n",
       "<tr>\n",
       "  <th>Kurtosis:</th>      <td> 3.530</td> <th>  Cond. No.          </th> <td>    94.6</td>\n",
       "</tr>\n",
       "</table><br/><br/>Notes:<br/>[1] R² is computed without centering (uncentered) since the model does not contain a constant.<br/>[2] Standard Errors assume that the covariance matrix of the errors is correctly specified."
      ],
      "text/plain": [
       "<class 'statsmodels.iolib.summary.Summary'>\n",
       "\"\"\"\n",
       "                                 OLS Regression Results                                \n",
       "=======================================================================================\n",
       "Dep. Variable:                    new   R-squared (uncentered):                   0.850\n",
       "Model:                            OLS   Adj. R-squared (uncentered):              0.845\n",
       "Method:                 Least Squares   F-statistic:                              178.6\n",
       "Date:                Wed, 11 Nov 2020   Prob (F-statistic):                    2.79e-87\n",
       "Time:                        09:33:19   Log-Likelihood:                         -1392.6\n",
       "No. Observations:                 228   AIC:                                      2799.\n",
       "Df Residuals:                     221   BIC:                                      2823.\n",
       "Df Model:                           7                                                  \n",
       "Covariance Type:            nonrobust                                                  \n",
       "===========================================================================================\n",
       "                              coef    std err          t      P>|t|      [0.025      0.975]\n",
       "-------------------------------------------------------------------------------------------\n",
       "index                       0.9308      0.255      3.647      0.000       0.428       1.434\n",
       "mean_retail_change         -1.2280      1.691     -0.726      0.469      -4.561       2.105\n",
       "mean_grocery_change        -1.0574      0.996     -1.061      0.290      -3.021       0.906\n",
       "mean_parks_change           0.1002      0.211      0.475      0.635      -0.315       0.516\n",
       "mean_transit_change        -2.9989      1.527     -1.964      0.051      -6.008       0.011\n",
       "mean_workplace_change       9.7987      1.311      7.473      0.000       7.215      12.383\n",
       "mean_residential_change    30.3296      4.100      7.398      0.000      22.250      38.409\n",
       "==============================================================================\n",
       "Omnibus:                        3.760   Durbin-Watson:                   0.564\n",
       "Prob(Omnibus):                  0.153   Jarque-Bera (JB):                3.797\n",
       "Skew:                           0.172   Prob(JB):                        0.150\n",
       "Kurtosis:                       3.530   Cond. No.                         94.6\n",
       "==============================================================================\n",
       "\n",
       "Notes:\n",
       "[1] R² is computed without centering (uncentered) since the model does not contain a constant.\n",
       "[2] Standard Errors assume that the covariance matrix of the errors is correctly specified.\n",
       "\"\"\""
      ]
     },
     "execution_count": 41,
     "metadata": {},
     "output_type": "execute_result"
    }
   ],
   "source": [
    "from statsmodels.api import OLS\n",
    "OLS(y_new,X).fit().summary()"
   ]
  },
  {
   "cell_type": "code",
   "execution_count": 42,
   "metadata": {},
   "outputs": [],
   "source": [
    "# try splitting into train test\n",
    "from sklearn.model_selection import train_test_split\n",
    "\n",
    "\n",
    "X_train_new, X_test_new, y_train_new, y_test_new = train_test_split(X, y_new, test_size=0.3, random_state=23)\n",
    "X_train_3d, X_test_3d, y_train_3d, y_test_3d = train_test_split(X, y_3d_sma, test_size=0.3, random_state=23)\n",
    "X_train_5d, X_test_5d, y_train_5d, y_test_5d = train_test_split(X, y_5d_sma, test_size=0.3, random_state=23)"
   ]
  },
  {
   "cell_type": "code",
   "execution_count": 43,
   "metadata": {},
   "outputs": [
    {
     "name": "stdout",
     "output_type": "stream",
     "text": [
      "m1_new\n",
      "training rmse: 106.8890914898478\n",
      "test rmse: 113.450207074951\n",
      "m1_3d\n",
      "training rmse: 103.48217664109609\n",
      "test rmse: 103.73874663881357\n",
      "m1_5d\n",
      "training rmse: 100.94234079688711\n",
      "test rmse: 101.35697741781462\n"
     ]
    }
   ],
   "source": [
    "# check new performance\n",
    "from sklearn.metrics import mean_squared_error\n",
    "m1_new = LinearRegression()\n",
    "m1_new.fit(X_train_new, y_train_new)\n",
    "m1_new_pred = m1_new.predict(X_test_new)\n",
    "m1_new_pred_train = m1_new.predict(X_train_new)\n",
    "\n",
    "m1_3d = LinearRegression()\n",
    "m1_3d.fit(X_train_3d, y_train_3d)\n",
    "m1_3d_pred = m1_3d.predict(X_test_3d)\n",
    "m1_3d_pred_train = m1_3d.predict(X_train_3d)\n",
    "\n",
    "m1_5d = LinearRegression()\n",
    "m1_5d.fit(X_train_5d, y_train_5d)\n",
    "m1_5d_pred = m1_5d.predict(X_test_5d)\n",
    "m1_5d_pred_train = m1_5d.predict(X_train_5d)\n",
    "\n",
    "# we will use rmse to evaluate model performance\n",
    "print('m1_new')\n",
    "print('training rmse:', mean_squared_error(m1_new_pred_train, y_train_new, squared=False))\n",
    "print('test rmse:', mean_squared_error(m1_new_pred, y_test_new)**0.5)\n",
    "\n",
    "print('m1_3d')\n",
    "print('training rmse:', mean_squared_error(m1_3d_pred_train, y_train_3d, squared=False))\n",
    "print('test rmse:', mean_squared_error(m1_3d_pred, y_test_3d, squared=False))\n",
    "\n",
    "print('m1_5d')\n",
    "print('training rmse:', mean_squared_error(m1_5d_pred_train, y_train_5d, squared=False))\n",
    "print('test rmse:', mean_squared_error(m1_5d_pred, y_test_5d, squared=False))\n",
    "\n",
    "\n",
    "\n",
    "\n"
   ]
  },
  {
   "cell_type": "markdown",
   "metadata": {},
   "source": [
    "This means that our predictions are off by a margin of $\\pm 100$ cases on average"
   ]
  },
  {
   "cell_type": "code",
   "execution_count": 44,
   "metadata": {},
   "outputs": [
    {
     "data": {
      "text/html": [
       "<div>\n",
       "<style scoped>\n",
       "    .dataframe tbody tr th:only-of-type {\n",
       "        vertical-align: middle;\n",
       "    }\n",
       "\n",
       "    .dataframe tbody tr th {\n",
       "        vertical-align: top;\n",
       "    }\n",
       "\n",
       "    .dataframe thead th {\n",
       "        text-align: right;\n",
       "    }\n",
       "</style>\n",
       "<table border=\"1\" class=\"dataframe\">\n",
       "  <thead>\n",
       "    <tr style=\"text-align: right;\">\n",
       "      <th></th>\n",
       "      <th>new_pred</th>\n",
       "      <th>new_actual</th>\n",
       "      <th>3d_pred</th>\n",
       "      <th>3d_actual</th>\n",
       "      <th>5d_pred</th>\n",
       "      <th>5d_actual</th>\n",
       "    </tr>\n",
       "  </thead>\n",
       "  <tbody>\n",
       "    <tr>\n",
       "      <th>0</th>\n",
       "      <td>343.100051</td>\n",
       "      <td>525.0</td>\n",
       "      <td>351.559285</td>\n",
       "      <td>409.000000</td>\n",
       "      <td>359.984569</td>\n",
       "      <td>434.4</td>\n",
       "    </tr>\n",
       "    <tr>\n",
       "      <th>1</th>\n",
       "      <td>203.822596</td>\n",
       "      <td>105.0</td>\n",
       "      <td>222.901124</td>\n",
       "      <td>102.000000</td>\n",
       "      <td>234.931259</td>\n",
       "      <td>115.2</td>\n",
       "    </tr>\n",
       "    <tr>\n",
       "      <th>2</th>\n",
       "      <td>237.341643</td>\n",
       "      <td>197.0</td>\n",
       "      <td>236.607651</td>\n",
       "      <td>185.000000</td>\n",
       "      <td>238.447646</td>\n",
       "      <td>181.2</td>\n",
       "    </tr>\n",
       "    <tr>\n",
       "      <th>3</th>\n",
       "      <td>267.141255</td>\n",
       "      <td>203.0</td>\n",
       "      <td>265.606751</td>\n",
       "      <td>215.000000</td>\n",
       "      <td>267.189643</td>\n",
       "      <td>202.0</td>\n",
       "    </tr>\n",
       "    <tr>\n",
       "      <th>4</th>\n",
       "      <td>393.813698</td>\n",
       "      <td>351.0</td>\n",
       "      <td>407.441721</td>\n",
       "      <td>362.333333</td>\n",
       "      <td>420.444777</td>\n",
       "      <td>384.8</td>\n",
       "    </tr>\n",
       "    <tr>\n",
       "      <th>5</th>\n",
       "      <td>363.141591</td>\n",
       "      <td>426.0</td>\n",
       "      <td>368.387666</td>\n",
       "      <td>412.666667</td>\n",
       "      <td>377.535812</td>\n",
       "      <td>391.0</td>\n",
       "    </tr>\n",
       "    <tr>\n",
       "      <th>6</th>\n",
       "      <td>337.538720</td>\n",
       "      <td>424.0</td>\n",
       "      <td>345.888948</td>\n",
       "      <td>443.666667</td>\n",
       "      <td>355.066826</td>\n",
       "      <td>452.6</td>\n",
       "    </tr>\n",
       "    <tr>\n",
       "      <th>7</th>\n",
       "      <td>381.923299</td>\n",
       "      <td>309.0</td>\n",
       "      <td>391.874467</td>\n",
       "      <td>470.666667</td>\n",
       "      <td>403.296795</td>\n",
       "      <td>460.2</td>\n",
       "    </tr>\n",
       "    <tr>\n",
       "      <th>8</th>\n",
       "      <td>193.431102</td>\n",
       "      <td>129.0</td>\n",
       "      <td>192.445929</td>\n",
       "      <td>109.666667</td>\n",
       "      <td>192.481403</td>\n",
       "      <td>110.2</td>\n",
       "    </tr>\n",
       "    <tr>\n",
       "      <th>9</th>\n",
       "      <td>368.669109</td>\n",
       "      <td>399.0</td>\n",
       "      <td>375.683952</td>\n",
       "      <td>372.333333</td>\n",
       "      <td>383.003409</td>\n",
       "      <td>357.2</td>\n",
       "    </tr>\n",
       "    <tr>\n",
       "      <th>10</th>\n",
       "      <td>195.127983</td>\n",
       "      <td>173.0</td>\n",
       "      <td>188.774524</td>\n",
       "      <td>186.333333</td>\n",
       "      <td>187.673302</td>\n",
       "      <td>187.2</td>\n",
       "    </tr>\n",
       "    <tr>\n",
       "      <th>11</th>\n",
       "      <td>196.764063</td>\n",
       "      <td>112.0</td>\n",
       "      <td>215.318398</td>\n",
       "      <td>137.666667</td>\n",
       "      <td>225.678198</td>\n",
       "      <td>148.0</td>\n",
       "    </tr>\n",
       "    <tr>\n",
       "      <th>12</th>\n",
       "      <td>335.620411</td>\n",
       "      <td>700.0</td>\n",
       "      <td>361.383867</td>\n",
       "      <td>572.333333</td>\n",
       "      <td>371.657798</td>\n",
       "      <td>620.4</td>\n",
       "    </tr>\n",
       "    <tr>\n",
       "      <th>13</th>\n",
       "      <td>-33.124849</td>\n",
       "      <td>0.0</td>\n",
       "      <td>-30.681026</td>\n",
       "      <td>4.666667</td>\n",
       "      <td>-32.487708</td>\n",
       "      <td>3.2</td>\n",
       "    </tr>\n",
       "    <tr>\n",
       "      <th>14</th>\n",
       "      <td>274.494207</td>\n",
       "      <td>266.0</td>\n",
       "      <td>274.467597</td>\n",
       "      <td>187.333333</td>\n",
       "      <td>272.521714</td>\n",
       "      <td>185.0</td>\n",
       "    </tr>\n",
       "    <tr>\n",
       "      <th>15</th>\n",
       "      <td>233.960752</td>\n",
       "      <td>413.0</td>\n",
       "      <td>227.655197</td>\n",
       "      <td>437.666667</td>\n",
       "      <td>228.760028</td>\n",
       "      <td>400.8</td>\n",
       "    </tr>\n",
       "    <tr>\n",
       "      <th>16</th>\n",
       "      <td>-3.233371</td>\n",
       "      <td>2.0</td>\n",
       "      <td>-0.386319</td>\n",
       "      <td>2.333333</td>\n",
       "      <td>1.176282</td>\n",
       "      <td>2.8</td>\n",
       "    </tr>\n",
       "    <tr>\n",
       "      <th>17</th>\n",
       "      <td>180.350333</td>\n",
       "      <td>170.0</td>\n",
       "      <td>177.122647</td>\n",
       "      <td>125.000000</td>\n",
       "      <td>177.069377</td>\n",
       "      <td>120.4</td>\n",
       "    </tr>\n",
       "    <tr>\n",
       "      <th>18</th>\n",
       "      <td>305.001036</td>\n",
       "      <td>483.0</td>\n",
       "      <td>299.664274</td>\n",
       "      <td>430.000000</td>\n",
       "      <td>302.971107</td>\n",
       "      <td>438.8</td>\n",
       "    </tr>\n",
       "    <tr>\n",
       "      <th>19</th>\n",
       "      <td>229.192273</td>\n",
       "      <td>133.0</td>\n",
       "      <td>252.638491</td>\n",
       "      <td>149.666667</td>\n",
       "      <td>265.201840</td>\n",
       "      <td>159.4</td>\n",
       "    </tr>\n",
       "  </tbody>\n",
       "</table>\n",
       "</div>"
      ],
      "text/plain": [
       "      new_pred  new_actual     3d_pred   3d_actual     5d_pred  5d_actual\n",
       "0   343.100051       525.0  351.559285  409.000000  359.984569      434.4\n",
       "1   203.822596       105.0  222.901124  102.000000  234.931259      115.2\n",
       "2   237.341643       197.0  236.607651  185.000000  238.447646      181.2\n",
       "3   267.141255       203.0  265.606751  215.000000  267.189643      202.0\n",
       "4   393.813698       351.0  407.441721  362.333333  420.444777      384.8\n",
       "5   363.141591       426.0  368.387666  412.666667  377.535812      391.0\n",
       "6   337.538720       424.0  345.888948  443.666667  355.066826      452.6\n",
       "7   381.923299       309.0  391.874467  470.666667  403.296795      460.2\n",
       "8   193.431102       129.0  192.445929  109.666667  192.481403      110.2\n",
       "9   368.669109       399.0  375.683952  372.333333  383.003409      357.2\n",
       "10  195.127983       173.0  188.774524  186.333333  187.673302      187.2\n",
       "11  196.764063       112.0  215.318398  137.666667  225.678198      148.0\n",
       "12  335.620411       700.0  361.383867  572.333333  371.657798      620.4\n",
       "13  -33.124849         0.0  -30.681026    4.666667  -32.487708        3.2\n",
       "14  274.494207       266.0  274.467597  187.333333  272.521714      185.0\n",
       "15  233.960752       413.0  227.655197  437.666667  228.760028      400.8\n",
       "16   -3.233371         2.0   -0.386319    2.333333    1.176282        2.8\n",
       "17  180.350333       170.0  177.122647  125.000000  177.069377      120.4\n",
       "18  305.001036       483.0  299.664274  430.000000  302.971107      438.8\n",
       "19  229.192273       133.0  252.638491  149.666667  265.201840      159.4"
      ]
     },
     "execution_count": 44,
     "metadata": {},
     "output_type": "execute_result"
    }
   ],
   "source": [
    "results = pd.DataFrame({'new_pred':m1_new_pred, 'new_actual':y_test_new, \\\n",
    "                        '3d_pred':m1_3d_pred, '3d_actual':y_test_3d, \\\n",
    "                        '5d_pred':m1_5d_pred, '5d_actual':y_test_5d}).reset_index(drop=True)\n",
    "results.head(20)"
   ]
  },
  {
   "cell_type": "markdown",
   "metadata": {},
   "source": [
    "### Check for auto-correlation in the response"
   ]
  },
  {
   "cell_type": "code",
   "execution_count": 45,
   "metadata": {},
   "outputs": [],
   "source": [
    "import statsmodels.api as sm"
   ]
  },
  {
   "cell_type": "code",
   "execution_count": 46,
   "metadata": {},
   "outputs": [
    {
     "data": {
      "text/plain": [
       "[<matplotlib.lines.Line2D at 0x7fbe6a6c4a90>]"
      ]
     },
     "execution_count": 46,
     "metadata": {},
     "output_type": "execute_result"
    },
    {
     "data": {
      "image/png": "[encoded data removed]",
      "text/plain": [
       "<matplotlib.figure.Figure at 0x7fbe6a667e48>"
      ]
     },
     "metadata": {
      "needs_background": "light"
     },
     "output_type": "display_data"
    }
   ],
   "source": [
    "plt.plot(data['new'])"
   ]
  },
  {
   "cell_type": "code",
   "execution_count": 47,
   "metadata": {},
   "outputs": [
    {
     "data": {
      "image/png": "[encoded data removed]",
      "text/plain": [
       "<matplotlib.figure.Figure at 0x7fbe6a6cc240>"
      ]
     },
     "metadata": {
      "needs_background": "light"
     },
     "output_type": "display_data"
    }
   ],
   "source": [
    "sm.graphics.tsa.plot_acf(data['new'], lags=40)\n",
    "plt.show()"
   ]
  },
  {
   "cell_type": "markdown",
   "metadata": {},
   "source": [
    "The correlation between 2 points diminishes as the time between the points increases"
   ]
  },
  {
   "cell_type": "code",
   "execution_count": 48,
   "metadata": {},
   "outputs": [
    {
     "data": {
      "image/png": "[encoded data removed]",
      "text/plain": [
       "<matplotlib.figure.Figure at 0x7fbe6a7dd518>"
      ]
     },
     "metadata": {
      "needs_background": "light"
     },
     "output_type": "display_data"
    }
   ],
   "source": [
    "sm.graphics.tsa.plot_pacf(data['new'], lags=40)\n",
    "plt.show()"
   ]
  },
  {
   "cell_type": "markdown",
   "metadata": {},
   "source": [
    "After lag 4, the correlation is no longer statistically significant. This suggests that with the previous 4 day counts, we can predict the number of new cases on the 5th day. "
   ]
  },
  {
   "cell_type": "markdown",
   "metadata": {},
   "source": [
    "#### Hypotheses to Explore\n",
    "Be careful not to use SMA data to predict one of the points in the SMA.\n",
    "\n",
    "1. Try a bunch of different lags with a 3d SMA and see which day gives the best performance.\n",
    "2. Try using mobility for day t with counts for day t, t+1, t+2, and t+3 to predict t+4."
   ]
  },
  {
   "cell_type": "markdown",
   "metadata": {},
   "source": [
    "1. lag of reporting per province\n",
    "2. lag of environment to onset (mobility -> onset)\n",
    "3. lag of onset to reporting"
   ]
  },
  {
   "cell_type": "code",
   "execution_count": 49,
   "metadata": {},
   "outputs": [],
   "source": [
    "# try lag 0 to lag 20 (up to 3 weeks)\n",
    "max_lag = 21\n",
    "\n",
    "data2 = data.copy()\n",
    "\n",
    "# 3d_SMA is lag 0\n",
    "for i in range(1,max_lag):\n",
    "    data2[\"lag_\"+str(i)] = data['3d_SMA'].shift(-i)\n",
    "    \n"
   ]
  },
  {
   "cell_type": "code",
   "execution_count": 50,
   "metadata": {},
   "outputs": [],
   "source": [
    "data2 = data2.dropna()"
   ]
  },
  {
   "cell_type": "code",
   "execution_count": 51,
   "metadata": {},
   "outputs": [],
   "source": [
    "np.random.seed(23)"
   ]
  },
  {
   "cell_type": "code",
   "execution_count": 52,
   "metadata": {
    "scrolled": false
   },
   "outputs": [
    {
     "data": {
      "text/html": [
       "<div>\n",
       "<style scoped>\n",
       "    .dataframe tbody tr th:only-of-type {\n",
       "        vertical-align: middle;\n",
       "    }\n",
       "\n",
       "    .dataframe tbody tr th {\n",
       "        vertical-align: top;\n",
       "    }\n",
       "\n",
       "    .dataframe thead th {\n",
       "        text-align: right;\n",
       "    }\n",
       "</style>\n",
       "<table border=\"1\" class=\"dataframe\">\n",
       "  <thead>\n",
       "    <tr style=\"text-align: right;\">\n",
       "      <th></th>\n",
       "      <th>lag</th>\n",
       "      <th>R2</th>\n",
       "    </tr>\n",
       "  </thead>\n",
       "  <tbody>\n",
       "    <tr>\n",
       "      <th>0</th>\n",
       "      <td>1</td>\n",
       "      <td>0.724061</td>\n",
       "    </tr>\n",
       "    <tr>\n",
       "      <th>1</th>\n",
       "      <td>2</td>\n",
       "      <td>0.748467</td>\n",
       "    </tr>\n",
       "    <tr>\n",
       "      <th>2</th>\n",
       "      <td>3</td>\n",
       "      <td>0.775463</td>\n",
       "    </tr>\n",
       "    <tr>\n",
       "      <th>3</th>\n",
       "      <td>4</td>\n",
       "      <td>0.799781</td>\n",
       "    </tr>\n",
       "    <tr>\n",
       "      <th>4</th>\n",
       "      <td>5</td>\n",
       "      <td>0.817607</td>\n",
       "    </tr>\n",
       "    <tr>\n",
       "      <th>5</th>\n",
       "      <td>6</td>\n",
       "      <td>0.830104</td>\n",
       "    </tr>\n",
       "    <tr>\n",
       "      <th>6</th>\n",
       "      <td>7</td>\n",
       "      <td>0.836798</td>\n",
       "    </tr>\n",
       "    <tr>\n",
       "      <th>7</th>\n",
       "      <td>8</td>\n",
       "      <td>0.847311</td>\n",
       "    </tr>\n",
       "    <tr>\n",
       "      <th>8</th>\n",
       "      <td>9</td>\n",
       "      <td>0.852135</td>\n",
       "    </tr>\n",
       "    <tr>\n",
       "      <th>9</th>\n",
       "      <td>10</td>\n",
       "      <td>0.848698</td>\n",
       "    </tr>\n",
       "    <tr>\n",
       "      <th>10</th>\n",
       "      <td>11</td>\n",
       "      <td>0.839214</td>\n",
       "    </tr>\n",
       "    <tr>\n",
       "      <th>11</th>\n",
       "      <td>12</td>\n",
       "      <td>0.826782</td>\n",
       "    </tr>\n",
       "    <tr>\n",
       "      <th>12</th>\n",
       "      <td>13</td>\n",
       "      <td>0.813446</td>\n",
       "    </tr>\n",
       "    <tr>\n",
       "      <th>13</th>\n",
       "      <td>14</td>\n",
       "      <td>0.800073</td>\n",
       "    </tr>\n",
       "    <tr>\n",
       "      <th>14</th>\n",
       "      <td>15</td>\n",
       "      <td>0.781336</td>\n",
       "    </tr>\n",
       "    <tr>\n",
       "      <th>15</th>\n",
       "      <td>16</td>\n",
       "      <td>0.758593</td>\n",
       "    </tr>\n",
       "    <tr>\n",
       "      <th>16</th>\n",
       "      <td>17</td>\n",
       "      <td>0.726065</td>\n",
       "    </tr>\n",
       "    <tr>\n",
       "      <th>17</th>\n",
       "      <td>18</td>\n",
       "      <td>0.690536</td>\n",
       "    </tr>\n",
       "    <tr>\n",
       "      <th>18</th>\n",
       "      <td>19</td>\n",
       "      <td>0.648135</td>\n",
       "    </tr>\n",
       "    <tr>\n",
       "      <th>19</th>\n",
       "      <td>20</td>\n",
       "      <td>0.613112</td>\n",
       "    </tr>\n",
       "  </tbody>\n",
       "</table>\n",
       "</div>"
      ],
      "text/plain": [
       "    lag        R2\n",
       "0     1  0.724061\n",
       "1     2  0.748467\n",
       "2     3  0.775463\n",
       "3     4  0.799781\n",
       "4     5  0.817607\n",
       "5     6  0.830104\n",
       "6     7  0.836798\n",
       "7     8  0.847311\n",
       "8     9  0.852135\n",
       "9    10  0.848698\n",
       "10   11  0.839214\n",
       "11   12  0.826782\n",
       "12   13  0.813446\n",
       "13   14  0.800073\n",
       "14   15  0.781336\n",
       "15   16  0.758593\n",
       "16   17  0.726065\n",
       "17   18  0.690536\n",
       "18   19  0.648135\n",
       "19   20  0.613112"
      ]
     },
     "execution_count": 52,
     "metadata": {},
     "output_type": "execute_result"
    }
   ],
   "source": [
    "X2 = data2[['index', 'mean_retail_change', 'mean_grocery_change', \n",
    "            'mean_parks_change', 'mean_transit_change',\n",
    "            'mean_workplace_change', 'mean_residential_change']]\n",
    "\n",
    "lag_results = list()\n",
    "\n",
    "for i in range(1,max_lag):\n",
    "    #print('predicting:',\"lag_\"+str(i))\n",
    "    name = \"lag_\"+str(i)\n",
    "    target = data2[name]\n",
    "    temp_model = LinearRegression()\n",
    "    temp_model.fit(X2, target)\n",
    "    R2 = temp_model.score(X2, target)\n",
    "    lag_results.append(R2)\n",
    "    #print(\"R2\", R2)\n",
    "\n",
    "lag_res_df = pd.DataFrame({'lag':np.array(range(1,max_lag)), 'R2': lag_results})\n",
    "lag_res_df\n"
   ]
  },
  {
   "cell_type": "markdown",
   "metadata": {},
   "source": [
    "Lag 7 to 11 are good, with lag 9 being the best predicted.\n",
    "\n",
    "#### Improvements to hypothesis 2:\n",
    "- we can add case counts for the 3-4 days leading up to the predicted lag time.\n",
    "- this can get tricky with the smoothing (we do not want to overlap explanatory new cases and predicted new cases), so we can redo hypothesis 1 without using the 3 day smoothed new case count.\n",
    "- alternatively, we could only attach new case counts for days -3 to -6"
   ]
  },
  {
   "cell_type": "code",
   "execution_count": 53,
   "metadata": {},
   "outputs": [],
   "source": [
    "\n",
    "can2 = pd.read_csv('../Datasets/data_can2.csv')"
   ]
  },
  {
   "cell_type": "code",
   "execution_count": 54,
   "metadata": {},
   "outputs": [
    {
     "data": {
      "text/html": [
       "<div>\n",
       "<style scoped>\n",
       "    .dataframe tbody tr th:only-of-type {\n",
       "        vertical-align: middle;\n",
       "    }\n",
       "\n",
       "    .dataframe tbody tr th {\n",
       "        vertical-align: top;\n",
       "    }\n",
       "\n",
       "    .dataframe thead th {\n",
       "        text-align: right;\n",
       "    }\n",
       "</style>\n",
       "<table border=\"1\" class=\"dataframe\">\n",
       "  <thead>\n",
       "    <tr style=\"text-align: right;\">\n",
       "      <th></th>\n",
       "      <th>date</th>\n",
       "      <th>key_apple_mobility</th>\n",
       "      <th>key_google_mobility</th>\n",
       "      <th>id</th>\n",
       "      <th>tests</th>\n",
       "      <th>confirmed</th>\n",
       "      <th>recovered</th>\n",
       "      <th>deaths</th>\n",
       "      <th>hosp</th>\n",
       "      <th>vent</th>\n",
       "      <th>...</th>\n",
       "      <th>census_fips_code</th>\n",
       "      <th>retail_and_recreation_percent_change_from_baseline</th>\n",
       "      <th>grocery_and_pharmacy_percent_change_from_baseline</th>\n",
       "      <th>parks_percent_change_from_baseline</th>\n",
       "      <th>transit_stations_percent_change_from_baseline</th>\n",
       "      <th>workplaces_percent_change_from_baseline</th>\n",
       "      <th>residential_percent_change_from_baseline</th>\n",
       "      <th>driving</th>\n",
       "      <th>walking</th>\n",
       "      <th>transit</th>\n",
       "    </tr>\n",
       "  </thead>\n",
       "  <tbody>\n",
       "    <tr>\n",
       "      <th>0</th>\n",
       "      <td>2020-03-11</td>\n",
       "      <td>Prince Edward Island</td>\n",
       "      <td>CA, Prince Edward Island</td>\n",
       "      <td>015d95fc</td>\n",
       "      <td>6.0</td>\n",
       "      <td>0</td>\n",
       "      <td>NaN</td>\n",
       "      <td>0</td>\n",
       "      <td>NaN</td>\n",
       "      <td>NaN</td>\n",
       "      <td>...</td>\n",
       "      <td>NaN</td>\n",
       "      <td>-1.0</td>\n",
       "      <td>0.0</td>\n",
       "      <td>NaN</td>\n",
       "      <td>NaN</td>\n",
       "      <td>0.0</td>\n",
       "      <td>1.0</td>\n",
       "      <td>112.23</td>\n",
       "      <td>NaN</td>\n",
       "      <td>NaN</td>\n",
       "    </tr>\n",
       "    <tr>\n",
       "      <th>1</th>\n",
       "      <td>2020-03-12</td>\n",
       "      <td>Prince Edward Island</td>\n",
       "      <td>CA, Prince Edward Island</td>\n",
       "      <td>015d95fc</td>\n",
       "      <td>6.0</td>\n",
       "      <td>0</td>\n",
       "      <td>NaN</td>\n",
       "      <td>0</td>\n",
       "      <td>NaN</td>\n",
       "      <td>NaN</td>\n",
       "      <td>...</td>\n",
       "      <td>NaN</td>\n",
       "      <td>8.0</td>\n",
       "      <td>16.0</td>\n",
       "      <td>NaN</td>\n",
       "      <td>NaN</td>\n",
       "      <td>0.0</td>\n",
       "      <td>0.0</td>\n",
       "      <td>107.63</td>\n",
       "      <td>NaN</td>\n",
       "      <td>NaN</td>\n",
       "    </tr>\n",
       "    <tr>\n",
       "      <th>2</th>\n",
       "      <td>2020-03-13</td>\n",
       "      <td>Prince Edward Island</td>\n",
       "      <td>CA, Prince Edward Island</td>\n",
       "      <td>015d95fc</td>\n",
       "      <td>6.0</td>\n",
       "      <td>0</td>\n",
       "      <td>NaN</td>\n",
       "      <td>0</td>\n",
       "      <td>NaN</td>\n",
       "      <td>NaN</td>\n",
       "      <td>...</td>\n",
       "      <td>NaN</td>\n",
       "      <td>-5.0</td>\n",
       "      <td>35.0</td>\n",
       "      <td>NaN</td>\n",
       "      <td>NaN</td>\n",
       "      <td>-3.0</td>\n",
       "      <td>3.0</td>\n",
       "      <td>108.80</td>\n",
       "      <td>NaN</td>\n",
       "      <td>NaN</td>\n",
       "    </tr>\n",
       "    <tr>\n",
       "      <th>3</th>\n",
       "      <td>2020-03-14</td>\n",
       "      <td>Prince Edward Island</td>\n",
       "      <td>CA, Prince Edward Island</td>\n",
       "      <td>015d95fc</td>\n",
       "      <td>6.0</td>\n",
       "      <td>0</td>\n",
       "      <td>NaN</td>\n",
       "      <td>0</td>\n",
       "      <td>NaN</td>\n",
       "      <td>NaN</td>\n",
       "      <td>...</td>\n",
       "      <td>NaN</td>\n",
       "      <td>-17.0</td>\n",
       "      <td>11.0</td>\n",
       "      <td>NaN</td>\n",
       "      <td>NaN</td>\n",
       "      <td>-4.0</td>\n",
       "      <td>NaN</td>\n",
       "      <td>104.16</td>\n",
       "      <td>NaN</td>\n",
       "      <td>NaN</td>\n",
       "    </tr>\n",
       "    <tr>\n",
       "      <th>4</th>\n",
       "      <td>2020-03-15</td>\n",
       "      <td>Prince Edward Island</td>\n",
       "      <td>CA, Prince Edward Island</td>\n",
       "      <td>015d95fc</td>\n",
       "      <td>6.0</td>\n",
       "      <td>1</td>\n",
       "      <td>NaN</td>\n",
       "      <td>0</td>\n",
       "      <td>NaN</td>\n",
       "      <td>NaN</td>\n",
       "      <td>...</td>\n",
       "      <td>NaN</td>\n",
       "      <td>-3.0</td>\n",
       "      <td>18.0</td>\n",
       "      <td>NaN</td>\n",
       "      <td>NaN</td>\n",
       "      <td>2.0</td>\n",
       "      <td>NaN</td>\n",
       "      <td>77.46</td>\n",
       "      <td>NaN</td>\n",
       "      <td>NaN</td>\n",
       "    </tr>\n",
       "  </tbody>\n",
       "</table>\n",
       "<p>5 rows × 49 columns</p>\n",
       "</div>"
      ],
      "text/plain": [
       "         date    key_apple_mobility       key_google_mobility        id  \\\n",
       "0  2020-03-11  Prince Edward Island  CA, Prince Edward Island  015d95fc   \n",
       "1  2020-03-12  Prince Edward Island  CA, Prince Edward Island  015d95fc   \n",
       "2  2020-03-13  Prince Edward Island  CA, Prince Edward Island  015d95fc   \n",
       "3  2020-03-14  Prince Edward Island  CA, Prince Edward Island  015d95fc   \n",
       "4  2020-03-15  Prince Edward Island  CA, Prince Edward Island  015d95fc   \n",
       "\n",
       "   tests  confirmed  recovered  deaths  hosp  vent  ...  census_fips_code  \\\n",
       "0    6.0          0        NaN       0   NaN   NaN  ...               NaN   \n",
       "1    6.0          0        NaN       0   NaN   NaN  ...               NaN   \n",
       "2    6.0          0        NaN       0   NaN   NaN  ...               NaN   \n",
       "3    6.0          0        NaN       0   NaN   NaN  ...               NaN   \n",
       "4    6.0          1        NaN       0   NaN   NaN  ...               NaN   \n",
       "\n",
       "   retail_and_recreation_percent_change_from_baseline  \\\n",
       "0                                               -1.0    \n",
       "1                                                8.0    \n",
       "2                                               -5.0    \n",
       "3                                              -17.0    \n",
       "4                                               -3.0    \n",
       "\n",
       "   grocery_and_pharmacy_percent_change_from_baseline  \\\n",
       "0                                                0.0   \n",
       "1                                               16.0   \n",
       "2                                               35.0   \n",
       "3                                               11.0   \n",
       "4                                               18.0   \n",
       "\n",
       "   parks_percent_change_from_baseline  \\\n",
       "0                                 NaN   \n",
       "1                                 NaN   \n",
       "2                                 NaN   \n",
       "3                                 NaN   \n",
       "4                                 NaN   \n",
       "\n",
       "   transit_stations_percent_change_from_baseline  \\\n",
       "0                                            NaN   \n",
       "1                                            NaN   \n",
       "2                                            NaN   \n",
       "3                                            NaN   \n",
       "4                                            NaN   \n",
       "\n",
       "   workplaces_percent_change_from_baseline  \\\n",
       "0                                      0.0   \n",
       "1                                      0.0   \n",
       "2                                     -3.0   \n",
       "3                                     -4.0   \n",
       "4                                      2.0   \n",
       "\n",
       "   residential_percent_change_from_baseline  driving  walking  transit  \n",
       "0                                       1.0   112.23      NaN      NaN  \n",
       "1                                       0.0   107.63      NaN      NaN  \n",
       "2                                       3.0   108.80      NaN      NaN  \n",
       "3                                       NaN   104.16      NaN      NaN  \n",
       "4                                       NaN    77.46      NaN      NaN  \n",
       "\n",
       "[5 rows x 49 columns]"
      ]
     },
     "execution_count": 54,
     "metadata": {},
     "output_type": "execute_result"
    }
   ],
   "source": [
    "can2.head()"
   ]
  },
  {
   "cell_type": "code",
   "execution_count": 55,
   "metadata": {},
   "outputs": [
    {
     "data": {
      "text/plain": [
       "(2862, 49)"
      ]
     },
     "execution_count": 55,
     "metadata": {},
     "output_type": "execute_result"
    }
   ],
   "source": [
    "can2.shape"
   ]
  },
  {
   "cell_type": "code",
   "execution_count": 56,
   "metadata": {},
   "outputs": [
    {
     "data": {
      "text/plain": [
       "array(['CA, Alberta', 'CA, British Columbia', 'CA, Manitoba',\n",
       "       'CA, New Brunswick', 'CA, Newfoundland and Labrador',\n",
       "       'CA, Northwest Territories', 'CA, Nova Scotia', 'CA, Nunavut',\n",
       "       'CA, Ontario', 'CA, Prince Edward Island', 'CA, Quebec',\n",
       "       'CA, Saskatchewan', 'CA, Yukon'], dtype=object)"
      ]
     },
     "execution_count": 56,
     "metadata": {},
     "output_type": "execute_result"
    }
   ],
   "source": [
    "np.unique(can2['key_google_mobility'].values)"
   ]
  },
  {
   "cell_type": "code",
   "execution_count": 57,
   "metadata": {},
   "outputs": [],
   "source": [
    "on2 = can2[can2['key_google_mobility'] == 'CA, Ontario']\n",
    "bc = can2[can2['key_google_mobility'] == 'CA, British Columbia']"
   ]
  },
  {
   "cell_type": "code",
   "execution_count": 58,
   "metadata": {},
   "outputs": [
    {
     "data": {
      "text/plain": [
       "Index(['date', 'key_apple_mobility', 'key_google_mobility', 'id', 'tests',\n",
       "       'confirmed', 'recovered', 'deaths', 'hosp', 'vent', 'icu', 'population',\n",
       "       'school_closing', 'workplace_closing', 'cancel_events',\n",
       "       'gatherings_restrictions', 'transport_closing',\n",
       "       'stay_home_restrictions', 'internal_movement_restrictions',\n",
       "       'international_movement_restrictions', 'information_campaigns',\n",
       "       'testing_policy', 'contact_tracing', 'stringency_index', 'iso_alpha_3',\n",
       "       'iso_alpha_2', 'iso_numeric', 'currency', 'administrative_area_level',\n",
       "       'administrative_area_level_1', 'administrative_area_level_2',\n",
       "       'administrative_area_level_3', 'latitude', 'longitude', 'key',\n",
       "       'key_alpha_2', 'key_numeric', 'metro_area', 'iso_3166_2_code',\n",
       "       'census_fips_code',\n",
       "       'retail_and_recreation_percent_change_from_baseline',\n",
       "       'grocery_and_pharmacy_percent_change_from_baseline',\n",
       "       'parks_percent_change_from_baseline',\n",
       "       'transit_stations_percent_change_from_baseline',\n",
       "       'workplaces_percent_change_from_baseline',\n",
       "       'residential_percent_change_from_baseline', 'driving', 'walking',\n",
       "       'transit'],\n",
       "      dtype='object')"
      ]
     },
     "execution_count": 58,
     "metadata": {},
     "output_type": "execute_result"
    }
   ],
   "source": [
    "can2.columns"
   ]
  },
  {
   "cell_type": "code",
   "execution_count": 59,
   "metadata": {},
   "outputs": [
    {
     "data": {
      "text/plain": [
       "(233, 49)"
      ]
     },
     "execution_count": 59,
     "metadata": {},
     "output_type": "execute_result"
    }
   ],
   "source": [
    "on2.shape"
   ]
  },
  {
   "cell_type": "code",
   "execution_count": 60,
   "metadata": {},
   "outputs": [
    {
     "data": {
      "text/plain": [
       "<matplotlib.axes._subplots.AxesSubplot at 0x7fbe6a71a470>"
      ]
     },
     "execution_count": 60,
     "metadata": {},
     "output_type": "execute_result"
    },
    {
     "data": {
      "image/png": "[encoded data removed]",
      "text/plain": [
       "<matplotlib.figure.Figure at 0x7fbe6a81bb00>"
      ]
     },
     "metadata": {
      "needs_background": "light"
     },
     "output_type": "display_data"
    }
   ],
   "source": [
    "on2.school_closing.plot()"
   ]
  },
  {
   "cell_type": "code",
   "execution_count": 61,
   "metadata": {},
   "outputs": [
    {
     "data": {
      "image/png": "[encoded data removed]",
      "text/plain": [
       "<matplotlib.figure.Figure at 0x7fbe6a94eb00>"
      ]
     },
     "metadata": {
      "needs_background": "light"
     },
     "output_type": "display_data"
    }
   ],
   "source": [
    "from matplotlib.pyplot import figure\n",
    "lockdown_procs = ['school_closing', 'workplace_closing', 'cancel_events',\n",
    " 'gatherings_restrictions', 'transport_closing',\n",
    " 'stay_home_restrictions', 'internal_movement_restrictions',\n",
    " 'international_movement_restrictions', 'information_campaigns']\n",
    "\n",
    "\n",
    "#figure(num=None, figsize=(20, 6), dpi=80, facecolor='w', edgecolor='k')\n",
    "fig, axs = plt.subplots(3, 3)\n",
    "fig.set_size_inches(18.5, 10.5)\n",
    "x = on2['date']\n",
    "for i, proc in enumerate(lockdown_procs):\n",
    "    a = i//3\n",
    "    b = i%3\n",
    "    y = on2[proc]\n",
    "    axs[a,b].plot(x.values,y.values)\n",
    "    axs[a,b].set_title(proc)\n",
    "    axs[a,b].tick_params(\n",
    "        axis='x',          # changes apply to the x-axis\n",
    "        which='both',      # both major and minor ticks are affected\n",
    "        bottom=False,      # ticks along the bottom edge are off\n",
    "        top=False,         # ticks along the top edge are off\n",
    "        labelbottom=False) # labels along the bottom edge are off\n",
    "plt.show()\n",
    "    "
   ]
  },
  {
   "cell_type": "code",
   "execution_count": 62,
   "metadata": {},
   "outputs": [
    {
     "data": {
      "image/png": "[encoded data removed]",
      "text/plain": [
       "<matplotlib.figure.Figure at 0x7fbe6d2f6a20>"
      ]
     },
     "metadata": {
      "needs_background": "light"
     },
     "output_type": "display_data"
    }
   ],
   "source": [
    "from matplotlib.pyplot import figure\n",
    "lockdown_procs = ['school_closing', 'workplace_closing', 'cancel_events',\n",
    " 'gatherings_restrictions', 'transport_closing',\n",
    " 'stay_home_restrictions', 'internal_movement_restrictions',\n",
    " 'international_movement_restrictions', 'information_campaigns']\n",
    "\n",
    "\n",
    "#figure(num=None, figsize=(20, 6), dpi=80, facecolor='w', edgecolor='k')\n",
    "fig, axs = plt.subplots(3, 3)\n",
    "fig.set_size_inches(18.5, 10.5)\n",
    "x = bc['date']\n",
    "for i, proc in enumerate(lockdown_procs):\n",
    "    a = i//3\n",
    "    b = i%3\n",
    "    y = on2[proc]\n",
    "    axs[a,b].plot(x.values,y.values)\n",
    "    axs[a,b].set_title(proc)\n",
    "    axs[a,b].tick_params(\n",
    "        axis='x',          # changes apply to the x-axis\n",
    "        which='both',      # both major and minor ticks are affected\n",
    "        bottom=False,      # ticks along the bottom edge are off\n",
    "        top=False,         # ticks along the top edge are off\n",
    "        labelbottom=False) # labels along the bottom edge are off\n",
    "plt.show()"
   ]
  },
  {
   "cell_type": "code",
   "execution_count": 63,
   "metadata": {},
   "outputs": [
    {
     "name": "stderr",
     "output_type": "stream",
     "text": [
      "/Users/stephenbrock/anaconda3/lib/python3.6/site-packages/ipykernel_launcher.py:4: SettingWithCopyWarning: \n",
      "A value is trying to be set on a copy of a slice from a DataFrame.\n",
      "Try using .loc[row_indexer,col_indexer] = value instead\n",
      "\n",
      "See the caveats in the documentation: https://pandas.pydata.org/pandas-docs/stable/user_guide/indexing.html#returning-a-view-versus-a-copy\n",
      "  after removing the cwd from sys.path.\n"
     ]
    },
    {
     "data": {
      "text/html": [
       "<div>\n",
       "<style scoped>\n",
       "    .dataframe tbody tr th:only-of-type {\n",
       "        vertical-align: middle;\n",
       "    }\n",
       "\n",
       "    .dataframe tbody tr th {\n",
       "        vertical-align: top;\n",
       "    }\n",
       "\n",
       "    .dataframe thead th {\n",
       "        text-align: right;\n",
       "    }\n",
       "</style>\n",
       "<table border=\"1\" class=\"dataframe\">\n",
       "  <thead>\n",
       "    <tr style=\"text-align: right;\">\n",
       "      <th></th>\n",
       "      <th>school_closing</th>\n",
       "      <th>workplace_closing</th>\n",
       "      <th>cancel_events</th>\n",
       "      <th>gatherings_restrictions</th>\n",
       "      <th>transport_closing</th>\n",
       "      <th>stay_home_restrictions</th>\n",
       "      <th>internal_movement_restrictions</th>\n",
       "      <th>international_movement_restrictions</th>\n",
       "      <th>information_campaigns</th>\n",
       "      <th>new</th>\n",
       "    </tr>\n",
       "  </thead>\n",
       "  <tbody>\n",
       "    <tr>\n",
       "      <th>school_closing</th>\n",
       "      <td>1.000000</td>\n",
       "      <td>0.819194</td>\n",
       "      <td>0.830990</td>\n",
       "      <td>0.918324</td>\n",
       "      <td>NaN</td>\n",
       "      <td>0.882788</td>\n",
       "      <td>0.837906</td>\n",
       "      <td>0.893071</td>\n",
       "      <td>0.804239</td>\n",
       "      <td>0.283065</td>\n",
       "    </tr>\n",
       "    <tr>\n",
       "      <th>workplace_closing</th>\n",
       "      <td>0.819194</td>\n",
       "      <td>1.000000</td>\n",
       "      <td>0.717060</td>\n",
       "      <td>0.805183</td>\n",
       "      <td>NaN</td>\n",
       "      <td>0.761756</td>\n",
       "      <td>0.791130</td>\n",
       "      <td>0.894532</td>\n",
       "      <td>0.693976</td>\n",
       "      <td>0.588409</td>\n",
       "    </tr>\n",
       "    <tr>\n",
       "      <th>cancel_events</th>\n",
       "      <td>0.830990</td>\n",
       "      <td>0.717060</td>\n",
       "      <td>1.000000</td>\n",
       "      <td>0.881106</td>\n",
       "      <td>NaN</td>\n",
       "      <td>0.941325</td>\n",
       "      <td>0.808529</td>\n",
       "      <td>0.755774</td>\n",
       "      <td>0.967808</td>\n",
       "      <td>0.379328</td>\n",
       "    </tr>\n",
       "    <tr>\n",
       "      <th>gatherings_restrictions</th>\n",
       "      <td>0.918324</td>\n",
       "      <td>0.805183</td>\n",
       "      <td>0.881106</td>\n",
       "      <td>1.000000</td>\n",
       "      <td>NaN</td>\n",
       "      <td>0.936028</td>\n",
       "      <td>0.944209</td>\n",
       "      <td>0.854969</td>\n",
       "      <td>0.852741</td>\n",
       "      <td>0.453021</td>\n",
       "    </tr>\n",
       "    <tr>\n",
       "      <th>transport_closing</th>\n",
       "      <td>NaN</td>\n",
       "      <td>NaN</td>\n",
       "      <td>NaN</td>\n",
       "      <td>NaN</td>\n",
       "      <td>NaN</td>\n",
       "      <td>NaN</td>\n",
       "      <td>NaN</td>\n",
       "      <td>NaN</td>\n",
       "      <td>NaN</td>\n",
       "      <td>NaN</td>\n",
       "    </tr>\n",
       "    <tr>\n",
       "      <th>stay_home_restrictions</th>\n",
       "      <td>0.882788</td>\n",
       "      <td>0.761756</td>\n",
       "      <td>0.941325</td>\n",
       "      <td>0.936028</td>\n",
       "      <td>NaN</td>\n",
       "      <td>1.000000</td>\n",
       "      <td>0.858927</td>\n",
       "      <td>0.802884</td>\n",
       "      <td>0.911021</td>\n",
       "      <td>0.401297</td>\n",
       "    </tr>\n",
       "    <tr>\n",
       "      <th>internal_movement_restrictions</th>\n",
       "      <td>0.837906</td>\n",
       "      <td>0.791130</td>\n",
       "      <td>0.808529</td>\n",
       "      <td>0.944209</td>\n",
       "      <td>NaN</td>\n",
       "      <td>0.858927</td>\n",
       "      <td>1.000000</td>\n",
       "      <td>0.843218</td>\n",
       "      <td>0.782501</td>\n",
       "      <td>0.457702</td>\n",
       "    </tr>\n",
       "    <tr>\n",
       "      <th>international_movement_restrictions</th>\n",
       "      <td>0.893071</td>\n",
       "      <td>0.894532</td>\n",
       "      <td>0.755774</td>\n",
       "      <td>0.854969</td>\n",
       "      <td>NaN</td>\n",
       "      <td>0.802884</td>\n",
       "      <td>0.843218</td>\n",
       "      <td>1.000000</td>\n",
       "      <td>0.731444</td>\n",
       "      <td>0.406007</td>\n",
       "    </tr>\n",
       "    <tr>\n",
       "      <th>information_campaigns</th>\n",
       "      <td>0.804239</td>\n",
       "      <td>0.693976</td>\n",
       "      <td>0.967808</td>\n",
       "      <td>0.852741</td>\n",
       "      <td>NaN</td>\n",
       "      <td>0.911021</td>\n",
       "      <td>0.782501</td>\n",
       "      <td>0.731444</td>\n",
       "      <td>1.000000</td>\n",
       "      <td>0.366964</td>\n",
       "    </tr>\n",
       "    <tr>\n",
       "      <th>new</th>\n",
       "      <td>0.283065</td>\n",
       "      <td>0.588409</td>\n",
       "      <td>0.379328</td>\n",
       "      <td>0.453021</td>\n",
       "      <td>NaN</td>\n",
       "      <td>0.401297</td>\n",
       "      <td>0.457702</td>\n",
       "      <td>0.406007</td>\n",
       "      <td>0.366964</td>\n",
       "      <td>1.000000</td>\n",
       "    </tr>\n",
       "  </tbody>\n",
       "</table>\n",
       "</div>"
      ],
      "text/plain": [
       "                                     school_closing  workplace_closing  \\\n",
       "school_closing                             1.000000           0.819194   \n",
       "workplace_closing                          0.819194           1.000000   \n",
       "cancel_events                              0.830990           0.717060   \n",
       "gatherings_restrictions                    0.918324           0.805183   \n",
       "transport_closing                               NaN                NaN   \n",
       "stay_home_restrictions                     0.882788           0.761756   \n",
       "internal_movement_restrictions             0.837906           0.791130   \n",
       "international_movement_restrictions        0.893071           0.894532   \n",
       "information_campaigns                      0.804239           0.693976   \n",
       "new                                        0.283065           0.588409   \n",
       "\n",
       "                                     cancel_events  gatherings_restrictions  \\\n",
       "school_closing                            0.830990                 0.918324   \n",
       "workplace_closing                         0.717060                 0.805183   \n",
       "cancel_events                             1.000000                 0.881106   \n",
       "gatherings_restrictions                   0.881106                 1.000000   \n",
       "transport_closing                              NaN                      NaN   \n",
       "stay_home_restrictions                    0.941325                 0.936028   \n",
       "internal_movement_restrictions            0.808529                 0.944209   \n",
       "international_movement_restrictions       0.755774                 0.854969   \n",
       "information_campaigns                     0.967808                 0.852741   \n",
       "new                                       0.379328                 0.453021   \n",
       "\n",
       "                                     transport_closing  \\\n",
       "school_closing                                     NaN   \n",
       "workplace_closing                                  NaN   \n",
       "cancel_events                                      NaN   \n",
       "gatherings_restrictions                            NaN   \n",
       "transport_closing                                  NaN   \n",
       "stay_home_restrictions                             NaN   \n",
       "internal_movement_restrictions                     NaN   \n",
       "international_movement_restrictions                NaN   \n",
       "information_campaigns                              NaN   \n",
       "new                                                NaN   \n",
       "\n",
       "                                     stay_home_restrictions  \\\n",
       "school_closing                                     0.882788   \n",
       "workplace_closing                                  0.761756   \n",
       "cancel_events                                      0.941325   \n",
       "gatherings_restrictions                            0.936028   \n",
       "transport_closing                                       NaN   \n",
       "stay_home_restrictions                             1.000000   \n",
       "internal_movement_restrictions                     0.858927   \n",
       "international_movement_restrictions                0.802884   \n",
       "information_campaigns                              0.911021   \n",
       "new                                                0.401297   \n",
       "\n",
       "                                     internal_movement_restrictions  \\\n",
       "school_closing                                             0.837906   \n",
       "workplace_closing                                          0.791130   \n",
       "cancel_events                                              0.808529   \n",
       "gatherings_restrictions                                    0.944209   \n",
       "transport_closing                                               NaN   \n",
       "stay_home_restrictions                                     0.858927   \n",
       "internal_movement_restrictions                             1.000000   \n",
       "international_movement_restrictions                        0.843218   \n",
       "information_campaigns                                      0.782501   \n",
       "new                                                        0.457702   \n",
       "\n",
       "                                     international_movement_restrictions  \\\n",
       "school_closing                                                  0.893071   \n",
       "workplace_closing                                               0.894532   \n",
       "cancel_events                                                   0.755774   \n",
       "gatherings_restrictions                                         0.854969   \n",
       "transport_closing                                                    NaN   \n",
       "stay_home_restrictions                                          0.802884   \n",
       "internal_movement_restrictions                                  0.843218   \n",
       "international_movement_restrictions                             1.000000   \n",
       "information_campaigns                                           0.731444   \n",
       "new                                                             0.406007   \n",
       "\n",
       "                                     information_campaigns       new  \n",
       "school_closing                                    0.804239  0.283065  \n",
       "workplace_closing                                 0.693976  0.588409  \n",
       "cancel_events                                     0.967808  0.379328  \n",
       "gatherings_restrictions                           0.852741  0.453021  \n",
       "transport_closing                                      NaN       NaN  \n",
       "stay_home_restrictions                            0.911021  0.401297  \n",
       "internal_movement_restrictions                    0.782501  0.457702  \n",
       "international_movement_restrictions               0.731444  0.406007  \n",
       "information_campaigns                             1.000000  0.366964  \n",
       "new                                               0.366964  1.000000  "
      ]
     },
     "execution_count": 63,
     "metadata": {},
     "output_type": "execute_result"
    }
   ],
   "source": [
    "# check for correlation between lockdown procedures and case count\n",
    "temp = lockdown_procs+['new']\n",
    "\n",
    "on2['new'] = on2['confirmed'].values - on2['confirmed'].shift(1).values  # new cases today\n",
    "\n",
    "\n",
    "on2[temp].corr()"
   ]
  },
  {
   "cell_type": "markdown",
   "metadata": {},
   "source": [
    "Could try predicting new cases for the next week instead of the current week. The biggest issue here is the amount of data that we have.\n",
    "\n",
    "These correlations between lockdown procedure and new case count have a positive correlation. This suggests that more lockdown procedures result in an increase in new cases; however, we would expect the opposite.\n",
    "\n",
    "Let us try including these lockdown procedures into our model. The signal might not be that strong because we are only looking at the procedures in Ontario.\n",
    "\n",
    "Rationale for positive correlation:\n",
    "- should be compared between what happened and what would have happened\n",
    "- these procedures are applied when the numbers are going up\n"
   ]
  },
  {
   "cell_type": "code",
   "execution_count": null,
   "metadata": {},
   "outputs": [],
   "source": []
  },
  {
   "cell_type": "code",
   "execution_count": 64,
   "metadata": {},
   "outputs": [
    {
     "data": {
      "text/plain": [
       "233"
      ]
     },
     "execution_count": 64,
     "metadata": {},
     "output_type": "execute_result"
    }
   ],
   "source": [
    "on2.shape[0]"
   ]
  },
  {
   "cell_type": "code",
   "execution_count": 65,
   "metadata": {},
   "outputs": [
    {
     "data": {
      "text/plain": [
       "<matplotlib.axes._subplots.AxesSubplot at 0x7fbe6c01d080>"
      ]
     },
     "execution_count": 65,
     "metadata": {},
     "output_type": "execute_result"
    },
    {
     "data": {
      "image/png": "[encoded data removed]",
      "text/plain": [
       "<matplotlib.figure.Figure at 0x7fbe6bfce080>"
      ]
     },
     "metadata": {
      "needs_background": "light"
     },
     "output_type": "display_data"
    }
   ],
   "source": [
    "on2.new.plot()"
   ]
  },
  {
   "cell_type": "code",
   "execution_count": 66,
   "metadata": {},
   "outputs": [
    {
     "data": {
      "text/plain": [
       "<matplotlib.axes._subplots.AxesSubplot at 0x7fbe6c752198>"
      ]
     },
     "execution_count": 66,
     "metadata": {},
     "output_type": "execute_result"
    },
    {
     "data": {
      "image/png": "[encoded data removed]",
      "text/plain": [
       "<matplotlib.figure.Figure at 0x7fbe6c59c8d0>"
      ]
     },
     "metadata": {
      "needs_background": "light"
     },
     "output_type": "display_data"
    }
   ],
   "source": [
    "on2.new.hist()"
   ]
  },
  {
   "cell_type": "code",
   "execution_count": 67,
   "metadata": {},
   "outputs": [
    {
     "data": {
      "text/plain": [
       "<matplotlib.axes._subplots.AxesSubplot at 0x7fbe6bd990b8>"
      ]
     },
     "execution_count": 67,
     "metadata": {},
     "output_type": "execute_result"
    },
    {
     "data": {
      "image/png": "[encoded data removed]",
      "text/plain": [
       "<matplotlib.figure.Figure at 0x7fbe6bb73b00>"
      ]
     },
     "metadata": {
      "needs_background": "light"
     },
     "output_type": "display_data"
    }
   ],
   "source": [
    "import seaborn as sns\n",
    "\n",
    "sns.heatmap(on2[temp].corr())"
   ]
  },
  {
   "cell_type": "markdown",
   "metadata": {},
   "source": [
    "Can use all except transport_closing (no changes)\n",
    "\n",
    "We will use all the procedures as explanatory variables, except transport closing"
   ]
  },
  {
   "cell_type": "code",
   "execution_count": 68,
   "metadata": {},
   "outputs": [
    {
     "data": {
      "text/html": [
       "<div>\n",
       "<style scoped>\n",
       "    .dataframe tbody tr th:only-of-type {\n",
       "        vertical-align: middle;\n",
       "    }\n",
       "\n",
       "    .dataframe tbody tr th {\n",
       "        vertical-align: top;\n",
       "    }\n",
       "\n",
       "    .dataframe thead th {\n",
       "        text-align: right;\n",
       "    }\n",
       "</style>\n",
       "<table border=\"1\" class=\"dataframe\">\n",
       "  <thead>\n",
       "    <tr style=\"text-align: right;\">\n",
       "      <th></th>\n",
       "      <th>date</th>\n",
       "      <th>key_apple_mobility</th>\n",
       "      <th>key_google_mobility</th>\n",
       "      <th>id</th>\n",
       "      <th>tests</th>\n",
       "      <th>confirmed</th>\n",
       "      <th>recovered</th>\n",
       "      <th>deaths</th>\n",
       "      <th>hosp</th>\n",
       "      <th>vent</th>\n",
       "      <th>...</th>\n",
       "      <th>retail_and_recreation_percent_change_from_baseline</th>\n",
       "      <th>grocery_and_pharmacy_percent_change_from_baseline</th>\n",
       "      <th>parks_percent_change_from_baseline</th>\n",
       "      <th>transit_stations_percent_change_from_baseline</th>\n",
       "      <th>workplaces_percent_change_from_baseline</th>\n",
       "      <th>residential_percent_change_from_baseline</th>\n",
       "      <th>driving</th>\n",
       "      <th>walking</th>\n",
       "      <th>transit</th>\n",
       "      <th>new</th>\n",
       "    </tr>\n",
       "  </thead>\n",
       "  <tbody>\n",
       "    <tr>\n",
       "      <th>868</th>\n",
       "      <td>2020-01-31</td>\n",
       "      <td>Ontario</td>\n",
       "      <td>CA, Ontario</td>\n",
       "      <td>83fc0fa9</td>\n",
       "      <td>NaN</td>\n",
       "      <td>3</td>\n",
       "      <td>NaN</td>\n",
       "      <td>0</td>\n",
       "      <td>NaN</td>\n",
       "      <td>NaN</td>\n",
       "      <td>...</td>\n",
       "      <td>NaN</td>\n",
       "      <td>NaN</td>\n",
       "      <td>NaN</td>\n",
       "      <td>NaN</td>\n",
       "      <td>NaN</td>\n",
       "      <td>NaN</td>\n",
       "      <td>126.57</td>\n",
       "      <td>128.71</td>\n",
       "      <td>102.95</td>\n",
       "      <td>NaN</td>\n",
       "    </tr>\n",
       "    <tr>\n",
       "      <th>869</th>\n",
       "      <td>2020-02-08</td>\n",
       "      <td>Ontario</td>\n",
       "      <td>CA, Ontario</td>\n",
       "      <td>83fc0fa9</td>\n",
       "      <td>NaN</td>\n",
       "      <td>3</td>\n",
       "      <td>NaN</td>\n",
       "      <td>0</td>\n",
       "      <td>NaN</td>\n",
       "      <td>NaN</td>\n",
       "      <td>...</td>\n",
       "      <td>NaN</td>\n",
       "      <td>NaN</td>\n",
       "      <td>NaN</td>\n",
       "      <td>NaN</td>\n",
       "      <td>NaN</td>\n",
       "      <td>NaN</td>\n",
       "      <td>113.55</td>\n",
       "      <td>120.61</td>\n",
       "      <td>89.23</td>\n",
       "      <td>0.0</td>\n",
       "    </tr>\n",
       "    <tr>\n",
       "      <th>870</th>\n",
       "      <td>2020-02-16</td>\n",
       "      <td>Ontario</td>\n",
       "      <td>CA, Ontario</td>\n",
       "      <td>83fc0fa9</td>\n",
       "      <td>NaN</td>\n",
       "      <td>3</td>\n",
       "      <td>NaN</td>\n",
       "      <td>0</td>\n",
       "      <td>NaN</td>\n",
       "      <td>NaN</td>\n",
       "      <td>...</td>\n",
       "      <td>16.0</td>\n",
       "      <td>13.0</td>\n",
       "      <td>44.0</td>\n",
       "      <td>5.0</td>\n",
       "      <td>-2.0</td>\n",
       "      <td>-2.0</td>\n",
       "      <td>101.27</td>\n",
       "      <td>107.86</td>\n",
       "      <td>72.52</td>\n",
       "      <td>0.0</td>\n",
       "    </tr>\n",
       "    <tr>\n",
       "      <th>871</th>\n",
       "      <td>2020-02-21</td>\n",
       "      <td>Ontario</td>\n",
       "      <td>CA, Ontario</td>\n",
       "      <td>83fc0fa9</td>\n",
       "      <td>NaN</td>\n",
       "      <td>3</td>\n",
       "      <td>NaN</td>\n",
       "      <td>0</td>\n",
       "      <td>NaN</td>\n",
       "      <td>NaN</td>\n",
       "      <td>...</td>\n",
       "      <td>1.0</td>\n",
       "      <td>-3.0</td>\n",
       "      <td>11.0</td>\n",
       "      <td>-1.0</td>\n",
       "      <td>-7.0</td>\n",
       "      <td>1.0</td>\n",
       "      <td>136.47</td>\n",
       "      <td>141.55</td>\n",
       "      <td>108.22</td>\n",
       "      <td>0.0</td>\n",
       "    </tr>\n",
       "    <tr>\n",
       "      <th>872</th>\n",
       "      <td>2020-02-24</td>\n",
       "      <td>Ontario</td>\n",
       "      <td>CA, Ontario</td>\n",
       "      <td>83fc0fa9</td>\n",
       "      <td>NaN</td>\n",
       "      <td>4</td>\n",
       "      <td>NaN</td>\n",
       "      <td>0</td>\n",
       "      <td>NaN</td>\n",
       "      <td>NaN</td>\n",
       "      <td>...</td>\n",
       "      <td>2.0</td>\n",
       "      <td>2.0</td>\n",
       "      <td>18.0</td>\n",
       "      <td>-2.0</td>\n",
       "      <td>2.0</td>\n",
       "      <td>0.0</td>\n",
       "      <td>101.42</td>\n",
       "      <td>104.62</td>\n",
       "      <td>92.71</td>\n",
       "      <td>1.0</td>\n",
       "    </tr>\n",
       "    <tr>\n",
       "      <th>873</th>\n",
       "      <td>2020-02-25</td>\n",
       "      <td>Ontario</td>\n",
       "      <td>CA, Ontario</td>\n",
       "      <td>83fc0fa9</td>\n",
       "      <td>NaN</td>\n",
       "      <td>4</td>\n",
       "      <td>NaN</td>\n",
       "      <td>0</td>\n",
       "      <td>NaN</td>\n",
       "      <td>NaN</td>\n",
       "      <td>...</td>\n",
       "      <td>1.0</td>\n",
       "      <td>7.0</td>\n",
       "      <td>2.0</td>\n",
       "      <td>1.0</td>\n",
       "      <td>3.0</td>\n",
       "      <td>0.0</td>\n",
       "      <td>105.84</td>\n",
       "      <td>103.71</td>\n",
       "      <td>93.98</td>\n",
       "      <td>0.0</td>\n",
       "    </tr>\n",
       "    <tr>\n",
       "      <th>874</th>\n",
       "      <td>2020-02-26</td>\n",
       "      <td>Ontario</td>\n",
       "      <td>CA, Ontario</td>\n",
       "      <td>83fc0fa9</td>\n",
       "      <td>NaN</td>\n",
       "      <td>5</td>\n",
       "      <td>NaN</td>\n",
       "      <td>0</td>\n",
       "      <td>NaN</td>\n",
       "      <td>NaN</td>\n",
       "      <td>...</td>\n",
       "      <td>-8.0</td>\n",
       "      <td>-5.0</td>\n",
       "      <td>-15.0</td>\n",
       "      <td>-6.0</td>\n",
       "      <td>-2.0</td>\n",
       "      <td>3.0</td>\n",
       "      <td>96.75</td>\n",
       "      <td>90.03</td>\n",
       "      <td>88.68</td>\n",
       "      <td>1.0</td>\n",
       "    </tr>\n",
       "    <tr>\n",
       "      <th>875</th>\n",
       "      <td>2020-02-27</td>\n",
       "      <td>Ontario</td>\n",
       "      <td>CA, Ontario</td>\n",
       "      <td>83fc0fa9</td>\n",
       "      <td>NaN</td>\n",
       "      <td>6</td>\n",
       "      <td>NaN</td>\n",
       "      <td>0</td>\n",
       "      <td>NaN</td>\n",
       "      <td>NaN</td>\n",
       "      <td>...</td>\n",
       "      <td>-13.0</td>\n",
       "      <td>-12.0</td>\n",
       "      <td>-17.0</td>\n",
       "      <td>-5.0</td>\n",
       "      <td>-8.0</td>\n",
       "      <td>5.0</td>\n",
       "      <td>101.12</td>\n",
       "      <td>91.16</td>\n",
       "      <td>90.22</td>\n",
       "      <td>1.0</td>\n",
       "    </tr>\n",
       "    <tr>\n",
       "      <th>876</th>\n",
       "      <td>2020-02-29</td>\n",
       "      <td>Ontario</td>\n",
       "      <td>CA, Ontario</td>\n",
       "      <td>83fc0fa9</td>\n",
       "      <td>NaN</td>\n",
       "      <td>8</td>\n",
       "      <td>NaN</td>\n",
       "      <td>0</td>\n",
       "      <td>NaN</td>\n",
       "      <td>NaN</td>\n",
       "      <td>...</td>\n",
       "      <td>5.0</td>\n",
       "      <td>6.0</td>\n",
       "      <td>9.0</td>\n",
       "      <td>6.0</td>\n",
       "      <td>8.0</td>\n",
       "      <td>-1.0</td>\n",
       "      <td>121.00</td>\n",
       "      <td>127.34</td>\n",
       "      <td>93.33</td>\n",
       "      <td>2.0</td>\n",
       "    </tr>\n",
       "    <tr>\n",
       "      <th>877</th>\n",
       "      <td>2020-03-01</td>\n",
       "      <td>Ontario</td>\n",
       "      <td>CA, Ontario</td>\n",
       "      <td>83fc0fa9</td>\n",
       "      <td>NaN</td>\n",
       "      <td>15</td>\n",
       "      <td>NaN</td>\n",
       "      <td>0</td>\n",
       "      <td>NaN</td>\n",
       "      <td>NaN</td>\n",
       "      <td>...</td>\n",
       "      <td>11.0</td>\n",
       "      <td>10.0</td>\n",
       "      <td>23.0</td>\n",
       "      <td>4.0</td>\n",
       "      <td>6.0</td>\n",
       "      <td>-1.0</td>\n",
       "      <td>93.15</td>\n",
       "      <td>93.66</td>\n",
       "      <td>76.25</td>\n",
       "      <td>7.0</td>\n",
       "    </tr>\n",
       "  </tbody>\n",
       "</table>\n",
       "<p>10 rows × 50 columns</p>\n",
       "</div>"
      ],
      "text/plain": [
       "           date key_apple_mobility key_google_mobility        id  tests  \\\n",
       "868  2020-01-31            Ontario         CA, Ontario  83fc0fa9    NaN   \n",
       "869  2020-02-08            Ontario         CA, Ontario  83fc0fa9    NaN   \n",
       "870  2020-02-16            Ontario         CA, Ontario  83fc0fa9    NaN   \n",
       "871  2020-02-21            Ontario         CA, Ontario  83fc0fa9    NaN   \n",
       "872  2020-02-24            Ontario         CA, Ontario  83fc0fa9    NaN   \n",
       "873  2020-02-25            Ontario         CA, Ontario  83fc0fa9    NaN   \n",
       "874  2020-02-26            Ontario         CA, Ontario  83fc0fa9    NaN   \n",
       "875  2020-02-27            Ontario         CA, Ontario  83fc0fa9    NaN   \n",
       "876  2020-02-29            Ontario         CA, Ontario  83fc0fa9    NaN   \n",
       "877  2020-03-01            Ontario         CA, Ontario  83fc0fa9    NaN   \n",
       "\n",
       "     confirmed  recovered  deaths  hosp  vent  ...  \\\n",
       "868          3        NaN       0   NaN   NaN  ...   \n",
       "869          3        NaN       0   NaN   NaN  ...   \n",
       "870          3        NaN       0   NaN   NaN  ...   \n",
       "871          3        NaN       0   NaN   NaN  ...   \n",
       "872          4        NaN       0   NaN   NaN  ...   \n",
       "873          4        NaN       0   NaN   NaN  ...   \n",
       "874          5        NaN       0   NaN   NaN  ...   \n",
       "875          6        NaN       0   NaN   NaN  ...   \n",
       "876          8        NaN       0   NaN   NaN  ...   \n",
       "877         15        NaN       0   NaN   NaN  ...   \n",
       "\n",
       "     retail_and_recreation_percent_change_from_baseline  \\\n",
       "868                                                NaN    \n",
       "869                                                NaN    \n",
       "870                                               16.0    \n",
       "871                                                1.0    \n",
       "872                                                2.0    \n",
       "873                                                1.0    \n",
       "874                                               -8.0    \n",
       "875                                              -13.0    \n",
       "876                                                5.0    \n",
       "877                                               11.0    \n",
       "\n",
       "     grocery_and_pharmacy_percent_change_from_baseline  \\\n",
       "868                                                NaN   \n",
       "869                                                NaN   \n",
       "870                                               13.0   \n",
       "871                                               -3.0   \n",
       "872                                                2.0   \n",
       "873                                                7.0   \n",
       "874                                               -5.0   \n",
       "875                                              -12.0   \n",
       "876                                                6.0   \n",
       "877                                               10.0   \n",
       "\n",
       "     parks_percent_change_from_baseline  \\\n",
       "868                                 NaN   \n",
       "869                                 NaN   \n",
       "870                                44.0   \n",
       "871                                11.0   \n",
       "872                                18.0   \n",
       "873                                 2.0   \n",
       "874                               -15.0   \n",
       "875                               -17.0   \n",
       "876                                 9.0   \n",
       "877                                23.0   \n",
       "\n",
       "     transit_stations_percent_change_from_baseline  \\\n",
       "868                                            NaN   \n",
       "869                                            NaN   \n",
       "870                                            5.0   \n",
       "871                                           -1.0   \n",
       "872                                           -2.0   \n",
       "873                                            1.0   \n",
       "874                                           -6.0   \n",
       "875                                           -5.0   \n",
       "876                                            6.0   \n",
       "877                                            4.0   \n",
       "\n",
       "     workplaces_percent_change_from_baseline  \\\n",
       "868                                      NaN   \n",
       "869                                      NaN   \n",
       "870                                     -2.0   \n",
       "871                                     -7.0   \n",
       "872                                      2.0   \n",
       "873                                      3.0   \n",
       "874                                     -2.0   \n",
       "875                                     -8.0   \n",
       "876                                      8.0   \n",
       "877                                      6.0   \n",
       "\n",
       "     residential_percent_change_from_baseline  driving  walking  transit  new  \n",
       "868                                       NaN   126.57   128.71   102.95  NaN  \n",
       "869                                       NaN   113.55   120.61    89.23  0.0  \n",
       "870                                      -2.0   101.27   107.86    72.52  0.0  \n",
       "871                                       1.0   136.47   141.55   108.22  0.0  \n",
       "872                                       0.0   101.42   104.62    92.71  1.0  \n",
       "873                                       0.0   105.84   103.71    93.98  0.0  \n",
       "874                                       3.0    96.75    90.03    88.68  1.0  \n",
       "875                                       5.0   101.12    91.16    90.22  1.0  \n",
       "876                                      -1.0   121.00   127.34    93.33  2.0  \n",
       "877                                      -1.0    93.15    93.66    76.25  7.0  \n",
       "\n",
       "[10 rows x 50 columns]"
      ]
     },
     "execution_count": 68,
     "metadata": {},
     "output_type": "execute_result"
    }
   ],
   "source": [
    "# get dates to fill range of min(on2[date]) and max(on2[date]), merge dataset, and ffill na's for lockdown data\n",
    "on2.head(10)"
   ]
  },
  {
   "cell_type": "code",
   "execution_count": 69,
   "metadata": {},
   "outputs": [
    {
     "name": "stdout",
     "output_type": "stream",
     "text": [
      "2020-01-31\n"
     ]
    }
   ],
   "source": [
    "# how to fill in missing data values? Just leave as NA?\n",
    "# we do not need to fill in missing data if we take into account the gaps between dates\n",
    "# this could be problematic if the missing date cases are represented in the next report of new cases\n",
    "# but we can address that later.\n",
    "\n",
    "base_date = on2.date.min()\n",
    "print(base_date)\n",
    "diff = datetime.date(datetime.strptime(on_mobil_mean.date.max(), \"%Y-%m-%d\")) - \\\n",
    "datetime.date(datetime.strptime(\"2020-01-31\", \"%Y-%m-%d\"))\n",
    "diff.days\n",
    "\n",
    "day_num = [datetime.date(datetime.strptime(x, \"%Y-%m-%d\")) - datetime.date(datetime.strptime(\"2020-01-31\", \"%Y-%m-%d\")) for x in on2.date.values]\n",
    "day_num = [x.days for x in day_num]\n",
    "\n"
   ]
  },
  {
   "cell_type": "code",
   "execution_count": 70,
   "metadata": {},
   "outputs": [
    {
     "data": {
      "text/plain": [
       "[0, 8, 16, 21, 24, 25, 26, 27, 29, 30]"
      ]
     },
     "execution_count": 70,
     "metadata": {},
     "output_type": "execute_result"
    }
   ],
   "source": [
    "day_num[:10]"
   ]
  },
  {
   "cell_type": "code",
   "execution_count": 71,
   "metadata": {},
   "outputs": [],
   "source": [
    "# get missing days\n",
    "\n",
    "first_date = min(on2.date.values)\n",
    "last_date = max(on2.date.values)\n",
    "in_btw_dates = pd.date_range(start=first_date, end=last_date).values\n",
    "\n",
    "in_btw_dates = [str(d)[:10] for d in in_btw_dates]\n",
    "\n",
    "dates_temp = set(on2.date.values)\n",
    "\n",
    "missing_dates = [d for d in in_btw_dates if d not in dates_temp]\n"
   ]
  },
  {
   "cell_type": "code",
   "execution_count": 72,
   "metadata": {},
   "outputs": [
    {
     "name": "stdout",
     "output_type": "stream",
     "text": [
      "24\n",
      "['2020-02-01', '2020-02-02', '2020-02-03', '2020-02-04', '2020-02-05', '2020-02-06', '2020-02-07', '2020-02-09', '2020-02-10', '2020-02-11', '2020-02-12', '2020-02-13', '2020-02-14', '2020-02-15', '2020-02-17', '2020-02-18', '2020-02-19', '2020-02-20', '2020-02-22', '2020-02-23', '2020-02-28', '2020-03-02', '2020-03-04', '2020-03-10']\n"
     ]
    }
   ],
   "source": [
    "print(len(missing_dates))\n",
    "print(missing_dates)"
   ]
  },
  {
   "cell_type": "markdown",
   "metadata": {},
   "source": [
    "Reporting was not consistent before March 11."
   ]
  },
  {
   "cell_type": "code",
   "execution_count": 73,
   "metadata": {},
   "outputs": [
    {
     "name": "stdout",
     "output_type": "stream",
     "text": [
      "(233, 50)\n",
      "(217, 50)\n"
     ]
    }
   ],
   "source": [
    "print(on2.shape)\n",
    "print(on2[on2.date > '2020-03-10'].shape)"
   ]
  },
  {
   "cell_type": "code",
   "execution_count": 74,
   "metadata": {},
   "outputs": [
    {
     "data": {
      "text/plain": [
       "16"
      ]
     },
     "execution_count": 74,
     "metadata": {},
     "output_type": "execute_result"
    }
   ],
   "source": [
    "233-217 # 16, but shouldn't this be 24?"
   ]
  },
  {
   "cell_type": "code",
   "execution_count": 75,
   "metadata": {},
   "outputs": [
    {
     "name": "stderr",
     "output_type": "stream",
     "text": [
      "/Users/stephenbrock/anaconda3/lib/python3.6/site-packages/ipykernel_launcher.py:9: SettingWithCopyWarning: \n",
      "A value is trying to be set on a copy of a slice from a DataFrame.\n",
      "Try using .loc[row_indexer,col_indexer] = value instead\n",
      "\n",
      "See the caveats in the documentation: https://pandas.pydata.org/pandas-docs/stable/user_guide/indexing.html#returning-a-view-versus-a-copy\n",
      "  if __name__ == '__main__':\n",
      "/Users/stephenbrock/anaconda3/lib/python3.6/site-packages/ipykernel_launcher.py:15: SettingWithCopyWarning: \n",
      "A value is trying to be set on a copy of a slice from a DataFrame.\n",
      "Try using .loc[row_indexer,col_indexer] = value instead\n",
      "\n",
      "See the caveats in the documentation: https://pandas.pydata.org/pandas-docs/stable/user_guide/indexing.html#returning-a-view-versus-a-copy\n",
      "  from ipykernel import kernelapp as app\n",
      "/Users/stephenbrock/anaconda3/lib/python3.6/site-packages/ipykernel_launcher.py:16: SettingWithCopyWarning: \n",
      "A value is trying to be set on a copy of a slice from a DataFrame.\n",
      "Try using .loc[row_indexer,col_indexer] = value instead\n",
      "\n",
      "See the caveats in the documentation: https://pandas.pydata.org/pandas-docs/stable/user_guide/indexing.html#returning-a-view-versus-a-copy\n",
      "  app.launch_new_instance()\n",
      "/Users/stephenbrock/anaconda3/lib/python3.6/site-packages/ipykernel_launcher.py:17: SettingWithCopyWarning: \n",
      "A value is trying to be set on a copy of a slice from a DataFrame.\n",
      "Try using .loc[row_indexer,col_indexer] = value instead\n",
      "\n",
      "See the caveats in the documentation: https://pandas.pydata.org/pandas-docs/stable/user_guide/indexing.html#returning-a-view-versus-a-copy\n"
     ]
    },
    {
     "data": {
      "text/plain": [
       "(208, 16)"
      ]
     },
     "execution_count": 75,
     "metadata": {},
     "output_type": "execute_result"
    }
   ],
   "source": [
    "data_hyp2 = on2[on2.date > '2020-03-10']\n",
    "\n",
    "day_num = [datetime.date(datetime.strptime(x, \"%Y-%m-%d\")) - datetime.date(datetime.strptime(\"2020-03-10\", \"%Y-%m-%d\")) for x in data_hyp2.date.values]\n",
    "day_num = [x.days for x in day_num]\n",
    "\n",
    "\n",
    "\n",
    "\n",
    "data_hyp2['day_num'] = day_num\n",
    "\n",
    "# we will introduce a 7 day lag in factors -> new case count\n",
    "# we will also do a 7 day lag on a 3-day moving average -> new case count\n",
    "\n",
    "# 7 day lag\n",
    "data_hyp2['new_lag7'] = data_hyp2['new'].shift(-7).values\n",
    "data_hyp2['3d_SMA'] = data_hyp2['new'].rolling(window=3).mean()\n",
    "data_hyp2['3d_SMA_lag7'] = data_hyp2['3d_SMA'].shift(-7).values\n",
    "\n",
    "\n",
    "lockdown_procs_no_transport = ['school_closing', 'workplace_closing', 'cancel_events',\n",
    " 'gatherings_restrictions',\n",
    " 'stay_home_restrictions', 'internal_movement_restrictions',\n",
    " 'international_movement_restrictions', 'information_campaigns']\n",
    "\n",
    "mobility = ['retail_and_recreation_percent_change_from_baseline',\n",
    "       'grocery_and_pharmacy_percent_change_from_baseline',\n",
    "       'parks_percent_change_from_baseline',\n",
    "       'transit_stations_percent_change_from_baseline',\n",
    "       'workplaces_percent_change_from_baseline',\n",
    "       'residential_percent_change_from_baseline']\n",
    "\n",
    "hyp2_vars = lockdown_procs_no_transport+mobility+['day_num', 'constant']\n",
    "data_hyp2 = data_hyp2[lockdown_procs_no_transport+mobility+['day_num', 'new_lag7', '3d_SMA_lag7']]\n",
    "data_hyp2 = data_hyp2.dropna().reset_index(drop=True)\n",
    "data_hyp2.insert(0,'constant',np.array(data_hyp2.shape[0]*[1.0]))\n",
    "# print(data_hyp2.dtypes)\n",
    "# data_hyp2 = pd.to_numeric(data_hyp2)\n",
    "data_hyp2 = data_hyp2.astype(np.float64)\n",
    "\n",
    "X_hyp2 = data_hyp2[hyp2_vars]\n",
    "new7 =  data_hyp2['new_lag7']\n",
    "sma_3d7 = data_hyp2['3d_SMA_lag7']\n",
    "\n",
    "X_hyp2.shape\n"
   ]
  },
  {
   "cell_type": "code",
   "execution_count": 76,
   "metadata": {},
   "outputs": [
    {
     "data": {
      "text/plain": [
       "Index(['constant', 'school_closing', 'workplace_closing', 'cancel_events',\n",
       "       'gatherings_restrictions', 'stay_home_restrictions',\n",
       "       'internal_movement_restrictions', 'international_movement_restrictions',\n",
       "       'information_campaigns',\n",
       "       'retail_and_recreation_percent_change_from_baseline',\n",
       "       'grocery_and_pharmacy_percent_change_from_baseline',\n",
       "       'parks_percent_change_from_baseline',\n",
       "       'transit_stations_percent_change_from_baseline',\n",
       "       'workplaces_percent_change_from_baseline',\n",
       "       'residential_percent_change_from_baseline', 'day_num', 'new_lag7',\n",
       "       '3d_SMA_lag7'],\n",
       "      dtype='object')"
      ]
     },
     "execution_count": 76,
     "metadata": {},
     "output_type": "execute_result"
    }
   ],
   "source": [
    "data_hyp2.columns"
   ]
  },
  {
   "cell_type": "code",
   "execution_count": 77,
   "metadata": {},
   "outputs": [
    {
     "name": "stdout",
     "output_type": "stream",
     "text": [
      "                            OLS Regression Results                            \n",
      "==============================================================================\n",
      "Dep. Variable:               new_lag7   R-squared:                       0.795\n",
      "Model:                            OLS   Adj. R-squared:                  0.785\n",
      "Method:                 Least Squares   F-statistic:                     76.48\n",
      "Date:                Wed, 11 Nov 2020   Prob (F-statistic):           2.60e-62\n",
      "Time:                        09:33:27   Log-Likelihood:                -1214.3\n",
      "No. Observations:                 208   AIC:                             2451.\n",
      "Df Residuals:                     197   BIC:                             2487.\n",
      "Df Model:                          10                                         \n",
      "Covariance Type:            nonrobust                                         \n",
      "======================================================================================================================\n",
      "                                                         coef    std err          t      P>|t|      [0.025      0.975]\n",
      "----------------------------------------------------------------------------------------------------------------------\n",
      "school_closing                                      -278.0936     28.191     -9.865      0.000    -333.688    -222.500\n",
      "workplace_closing                                     39.4323     20.525      1.921      0.056      -1.044      79.908\n",
      "cancel_events                                       -118.1542     53.219     -2.220      0.028    -223.106     -13.203\n",
      "gatherings_restrictions                              184.8770     38.720      4.775      0.000     108.518     261.236\n",
      "international_movement_restrictions                  -69.6464     18.163     -3.835      0.000    -105.465     -33.828\n",
      "retail_and_recreation_percent_change_from_baseline   -12.7870      2.064     -6.194      0.000     -16.858      -8.716\n",
      "grocery_and_pharmacy_percent_change_from_baseline      6.2156      1.337      4.650      0.000       3.580       8.852\n",
      "transit_stations_percent_change_from_baseline         -8.2234      2.504     -3.284      0.001     -13.162      -3.285\n",
      "workplaces_percent_change_from_baseline                4.1167      1.063      3.873      0.000       2.021       6.213\n",
      "day_num                                                1.1698      0.420      2.785      0.006       0.341       1.998\n",
      "constant                                              25.9777     89.307      0.291      0.771    -150.143     202.099\n",
      "==============================================================================\n",
      "Omnibus:                       23.012   Durbin-Watson:                   1.325\n",
      "Prob(Omnibus):                  0.000   Jarque-Bera (JB):               30.076\n",
      "Skew:                           0.723   Prob(JB):                     2.95e-07\n",
      "Kurtosis:                       4.174   Cond. No.                     2.24e+03\n",
      "==============================================================================\n",
      "\n",
      "Notes:\n",
      "[1] Standard Errors assume that the covariance matrix of the errors is correctly specified.\n",
      "[2] The condition number is large, 2.24e+03. This might indicate that there are\n",
      "strong multicollinearity or other numerical problems.\n",
      "                            OLS Regression Results                            \n",
      "==============================================================================\n",
      "Dep. Variable:            3d_SMA_lag7   R-squared:                       0.849\n",
      "Model:                            OLS   Adj. R-squared:                  0.841\n",
      "Method:                 Least Squares   F-statistic:                     110.9\n",
      "Date:                Wed, 11 Nov 2020   Prob (F-statistic):           2.86e-75\n",
      "Time:                        09:33:27   Log-Likelihood:                -1172.9\n",
      "No. Observations:                 208   AIC:                             2368.\n",
      "Df Residuals:                     197   BIC:                             2404.\n",
      "Df Model:                          10                                         \n",
      "Covariance Type:            nonrobust                                         \n",
      "======================================================================================================================\n",
      "                                                         coef    std err          t      P>|t|      [0.025      0.975]\n",
      "----------------------------------------------------------------------------------------------------------------------\n",
      "school_closing                                      -273.4116     23.102    -11.835      0.000    -318.971    -227.852\n",
      "workplace_closing                                     38.6070     16.820      2.295      0.023       5.437      71.777\n",
      "cancel_events                                       -135.2282     43.613     -3.101      0.002    -221.237     -49.220\n",
      "gatherings_restrictions                              185.7673     31.731      5.854      0.000     123.190     248.344\n",
      "international_movement_restrictions                  -63.1962     14.885     -4.246      0.000     -92.550     -33.842\n",
      "retail_and_recreation_percent_change_from_baseline   -12.0767      1.692     -7.139      0.000     -15.413      -8.741\n",
      "grocery_and_pharmacy_percent_change_from_baseline      6.0484      1.095      5.522      0.000       3.888       8.209\n",
      "transit_stations_percent_change_from_baseline         -9.1585      2.052     -4.462      0.000     -13.206      -5.111\n",
      "workplaces_percent_change_from_baseline                4.7615      0.871      5.467      0.000       3.044       6.479\n",
      "day_num                                                1.0574      0.344      3.071      0.002       0.378       1.736\n",
      "constant                                              29.3813     73.188      0.401      0.689    -114.952     173.714\n",
      "==============================================================================\n",
      "Omnibus:                       14.856   Durbin-Watson:                   0.707\n",
      "Prob(Omnibus):                  0.001   Jarque-Bera (JB):               22.000\n",
      "Skew:                           0.444   Prob(JB):                     1.67e-05\n",
      "Kurtosis:                       4.323   Cond. No.                     2.24e+03\n",
      "==============================================================================\n",
      "\n",
      "Notes:\n",
      "[1] Standard Errors assume that the covariance matrix of the errors is correctly specified.\n",
      "[2] The condition number is large, 2.24e+03. This might indicate that there are\n",
      "strong multicollinearity or other numerical problems.\n"
     ]
    }
   ],
   "source": [
    "# create OLS model with linear regression\n",
    "\n",
    "import statsmodels.api as sm\n",
    "\n",
    "new_set = ['school_closing', \n",
    "           'workplace_closing', \n",
    "           'cancel_events',\n",
    "           'gatherings_restrictions',\n",
    "           #'stay_home_restrictions', \n",
    "           #'internal_movement_restrictions',\n",
    "           'international_movement_restrictions',\n",
    "           #'information_campaigns',\n",
    "           'retail_and_recreation_percent_change_from_baseline',\n",
    "           'grocery_and_pharmacy_percent_change_from_baseline',\n",
    "           #'parks_percent_change_from_baseline',\n",
    "           'transit_stations_percent_change_from_baseline',\n",
    "           'workplaces_percent_change_from_baseline',\n",
    "           #'residential_percent_change_from_baseline', \n",
    "           'day_num', \n",
    "           'constant']\n",
    "\n",
    "X_hyp2 = X_hyp2[new_set]\n",
    "\n",
    "model_hyp2 = sm.OLS(new7,X_hyp2)\n",
    "res1 = model_hyp2.fit()\n",
    "print(res1.summary())\n",
    "\n",
    "model2_hyp2 = sm.OLS(sma_3d7,X_hyp2)\n",
    "res2 = model2_hyp2.fit()\n",
    "print(res2.summary())\n"
   ]
  },
  {
   "cell_type": "markdown",
   "metadata": {},
   "source": [
    "List of changes to full model:\n",
    "1. remove parks_percent_change_from_baseline (0.94)\n",
    "2. remove information_campaigns (0.79)\n",
    "3. could remove intercept, but will leave it for now\n",
    "4. remove internal_movement_restrictions (0.26)\n",
    "5. remove stay_home_restrictions (0.179)\n",
    "6. remove residential_percent_change_from_baseline (0.116)"
   ]
  },
  {
   "cell_type": "markdown",
   "metadata": {},
   "source": [
    "### Check predictive performance..."
   ]
  },
  {
   "cell_type": "code",
   "execution_count": null,
   "metadata": {},
   "outputs": [],
   "source": []
  },
  {
   "cell_type": "code",
   "execution_count": null,
   "metadata": {},
   "outputs": [],
   "source": []
  },
  {
   "cell_type": "markdown",
   "metadata": {},
   "source": [
    "### Using Nick's code"
   ]
  },
  {
   "cell_type": "code",
   "execution_count": 78,
   "metadata": {},
   "outputs": [],
   "source": [
    "import pandas as pd\n",
    "import numpy as np\n",
    "\n",
    "# # Samuel's data set\n",
    "# ont_data = pd.read_csv(\"data_can2.csv\")\n",
    "\n",
    "# # create new variables\n",
    "# ont_data = ont_data.assign(\n",
    "#     new_confirmed = ont_data[\"confirmed\"].diff(),\n",
    "#     new_tests = ont_data[\"tests\"].diff(),\n",
    "#     new_recovered = ont_data[\"recovered\"].diff()\n",
    "#     )\n",
    "\n",
    "# # Ontario data\n",
    "# ont_data = ont_data[ont_data[\"key_apple_mobility\"] == \"Ontario\"]\n",
    "# ont_data[\"date\"] = pd.to_datetime(ont_data[\"date\"])\n",
    "\n",
    "# Ontario data on estimated positive case onset dates\n",
    "pos_data = pd.read_csv(\"../Datasets/conposcovidloc.csv\")\n",
    "pos_data[\"Accurate_Episode_Date\"] = pd.to_datetime(pos_data[\"Accurate_Episode_Date\"])\n",
    "pos_data[\"Test_Reported_Date\"] = pd.to_datetime(pos_data[\"Test_Reported_Date\"])\n",
    "\n",
    "# Create lag variable\n",
    "lag = pos_data[\"Test_Reported_Date\"] - pos_data[\"Accurate_Episode_Date\"]\n",
    "pos_data['lag'] = lag.dt.days # timedelta object to integer for means\n",
    "mean_lag = pos_data.groupby(by='Accurate_Episode_Date').mean()['lag']\n",
    "mean_lag_dates = pd.Series(mean_lag.index.values)\n",
    "mean_lag = pd.Series(mean_lag.values)\n",
    "mean_lag_data = pd.concat([mean_lag_dates, mean_lag], axis = 1)\n",
    "mean_lag_data.columns = [\"date\", \"mean_lag\"]\n",
    "\n",
    "# estimated date of onset for confirmed positive cases\n",
    "onset_date = pos_data[\"Accurate_Episode_Date\"]  # symptom onset\n",
    "cases = pd.Series(onset_date.value_counts().values)\n",
    "date = pd.Series(onset_date.value_counts().index.values)\n",
    "date = pd.to_datetime(date)\n",
    "onset_data = pd.concat([date, cases], axis=1)\n",
    "onset_data.columns = ['date', 'onset']\n",
    "\n",
    "# merge the data frames\n",
    "onset_data = onset_data.merge(mean_lag_data, on = \"date\")\n",
    "onset_data[\"date\"] = pd.to_datetime(onset_data[\"date\"])\n",
    "\n",
    "# The data frame below has the following new variables:\n",
    "# onset: Number of confirmed positives whose symptoms started on that date.\n",
    "# mean_lag: The mean number of days it took to report the confirmed cases whose\n",
    "# onset of symptoms was the corresponding date.\n",
    "# ont_data = ont_data.merge(onset_data, on = \"date\")"
   ]
  },
  {
   "cell_type": "code",
   "execution_count": 79,
   "metadata": {},
   "outputs": [
    {
     "data": {
      "text/html": [
       "<div>\n",
       "<style scoped>\n",
       "    .dataframe tbody tr th:only-of-type {\n",
       "        vertical-align: middle;\n",
       "    }\n",
       "\n",
       "    .dataframe tbody tr th {\n",
       "        vertical-align: top;\n",
       "    }\n",
       "\n",
       "    .dataframe thead th {\n",
       "        text-align: right;\n",
       "    }\n",
       "</style>\n",
       "<table border=\"1\" class=\"dataframe\">\n",
       "  <thead>\n",
       "    <tr style=\"text-align: right;\">\n",
       "      <th></th>\n",
       "      <th>Row_ID</th>\n",
       "      <th>Accurate_Episode_Date</th>\n",
       "      <th>Case_Reported_Date</th>\n",
       "      <th>Test_Reported_Date</th>\n",
       "      <th>Specimen_Date</th>\n",
       "      <th>Age_Group</th>\n",
       "      <th>Client_Gender</th>\n",
       "      <th>Case_AcquisitionInfo</th>\n",
       "      <th>Outcome1</th>\n",
       "      <th>Outbreak_Related</th>\n",
       "      <th>Reporting_PHU</th>\n",
       "      <th>Reporting_PHU_Address</th>\n",
       "      <th>Reporting_PHU_City</th>\n",
       "      <th>Reporting_PHU_Postal_Code</th>\n",
       "      <th>Reporting_PHU_Website</th>\n",
       "      <th>Reporting_PHU_Latitude</th>\n",
       "      <th>Reporting_PHU_Longitude</th>\n",
       "      <th>lag</th>\n",
       "    </tr>\n",
       "  </thead>\n",
       "  <tbody>\n",
       "    <tr>\n",
       "      <th>0</th>\n",
       "      <td>1</td>\n",
       "      <td>2020-10-01</td>\n",
       "      <td>2020-10-05</td>\n",
       "      <td>2020-10-05</td>\n",
       "      <td>2020-10-04</td>\n",
       "      <td>20s</td>\n",
       "      <td>FEMALE</td>\n",
       "      <td>CC</td>\n",
       "      <td>Resolved</td>\n",
       "      <td>NaN</td>\n",
       "      <td>Peel Public Health</td>\n",
       "      <td>7120 Hurontario Street</td>\n",
       "      <td>Mississauga</td>\n",
       "      <td>L5W 1N4</td>\n",
       "      <td>www.peelregion.ca/health/</td>\n",
       "      <td>43.647471</td>\n",
       "      <td>-79.708893</td>\n",
       "      <td>4.0</td>\n",
       "    </tr>\n",
       "    <tr>\n",
       "      <th>1</th>\n",
       "      <td>2</td>\n",
       "      <td>2020-08-10</td>\n",
       "      <td>2020-08-13</td>\n",
       "      <td>2020-08-13</td>\n",
       "      <td>2020-08-10</td>\n",
       "      <td>40s</td>\n",
       "      <td>FEMALE</td>\n",
       "      <td>OB</td>\n",
       "      <td>Resolved</td>\n",
       "      <td>NaN</td>\n",
       "      <td>York Region Public Health Services</td>\n",
       "      <td>17250 Yonge Street</td>\n",
       "      <td>Newmarket</td>\n",
       "      <td>L3Y 6Z1</td>\n",
       "      <td>www.york.ca/wps/portal/yorkhome/health/</td>\n",
       "      <td>44.048023</td>\n",
       "      <td>-79.480239</td>\n",
       "      <td>3.0</td>\n",
       "    </tr>\n",
       "    <tr>\n",
       "      <th>2</th>\n",
       "      <td>3</td>\n",
       "      <td>2020-10-07</td>\n",
       "      <td>2020-10-09</td>\n",
       "      <td>2020-10-09</td>\n",
       "      <td>2020-10-09</td>\n",
       "      <td>40s</td>\n",
       "      <td>FEMALE</td>\n",
       "      <td>CC</td>\n",
       "      <td>Not Resolved</td>\n",
       "      <td>NaN</td>\n",
       "      <td>Windsor-Essex County Health Unit</td>\n",
       "      <td>1005 Ouellette Avenue</td>\n",
       "      <td>Windsor</td>\n",
       "      <td>N9A 4J8</td>\n",
       "      <td>www.wechu.org</td>\n",
       "      <td>42.308796</td>\n",
       "      <td>-83.033670</td>\n",
       "      <td>2.0</td>\n",
       "    </tr>\n",
       "    <tr>\n",
       "      <th>3</th>\n",
       "      <td>4</td>\n",
       "      <td>2020-10-06</td>\n",
       "      <td>2020-10-10</td>\n",
       "      <td>2020-10-10</td>\n",
       "      <td>2020-10-06</td>\n",
       "      <td>40s</td>\n",
       "      <td>FEMALE</td>\n",
       "      <td>Missing Information</td>\n",
       "      <td>Not Resolved</td>\n",
       "      <td>NaN</td>\n",
       "      <td>York Region Public Health Services</td>\n",
       "      <td>17250 Yonge Street</td>\n",
       "      <td>Newmarket</td>\n",
       "      <td>L3Y 6Z1</td>\n",
       "      <td>www.york.ca/wps/portal/yorkhome/health/</td>\n",
       "      <td>44.048023</td>\n",
       "      <td>-79.480239</td>\n",
       "      <td>4.0</td>\n",
       "    </tr>\n",
       "    <tr>\n",
       "      <th>4</th>\n",
       "      <td>5</td>\n",
       "      <td>2020-08-20</td>\n",
       "      <td>2020-08-24</td>\n",
       "      <td>2020-08-24</td>\n",
       "      <td>2020-08-24</td>\n",
       "      <td>80s</td>\n",
       "      <td>FEMALE</td>\n",
       "      <td>No known epi link</td>\n",
       "      <td>Resolved</td>\n",
       "      <td>NaN</td>\n",
       "      <td>Peel Public Health</td>\n",
       "      <td>7120 Hurontario Street</td>\n",
       "      <td>Mississauga</td>\n",
       "      <td>L5W 1N4</td>\n",
       "      <td>www.peelregion.ca/health/</td>\n",
       "      <td>43.647471</td>\n",
       "      <td>-79.708893</td>\n",
       "      <td>4.0</td>\n",
       "    </tr>\n",
       "  </tbody>\n",
       "</table>\n",
       "</div>"
      ],
      "text/plain": [
       "   Row_ID Accurate_Episode_Date Case_Reported_Date Test_Reported_Date  \\\n",
       "0       1            2020-10-01         2020-10-05         2020-10-05   \n",
       "1       2            2020-08-10         2020-08-13         2020-08-13   \n",
       "2       3            2020-10-07         2020-10-09         2020-10-09   \n",
       "3       4            2020-10-06         2020-10-10         2020-10-10   \n",
       "4       5            2020-08-20         2020-08-24         2020-08-24   \n",
       "\n",
       "  Specimen_Date Age_Group Client_Gender Case_AcquisitionInfo      Outcome1  \\\n",
       "0    2020-10-04       20s        FEMALE                   CC      Resolved   \n",
       "1    2020-08-10       40s        FEMALE                   OB      Resolved   \n",
       "2    2020-10-09       40s        FEMALE                   CC  Not Resolved   \n",
       "3    2020-10-06       40s        FEMALE  Missing Information  Not Resolved   \n",
       "4    2020-08-24       80s        FEMALE    No known epi link      Resolved   \n",
       "\n",
       "  Outbreak_Related                       Reporting_PHU  \\\n",
       "0              NaN                  Peel Public Health   \n",
       "1              NaN  York Region Public Health Services   \n",
       "2              NaN    Windsor-Essex County Health Unit   \n",
       "3              NaN  York Region Public Health Services   \n",
       "4              NaN                  Peel Public Health   \n",
       "\n",
       "    Reporting_PHU_Address Reporting_PHU_City Reporting_PHU_Postal_Code  \\\n",
       "0  7120 Hurontario Street        Mississauga                   L5W 1N4   \n",
       "1      17250 Yonge Street          Newmarket                   L3Y 6Z1   \n",
       "2   1005 Ouellette Avenue            Windsor                   N9A 4J8   \n",
       "3      17250 Yonge Street          Newmarket                   L3Y 6Z1   \n",
       "4  7120 Hurontario Street        Mississauga                   L5W 1N4   \n",
       "\n",
       "                      Reporting_PHU_Website  Reporting_PHU_Latitude  \\\n",
       "0                 www.peelregion.ca/health/               43.647471   \n",
       "1  www.york.ca/wps/portal/yorkhome/health/                44.048023   \n",
       "2                             www.wechu.org               42.308796   \n",
       "3  www.york.ca/wps/portal/yorkhome/health/                44.048023   \n",
       "4                 www.peelregion.ca/health/               43.647471   \n",
       "\n",
       "   Reporting_PHU_Longitude  lag  \n",
       "0               -79.708893  4.0  \n",
       "1               -79.480239  3.0  \n",
       "2               -83.033670  2.0  \n",
       "3               -79.480239  4.0  \n",
       "4               -79.708893  4.0  "
      ]
     },
     "execution_count": 79,
     "metadata": {},
     "output_type": "execute_result"
    }
   ],
   "source": [
    "pos_data.head()"
   ]
  },
  {
   "cell_type": "markdown",
   "metadata": {},
   "source": [
    "Notes:\n",
    "All these cases are positive\n",
    "\n",
    "1. Accurate_Episode_Date - when symptoms started\n",
    "2. Case_Reported_Date - when case was reported\n",
    "3. Test_Reported_Date - when test results reported\n",
    "4. Specimen_Date - earliest date of the case sent to lab (backlog)\n",
    "\n",
    "Accurate_Episode_Date < Specimen_Date < Case_Reported_Date < Test_Reported_Date"
   ]
  },
  {
   "cell_type": "code",
   "execution_count": 80,
   "metadata": {},
   "outputs": [
    {
     "data": {
      "text/html": [
       "<div>\n",
       "<style scoped>\n",
       "    .dataframe tbody tr th:only-of-type {\n",
       "        vertical-align: middle;\n",
       "    }\n",
       "\n",
       "    .dataframe tbody tr th {\n",
       "        vertical-align: top;\n",
       "    }\n",
       "\n",
       "    .dataframe thead th {\n",
       "        text-align: right;\n",
       "    }\n",
       "</style>\n",
       "<table border=\"1\" class=\"dataframe\">\n",
       "  <thead>\n",
       "    <tr style=\"text-align: right;\">\n",
       "      <th></th>\n",
       "      <th>date</th>\n",
       "      <th>onset</th>\n",
       "      <th>mean_lag</th>\n",
       "    </tr>\n",
       "  </thead>\n",
       "  <tbody>\n",
       "    <tr>\n",
       "      <th>0</th>\n",
       "      <td>2020-09-28</td>\n",
       "      <td>790</td>\n",
       "      <td>5.005135</td>\n",
       "    </tr>\n",
       "    <tr>\n",
       "      <th>1</th>\n",
       "      <td>2020-09-29</td>\n",
       "      <td>734</td>\n",
       "      <td>4.490305</td>\n",
       "    </tr>\n",
       "    <tr>\n",
       "      <th>2</th>\n",
       "      <td>2020-09-25</td>\n",
       "      <td>723</td>\n",
       "      <td>5.014045</td>\n",
       "    </tr>\n",
       "    <tr>\n",
       "      <th>3</th>\n",
       "      <td>2020-09-30</td>\n",
       "      <td>694</td>\n",
       "      <td>4.861314</td>\n",
       "    </tr>\n",
       "    <tr>\n",
       "      <th>4</th>\n",
       "      <td>2020-04-17</td>\n",
       "      <td>680</td>\n",
       "      <td>7.002959</td>\n",
       "    </tr>\n",
       "  </tbody>\n",
       "</table>\n",
       "</div>"
      ],
      "text/plain": [
       "        date  onset  mean_lag\n",
       "0 2020-09-28    790  5.005135\n",
       "1 2020-09-29    734  4.490305\n",
       "2 2020-09-25    723  5.014045\n",
       "3 2020-09-30    694  4.861314\n",
       "4 2020-04-17    680  7.002959"
      ]
     },
     "execution_count": 80,
     "metadata": {},
     "output_type": "execute_result"
    }
   ],
   "source": [
    "onset_data.head()"
   ]
  },
  {
   "cell_type": "code",
   "execution_count": 81,
   "metadata": {},
   "outputs": [
    {
     "data": {
      "text/html": [
       "<div>\n",
       "<style scoped>\n",
       "    .dataframe tbody tr th:only-of-type {\n",
       "        vertical-align: middle;\n",
       "    }\n",
       "\n",
       "    .dataframe tbody tr th {\n",
       "        vertical-align: top;\n",
       "    }\n",
       "\n",
       "    .dataframe thead th {\n",
       "        text-align: right;\n",
       "    }\n",
       "</style>\n",
       "<table border=\"1\" class=\"dataframe\">\n",
       "  <thead>\n",
       "    <tr style=\"text-align: right;\">\n",
       "      <th></th>\n",
       "      <th>date</th>\n",
       "      <th>onset</th>\n",
       "      <th>mean_lag</th>\n",
       "    </tr>\n",
       "  </thead>\n",
       "  <tbody>\n",
       "    <tr>\n",
       "      <th>252</th>\n",
       "      <td>2019-12-25</td>\n",
       "      <td>1</td>\n",
       "      <td>95.000000</td>\n",
       "    </tr>\n",
       "    <tr>\n",
       "      <th>238</th>\n",
       "      <td>2020-01-01</td>\n",
       "      <td>3</td>\n",
       "      <td>177.666667</td>\n",
       "    </tr>\n",
       "    <tr>\n",
       "      <th>247</th>\n",
       "      <td>2020-01-10</td>\n",
       "      <td>1</td>\n",
       "      <td>152.000000</td>\n",
       "    </tr>\n",
       "    <tr>\n",
       "      <th>256</th>\n",
       "      <td>2020-01-16</td>\n",
       "      <td>1</td>\n",
       "      <td>266.000000</td>\n",
       "    </tr>\n",
       "    <tr>\n",
       "      <th>250</th>\n",
       "      <td>2020-01-21</td>\n",
       "      <td>1</td>\n",
       "      <td>6.000000</td>\n",
       "    </tr>\n",
       "    <tr>\n",
       "      <th>...</th>\n",
       "      <td>...</td>\n",
       "      <td>...</td>\n",
       "      <td>...</td>\n",
       "    </tr>\n",
       "    <tr>\n",
       "      <th>58</th>\n",
       "      <td>2020-10-12</td>\n",
       "      <td>395</td>\n",
       "      <td>1.658974</td>\n",
       "    </tr>\n",
       "    <tr>\n",
       "      <th>38</th>\n",
       "      <td>2020-10-13</td>\n",
       "      <td>457</td>\n",
       "      <td>1.441648</td>\n",
       "    </tr>\n",
       "    <tr>\n",
       "      <th>84</th>\n",
       "      <td>2020-10-14</td>\n",
       "      <td>322</td>\n",
       "      <td>1.165605</td>\n",
       "    </tr>\n",
       "    <tr>\n",
       "      <th>193</th>\n",
       "      <td>2020-10-15</td>\n",
       "      <td>104</td>\n",
       "      <td>0.587629</td>\n",
       "    </tr>\n",
       "    <tr>\n",
       "      <th>229</th>\n",
       "      <td>2020-10-16</td>\n",
       "      <td>8</td>\n",
       "      <td>-0.500000</td>\n",
       "    </tr>\n",
       "  </tbody>\n",
       "</table>\n",
       "<p>258 rows × 3 columns</p>\n",
       "</div>"
      ],
      "text/plain": [
       "          date  onset    mean_lag\n",
       "252 2019-12-25      1   95.000000\n",
       "238 2020-01-01      3  177.666667\n",
       "247 2020-01-10      1  152.000000\n",
       "256 2020-01-16      1  266.000000\n",
       "250 2020-01-21      1    6.000000\n",
       "..         ...    ...         ...\n",
       "58  2020-10-12    395    1.658974\n",
       "38  2020-10-13    457    1.441648\n",
       "84  2020-10-14    322    1.165605\n",
       "193 2020-10-15    104    0.587629\n",
       "229 2020-10-16      8   -0.500000\n",
       "\n",
       "[258 rows x 3 columns]"
      ]
     },
     "execution_count": 81,
     "metadata": {},
     "output_type": "execute_result"
    }
   ],
   "source": [
    "onset_data.sort_values('date')"
   ]
  },
  {
   "cell_type": "code",
   "execution_count": 82,
   "metadata": {},
   "outputs": [],
   "source": [
    "mean_lag = onset_data[['date', 'mean_lag']]"
   ]
  },
  {
   "cell_type": "code",
   "execution_count": 83,
   "metadata": {},
   "outputs": [],
   "source": [
    "# data3 = on2[on2.date > '2020-03-10']"
   ]
  },
  {
   "cell_type": "code",
   "execution_count": 84,
   "metadata": {},
   "outputs": [],
   "source": [
    "# dates = pd.to_datetime(data3.date.values)\n",
    "# weekday_nums = [d.weekday() for d in dates]\n",
    "# # monday is 0\n",
    "# # sunday is 6\n",
    "# is_weekday = [1 if d < 5 else 0 for d in weekday_nums]\n",
    "# #month_nums = [d.month() for d in dates]\n",
    "\n",
    "# # df['year'] = pd.DatetimeIndex(df['birth_date']).year\n",
    "\n",
    "# #pd.DatetimeIndex(data3.date).dayofweek()\n",
    "# months = pd.DatetimeIndex(data3.date).month\n",
    "# # months\n",
    "\n",
    "# winter = [12,1,2]\n",
    "# spring = [3,4,5]\n",
    "# summer = [6,7,8]\n",
    "# fall = [9,10,11]\n",
    "\n",
    "# is_winter = [1 if m in winter else 0 for m in months]\n",
    "# is_spring = [1 if m in summer else 0 for m in months]\n",
    "# is_fall = [1 if m in spring else 0 for m in months]\n",
    "# is_summer = [1 if m in fall else 0 for m in months]\n"
   ]
  },
  {
   "cell_type": "code",
   "execution_count": 85,
   "metadata": {},
   "outputs": [],
   "source": [
    "# add columns to the data\n",
    "# data3['is_weekday'] = is_weekday\n",
    "# data3['is_winter'] = is_winter\n",
    "# data3['is_spring'] = is_fall\n",
    "# data3['is_summer'] = is_spring\n",
    "# data3['is_fall'] = is_summer\n"
   ]
  },
  {
   "cell_type": "code",
   "execution_count": 86,
   "metadata": {},
   "outputs": [],
   "source": [
    "# data3['date'] = pd.to_datetime(data3['date'])"
   ]
  },
  {
   "cell_type": "code",
   "execution_count": 87,
   "metadata": {},
   "outputs": [],
   "source": [
    "# data3 = data3.merge(mean_lag, how='left', on='date')"
   ]
  },
  {
   "cell_type": "code",
   "execution_count": 88,
   "metadata": {},
   "outputs": [],
   "source": [
    "# # add response, day_num, and constant for regression\n",
    "# data3['new_lag7'] = data3['new'].shift(-7).values\n",
    "# data3['3d_SMA'] = data3['new'].rolling(window=3).mean()\n",
    "# data3['3d_SMA_lag7'] = data3['3d_SMA'].shift(-7).values\n",
    "# if 'constant' not in data3.columns:\n",
    "#     data3.insert(0,'constant',np.array(data3.shape[0]*[1.0]))\n",
    "# data3['day_num'] = day_num\n",
    "# complete_data = data3.copy()"
   ]
  },
  {
   "cell_type": "code",
   "execution_count": 89,
   "metadata": {},
   "outputs": [],
   "source": [
    "# data3.columns"
   ]
  },
  {
   "cell_type": "code",
   "execution_count": 90,
   "metadata": {},
   "outputs": [
    {
     "name": "stderr",
     "output_type": "stream",
     "text": [
      "/Users/stephenbrock/anaconda3/lib/python3.6/site-packages/ipykernel_launcher.py:27: SettingWithCopyWarning: \n",
      "A value is trying to be set on a copy of a slice from a DataFrame.\n",
      "Try using .loc[row_indexer,col_indexer] = value instead\n",
      "\n",
      "See the caveats in the documentation: https://pandas.pydata.org/pandas-docs/stable/user_guide/indexing.html#returning-a-view-versus-a-copy\n",
      "/Users/stephenbrock/anaconda3/lib/python3.6/site-packages/ipykernel_launcher.py:28: SettingWithCopyWarning: \n",
      "A value is trying to be set on a copy of a slice from a DataFrame.\n",
      "Try using .loc[row_indexer,col_indexer] = value instead\n",
      "\n",
      "See the caveats in the documentation: https://pandas.pydata.org/pandas-docs/stable/user_guide/indexing.html#returning-a-view-versus-a-copy\n",
      "/Users/stephenbrock/anaconda3/lib/python3.6/site-packages/ipykernel_launcher.py:29: SettingWithCopyWarning: \n",
      "A value is trying to be set on a copy of a slice from a DataFrame.\n",
      "Try using .loc[row_indexer,col_indexer] = value instead\n",
      "\n",
      "See the caveats in the documentation: https://pandas.pydata.org/pandas-docs/stable/user_guide/indexing.html#returning-a-view-versus-a-copy\n",
      "/Users/stephenbrock/anaconda3/lib/python3.6/site-packages/ipykernel_launcher.py:30: SettingWithCopyWarning: \n",
      "A value is trying to be set on a copy of a slice from a DataFrame.\n",
      "Try using .loc[row_indexer,col_indexer] = value instead\n",
      "\n",
      "See the caveats in the documentation: https://pandas.pydata.org/pandas-docs/stable/user_guide/indexing.html#returning-a-view-versus-a-copy\n",
      "/Users/stephenbrock/anaconda3/lib/python3.6/site-packages/ipykernel_launcher.py:31: SettingWithCopyWarning: \n",
      "A value is trying to be set on a copy of a slice from a DataFrame.\n",
      "Try using .loc[row_indexer,col_indexer] = value instead\n",
      "\n",
      "See the caveats in the documentation: https://pandas.pydata.org/pandas-docs/stable/user_guide/indexing.html#returning-a-view-versus-a-copy\n",
      "/Users/stephenbrock/anaconda3/lib/python3.6/site-packages/ipykernel_launcher.py:33: SettingWithCopyWarning: \n",
      "A value is trying to be set on a copy of a slice from a DataFrame.\n",
      "Try using .loc[row_indexer,col_indexer] = value instead\n",
      "\n",
      "See the caveats in the documentation: https://pandas.pydata.org/pandas-docs/stable/user_guide/indexing.html#returning-a-view-versus-a-copy\n"
     ]
    }
   ],
   "source": [
    "def build_complete_data(raw_data, lag_data):\n",
    "    complete_data = raw_data[raw_data.date > '2020-03-10']\n",
    "    \n",
    "    dates = pd.to_datetime(complete_data.date.values)\n",
    "    weekday_nums = [d.weekday() for d in dates]\n",
    "    # monday is 0\n",
    "    # sunday is 6\n",
    "    is_weekday = [1 if d < 5 else 0 for d in weekday_nums]\n",
    "    #month_nums = [d.month() for d in dates]\n",
    "\n",
    "    # df['year'] = pd.DatetimeIndex(df['birth_date']).year\n",
    "\n",
    "    #pd.DatetimeIndex(data3.date).dayofweek()\n",
    "    months = pd.DatetimeIndex(complete_data.date).month\n",
    "    # months\n",
    "\n",
    "    winter = [12,1,2]\n",
    "    spring = [3,4,5]\n",
    "    summer = [6,7,8]\n",
    "    fall = [9,10,11]\n",
    "\n",
    "    is_winter = [1 if m in winter else 0 for m in months]\n",
    "    is_spring = [1 if m in summer else 0 for m in months]\n",
    "    is_fall = [1 if m in spring else 0 for m in months]\n",
    "    is_summer = [1 if m in fall else 0 for m in months]\n",
    "    \n",
    "    complete_data['is_weekday'] = is_weekday\n",
    "    complete_data['is_winter'] = is_winter\n",
    "    complete_data['is_spring'] = is_fall\n",
    "    complete_data['is_summer'] = is_spring\n",
    "    complete_data['is_fall'] = is_summer\n",
    "    \n",
    "    complete_data['date'] = pd.to_datetime(complete_data['date'])\n",
    "    complete_data = complete_data.merge(lag_data, how='left', on='date')\n",
    "    \n",
    "    # add response, day_num, and constant for regression\n",
    "    complete_data['new_lag7'] = complete_data['new'].shift(-7).values\n",
    "    complete_data['3d_SMA'] = complete_data['new'].rolling(window=3).mean()\n",
    "    complete_data['3d_SMA_lag7'] = complete_data['3d_SMA'].shift(-7).values\n",
    "    if 'constant' not in complete_data.columns:\n",
    "        complete_data.insert(0,'constant',np.array(complete_data.shape[0]*[1.0]))\n",
    "    complete_data['day_num'] = day_num\n",
    "    return complete_data\n",
    "    \n",
    "complete_data = build_complete_data(on2, mean_lag)"
   ]
  },
  {
   "cell_type": "code",
   "execution_count": 91,
   "metadata": {},
   "outputs": [
    {
     "data": {
      "text/html": [
       "<div>\n",
       "<style scoped>\n",
       "    .dataframe tbody tr th:only-of-type {\n",
       "        vertical-align: middle;\n",
       "    }\n",
       "\n",
       "    .dataframe tbody tr th {\n",
       "        vertical-align: top;\n",
       "    }\n",
       "\n",
       "    .dataframe thead th {\n",
       "        text-align: right;\n",
       "    }\n",
       "</style>\n",
       "<table border=\"1\" class=\"dataframe\">\n",
       "  <thead>\n",
       "    <tr style=\"text-align: right;\">\n",
       "      <th></th>\n",
       "      <th>constant</th>\n",
       "      <th>date</th>\n",
       "      <th>key_apple_mobility</th>\n",
       "      <th>key_google_mobility</th>\n",
       "      <th>id</th>\n",
       "      <th>tests</th>\n",
       "      <th>confirmed</th>\n",
       "      <th>recovered</th>\n",
       "      <th>deaths</th>\n",
       "      <th>hosp</th>\n",
       "      <th>...</th>\n",
       "      <th>is_weekday</th>\n",
       "      <th>is_winter</th>\n",
       "      <th>is_spring</th>\n",
       "      <th>is_summer</th>\n",
       "      <th>is_fall</th>\n",
       "      <th>mean_lag</th>\n",
       "      <th>new_lag7</th>\n",
       "      <th>3d_SMA</th>\n",
       "      <th>3d_SMA_lag7</th>\n",
       "      <th>day_num</th>\n",
       "    </tr>\n",
       "  </thead>\n",
       "  <tbody>\n",
       "    <tr>\n",
       "      <th>0</th>\n",
       "      <td>1.0</td>\n",
       "      <td>2020-03-11</td>\n",
       "      <td>Ontario</td>\n",
       "      <td>CA, Ontario</td>\n",
       "      <td>83fc0fa9</td>\n",
       "      <td>3394.0</td>\n",
       "      <td>42</td>\n",
       "      <td>NaN</td>\n",
       "      <td>1</td>\n",
       "      <td>NaN</td>\n",
       "      <td>...</td>\n",
       "      <td>1</td>\n",
       "      <td>0</td>\n",
       "      <td>1</td>\n",
       "      <td>0</td>\n",
       "      <td>0</td>\n",
       "      <td>14.563107</td>\n",
       "      <td>12.0</td>\n",
       "      <td>NaN</td>\n",
       "      <td>28.666667</td>\n",
       "      <td>1</td>\n",
       "    </tr>\n",
       "    <tr>\n",
       "      <th>1</th>\n",
       "      <td>1.0</td>\n",
       "      <td>2020-03-12</td>\n",
       "      <td>Ontario</td>\n",
       "      <td>CA, Ontario</td>\n",
       "      <td>83fc0fa9</td>\n",
       "      <td>4185.0</td>\n",
       "      <td>59</td>\n",
       "      <td>NaN</td>\n",
       "      <td>1</td>\n",
       "      <td>NaN</td>\n",
       "      <td>...</td>\n",
       "      <td>1</td>\n",
       "      <td>0</td>\n",
       "      <td>1</td>\n",
       "      <td>0</td>\n",
       "      <td>0</td>\n",
       "      <td>14.393701</td>\n",
       "      <td>69.0</td>\n",
       "      <td>NaN</td>\n",
       "      <td>37.666667</td>\n",
       "      <td>2</td>\n",
       "    </tr>\n",
       "    <tr>\n",
       "      <th>2</th>\n",
       "      <td>1.0</td>\n",
       "      <td>2020-03-13</td>\n",
       "      <td>Ontario</td>\n",
       "      <td>CA, Ontario</td>\n",
       "      <td>83fc0fa9</td>\n",
       "      <td>4185.0</td>\n",
       "      <td>79</td>\n",
       "      <td>NaN</td>\n",
       "      <td>1</td>\n",
       "      <td>NaN</td>\n",
       "      <td>...</td>\n",
       "      <td>1</td>\n",
       "      <td>0</td>\n",
       "      <td>1</td>\n",
       "      <td>0</td>\n",
       "      <td>0</td>\n",
       "      <td>18.269737</td>\n",
       "      <td>53.0</td>\n",
       "      <td>15.000000</td>\n",
       "      <td>44.666667</td>\n",
       "      <td>3</td>\n",
       "    </tr>\n",
       "    <tr>\n",
       "      <th>3</th>\n",
       "      <td>1.0</td>\n",
       "      <td>2020-03-14</td>\n",
       "      <td>Ontario</td>\n",
       "      <td>CA, Ontario</td>\n",
       "      <td>83fc0fa9</td>\n",
       "      <td>6646.0</td>\n",
       "      <td>79</td>\n",
       "      <td>NaN</td>\n",
       "      <td>1</td>\n",
       "      <td>NaN</td>\n",
       "      <td>...</td>\n",
       "      <td>0</td>\n",
       "      <td>0</td>\n",
       "      <td>1</td>\n",
       "      <td>0</td>\n",
       "      <td>0</td>\n",
       "      <td>14.159722</td>\n",
       "      <td>66.0</td>\n",
       "      <td>12.333333</td>\n",
       "      <td>62.666667</td>\n",
       "      <td>4</td>\n",
       "    </tr>\n",
       "    <tr>\n",
       "      <th>4</th>\n",
       "      <td>1.0</td>\n",
       "      <td>2020-03-15</td>\n",
       "      <td>Ontario</td>\n",
       "      <td>CA, Ontario</td>\n",
       "      <td>83fc0fa9</td>\n",
       "      <td>8461.0</td>\n",
       "      <td>103</td>\n",
       "      <td>NaN</td>\n",
       "      <td>1</td>\n",
       "      <td>NaN</td>\n",
       "      <td>...</td>\n",
       "      <td>0</td>\n",
       "      <td>0</td>\n",
       "      <td>1</td>\n",
       "      <td>0</td>\n",
       "      <td>0</td>\n",
       "      <td>14.735450</td>\n",
       "      <td>48.0</td>\n",
       "      <td>14.666667</td>\n",
       "      <td>55.666667</td>\n",
       "      <td>5</td>\n",
       "    </tr>\n",
       "  </tbody>\n",
       "</table>\n",
       "<p>5 rows × 61 columns</p>\n",
       "</div>"
      ],
      "text/plain": [
       "   constant       date key_apple_mobility key_google_mobility        id  \\\n",
       "0       1.0 2020-03-11            Ontario         CA, Ontario  83fc0fa9   \n",
       "1       1.0 2020-03-12            Ontario         CA, Ontario  83fc0fa9   \n",
       "2       1.0 2020-03-13            Ontario         CA, Ontario  83fc0fa9   \n",
       "3       1.0 2020-03-14            Ontario         CA, Ontario  83fc0fa9   \n",
       "4       1.0 2020-03-15            Ontario         CA, Ontario  83fc0fa9   \n",
       "\n",
       "    tests  confirmed  recovered  deaths  hosp  ...  is_weekday  is_winter  \\\n",
       "0  3394.0         42        NaN       1   NaN  ...           1          0   \n",
       "1  4185.0         59        NaN       1   NaN  ...           1          0   \n",
       "2  4185.0         79        NaN       1   NaN  ...           1          0   \n",
       "3  6646.0         79        NaN       1   NaN  ...           0          0   \n",
       "4  8461.0        103        NaN       1   NaN  ...           0          0   \n",
       "\n",
       "   is_spring  is_summer  is_fall   mean_lag  new_lag7     3d_SMA  3d_SMA_lag7  \\\n",
       "0          1          0        0  14.563107      12.0        NaN    28.666667   \n",
       "1          1          0        0  14.393701      69.0        NaN    37.666667   \n",
       "2          1          0        0  18.269737      53.0  15.000000    44.666667   \n",
       "3          1          0        0  14.159722      66.0  12.333333    62.666667   \n",
       "4          1          0        0  14.735450      48.0  14.666667    55.666667   \n",
       "\n",
       "   day_num  \n",
       "0        1  \n",
       "1        2  \n",
       "2        3  \n",
       "3        4  \n",
       "4        5  \n",
       "\n",
       "[5 rows x 61 columns]"
      ]
     },
     "execution_count": 91,
     "metadata": {},
     "output_type": "execute_result"
    }
   ],
   "source": [
    "complete_data.head()"
   ]
  },
  {
   "cell_type": "code",
   "execution_count": 92,
   "metadata": {},
   "outputs": [
    {
     "data": {
      "text/plain": [
       "(217, 61)"
      ]
     },
     "execution_count": 92,
     "metadata": {},
     "output_type": "execute_result"
    }
   ],
   "source": [
    "complete_data.shape"
   ]
  },
  {
   "cell_type": "code",
   "execution_count": 93,
   "metadata": {},
   "outputs": [
    {
     "data": {
      "text/plain": [
       "Index(['constant', 'date', 'key_apple_mobility', 'key_google_mobility', 'id',\n",
       "       'tests', 'confirmed', 'recovered', 'deaths', 'hosp', 'vent', 'icu',\n",
       "       'population', 'school_closing', 'workplace_closing', 'cancel_events',\n",
       "       'gatherings_restrictions', 'transport_closing',\n",
       "       'stay_home_restrictions', 'internal_movement_restrictions',\n",
       "       'international_movement_restrictions', 'information_campaigns',\n",
       "       'testing_policy', 'contact_tracing', 'stringency_index', 'iso_alpha_3',\n",
       "       'iso_alpha_2', 'iso_numeric', 'currency', 'administrative_area_level',\n",
       "       'administrative_area_level_1', 'administrative_area_level_2',\n",
       "       'administrative_area_level_3', 'latitude', 'longitude', 'key',\n",
       "       'key_alpha_2', 'key_numeric', 'metro_area', 'iso_3166_2_code',\n",
       "       'census_fips_code',\n",
       "       'retail_and_recreation_percent_change_from_baseline',\n",
       "       'grocery_and_pharmacy_percent_change_from_baseline',\n",
       "       'parks_percent_change_from_baseline',\n",
       "       'transit_stations_percent_change_from_baseline',\n",
       "       'workplaces_percent_change_from_baseline',\n",
       "       'residential_percent_change_from_baseline', 'driving', 'walking',\n",
       "       'transit', 'new', 'is_weekday', 'is_winter', 'is_spring', 'is_summer',\n",
       "       'is_fall', 'mean_lag', 'new_lag7', '3d_SMA', '3d_SMA_lag7', 'day_num'],\n",
       "      dtype='object')"
      ]
     },
     "execution_count": 93,
     "metadata": {},
     "output_type": "execute_result"
    }
   ],
   "source": [
    "complete_data.columns"
   ]
  },
  {
   "cell_type": "code",
   "execution_count": 94,
   "metadata": {},
   "outputs": [],
   "source": [
    "new_set = [\n",
    "    'school_closing', \n",
    "    'workplace_closing', \n",
    "    'cancel_events',\n",
    "    'gatherings_restrictions',\n",
    "    'stay_home_restrictions', \n",
    "    'internal_movement_restrictions',\n",
    "    'international_movement_restrictions',\n",
    "    'information_campaigns',\n",
    "    'retail_and_recreation_percent_change_from_baseline',\n",
    "    'grocery_and_pharmacy_percent_change_from_baseline',\n",
    "    'parks_percent_change_from_baseline',\n",
    "    'transit_stations_percent_change_from_baseline',\n",
    "    'workplaces_percent_change_from_baseline',\n",
    "    'residential_percent_change_from_baseline', \n",
    "    'day_num', \n",
    "    'constant',\n",
    "    'mean_lag',\n",
    "    'is_weekday', \n",
    "    'is_winter', \n",
    "    'is_spring', \n",
    "    'is_summer',\n",
    "    'is_fall'\n",
    "    #'new'\n",
    "]\n",
    "\n",
    "new_set2 = ['school_closing', \n",
    "           'workplace_closing', \n",
    "           'cancel_events',\n",
    "           'gatherings_restrictions',\n",
    "           #'stay_home_restrictions', \n",
    "           #'internal_movement_restrictions',\n",
    "           'international_movement_restrictions',\n",
    "           #'information_campaigns',\n",
    "           'retail_and_recreation_percent_change_from_baseline',\n",
    "           'grocery_and_pharmacy_percent_change_from_baseline',\n",
    "           #'parks_percent_change_from_baseline',\n",
    "           'transit_stations_percent_change_from_baseline',\n",
    "           'workplaces_percent_change_from_baseline',\n",
    "           #'residential_percent_change_from_baseline', \n",
    "           #'day_num', \n",
    "           'constant',\n",
    "           'mean_lag',\n",
    "           'new',\n",
    "           'new_lag7', '3d_SMA', '3d_SMA_lag7']"
   ]
  },
  {
   "cell_type": "code",
   "execution_count": null,
   "metadata": {},
   "outputs": [],
   "source": []
  },
  {
   "cell_type": "code",
   "execution_count": 95,
   "metadata": {},
   "outputs": [],
   "source": [
    "\n",
    "\n",
    "\n",
    "#data3 = data3[new_set2]\n",
    "\n",
    "# data3 = data3.dropna().reset_index(drop=True)\n",
    "\n",
    "\n",
    "# X3 = data3[new_set[:-1]]\n",
    "# new7 =  data3['new_lag7']\n",
    "# sma_3d7 = data3['3d_SMA_lag7']\n",
    "\n",
    "\n",
    "def get_model_data(data, variables, resp1, resp2):\n",
    "    data = data[variables+[resp1,resp2]]\n",
    "    data = data.dropna().reset_index(drop=True)\n",
    "    X_mat = data[variables]\n",
    "    resp1 = data[resp1]\n",
    "    resp2 = data[resp2]\n",
    "    return X_mat, resp1, resp2\n",
    "\n",
    "X3, new7, sma_3d7 = get_model_data(complete_data, new_set, 'new_lag7', '3d_SMA_lag7')\n"
   ]
  },
  {
   "cell_type": "code",
   "execution_count": 96,
   "metadata": {},
   "outputs": [
    {
     "data": {
      "text/plain": [
       "0       12.0\n",
       "1       69.0\n",
       "2       53.0\n",
       "3       66.0\n",
       "4       48.0\n",
       "       ...  \n",
       "203    583.0\n",
       "204    797.0\n",
       "205    939.0\n",
       "206    809.0\n",
       "207    649.0\n",
       "Name: new_lag7, Length: 208, dtype: float64"
      ]
     },
     "execution_count": 96,
     "metadata": {},
     "output_type": "execute_result"
    }
   ],
   "source": [
    "new7"
   ]
  },
  {
   "cell_type": "code",
   "execution_count": 97,
   "metadata": {},
   "outputs": [
    {
     "name": "stdout",
     "output_type": "stream",
     "text": [
      "                            OLS Regression Results                            \n",
      "==============================================================================\n",
      "Dep. Variable:               new_lag7   R-squared:                       0.841\n",
      "Model:                            OLS   Adj. R-squared:                  0.826\n",
      "Method:                 Least Squares   F-statistic:                     55.43\n",
      "Date:                Wed, 11 Nov 2020   Prob (F-statistic):           2.30e-65\n",
      "Time:                        09:33:28   Log-Likelihood:                -1188.1\n",
      "No. Observations:                 208   AIC:                             2414.\n",
      "Df Residuals:                     189   BIC:                             2478.\n",
      "Df Model:                          18                                         \n",
      "Covariance Type:            nonrobust                                         \n",
      "======================================================================================================================\n",
      "                                                         coef    std err          t      P>|t|      [0.025      0.975]\n",
      "----------------------------------------------------------------------------------------------------------------------\n",
      "school_closing                                      -178.9566     32.603     -5.489      0.000    -243.269    -114.644\n",
      "workplace_closing                                     -1.1512     20.191     -0.057      0.955     -40.980      38.678\n",
      "cancel_events                                        -82.8637     53.718     -1.543      0.125    -188.828      23.101\n",
      "gatherings_restrictions                               99.0303     42.523      2.329      0.021      15.150     182.910\n",
      "stay_home_restrictions                              -137.8304     90.058     -1.530      0.128    -315.478      39.817\n",
      "internal_movement_restrictions                       -16.7933     32.825     -0.512      0.610     -81.544      47.957\n",
      "international_movement_restrictions                  -27.9998     20.068     -1.395      0.165     -67.585      11.586\n",
      "information_campaigns                                 -1.0158     44.139     -0.023      0.982     -88.084      86.053\n",
      "retail_and_recreation_percent_change_from_baseline   -10.8667      2.284     -4.757      0.000     -15.373      -6.361\n",
      "grocery_and_pharmacy_percent_change_from_baseline      5.2951      1.427      3.710      0.000       2.479       8.111\n",
      "parks_percent_change_from_baseline                     0.6315      0.245      2.573      0.011       0.147       1.116\n",
      "transit_stations_percent_change_from_baseline        -13.9717      3.296     -4.239      0.000     -20.473      -7.471\n",
      "workplaces_percent_change_from_baseline                9.0579      1.721      5.264      0.000       5.663      12.452\n",
      "residential_percent_change_from_baseline               6.1496      4.356      1.412      0.160      -2.443      14.742\n",
      "day_num                                                1.1398      0.460      2.477      0.014       0.232       2.047\n",
      "constant                                              -0.5079     22.070     -0.023      0.982     -44.042      43.026\n",
      "mean_lag                                             -10.0442      4.673     -2.150      0.033     -19.261      -0.827\n",
      "is_weekday                                            50.9569     57.777      0.882      0.379     -63.014     164.928\n",
      "is_winter                                           2.313e-15   2.74e-15      0.844      0.400   -3.09e-15    7.72e-15\n",
      "is_spring                                             37.4961     20.714      1.810      0.072      -3.363      78.356\n",
      "is_summer                                            -99.8032     16.851     -5.923      0.000    -133.043     -66.563\n",
      "is_fall                                               61.7992     28.033      2.204      0.029       6.501     117.098\n",
      "==============================================================================\n",
      "Omnibus:                       32.204   Durbin-Watson:                   1.434\n",
      "Prob(Omnibus):                  0.000   Jarque-Bera (JB):               64.760\n",
      "Skew:                           0.754   Prob(JB):                     8.66e-15\n",
      "Kurtosis:                       5.280   Cond. No.                     3.33e+20\n",
      "==============================================================================\n",
      "\n",
      "Notes:\n",
      "[1] Standard Errors assume that the covariance matrix of the errors is correctly specified.\n",
      "[2] The smallest eigenvalue is 5.16e-35. This might indicate that there are\n",
      "strong multicollinearity problems or that the design matrix is singular.\n"
     ]
    }
   ],
   "source": [
    "model3 = sm.OLS(new7,X3)\n",
    "res3 = model3.fit()\n",
    "print(res3.summary())"
   ]
  },
  {
   "cell_type": "code",
   "execution_count": 98,
   "metadata": {},
   "outputs": [
    {
     "name": "stdout",
     "output_type": "stream",
     "text": [
      "                            OLS Regression Results                            \n",
      "==============================================================================\n",
      "Dep. Variable:            3d_SMA_lag7   R-squared:                       0.886\n",
      "Model:                            OLS   Adj. R-squared:                  0.875\n",
      "Method:                 Least Squares   F-statistic:                     81.38\n",
      "Date:                Wed, 11 Nov 2020   Prob (F-statistic):           8.33e-79\n",
      "Time:                        09:33:28   Log-Likelihood:                -1144.0\n",
      "No. Observations:                 208   AIC:                             2326.\n",
      "Df Residuals:                     189   BIC:                             2389.\n",
      "Df Model:                          18                                         \n",
      "Covariance Type:            nonrobust                                         \n",
      "======================================================================================================================\n",
      "                                                         coef    std err          t      P>|t|      [0.025      0.975]\n",
      "----------------------------------------------------------------------------------------------------------------------\n",
      "school_closing                                      -200.3700     26.370     -7.599      0.000    -252.386    -148.354\n",
      "workplace_closing                                      6.3260     16.331      0.387      0.699     -25.888      38.540\n",
      "cancel_events                                        -99.3936     43.448     -2.288      0.023    -185.098     -13.689\n",
      "gatherings_restrictions                              127.3273     34.392      3.702      0.000      59.485     195.170\n",
      "stay_home_restrictions                              -176.2772     72.839     -2.420      0.016    -319.959     -32.596\n",
      "internal_movement_restrictions                       -32.6977     26.549     -1.232      0.220     -85.068      19.672\n",
      "international_movement_restrictions                  -36.1560     16.231     -2.228      0.027     -68.173      -4.139\n",
      "information_campaigns                                 64.7105     35.700      1.813      0.071      -5.711     135.132\n",
      "retail_and_recreation_percent_change_from_baseline    -9.2997      1.847     -5.034      0.000     -12.944      -5.655\n",
      "grocery_and_pharmacy_percent_change_from_baseline      5.4161      1.155      4.691      0.000       3.139       7.693\n",
      "parks_percent_change_from_baseline                     0.3940      0.199      1.985      0.049       0.002       0.786\n",
      "transit_stations_percent_change_from_baseline        -13.3958      2.666     -5.026      0.000     -18.654      -8.138\n",
      "workplaces_percent_change_from_baseline                7.4653      1.392      5.364      0.000       4.720      10.211\n",
      "residential_percent_change_from_baseline               7.4077      3.523      2.103      0.037       0.458      14.358\n",
      "day_num                                                0.9435      0.372      2.536      0.012       0.210       1.678\n",
      "constant                                              32.3553     17.850      1.813      0.071      -2.855      67.566\n",
      "mean_lag                                             -14.4223      3.779     -3.816      0.000     -21.877      -6.967\n",
      "is_weekday                                           -30.3190     46.730     -0.649      0.517    -122.499      61.861\n",
      "is_winter                                           4.144e-15   2.22e-15      1.869      0.063   -2.29e-16    8.52e-15\n",
      "is_spring                                             42.7297     16.753      2.551      0.012       9.682      75.777\n",
      "is_summer                                            -66.6967     13.629     -4.894      0.000     -93.581     -39.812\n",
      "is_fall                                               56.3223     22.673      2.484      0.014      11.597     101.048\n",
      "==============================================================================\n",
      "Omnibus:                       17.818   Durbin-Watson:                   0.805\n",
      "Prob(Omnibus):                  0.000   Jarque-Bera (JB):               44.513\n",
      "Skew:                           0.313   Prob(JB):                     2.16e-10\n",
      "Kurtosis:                       5.178   Cond. No.                     3.33e+20\n",
      "==============================================================================\n",
      "\n",
      "Notes:\n",
      "[1] Standard Errors assume that the covariance matrix of the errors is correctly specified.\n",
      "[2] The smallest eigenvalue is 5.16e-35. This might indicate that there are\n",
      "strong multicollinearity problems or that the design matrix is singular.\n"
     ]
    }
   ],
   "source": [
    "model4 = sm.OLS(sma_3d7,X3)\n",
    "res4 = model4.fit()\n",
    "print(res4.summary())"
   ]
  },
  {
   "cell_type": "code",
   "execution_count": 99,
   "metadata": {},
   "outputs": [],
   "source": [
    "# investigate a lag of 2 weeks\n",
    "# mean_lag effect"
   ]
  },
  {
   "cell_type": "markdown",
   "metadata": {},
   "source": [
    "### Ontario linear model performance\n",
    "\n",
    "To-do:\n",
    "- train/test split over data\n",
    "- check performance\n",
    "- see residual plot \n",
    "- see qq-plot"
   ]
  },
  {
   "cell_type": "code",
   "execution_count": 100,
   "metadata": {},
   "outputs": [
    {
     "name": "stdout",
     "output_type": "stream",
     "text": [
      "82.33071048779838\n",
      "83.24199242514077\n"
     ]
    }
   ],
   "source": [
    "from sklearn.model_selection import train_test_split\n",
    "from sklearn.metrics import mean_squared_error\n",
    "\n",
    "on_pop = 14.73e6  # from Google\n",
    "on_pop = 14.73 # million\n",
    "\n",
    "n = X3.shape[0]\n",
    "index_list = list(range(n))\n",
    "\n",
    "train_ind, test_ind = train_test_split(index_list, train_size=0.8, random_state=23)\n",
    "\n",
    "X3_train = X3[X3.index.isin(train_ind)]\n",
    "X3_test = X3[X3.index.isin(test_ind)]\n",
    "\n",
    "y7_train = new7[new7.index.isin(train_ind)] #/on_pop\n",
    "y7_test = new7[new7.index.isin(test_ind)] #/on_pop\n",
    "\n",
    "y3d7_train = sma_3d7[sma_3d7.index.isin(train_ind)] #/on_pop\n",
    "y3d7_test = sma_3d7[sma_3d7.index.isin(test_ind)] #/on_pop\n",
    "\n",
    "model_7 = sm.OLS(y7_train,X3_train)\n",
    "res_7 = model_7.fit()\n",
    "pred_7 = res_7.predict(X3_test)\n",
    "\n",
    "model_3d7 = sm.OLS(y3d7_train,X3_train)\n",
    "res_3d7 = model_3d7.fit()\n",
    "pred_3d7 = res_3d7.predict(X3_test)\n",
    "\n",
    "rmse_7 = mean_squared_error(y7_test, pred_7, squared=False)\n",
    "rmse_3d7 = mean_squared_error(y3d7_test, pred_3d7, squared=False)\n",
    "\n",
    "print(rmse_7)\n",
    "print(rmse_3d7)\n",
    "\n",
    "# rmse model 7, no pop = 92.24367110221012\n",
    "# rmse model 3d7, no pop = 80.47753850060822"
   ]
  },
  {
   "cell_type": "code",
   "execution_count": 101,
   "metadata": {},
   "outputs": [
    {
     "data": {
      "text/plain": [
       "Index(['school_closing', 'workplace_closing', 'cancel_events',\n",
       "       'gatherings_restrictions', 'stay_home_restrictions',\n",
       "       'internal_movement_restrictions', 'international_movement_restrictions',\n",
       "       'information_campaigns',\n",
       "       'retail_and_recreation_percent_change_from_baseline',\n",
       "       'grocery_and_pharmacy_percent_change_from_baseline',\n",
       "       'parks_percent_change_from_baseline',\n",
       "       'transit_stations_percent_change_from_baseline',\n",
       "       'workplaces_percent_change_from_baseline',\n",
       "       'residential_percent_change_from_baseline', 'day_num', 'constant',\n",
       "       'mean_lag', 'is_weekday', 'is_winter', 'is_spring', 'is_summer',\n",
       "       'is_fall'],\n",
       "      dtype='object')"
      ]
     },
     "execution_count": 101,
     "metadata": {},
     "output_type": "execute_result"
    }
   ],
   "source": [
    "X3_train.columns"
   ]
  },
  {
   "cell_type": "code",
   "execution_count": 102,
   "metadata": {},
   "outputs": [
    {
     "name": "stdout",
     "output_type": "stream",
     "text": [
      "83.74516607216809\n",
      "81.36308120620711\n"
     ]
    }
   ],
   "source": [
    "# poisson regression => predict log response and then exponentiate\n",
    "\n",
    "y7_train_log = np.log(y7_train+1)\n",
    "y7_test_log = np.log(y7_test+1)\n",
    "\n",
    "y3d7_train_log = np.log(y3d7_train+1)\n",
    "y3d7_test_log = np.log(y3d7_test+1)\n",
    "\n",
    "model_7_log = sm.OLS(y7_train_log,X3_train)\n",
    "res_7_log = model_7_log.fit()\n",
    "pred_7_log = res_7_log.predict(X3_test)\n",
    "\n",
    "model_3d7_log = sm.OLS(y3d7_train_log,X3_train)\n",
    "res_3d7_log = model_3d7_log.fit()\n",
    "pred_3d7_log = res_3d7_log.predict(X3_test)\n",
    "\n",
    "rmse_7_log = mean_squared_error(y7_test, np.exp(pred_7_log), squared=False)\n",
    "rmse_3d7_log = mean_squared_error(y3d7_test, np.exp(pred_3d7_log), squared=False)\n",
    "\n",
    "print(rmse_7_log)\n",
    "print(rmse_3d7_log)\n"
   ]
  },
  {
   "cell_type": "markdown",
   "metadata": {},
   "source": [
    "#### Notes\n",
    "- log does not improve predictions"
   ]
  },
  {
   "cell_type": "code",
   "execution_count": 103,
   "metadata": {},
   "outputs": [
    {
     "name": "stdout",
     "output_type": "stream",
     "text": [
      "14    5.818635\n",
      "18    5.932871\n",
      "19    5.841922\n",
      "24    5.780597\n",
      "30    6.124001\n",
      "44    6.152537\n",
      "46    6.170330\n",
      "47    6.289724\n",
      "51    5.813923\n",
      "52    5.647408\n",
      "dtype: float64\n",
      "14    5.902941\n",
      "18    6.032724\n",
      "19    5.947616\n",
      "24    6.078511\n",
      "30    6.345266\n",
      "44    6.146299\n",
      "46    6.198404\n",
      "47    6.070879\n",
      "51    5.951963\n",
      "52    6.011874\n",
      "dtype: float64\n"
     ]
    }
   ],
   "source": [
    "print(pred_7_log[:10])\n",
    "print(pred_3d7_log[:10])"
   ]
  },
  {
   "cell_type": "code",
   "execution_count": 104,
   "metadata": {},
   "outputs": [
    {
     "data": {
      "text/html": [
       "<table class=\"simpletable\">\n",
       "<caption>OLS Regression Results</caption>\n",
       "<tr>\n",
       "  <th>Dep. Variable:</th>        <td>new_lag7</td>     <th>  R-squared:         </th> <td>   0.850</td>\n",
       "</tr>\n",
       "<tr>\n",
       "  <th>Model:</th>                   <td>OLS</td>       <th>  Adj. R-squared:    </th> <td>   0.831</td>\n",
       "</tr>\n",
       "<tr>\n",
       "  <th>Method:</th>             <td>Least Squares</td>  <th>  F-statistic:       </th> <td>   46.13</td>\n",
       "</tr>\n",
       "<tr>\n",
       "  <th>Date:</th>             <td>Wed, 11 Nov 2020</td> <th>  Prob (F-statistic):</th> <td>3.15e-51</td>\n",
       "</tr>\n",
       "<tr>\n",
       "  <th>Time:</th>                 <td>09:33:28</td>     <th>  Log-Likelihood:    </th> <td> -943.90</td>\n",
       "</tr>\n",
       "<tr>\n",
       "  <th>No. Observations:</th>      <td>   166</td>      <th>  AIC:               </th> <td>   1926.</td>\n",
       "</tr>\n",
       "<tr>\n",
       "  <th>Df Residuals:</th>          <td>   147</td>      <th>  BIC:               </th> <td>   1985.</td>\n",
       "</tr>\n",
       "<tr>\n",
       "  <th>Df Model:</th>              <td>    18</td>      <th>                     </th>     <td> </td>   \n",
       "</tr>\n",
       "<tr>\n",
       "  <th>Covariance Type:</th>      <td>nonrobust</td>    <th>                     </th>     <td> </td>   \n",
       "</tr>\n",
       "</table>\n",
       "<table class=\"simpletable\">\n",
       "<tr>\n",
       "                           <td></td>                             <th>coef</th>     <th>std err</th>      <th>t</th>      <th>P>|t|</th>  <th>[0.025</th>    <th>0.975]</th>  \n",
       "</tr>\n",
       "<tr>\n",
       "  <th>school_closing</th>                                     <td> -186.5815</td> <td>   35.550</td> <td>   -5.248</td> <td> 0.000</td> <td> -256.837</td> <td> -116.326</td>\n",
       "</tr>\n",
       "<tr>\n",
       "  <th>workplace_closing</th>                                  <td>   -9.7280</td> <td>   21.638</td> <td>   -0.450</td> <td> 0.654</td> <td>  -52.491</td> <td>   33.035</td>\n",
       "</tr>\n",
       "<tr>\n",
       "  <th>cancel_events</th>                                      <td>  -79.9683</td> <td>   54.497</td> <td>   -1.467</td> <td> 0.144</td> <td> -187.666</td> <td>   27.730</td>\n",
       "</tr>\n",
       "<tr>\n",
       "  <th>gatherings_restrictions</th>                            <td>  117.0365</td> <td>   47.356</td> <td>    2.471</td> <td> 0.015</td> <td>   23.450</td> <td>  210.623</td>\n",
       "</tr>\n",
       "<tr>\n",
       "  <th>stay_home_restrictions</th>                             <td> -123.2275</td> <td>   94.397</td> <td>   -1.305</td> <td> 0.194</td> <td> -309.779</td> <td>   63.324</td>\n",
       "</tr>\n",
       "<tr>\n",
       "  <th>internal_movement_restrictions</th>                     <td>   -9.9194</td> <td>   33.403</td> <td>   -0.297</td> <td> 0.767</td> <td>  -75.931</td> <td>   56.092</td>\n",
       "</tr>\n",
       "<tr>\n",
       "  <th>international_movement_restrictions</th>                <td>  -22.5374</td> <td>   20.746</td> <td>   -1.086</td> <td> 0.279</td> <td>  -63.536</td> <td>   18.461</td>\n",
       "</tr>\n",
       "<tr>\n",
       "  <th>information_campaigns</th>                              <td>   10.5891</td> <td>   47.512</td> <td>    0.223</td> <td> 0.824</td> <td>  -83.305</td> <td>  104.483</td>\n",
       "</tr>\n",
       "<tr>\n",
       "  <th>retail_and_recreation_percent_change_from_baseline</th> <td>  -11.0989</td> <td>    2.497</td> <td>   -4.444</td> <td> 0.000</td> <td>  -16.034</td> <td>   -6.164</td>\n",
       "</tr>\n",
       "<tr>\n",
       "  <th>grocery_and_pharmacy_percent_change_from_baseline</th>  <td>    5.4232</td> <td>    1.581</td> <td>    3.430</td> <td> 0.001</td> <td>    2.299</td> <td>    8.548</td>\n",
       "</tr>\n",
       "<tr>\n",
       "  <th>parks_percent_change_from_baseline</th>                 <td>    0.4139</td> <td>    0.268</td> <td>    1.542</td> <td> 0.125</td> <td>   -0.117</td> <td>    0.944</td>\n",
       "</tr>\n",
       "<tr>\n",
       "  <th>transit_stations_percent_change_from_baseline</th>      <td>  -11.8270</td> <td>    3.971</td> <td>   -2.979</td> <td> 0.003</td> <td>  -19.674</td> <td>   -3.980</td>\n",
       "</tr>\n",
       "<tr>\n",
       "  <th>workplaces_percent_change_from_baseline</th>            <td>    7.7693</td> <td>    2.079</td> <td>    3.738</td> <td> 0.000</td> <td>    3.662</td> <td>   11.877</td>\n",
       "</tr>\n",
       "<tr>\n",
       "  <th>residential_percent_change_from_baseline</th>           <td>    5.1328</td> <td>    5.309</td> <td>    0.967</td> <td> 0.335</td> <td>   -5.359</td> <td>   15.625</td>\n",
       "</tr>\n",
       "<tr>\n",
       "  <th>day_num</th>                                            <td>    0.9124</td> <td>    0.518</td> <td>    1.760</td> <td> 0.080</td> <td>   -0.112</td> <td>    1.937</td>\n",
       "</tr>\n",
       "<tr>\n",
       "  <th>constant</th>                                           <td>    5.2946</td> <td>   23.756</td> <td>    0.223</td> <td> 0.824</td> <td>  -41.653</td> <td>   52.242</td>\n",
       "</tr>\n",
       "<tr>\n",
       "  <th>mean_lag</th>                                           <td>  -10.1583</td> <td>    5.341</td> <td>   -1.902</td> <td> 0.059</td> <td>  -20.713</td> <td>    0.396</td>\n",
       "</tr>\n",
       "<tr>\n",
       "  <th>is_weekday</th>                                         <td>   44.5588</td> <td>   68.544</td> <td>    0.650</td> <td> 0.517</td> <td>  -90.900</td> <td>  180.018</td>\n",
       "</tr>\n",
       "<tr>\n",
       "  <th>is_winter</th>                                          <td> 3.439e-15</td> <td> 8.97e-15</td> <td>    0.383</td> <td> 0.702</td> <td>-1.43e-14</td> <td> 2.12e-14</td>\n",
       "</tr>\n",
       "<tr>\n",
       "  <th>is_spring</th>                                          <td>   25.6442</td> <td>   24.967</td> <td>    1.027</td> <td> 0.306</td> <td>  -23.696</td> <td>   74.985</td>\n",
       "</tr>\n",
       "<tr>\n",
       "  <th>is_summer</th>                                          <td>  -93.9351</td> <td>   19.166</td> <td>   -4.901</td> <td> 0.000</td> <td> -131.811</td> <td>  -56.059</td>\n",
       "</tr>\n",
       "<tr>\n",
       "  <th>is_fall</th>                                            <td>   73.5855</td> <td>   31.474</td> <td>    2.338</td> <td> 0.021</td> <td>   11.385</td> <td>  135.786</td>\n",
       "</tr>\n",
       "</table>\n",
       "<table class=\"simpletable\">\n",
       "<tr>\n",
       "  <th>Omnibus:</th>       <td>33.125</td> <th>  Durbin-Watson:     </th> <td>   1.532</td>\n",
       "</tr>\n",
       "<tr>\n",
       "  <th>Prob(Omnibus):</th> <td> 0.000</td> <th>  Jarque-Bera (JB):  </th> <td>  81.386</td>\n",
       "</tr>\n",
       "<tr>\n",
       "  <th>Skew:</th>          <td> 0.829</td> <th>  Prob(JB):          </th> <td>2.12e-18</td>\n",
       "</tr>\n",
       "<tr>\n",
       "  <th>Kurtosis:</th>      <td> 6.003</td> <th>  Cond. No.          </th> <td>7.55e+20</td>\n",
       "</tr>\n",
       "</table><br/><br/>Notes:<br/>[1] Standard Errors assume that the covariance matrix of the errors is correctly specified.<br/>[2] The smallest eigenvalue is 8.23e-36. This might indicate that there are<br/>strong multicollinearity problems or that the design matrix is singular."
      ],
      "text/plain": [
       "<class 'statsmodels.iolib.summary.Summary'>\n",
       "\"\"\"\n",
       "                            OLS Regression Results                            \n",
       "==============================================================================\n",
       "Dep. Variable:               new_lag7   R-squared:                       0.850\n",
       "Model:                            OLS   Adj. R-squared:                  0.831\n",
       "Method:                 Least Squares   F-statistic:                     46.13\n",
       "Date:                Wed, 11 Nov 2020   Prob (F-statistic):           3.15e-51\n",
       "Time:                        09:33:28   Log-Likelihood:                -943.90\n",
       "No. Observations:                 166   AIC:                             1926.\n",
       "Df Residuals:                     147   BIC:                             1985.\n",
       "Df Model:                          18                                         \n",
       "Covariance Type:            nonrobust                                         \n",
       "======================================================================================================================\n",
       "                                                         coef    std err          t      P>|t|      [0.025      0.975]\n",
       "----------------------------------------------------------------------------------------------------------------------\n",
       "school_closing                                      -186.5815     35.550     -5.248      0.000    -256.837    -116.326\n",
       "workplace_closing                                     -9.7280     21.638     -0.450      0.654     -52.491      33.035\n",
       "cancel_events                                        -79.9683     54.497     -1.467      0.144    -187.666      27.730\n",
       "gatherings_restrictions                              117.0365     47.356      2.471      0.015      23.450     210.623\n",
       "stay_home_restrictions                              -123.2275     94.397     -1.305      0.194    -309.779      63.324\n",
       "internal_movement_restrictions                        -9.9194     33.403     -0.297      0.767     -75.931      56.092\n",
       "international_movement_restrictions                  -22.5374     20.746     -1.086      0.279     -63.536      18.461\n",
       "information_campaigns                                 10.5891     47.512      0.223      0.824     -83.305     104.483\n",
       "retail_and_recreation_percent_change_from_baseline   -11.0989      2.497     -4.444      0.000     -16.034      -6.164\n",
       "grocery_and_pharmacy_percent_change_from_baseline      5.4232      1.581      3.430      0.001       2.299       8.548\n",
       "parks_percent_change_from_baseline                     0.4139      0.268      1.542      0.125      -0.117       0.944\n",
       "transit_stations_percent_change_from_baseline        -11.8270      3.971     -2.979      0.003     -19.674      -3.980\n",
       "workplaces_percent_change_from_baseline                7.7693      2.079      3.738      0.000       3.662      11.877\n",
       "residential_percent_change_from_baseline               5.1328      5.309      0.967      0.335      -5.359      15.625\n",
       "day_num                                                0.9124      0.518      1.760      0.080      -0.112       1.937\n",
       "constant                                               5.2946     23.756      0.223      0.824     -41.653      52.242\n",
       "mean_lag                                             -10.1583      5.341     -1.902      0.059     -20.713       0.396\n",
       "is_weekday                                            44.5588     68.544      0.650      0.517     -90.900     180.018\n",
       "is_winter                                           3.439e-15   8.97e-15      0.383      0.702   -1.43e-14    2.12e-14\n",
       "is_spring                                             25.6442     24.967      1.027      0.306     -23.696      74.985\n",
       "is_summer                                            -93.9351     19.166     -4.901      0.000    -131.811     -56.059\n",
       "is_fall                                               73.5855     31.474      2.338      0.021      11.385     135.786\n",
       "==============================================================================\n",
       "Omnibus:                       33.125   Durbin-Watson:                   1.532\n",
       "Prob(Omnibus):                  0.000   Jarque-Bera (JB):               81.386\n",
       "Skew:                           0.829   Prob(JB):                     2.12e-18\n",
       "Kurtosis:                       6.003   Cond. No.                     7.55e+20\n",
       "==============================================================================\n",
       "\n",
       "Notes:\n",
       "[1] Standard Errors assume that the covariance matrix of the errors is correctly specified.\n",
       "[2] The smallest eigenvalue is 8.23e-36. This might indicate that there are\n",
       "strong multicollinearity problems or that the design matrix is singular.\n",
       "\"\"\""
      ]
     },
     "execution_count": 104,
     "metadata": {},
     "output_type": "execute_result"
    }
   ],
   "source": [
    "res_7.summary()"
   ]
  },
  {
   "cell_type": "code",
   "execution_count": 105,
   "metadata": {},
   "outputs": [
    {
     "data": {
      "text/plain": [
       "Text(0.5,1,'residual vs index')"
      ]
     },
     "execution_count": 105,
     "metadata": {},
     "output_type": "execute_result"
    },
    {
     "data": {
      "image/png": "[encoded data removed]",
      "text/plain": [
       "<matplotlib.figure.Figure at 0x7fbe6b978828>"
      ]
     },
     "metadata": {
      "needs_background": "light"
     },
     "output_type": "display_data"
    }
   ],
   "source": [
    "# check residual plot\n",
    "\n",
    "\n",
    "\n",
    "# train set residuals\n",
    "scat_x = list(range(len(y7_train)))\n",
    "scat_y = y7_train-res_7.predict(X3_train)\n",
    "plt.scatter(scat_x, scat_y)\n",
    "\n",
    "slope, intercept = np.polyfit(scat_x, scat_y, 1)\n",
    "abline_values = [slope * i + intercept for i in scat_x]\n",
    "\n",
    "plt.plot(scat_x, abline_values, 'b')\n",
    "plt.title('residual vs index')"
   ]
  },
  {
   "cell_type": "code",
   "execution_count": 106,
   "metadata": {},
   "outputs": [
    {
     "data": {
      "image/png": "[encoded data removed]",
      "text/plain": [
       "<matplotlib.figure.Figure at 0x7fbe6b97ff28>"
      ]
     },
     "metadata": {
      "needs_background": "light"
     },
     "output_type": "display_data"
    }
   ],
   "source": [
    "# Some dummy data\n",
    "x = [1, 2, 3, 4, 5, 6, 7]\n",
    "y = [1, 3, 3, 2, 5, 7, 9]\n",
    "\n",
    "# Find the slope and intercept of the best fit line\n",
    "slope, intercept = np.polyfit(x, y, 1)\n",
    "\n",
    "# Create a list of values in the best fit line\n",
    "abline_values = [slope * i + intercept for i in x]\n",
    "\n",
    "# Plot the best fit line over the actual values\n",
    "plt.plot(x, y, '--')\n",
    "plt.plot(x, abline_values, 'b')\n",
    "plt.title(slope)\n",
    "plt.show()"
   ]
  },
  {
   "cell_type": "code",
   "execution_count": 107,
   "metadata": {},
   "outputs": [
    {
     "data": {
      "text/plain": [
       "Text(0,0.5,'residual')"
      ]
     },
     "execution_count": 107,
     "metadata": {},
     "output_type": "execute_result"
    },
    {
     "data": {
      "image/png": "[encoded data removed]",
      "text/plain": [
       "<matplotlib.figure.Figure at 0x7fbe6b9230b8>"
      ]
     },
     "metadata": {
      "needs_background": "light"
     },
     "output_type": "display_data"
    }
   ],
   "source": [
    "pairs = list(zip(res_7.predict(X3_train), y7_train-res_7.predict(X3_train)))\n",
    "pairs.sort(key=lambda t: t[0])\n",
    "scat_x, scat_y = zip(*pairs)\n",
    "\n",
    "slope, intercept = np.polyfit(scat_x, scat_y, 1)\n",
    "\n",
    "# Create a list of values in the best fit line\n",
    "abline_values = [slope * i + intercept for i in scat_x]\n",
    "\n",
    "plt.scatter(scat_x, scat_y)\n",
    "plt.plot(scat_x, abline_values, 'b')\n",
    "plt.title('residual vs fitted')\n",
    "plt.xlabel('fitted')\n",
    "plt.ylabel('residual')\n"
   ]
  },
  {
   "cell_type": "code",
   "execution_count": 108,
   "metadata": {},
   "outputs": [
    {
     "data": {
      "image/png": "[encoded data removed]",
      "text/plain": [
       "<matplotlib.figure.Figure at 0x7fbe6b940cc0>"
      ]
     },
     "execution_count": 108,
     "metadata": {},
     "output_type": "execute_result"
    },
    {
     "data": {
      "image/png": "[encoded data removed]",
      "text/plain": [
       "<matplotlib.figure.Figure at 0x7fbe6b940cc0>"
      ]
     },
     "metadata": {
      "needs_background": "light"
     },
     "output_type": "display_data"
    }
   ],
   "source": [
    "from sklearn.preprocessing import normalize\n",
    "sm.qqplot(np.array(scat_y))"
   ]
  },
  {
   "cell_type": "code",
   "execution_count": 112,
   "metadata": {},
   "outputs": [],
   "source": [
    "# create a prediction plot where you can vary the input of the model\n",
    "\n",
    "# plot predicted vs actual curve\n",
    "\n",
    "# investigate mean_lag vs time variable - why is time predictive?\n",
    "# why is mean lag not very predictive? \n",
    "# because it helps predict relative to other variables\n",
    "\n",
    "# # create a prediction interval\n",
    "# dt = lm_fit.get_prediction(x_mat).summary_frame(alpha = 0.05)\n",
    "# y_prd = dt['mean']\n",
    "# yprd_ci_lower = dt['obs_ci_lower']\n",
    "# yprd_ci_upper = dt['obs_ci_upper']\n",
    "# print(pd.DataFrame(np.column_stack([y_prd, yprd_ci_lower, yprd_ci_upper])).head())"
   ]
  },
  {
   "cell_type": "code",
   "execution_count": 113,
   "metadata": {},
   "outputs": [
    {
     "data": {
      "text/plain": [
       "283.47115384615387"
      ]
     },
     "execution_count": 113,
     "metadata": {},
     "output_type": "execute_result"
    }
   ],
   "source": [
    "new7.mean()"
   ]
  },
  {
   "cell_type": "code",
   "execution_count": 114,
   "metadata": {},
   "outputs": [
    {
     "data": {
      "text/html": [
       "<div>\n",
       "<style scoped>\n",
       "    .dataframe tbody tr th:only-of-type {\n",
       "        vertical-align: middle;\n",
       "    }\n",
       "\n",
       "    .dataframe tbody tr th {\n",
       "        vertical-align: top;\n",
       "    }\n",
       "\n",
       "    .dataframe thead th {\n",
       "        text-align: right;\n",
       "    }\n",
       "</style>\n",
       "<table border=\"1\" class=\"dataframe\">\n",
       "  <thead>\n",
       "    <tr style=\"text-align: right;\">\n",
       "      <th></th>\n",
       "      <th>mean</th>\n",
       "      <th>mean_se</th>\n",
       "      <th>mean_ci_lower</th>\n",
       "      <th>mean_ci_upper</th>\n",
       "      <th>obs_ci_lower</th>\n",
       "      <th>obs_ci_upper</th>\n",
       "    </tr>\n",
       "  </thead>\n",
       "  <tbody>\n",
       "    <tr>\n",
       "      <th>14</th>\n",
       "      <td>393.554196</td>\n",
       "      <td>24.831662</td>\n",
       "      <td>344.481039</td>\n",
       "      <td>442.627353</td>\n",
       "      <td>235.937206</td>\n",
       "      <td>551.171186</td>\n",
       "    </tr>\n",
       "    <tr>\n",
       "      <th>18</th>\n",
       "      <td>411.876562</td>\n",
       "      <td>28.113158</td>\n",
       "      <td>356.318403</td>\n",
       "      <td>467.434722</td>\n",
       "      <td>252.121594</td>\n",
       "      <td>571.631531</td>\n",
       "    </tr>\n",
       "    <tr>\n",
       "      <th>19</th>\n",
       "      <td>410.096039</td>\n",
       "      <td>21.975053</td>\n",
       "      <td>366.668208</td>\n",
       "      <td>453.523869</td>\n",
       "      <td>254.144388</td>\n",
       "      <td>566.047689</td>\n",
       "    </tr>\n",
       "    <tr>\n",
       "      <th>24</th>\n",
       "      <td>412.440281</td>\n",
       "      <td>24.521465</td>\n",
       "      <td>363.980144</td>\n",
       "      <td>460.900417</td>\n",
       "      <td>255.013073</td>\n",
       "      <td>569.867488</td>\n",
       "    </tr>\n",
       "    <tr>\n",
       "      <th>30</th>\n",
       "      <td>527.966117</td>\n",
       "      <td>54.013425</td>\n",
       "      <td>421.222986</td>\n",
       "      <td>634.709247</td>\n",
       "      <td>344.039401</td>\n",
       "      <td>711.892832</td>\n",
       "    </tr>\n",
       "  </tbody>\n",
       "</table>\n",
       "</div>"
      ],
      "text/plain": [
       "          mean    mean_se  mean_ci_lower  mean_ci_upper  obs_ci_lower  \\\n",
       "14  393.554196  24.831662     344.481039     442.627353    235.937206   \n",
       "18  411.876562  28.113158     356.318403     467.434722    252.121594   \n",
       "19  410.096039  21.975053     366.668208     453.523869    254.144388   \n",
       "24  412.440281  24.521465     363.980144     460.900417    255.013073   \n",
       "30  527.966117  54.013425     421.222986     634.709247    344.039401   \n",
       "\n",
       "    obs_ci_upper  \n",
       "14    551.171186  \n",
       "18    571.631531  \n",
       "19    566.047689  \n",
       "24    569.867488  \n",
       "30    711.892832  "
      ]
     },
     "execution_count": 114,
     "metadata": {},
     "output_type": "execute_result"
    }
   ],
   "source": [
    "pred_int7 = res_7.get_prediction(X3_test).summary_frame(alpha=0.05)\n",
    "pred_int7.head()"
   ]
  },
  {
   "cell_type": "code",
   "execution_count": 136,
   "metadata": {},
   "outputs": [
    {
     "data": {
      "text/html": [
       "<table class=\"simpletable\">\n",
       "<caption>OLS Regression Results</caption>\n",
       "<tr>\n",
       "  <th>Dep. Variable:</th>        <td>new_lag7</td>     <th>  R-squared:         </th> <td>   0.850</td>\n",
       "</tr>\n",
       "<tr>\n",
       "  <th>Model:</th>                   <td>OLS</td>       <th>  Adj. R-squared:    </th> <td>   0.831</td>\n",
       "</tr>\n",
       "<tr>\n",
       "  <th>Method:</th>             <td>Least Squares</td>  <th>  F-statistic:       </th> <td>   46.13</td>\n",
       "</tr>\n",
       "<tr>\n",
       "  <th>Date:</th>             <td>Wed, 11 Nov 2020</td> <th>  Prob (F-statistic):</th> <td>3.15e-51</td>\n",
       "</tr>\n",
       "<tr>\n",
       "  <th>Time:</th>                 <td>09:37:03</td>     <th>  Log-Likelihood:    </th> <td> -943.90</td>\n",
       "</tr>\n",
       "<tr>\n",
       "  <th>No. Observations:</th>      <td>   166</td>      <th>  AIC:               </th> <td>   1926.</td>\n",
       "</tr>\n",
       "<tr>\n",
       "  <th>Df Residuals:</th>          <td>   147</td>      <th>  BIC:               </th> <td>   1985.</td>\n",
       "</tr>\n",
       "<tr>\n",
       "  <th>Df Model:</th>              <td>    18</td>      <th>                     </th>     <td> </td>   \n",
       "</tr>\n",
       "<tr>\n",
       "  <th>Covariance Type:</th>      <td>nonrobust</td>    <th>                     </th>     <td> </td>   \n",
       "</tr>\n",
       "</table>\n",
       "<table class=\"simpletable\">\n",
       "<tr>\n",
       "                           <td></td>                             <th>coef</th>     <th>std err</th>      <th>t</th>      <th>P>|t|</th>  <th>[0.025</th>    <th>0.975]</th>  \n",
       "</tr>\n",
       "<tr>\n",
       "  <th>school_closing</th>                                     <td> -186.5815</td> <td>   35.550</td> <td>   -5.248</td> <td> 0.000</td> <td> -256.837</td> <td> -116.326</td>\n",
       "</tr>\n",
       "<tr>\n",
       "  <th>workplace_closing</th>                                  <td>   -9.7280</td> <td>   21.638</td> <td>   -0.450</td> <td> 0.654</td> <td>  -52.491</td> <td>   33.035</td>\n",
       "</tr>\n",
       "<tr>\n",
       "  <th>cancel_events</th>                                      <td>  -79.9683</td> <td>   54.497</td> <td>   -1.467</td> <td> 0.144</td> <td> -187.666</td> <td>   27.730</td>\n",
       "</tr>\n",
       "<tr>\n",
       "  <th>gatherings_restrictions</th>                            <td>  117.0365</td> <td>   47.356</td> <td>    2.471</td> <td> 0.015</td> <td>   23.450</td> <td>  210.623</td>\n",
       "</tr>\n",
       "<tr>\n",
       "  <th>stay_home_restrictions</th>                             <td> -123.2275</td> <td>   94.397</td> <td>   -1.305</td> <td> 0.194</td> <td> -309.779</td> <td>   63.324</td>\n",
       "</tr>\n",
       "<tr>\n",
       "  <th>internal_movement_restrictions</th>                     <td>   -9.9194</td> <td>   33.403</td> <td>   -0.297</td> <td> 0.767</td> <td>  -75.931</td> <td>   56.092</td>\n",
       "</tr>\n",
       "<tr>\n",
       "  <th>international_movement_restrictions</th>                <td>  -22.5374</td> <td>   20.746</td> <td>   -1.086</td> <td> 0.279</td> <td>  -63.536</td> <td>   18.461</td>\n",
       "</tr>\n",
       "<tr>\n",
       "  <th>information_campaigns</th>                              <td>   10.5891</td> <td>   47.512</td> <td>    0.223</td> <td> 0.824</td> <td>  -83.305</td> <td>  104.483</td>\n",
       "</tr>\n",
       "<tr>\n",
       "  <th>retail_and_recreation_percent_change_from_baseline</th> <td>  -11.0989</td> <td>    2.497</td> <td>   -4.444</td> <td> 0.000</td> <td>  -16.034</td> <td>   -6.164</td>\n",
       "</tr>\n",
       "<tr>\n",
       "  <th>grocery_and_pharmacy_percent_change_from_baseline</th>  <td>    5.4232</td> <td>    1.581</td> <td>    3.430</td> <td> 0.001</td> <td>    2.299</td> <td>    8.548</td>\n",
       "</tr>\n",
       "<tr>\n",
       "  <th>parks_percent_change_from_baseline</th>                 <td>    0.4139</td> <td>    0.268</td> <td>    1.542</td> <td> 0.125</td> <td>   -0.117</td> <td>    0.944</td>\n",
       "</tr>\n",
       "<tr>\n",
       "  <th>transit_stations_percent_change_from_baseline</th>      <td>  -11.8270</td> <td>    3.971</td> <td>   -2.979</td> <td> 0.003</td> <td>  -19.674</td> <td>   -3.980</td>\n",
       "</tr>\n",
       "<tr>\n",
       "  <th>workplaces_percent_change_from_baseline</th>            <td>    7.7693</td> <td>    2.079</td> <td>    3.738</td> <td> 0.000</td> <td>    3.662</td> <td>   11.877</td>\n",
       "</tr>\n",
       "<tr>\n",
       "  <th>residential_percent_change_from_baseline</th>           <td>    5.1328</td> <td>    5.309</td> <td>    0.967</td> <td> 0.335</td> <td>   -5.359</td> <td>   15.625</td>\n",
       "</tr>\n",
       "<tr>\n",
       "  <th>day_num</th>                                            <td>    0.9124</td> <td>    0.518</td> <td>    1.760</td> <td> 0.080</td> <td>   -0.112</td> <td>    1.937</td>\n",
       "</tr>\n",
       "<tr>\n",
       "  <th>constant</th>                                           <td>    5.2946</td> <td>   23.756</td> <td>    0.223</td> <td> 0.824</td> <td>  -41.653</td> <td>   52.242</td>\n",
       "</tr>\n",
       "<tr>\n",
       "  <th>mean_lag</th>                                           <td>  -10.1583</td> <td>    5.341</td> <td>   -1.902</td> <td> 0.059</td> <td>  -20.713</td> <td>    0.396</td>\n",
       "</tr>\n",
       "<tr>\n",
       "  <th>is_weekday</th>                                         <td>   44.5588</td> <td>   68.544</td> <td>    0.650</td> <td> 0.517</td> <td>  -90.900</td> <td>  180.018</td>\n",
       "</tr>\n",
       "<tr>\n",
       "  <th>is_winter</th>                                          <td> 3.439e-15</td> <td> 8.97e-15</td> <td>    0.383</td> <td> 0.702</td> <td>-1.43e-14</td> <td> 2.12e-14</td>\n",
       "</tr>\n",
       "<tr>\n",
       "  <th>is_spring</th>                                          <td>   25.6442</td> <td>   24.967</td> <td>    1.027</td> <td> 0.306</td> <td>  -23.696</td> <td>   74.985</td>\n",
       "</tr>\n",
       "<tr>\n",
       "  <th>is_summer</th>                                          <td>  -93.9351</td> <td>   19.166</td> <td>   -4.901</td> <td> 0.000</td> <td> -131.811</td> <td>  -56.059</td>\n",
       "</tr>\n",
       "<tr>\n",
       "  <th>is_fall</th>                                            <td>   73.5855</td> <td>   31.474</td> <td>    2.338</td> <td> 0.021</td> <td>   11.385</td> <td>  135.786</td>\n",
       "</tr>\n",
       "</table>\n",
       "<table class=\"simpletable\">\n",
       "<tr>\n",
       "  <th>Omnibus:</th>       <td>33.125</td> <th>  Durbin-Watson:     </th> <td>   1.532</td>\n",
       "</tr>\n",
       "<tr>\n",
       "  <th>Prob(Omnibus):</th> <td> 0.000</td> <th>  Jarque-Bera (JB):  </th> <td>  81.386</td>\n",
       "</tr>\n",
       "<tr>\n",
       "  <th>Skew:</th>          <td> 0.829</td> <th>  Prob(JB):          </th> <td>2.12e-18</td>\n",
       "</tr>\n",
       "<tr>\n",
       "  <th>Kurtosis:</th>      <td> 6.003</td> <th>  Cond. No.          </th> <td>7.55e+20</td>\n",
       "</tr>\n",
       "</table><br/><br/>Notes:<br/>[1] Standard Errors assume that the covariance matrix of the errors is correctly specified.<br/>[2] The smallest eigenvalue is 8.23e-36. This might indicate that there are<br/>strong multicollinearity problems or that the design matrix is singular."
      ],
      "text/plain": [
       "<class 'statsmodels.iolib.summary.Summary'>\n",
       "\"\"\"\n",
       "                            OLS Regression Results                            \n",
       "==============================================================================\n",
       "Dep. Variable:               new_lag7   R-squared:                       0.850\n",
       "Model:                            OLS   Adj. R-squared:                  0.831\n",
       "Method:                 Least Squares   F-statistic:                     46.13\n",
       "Date:                Wed, 11 Nov 2020   Prob (F-statistic):           3.15e-51\n",
       "Time:                        09:37:03   Log-Likelihood:                -943.90\n",
       "No. Observations:                 166   AIC:                             1926.\n",
       "Df Residuals:                     147   BIC:                             1985.\n",
       "Df Model:                          18                                         \n",
       "Covariance Type:            nonrobust                                         \n",
       "======================================================================================================================\n",
       "                                                         coef    std err          t      P>|t|      [0.025      0.975]\n",
       "----------------------------------------------------------------------------------------------------------------------\n",
       "school_closing                                      -186.5815     35.550     -5.248      0.000    -256.837    -116.326\n",
       "workplace_closing                                     -9.7280     21.638     -0.450      0.654     -52.491      33.035\n",
       "cancel_events                                        -79.9683     54.497     -1.467      0.144    -187.666      27.730\n",
       "gatherings_restrictions                              117.0365     47.356      2.471      0.015      23.450     210.623\n",
       "stay_home_restrictions                              -123.2275     94.397     -1.305      0.194    -309.779      63.324\n",
       "internal_movement_restrictions                        -9.9194     33.403     -0.297      0.767     -75.931      56.092\n",
       "international_movement_restrictions                  -22.5374     20.746     -1.086      0.279     -63.536      18.461\n",
       "information_campaigns                                 10.5891     47.512      0.223      0.824     -83.305     104.483\n",
       "retail_and_recreation_percent_change_from_baseline   -11.0989      2.497     -4.444      0.000     -16.034      -6.164\n",
       "grocery_and_pharmacy_percent_change_from_baseline      5.4232      1.581      3.430      0.001       2.299       8.548\n",
       "parks_percent_change_from_baseline                     0.4139      0.268      1.542      0.125      -0.117       0.944\n",
       "transit_stations_percent_change_from_baseline        -11.8270      3.971     -2.979      0.003     -19.674      -3.980\n",
       "workplaces_percent_change_from_baseline                7.7693      2.079      3.738      0.000       3.662      11.877\n",
       "residential_percent_change_from_baseline               5.1328      5.309      0.967      0.335      -5.359      15.625\n",
       "day_num                                                0.9124      0.518      1.760      0.080      -0.112       1.937\n",
       "constant                                               5.2946     23.756      0.223      0.824     -41.653      52.242\n",
       "mean_lag                                             -10.1583      5.341     -1.902      0.059     -20.713       0.396\n",
       "is_weekday                                            44.5588     68.544      0.650      0.517     -90.900     180.018\n",
       "is_winter                                           3.439e-15   8.97e-15      0.383      0.702   -1.43e-14    2.12e-14\n",
       "is_spring                                             25.6442     24.967      1.027      0.306     -23.696      74.985\n",
       "is_summer                                            -93.9351     19.166     -4.901      0.000    -131.811     -56.059\n",
       "is_fall                                               73.5855     31.474      2.338      0.021      11.385     135.786\n",
       "==============================================================================\n",
       "Omnibus:                       33.125   Durbin-Watson:                   1.532\n",
       "Prob(Omnibus):                  0.000   Jarque-Bera (JB):               81.386\n",
       "Skew:                           0.829   Prob(JB):                     2.12e-18\n",
       "Kurtosis:                       6.003   Cond. No.                     7.55e+20\n",
       "==============================================================================\n",
       "\n",
       "Notes:\n",
       "[1] Standard Errors assume that the covariance matrix of the errors is correctly specified.\n",
       "[2] The smallest eigenvalue is 8.23e-36. This might indicate that there are\n",
       "strong multicollinearity problems or that the design matrix is singular.\n",
       "\"\"\""
      ]
     },
     "execution_count": 136,
     "metadata": {},
     "output_type": "execute_result"
    }
   ],
   "source": [
    "# remove time component\n",
    "expl = [\n",
    "    'school_closing', 'workplace_closing', \n",
    "    #'cancel_events',\n",
    "       'gatherings_restrictions', 'international_movement_restrictions',\n",
    "       'retail_and_recreation_percent_change_from_baseline',\n",
    "       'grocery_and_pharmacy_percent_change_from_baseline',\n",
    "       'transit_stations_percent_change_from_baseline',\n",
    "       'workplaces_percent_change_from_baseline', \n",
    "    #'day_num', \n",
    "    'constant',\n",
    "    'mean_lag'\n",
    "]\n",
    "\n",
    "X4_train = X3_train #[expl]\n",
    "X4_test = X3_test #[expl]\n",
    "\n",
    "mt = sm.OLS(y7_train, X4_train)\n",
    "mt_fit = mt.fit()\n",
    "mt_fit.summary()"
   ]
  },
  {
   "cell_type": "code",
   "execution_count": 137,
   "metadata": {},
   "outputs": [
    {
     "data": {
      "text/plain": [
       "82.33071048779838"
      ]
     },
     "execution_count": 137,
     "metadata": {},
     "output_type": "execute_result"
    }
   ],
   "source": [
    "mt_pred = mt_fit.predict(X4_test)\n",
    "mean_squared_error(mt_pred, y7_test, squared=False)"
   ]
  },
  {
   "cell_type": "code",
   "execution_count": 138,
   "metadata": {},
   "outputs": [
    {
     "data": {
      "text/plain": [
       "[<matplotlib.lines.Line2D at 0x7fbe5293dfd0>]"
      ]
     },
     "execution_count": 138,
     "metadata": {},
     "output_type": "execute_result"
    },
    {
     "data": {
      "image/png": "[encoded data removed]",
      "text/plain": [
       "<matplotlib.figure.Figure at 0x7fbe6b86ee80>"
      ]
     },
     "metadata": {
      "needs_background": "light"
     },
     "output_type": "display_data"
    }
   ],
   "source": [
    "mt_pred = mt_fit.predict(X4_test)\n",
    "plt.plot(y7_test-mt_pred)"
   ]
  },
  {
   "cell_type": "code",
   "execution_count": 139,
   "metadata": {},
   "outputs": [
    {
     "data": {
      "text/html": [
       "<table class=\"simpletable\">\n",
       "<caption>OLS Regression Results</caption>\n",
       "<tr>\n",
       "  <th>Dep. Variable:</th>        <td>new_lag7</td>     <th>  R-squared:         </th> <td>   0.821</td>\n",
       "</tr>\n",
       "<tr>\n",
       "  <th>Model:</th>                   <td>OLS</td>       <th>  Adj. R-squared:    </th> <td>   0.810</td>\n",
       "</tr>\n",
       "<tr>\n",
       "  <th>Method:</th>             <td>Least Squares</td>  <th>  F-statistic:       </th> <td>   79.28</td>\n",
       "</tr>\n",
       "<tr>\n",
       "  <th>Date:</th>             <td>Wed, 11 Nov 2020</td> <th>  Prob (F-statistic):</th> <td>1.27e-53</td>\n",
       "</tr>\n",
       "<tr>\n",
       "  <th>Time:</th>                 <td>09:37:18</td>     <th>  Log-Likelihood:    </th> <td> -933.36</td>\n",
       "</tr>\n",
       "<tr>\n",
       "  <th>No. Observations:</th>      <td>   166</td>      <th>  AIC:               </th> <td>   1887.</td>\n",
       "</tr>\n",
       "<tr>\n",
       "  <th>Df Residuals:</th>          <td>   156</td>      <th>  BIC:               </th> <td>   1918.</td>\n",
       "</tr>\n",
       "<tr>\n",
       "  <th>Df Model:</th>              <td>     9</td>      <th>                     </th>     <td> </td>   \n",
       "</tr>\n",
       "<tr>\n",
       "  <th>Covariance Type:</th>      <td>nonrobust</td>    <th>                     </th>     <td> </td>   \n",
       "</tr>\n",
       "</table>\n",
       "<table class=\"simpletable\">\n",
       "<tr>\n",
       "                           <td></td>                             <th>coef</th>     <th>std err</th>      <th>t</th>      <th>P>|t|</th>  <th>[0.025</th>    <th>0.975]</th>  \n",
       "</tr>\n",
       "<tr>\n",
       "  <th>school_closing</th>                                     <td> -237.4108</td> <td>   43.999</td> <td>   -5.396</td> <td> 0.000</td> <td> -324.322</td> <td> -150.500</td>\n",
       "</tr>\n",
       "<tr>\n",
       "  <th>workplace_closing</th>                                  <td>   34.7063</td> <td>   17.604</td> <td>    1.971</td> <td> 0.050</td> <td>   -0.067</td> <td>   69.480</td>\n",
       "</tr>\n",
       "<tr>\n",
       "  <th>gatherings_restrictions</th>                            <td>  160.7113</td> <td>   43.063</td> <td>    3.732</td> <td> 0.000</td> <td>   75.649</td> <td>  245.773</td>\n",
       "</tr>\n",
       "<tr>\n",
       "  <th>international_movement_restrictions</th>                <td>  -51.7583</td> <td>   17.746</td> <td>   -2.917</td> <td> 0.004</td> <td>  -86.812</td> <td>  -16.704</td>\n",
       "</tr>\n",
       "<tr>\n",
       "  <th>retail_and_recreation_percent_change_from_baseline</th> <td>   -9.6848</td> <td>    1.362</td> <td>   -7.112</td> <td> 0.000</td> <td>  -12.375</td> <td>   -6.995</td>\n",
       "</tr>\n",
       "<tr>\n",
       "  <th>grocery_and_pharmacy_percent_change_from_baseline</th>  <td>    3.9646</td> <td>    0.912</td> <td>    4.345</td> <td> 0.000</td> <td>    2.162</td> <td>    5.767</td>\n",
       "</tr>\n",
       "<tr>\n",
       "  <th>transit_stations_percent_change_from_baseline</th>      <td>   -5.2417</td> <td>    2.293</td> <td>   -2.286</td> <td> 0.024</td> <td>   -9.771</td> <td>   -0.712</td>\n",
       "</tr>\n",
       "<tr>\n",
       "  <th>workplaces_percent_change_from_baseline</th>            <td>    2.2851</td> <td>    0.983</td> <td>    2.325</td> <td> 0.021</td> <td>    0.344</td> <td>    4.226</td>\n",
       "</tr>\n",
       "<tr>\n",
       "  <th>constant</th>                                           <td>    8.6803</td> <td>   69.253</td> <td>    0.125</td> <td> 0.900</td> <td> -128.114</td> <td>  145.474</td>\n",
       "</tr>\n",
       "<tr>\n",
       "  <th>mean_lag</th>                                           <td>   -6.2782</td> <td>    4.094</td> <td>   -1.534</td> <td> 0.127</td> <td>  -14.365</td> <td>    1.808</td>\n",
       "</tr>\n",
       "</table>\n",
       "<table class=\"simpletable\">\n",
       "<tr>\n",
       "  <th>Omnibus:</th>       <td> 6.334</td> <th>  Durbin-Watson:     </th> <td>   1.450</td>\n",
       "</tr>\n",
       "<tr>\n",
       "  <th>Prob(Omnibus):</th> <td> 0.042</td> <th>  Jarque-Bera (JB):  </th> <td>   5.935</td>\n",
       "</tr>\n",
       "<tr>\n",
       "  <th>Skew:</th>          <td> 0.426</td> <th>  Prob(JB):          </th> <td>  0.0514</td>\n",
       "</tr>\n",
       "<tr>\n",
       "  <th>Kurtosis:</th>      <td> 3.361</td> <th>  Cond. No.          </th> <td>1.16e+03</td>\n",
       "</tr>\n",
       "</table><br/><br/>Notes:<br/>[1] Standard Errors assume that the covariance matrix of the errors is correctly specified.<br/>[2] The condition number is large, 1.16e+03. This might indicate that there are<br/>strong multicollinearity or other numerical problems."
      ],
      "text/plain": [
       "<class 'statsmodels.iolib.summary.Summary'>\n",
       "\"\"\"\n",
       "                            OLS Regression Results                            \n",
       "==============================================================================\n",
       "Dep. Variable:               new_lag7   R-squared:                       0.821\n",
       "Model:                            OLS   Adj. R-squared:                  0.810\n",
       "Method:                 Least Squares   F-statistic:                     79.28\n",
       "Date:                Wed, 11 Nov 2020   Prob (F-statistic):           1.27e-53\n",
       "Time:                        09:37:18   Log-Likelihood:                -933.36\n",
       "No. Observations:                 166   AIC:                             1887.\n",
       "Df Residuals:                     156   BIC:                             1918.\n",
       "Df Model:                           9                                         \n",
       "Covariance Type:            nonrobust                                         \n",
       "======================================================================================================================\n",
       "                                                         coef    std err          t      P>|t|      [0.025      0.975]\n",
       "----------------------------------------------------------------------------------------------------------------------\n",
       "school_closing                                      -237.4108     43.999     -5.396      0.000    -324.322    -150.500\n",
       "workplace_closing                                     34.7063     17.604      1.971      0.050      -0.067      69.480\n",
       "gatherings_restrictions                              160.7113     43.063      3.732      0.000      75.649     245.773\n",
       "international_movement_restrictions                  -51.7583     17.746     -2.917      0.004     -86.812     -16.704\n",
       "retail_and_recreation_percent_change_from_baseline    -9.6848      1.362     -7.112      0.000     -12.375      -6.995\n",
       "grocery_and_pharmacy_percent_change_from_baseline      3.9646      0.912      4.345      0.000       2.162       5.767\n",
       "transit_stations_percent_change_from_baseline         -5.2417      2.293     -2.286      0.024      -9.771      -0.712\n",
       "workplaces_percent_change_from_baseline                2.2851      0.983      2.325      0.021       0.344       4.226\n",
       "constant                                               8.6803     69.253      0.125      0.900    -128.114     145.474\n",
       "mean_lag                                              -6.2782      4.094     -1.534      0.127     -14.365       1.808\n",
       "==============================================================================\n",
       "Omnibus:                        6.334   Durbin-Watson:                   1.450\n",
       "Prob(Omnibus):                  0.042   Jarque-Bera (JB):                5.935\n",
       "Skew:                           0.426   Prob(JB):                       0.0514\n",
       "Kurtosis:                       3.361   Cond. No.                     1.16e+03\n",
       "==============================================================================\n",
       "\n",
       "Notes:\n",
       "[1] Standard Errors assume that the covariance matrix of the errors is correctly specified.\n",
       "[2] The condition number is large, 1.16e+03. This might indicate that there are\n",
       "strong multicollinearity or other numerical problems.\n",
       "\"\"\""
      ]
     },
     "execution_count": 139,
     "metadata": {},
     "output_type": "execute_result"
    }
   ],
   "source": [
    "# train on first 80%\n",
    "# test on next 20%\n",
    "X4 = X3[expl]\n",
    "ind_train4 = list(range(int(np.floor(0.8*X4.shape[0]))))\n",
    "ind_test4 = list(range(int(np.floor(0.8*X4.shape[0])), X3.shape[0]))\n",
    "\n",
    "X4_train = X4.iloc[ind_train4, :]\n",
    "X4_test = X4.iloc[ind_test4, :]\n",
    "y4_train = new7.iloc[ind_train4]\n",
    "y4_test = new7.iloc[ind_test4]\n",
    "\n",
    "# model with first 80% of data\n",
    "m4 = sm.OLS(y4_train, X4_train)\n",
    "m4_fit = m4.fit()\n",
    "m4_fit.summary()\n",
    "\n"
   ]
  },
  {
   "cell_type": "code",
   "execution_count": 140,
   "metadata": {},
   "outputs": [
    {
     "data": {
      "text/plain": [
       "[<matplotlib.lines.Line2D at 0x7fbe6b6d4550>]"
      ]
     },
     "execution_count": 140,
     "metadata": {},
     "output_type": "execute_result"
    },
    {
     "data": {
      "image/png": "[encoded data removed]",
      "text/plain": [
       "<matplotlib.figure.Figure at 0x7fbe52915390>"
      ]
     },
     "metadata": {
      "needs_background": "light"
     },
     "output_type": "display_data"
    }
   ],
   "source": [
    "m4_pred = m4_fit.predict(X4_test)\n",
    "plt.plot(y4_test-m4_pred)"
   ]
  },
  {
   "cell_type": "code",
   "execution_count": 141,
   "metadata": {},
   "outputs": [
    {
     "data": {
      "text/plain": [
       "[<matplotlib.lines.Line2D at 0x7fbe6b90beb8>]"
      ]
     },
     "execution_count": 141,
     "metadata": {},
     "output_type": "execute_result"
    },
    {
     "data": {
      "image/png": "[encoded data removed]",
      "text/plain": [
       "<matplotlib.figure.Figure at 0x7fbe6ba94048>"
      ]
     },
     "metadata": {
      "needs_background": "light"
     },
     "output_type": "display_data"
    }
   ],
   "source": [
    "m4_pred_train = m4_fit.predict(X4_train)\n",
    "plt.plot(y4_train-m4_pred_train)\n",
    "\n",
    "# create autoregressive model for residuals"
   ]
  },
  {
   "cell_type": "code",
   "execution_count": 142,
   "metadata": {},
   "outputs": [
    {
     "name": "stdout",
     "output_type": "stream",
     "text": [
      "Coefficients: intercept   -2.44820\n",
      "y.L1         0.26058\n",
      "y.L2        -0.03286\n",
      "y.L3         0.16989\n",
      "y.L4         0.07592\n",
      "y.L5         0.09908\n",
      "y.L6        -0.14022\n",
      "y.L7         0.08516\n",
      "y.L8        -0.09899\n",
      "y.L9        -0.01414\n",
      "y.L10        0.07622\n",
      "y.L11       -0.07647\n",
      "y.L12       -0.05067\n",
      "y.L13       -0.03753\n",
      "y.L14       -0.03593\n",
      "y.L15        0.02672\n",
      "y.L16        0.09956\n",
      "y.L17       -0.05081\n",
      "y.L18       -0.18372\n",
      "y.L19        0.08926\n",
      "y.L20       -0.18457\n",
      "y.L21       -0.08965\n",
      "y.L22        0.17238\n",
      "y.L23       -0.10858\n",
      "y.L24       -0.15343\n",
      "y.L25        0.06752\n",
      "y.L26        0.07029\n",
      "y.L27       -0.08239\n",
      "y.L28        0.18172\n",
      "y.L29       -0.12750\n",
      "y.L30        0.16772\n",
      "y.L31        0.01418\n",
      "y.L32       -0.17608\n",
      "y.L33        0.08335\n",
      "y.L34       -0.08397\n",
      "y.L35        0.01392\n",
      "y.L36        0.02728\n",
      "y.L37       -0.02265\n",
      "y.L38       -0.12323\n",
      "y.L39        0.13644\n",
      "y.L40       -0.01515\n",
      "y.L41       -0.08470\n",
      "y.L42        0.09577\n",
      "y.L43        0.02173\n",
      "y.L44        0.17104\n",
      "y.L45       -0.11677\n",
      "y.L46        0.08670\n",
      "y.L47       -0.09759\n",
      "y.L48        0.06364\n",
      "y.L49       -0.10116\n",
      "y.L50        0.08389\n",
      "dtype: float64\n",
      "Test RMSE: 182.960\n"
     ]
    },
    {
     "name": "stderr",
     "output_type": "stream",
     "text": [
      "/Users/stephenbrock/anaconda3/lib/python3.6/site-packages/statsmodels/tsa/ar_model.py:252: FutureWarning: The parameter names will change after 0.12 is released. Set old_names to False to use the new names now. Set old_names to True to use the old names. \n",
      "  FutureWarning,\n"
     ]
    },
    {
     "data": {
      "image/png": "[encoded data removed]",
      "text/plain": [
       "<matplotlib.figure.Figure at 0x7fbe6b6c3dd8>"
      ]
     },
     "metadata": {
      "needs_background": "light"
     },
     "output_type": "display_data"
    }
   ],
   "source": [
    "# investigating lag\n",
    "from statsmodels.tsa.ar_model import AutoReg\n",
    "errs = y4_train-m4_pred_train\n",
    "errs_test = y4_test-m4_pred\n",
    "model = AutoReg(errs, lags=50)\n",
    "\n",
    "model_fit = model.fit()\n",
    "print('Coefficients: %s' % model_fit.params)\n",
    "# make predictions\n",
    "predictions = model_fit.predict(start=len(errs), end=len(errs)+len(errs_test)-1, dynamic=False)\n",
    "# for i in range(len(predictions)):\n",
    "#     print('predicted=%f, expected=%f' % (predictions[i], test[i]))\n",
    "rmse = np.sqrt(mean_squared_error(errs_test, predictions))\n",
    "print('Test RMSE: %.3f' % rmse)\n",
    "# plot results\n",
    "plt.plot(errs_test)\n",
    "plt.plot(predictions, color='red')\n",
    "plt.show()"
   ]
  },
  {
   "cell_type": "markdown",
   "metadata": {},
   "source": [
    "#### Does using the autoregressive model of errors help predictions?"
   ]
  },
  {
   "cell_type": "code",
   "execution_count": 143,
   "metadata": {},
   "outputs": [
    {
     "name": "stdout",
     "output_type": "stream",
     "text": [
      "old: 178.01600919059698\n",
      "new: 182.95960058309205\n"
     ]
    }
   ],
   "source": [
    "pred4_adj = m4_pred + predictions\n",
    "print('old:',mean_squared_error(y4_test, m4_pred, squared=False))\n",
    "print('new:',mean_squared_error(y4_test, pred4_adj, squared=False))\n"
   ]
  },
  {
   "cell_type": "markdown",
   "metadata": {},
   "source": [
    "#### Performance is worse!"
   ]
  },
  {
   "cell_type": "markdown",
   "metadata": {},
   "source": [
    "### Poisson Regression"
   ]
  },
  {
   "cell_type": "code",
   "execution_count": 158,
   "metadata": {},
   "outputs": [
    {
     "data": {
      "text/plain": [
       "Index(['school_closing', 'workplace_closing', 'cancel_events',\n",
       "       'gatherings_restrictions', 'stay_home_restrictions',\n",
       "       'internal_movement_restrictions', 'international_movement_restrictions',\n",
       "       'information_campaigns',\n",
       "       'retail_and_recreation_percent_change_from_baseline',\n",
       "       'grocery_and_pharmacy_percent_change_from_baseline',\n",
       "       'parks_percent_change_from_baseline',\n",
       "       'transit_stations_percent_change_from_baseline',\n",
       "       'workplaces_percent_change_from_baseline',\n",
       "       'residential_percent_change_from_baseline', 'day_num', 'constant',\n",
       "       'mean_lag', 'is_weekday', 'is_winter', 'is_spring', 'is_summer',\n",
       "       'is_fall'],\n",
       "      dtype='object')"
      ]
     },
     "execution_count": 158,
     "metadata": {},
     "output_type": "execute_result"
    }
   ],
   "source": [
    "X3_train.columns"
   ]
  },
  {
   "cell_type": "code",
   "execution_count": 159,
   "metadata": {},
   "outputs": [],
   "source": [
    "poi_expl = ['school_closing', 'workplace_closing', 'cancel_events',\n",
    "       'gatherings_restrictions', 'stay_home_restrictions',\n",
    "       'internal_movement_restrictions', 'international_movement_restrictions',\n",
    "       'information_campaigns',\n",
    "       'retail_and_recreation_percent_change_from_baseline',\n",
    "       'grocery_and_pharmacy_percent_change_from_baseline',\n",
    "       'parks_percent_change_from_baseline',\n",
    "       'transit_stations_percent_change_from_baseline',\n",
    "       'workplaces_percent_change_from_baseline',\n",
    "       'residential_percent_change_from_baseline', \n",
    "        #'day_num', \n",
    "    'constant',\n",
    "       'mean_lag', 'is_weekday', 'is_winter', 'is_spring', 'is_summer',\n",
    "       'is_fall']\n",
    "\n",
    "\n",
    "pd.set_option('display.float_format', lambda x: '%.5f' % x)\n",
    "# try poisson regression\n",
    "Xpoi_train = X3_train[poi_expl]\n",
    "Xpoi_test = X3_test[poi_expl]\n",
    "ypoi_train = y7_train\n",
    "ypoi_test = y7_test\n",
    "\n",
    "poisson_training_results = sm.GLM(ypoi_train, Xpoi_train, family=sm.families.Poisson()).fit()"
   ]
  },
  {
   "cell_type": "code",
   "execution_count": 160,
   "metadata": {},
   "outputs": [
    {
     "data": {
      "text/html": [
       "<table class=\"simpletable\">\n",
       "<caption>Generalized Linear Model Regression Results</caption>\n",
       "<tr>\n",
       "  <th>Dep. Variable:</th>       <td>new_lag7</td>     <th>  No. Observations:  </th>  <td>   166</td> \n",
       "</tr>\n",
       "<tr>\n",
       "  <th>Model:</th>                  <td>GLM</td>       <th>  Df Residuals:      </th>  <td>   148</td> \n",
       "</tr>\n",
       "<tr>\n",
       "  <th>Model Family:</th>         <td>Poisson</td>     <th>  Df Model:          </th>  <td>    17</td> \n",
       "</tr>\n",
       "<tr>\n",
       "  <th>Link Function:</th>          <td>log</td>       <th>  Scale:             </th> <td>  1.0000</td>\n",
       "</tr>\n",
       "<tr>\n",
       "  <th>Method:</th>                <td>IRLS</td>       <th>  Log-Likelihood:    </th> <td> -2095.0</td>\n",
       "</tr>\n",
       "<tr>\n",
       "  <th>Date:</th>            <td>Wed, 11 Nov 2020</td> <th>  Deviance:          </th> <td>  3022.3</td>\n",
       "</tr>\n",
       "<tr>\n",
       "  <th>Time:</th>                <td>09:40:03</td>     <th>  Pearson chi2:      </th> <td>2.71e+03</td>\n",
       "</tr>\n",
       "<tr>\n",
       "  <th>No. Iterations:</th>          <td>7</td>        <th>                     </th>     <td> </td>   \n",
       "</tr>\n",
       "<tr>\n",
       "  <th>Covariance Type:</th>     <td>nonrobust</td>    <th>                     </th>     <td> </td>   \n",
       "</tr>\n",
       "</table>\n",
       "<table class=\"simpletable\">\n",
       "<tr>\n",
       "                           <td></td>                             <th>coef</th>     <th>std err</th>      <th>z</th>      <th>P>|z|</th>  <th>[0.025</th>    <th>0.975]</th>  \n",
       "</tr>\n",
       "<tr>\n",
       "  <th>school_closing</th>                                     <td>   -0.5743</td> <td>    0.030</td> <td>  -19.466</td> <td> 0.000</td> <td>   -0.632</td> <td>   -0.516</td>\n",
       "</tr>\n",
       "<tr>\n",
       "  <th>workplace_closing</th>                                  <td>    0.1010</td> <td>    0.023</td> <td>    4.447</td> <td> 0.000</td> <td>    0.056</td> <td>    0.145</td>\n",
       "</tr>\n",
       "<tr>\n",
       "  <th>cancel_events</th>                                      <td>    0.4956</td> <td>    0.153</td> <td>    3.242</td> <td> 0.001</td> <td>    0.196</td> <td>    0.795</td>\n",
       "</tr>\n",
       "<tr>\n",
       "  <th>gatherings_restrictions</th>                            <td>    0.4866</td> <td>    0.042</td> <td>   11.685</td> <td> 0.000</td> <td>    0.405</td> <td>    0.568</td>\n",
       "</tr>\n",
       "<tr>\n",
       "  <th>stay_home_restrictions</th>                             <td>   -0.3713</td> <td>    0.129</td> <td>   -2.888</td> <td> 0.004</td> <td>   -0.623</td> <td>   -0.119</td>\n",
       "</tr>\n",
       "<tr>\n",
       "  <th>internal_movement_restrictions</th>                     <td>    0.0589</td> <td>    0.035</td> <td>    1.689</td> <td> 0.091</td> <td>   -0.009</td> <td>    0.127</td>\n",
       "</tr>\n",
       "<tr>\n",
       "  <th>international_movement_restrictions</th>                <td>   -0.0976</td> <td>    0.024</td> <td>   -4.065</td> <td> 0.000</td> <td>   -0.145</td> <td>   -0.051</td>\n",
       "</tr>\n",
       "<tr>\n",
       "  <th>information_campaigns</th>                              <td>    1.0581</td> <td>    0.112</td> <td>    9.431</td> <td> 0.000</td> <td>    0.838</td> <td>    1.278</td>\n",
       "</tr>\n",
       "<tr>\n",
       "  <th>retail_and_recreation_percent_change_from_baseline</th> <td>   -0.0384</td> <td>    0.002</td> <td>  -18.928</td> <td> 0.000</td> <td>   -0.042</td> <td>   -0.034</td>\n",
       "</tr>\n",
       "<tr>\n",
       "  <th>grocery_and_pharmacy_percent_change_from_baseline</th>  <td>    0.0173</td> <td>    0.001</td> <td>   14.871</td> <td> 0.000</td> <td>    0.015</td> <td>    0.020</td>\n",
       "</tr>\n",
       "<tr>\n",
       "  <th>parks_percent_change_from_baseline</th>                 <td>    0.0015</td> <td>    0.000</td> <td>    6.317</td> <td> 0.000</td> <td>    0.001</td> <td>    0.002</td>\n",
       "</tr>\n",
       "<tr>\n",
       "  <th>transit_stations_percent_change_from_baseline</th>      <td>   -0.0326</td> <td>    0.003</td> <td>  -10.095</td> <td> 0.000</td> <td>   -0.039</td> <td>   -0.026</td>\n",
       "</tr>\n",
       "<tr>\n",
       "  <th>workplaces_percent_change_from_baseline</th>            <td>    0.0259</td> <td>    0.002</td> <td>   16.146</td> <td> 0.000</td> <td>    0.023</td> <td>    0.029</td>\n",
       "</tr>\n",
       "<tr>\n",
       "  <th>residential_percent_change_from_baseline</th>           <td>    0.0140</td> <td>    0.004</td> <td>    3.741</td> <td> 0.000</td> <td>    0.007</td> <td>    0.021</td>\n",
       "</tr>\n",
       "<tr>\n",
       "  <th>constant</th>                                           <td>    0.5290</td> <td>    0.056</td> <td>    9.431</td> <td> 0.000</td> <td>    0.419</td> <td>    0.639</td>\n",
       "</tr>\n",
       "<tr>\n",
       "  <th>mean_lag</th>                                           <td>   -0.0475</td> <td>    0.004</td> <td>  -12.704</td> <td> 0.000</td> <td>   -0.055</td> <td>   -0.040</td>\n",
       "</tr>\n",
       "<tr>\n",
       "  <th>is_weekday</th>                                         <td>    0.2446</td> <td>    0.052</td> <td>    4.731</td> <td> 0.000</td> <td>    0.143</td> <td>    0.346</td>\n",
       "</tr>\n",
       "<tr>\n",
       "  <th>is_winter</th>                                          <td> 7.504e-17</td> <td> 4.37e-17</td> <td>    1.716</td> <td> 0.086</td> <td>-1.06e-17</td> <td> 1.61e-16</td>\n",
       "</tr>\n",
       "<tr>\n",
       "  <th>is_spring</th>                                          <td>    0.1485</td> <td>    0.027</td> <td>    5.426</td> <td> 0.000</td> <td>    0.095</td> <td>    0.202</td>\n",
       "</tr>\n",
       "<tr>\n",
       "  <th>is_summer</th>                                          <td>   -0.2606</td> <td>    0.025</td> <td>  -10.566</td> <td> 0.000</td> <td>   -0.309</td> <td>   -0.212</td>\n",
       "</tr>\n",
       "<tr>\n",
       "  <th>is_fall</th>                                            <td>    0.6411</td> <td>    0.031</td> <td>   20.412</td> <td> 0.000</td> <td>    0.580</td> <td>    0.703</td>\n",
       "</tr>\n",
       "</table>"
      ],
      "text/plain": [
       "<class 'statsmodels.iolib.summary.Summary'>\n",
       "\"\"\"\n",
       "                 Generalized Linear Model Regression Results                  \n",
       "==============================================================================\n",
       "Dep. Variable:               new_lag7   No. Observations:                  166\n",
       "Model:                            GLM   Df Residuals:                      148\n",
       "Model Family:                 Poisson   Df Model:                           17\n",
       "Link Function:                    log   Scale:                          1.0000\n",
       "Method:                          IRLS   Log-Likelihood:                -2095.0\n",
       "Date:                Wed, 11 Nov 2020   Deviance:                       3022.3\n",
       "Time:                        09:40:03   Pearson chi2:                 2.71e+03\n",
       "No. Iterations:                     7                                         \n",
       "Covariance Type:            nonrobust                                         \n",
       "======================================================================================================================\n",
       "                                                         coef    std err          z      P>|z|      [0.025      0.975]\n",
       "----------------------------------------------------------------------------------------------------------------------\n",
       "school_closing                                        -0.5743      0.030    -19.466      0.000      -0.632      -0.516\n",
       "workplace_closing                                      0.1010      0.023      4.447      0.000       0.056       0.145\n",
       "cancel_events                                          0.4956      0.153      3.242      0.001       0.196       0.795\n",
       "gatherings_restrictions                                0.4866      0.042     11.685      0.000       0.405       0.568\n",
       "stay_home_restrictions                                -0.3713      0.129     -2.888      0.004      -0.623      -0.119\n",
       "internal_movement_restrictions                         0.0589      0.035      1.689      0.091      -0.009       0.127\n",
       "international_movement_restrictions                   -0.0976      0.024     -4.065      0.000      -0.145      -0.051\n",
       "information_campaigns                                  1.0581      0.112      9.431      0.000       0.838       1.278\n",
       "retail_and_recreation_percent_change_from_baseline    -0.0384      0.002    -18.928      0.000      -0.042      -0.034\n",
       "grocery_and_pharmacy_percent_change_from_baseline      0.0173      0.001     14.871      0.000       0.015       0.020\n",
       "parks_percent_change_from_baseline                     0.0015      0.000      6.317      0.000       0.001       0.002\n",
       "transit_stations_percent_change_from_baseline         -0.0326      0.003    -10.095      0.000      -0.039      -0.026\n",
       "workplaces_percent_change_from_baseline                0.0259      0.002     16.146      0.000       0.023       0.029\n",
       "residential_percent_change_from_baseline               0.0140      0.004      3.741      0.000       0.007       0.021\n",
       "constant                                               0.5290      0.056      9.431      0.000       0.419       0.639\n",
       "mean_lag                                              -0.0475      0.004    -12.704      0.000      -0.055      -0.040\n",
       "is_weekday                                             0.2446      0.052      4.731      0.000       0.143       0.346\n",
       "is_winter                                           7.504e-17   4.37e-17      1.716      0.086   -1.06e-17    1.61e-16\n",
       "is_spring                                              0.1485      0.027      5.426      0.000       0.095       0.202\n",
       "is_summer                                             -0.2606      0.025    -10.566      0.000      -0.309      -0.212\n",
       "is_fall                                                0.6411      0.031     20.412      0.000       0.580       0.703\n",
       "======================================================================================================================\n",
       "\"\"\""
      ]
     },
     "execution_count": 160,
     "metadata": {},
     "output_type": "execute_result"
    }
   ],
   "source": [
    "poisson_training_results.summary()"
   ]
  },
  {
   "cell_type": "code",
   "execution_count": 161,
   "metadata": {},
   "outputs": [
    {
     "data": {
      "text/plain": [
       "school_closing                                       0.00000\n",
       "workplace_closing                                    0.00001\n",
       "cancel_events                                        0.00119\n",
       "gatherings_restrictions                              0.00000\n",
       "stay_home_restrictions                               0.00388\n",
       "internal_movement_restrictions                       0.09129\n",
       "international_movement_restrictions                  0.00005\n",
       "information_campaigns                                0.00000\n",
       "retail_and_recreation_percent_change_from_baseline   0.00000\n",
       "grocery_and_pharmacy_percent_change_from_baseline    0.00000\n",
       "parks_percent_change_from_baseline                   0.00000\n",
       "transit_stations_percent_change_from_baseline        0.00000\n",
       "workplaces_percent_change_from_baseline              0.00000\n",
       "residential_percent_change_from_baseline             0.00018\n",
       "constant                                             0.00000\n",
       "mean_lag                                             0.00000\n",
       "is_weekday                                           0.00000\n",
       "is_winter                                            0.08609\n",
       "is_spring                                            0.00000\n",
       "is_summer                                            0.00000\n",
       "is_fall                                              0.00000\n",
       "dtype: float64"
      ]
     },
     "execution_count": 161,
     "metadata": {},
     "output_type": "execute_result"
    }
   ],
   "source": [
    "poisson_training_results.pvalues"
   ]
  },
  {
   "cell_type": "code",
   "execution_count": 162,
   "metadata": {},
   "outputs": [
    {
     "name": "stdout",
     "output_type": "stream",
     "text": [
      "Poisson Regression rmse: 76.79059186648963\n"
     ]
    }
   ],
   "source": [
    "poi_pred = poisson_training_results.predict(Xpoi_test)\n",
    "poi_rmse = mean_squared_error(poi_pred, ypoi_test, squared=False)\n",
    "print('Poisson Regression rmse:',poi_rmse)"
   ]
  },
  {
   "cell_type": "code",
   "execution_count": null,
   "metadata": {},
   "outputs": [],
   "source": []
  },
  {
   "cell_type": "markdown",
   "metadata": {},
   "source": [
    "### $t^3$ trend removal regression"
   ]
  },
  {
   "cell_type": "code",
   "execution_count": 149,
   "metadata": {},
   "outputs": [
    {
     "data": {
      "text/plain": [
       "array([ 8.62665743e-04, -2.45567309e-01,  1.72775527e+01,  8.61388037e+01])"
      ]
     },
     "execution_count": 149,
     "metadata": {},
     "output_type": "execute_result"
    }
   ],
   "source": [
    "t_train = X3_train.day_num.values\n",
    "count_train = y7_train \n",
    "\n",
    "poly_model = np.polyfit(t_train, count_train, deg=3)\n",
    "poly_model"
   ]
  },
  {
   "cell_type": "code",
   "execution_count": 150,
   "metadata": {},
   "outputs": [
    {
     "name": "stderr",
     "output_type": "stream",
     "text": [
      "/Users/stephenbrock/anaconda3/lib/python3.6/site-packages/matplotlib/cbook/__init__.py:2019: FutureWarning: Support for multi-dimensional indexing (e.g. `obj[:, None]`) is deprecated and will be removed in a future version.  Convert to a numpy array before indexing instead.\n",
      "  x[:, None]\n",
      "/Users/stephenbrock/anaconda3/lib/python3.6/site-packages/matplotlib/axes/_base.py:251: FutureWarning: Support for multi-dimensional indexing (e.g. `obj[:, None]`) is deprecated and will be removed in a future version.  Convert to a numpy array before indexing instead.\n",
      "  y = y[:, np.newaxis]\n"
     ]
    },
    {
     "data": {
      "text/plain": [
       "[<matplotlib.lines.Line2D at 0x7fbe52963898>]"
      ]
     },
     "execution_count": 150,
     "metadata": {},
     "output_type": "execute_result"
    },
    {
     "data": {
      "image/png": "[encoded data removed]",
      "text/plain": [
       "<matplotlib.figure.Figure at 0x7fbe6b3b6c50>"
      ]
     },
     "metadata": {
      "needs_background": "light"
     },
     "output_type": "display_data"
    }
   ],
   "source": [
    "plt.plot(t_train, count_train)\n"
   ]
  },
  {
   "cell_type": "code",
   "execution_count": 151,
   "metadata": {},
   "outputs": [
    {
     "data": {
      "text/plain": [
       "[<matplotlib.lines.Line2D at 0x7fbe52b88438>]"
      ]
     },
     "execution_count": 151,
     "metadata": {},
     "output_type": "execute_result"
    },
    {
     "data": {
      "image/png": "[encoded data removed]",
      "text/plain": [
       "<matplotlib.figure.Figure at 0x7fbe6b72ba20>"
      ]
     },
     "metadata": {
      "needs_background": "light"
     },
     "output_type": "display_data"
    }
   ],
   "source": [
    "p = np.poly1d(poly_model)\n",
    "resp = p([i for i in range(230)])\n",
    "plt.plot([i for i in range(230)], resp)"
   ]
  },
  {
   "cell_type": "code",
   "execution_count": 152,
   "metadata": {},
   "outputs": [
    {
     "data": {
      "text/plain": [
       "<matplotlib.legend.Legend at 0x7fbe52cfb320>"
      ]
     },
     "execution_count": 152,
     "metadata": {},
     "output_type": "execute_result"
    },
    {
     "data": {
      "image/png": "[encoded data removed]",
      "text/plain": [
       "<matplotlib.figure.Figure at 0x7fbe5298b828>"
      ]
     },
     "metadata": {
      "needs_background": "light"
     },
     "output_type": "display_data"
    }
   ],
   "source": [
    "plt.figure(1)\n",
    "plt.plot([i for i in range(230)], resp)\n",
    "plt.plot(t_train, count_train)\n",
    "plt.legend()"
   ]
  },
  {
   "cell_type": "markdown",
   "metadata": {},
   "source": [
    "### Assume the $t^3$ curve is our best fit\n",
    "- We want to get the errors and predict the errors using our data"
   ]
  },
  {
   "cell_type": "code",
   "execution_count": 153,
   "metadata": {},
   "outputs": [],
   "source": [
    "t_errs = [np.array(count_train)[i] - resp[k] for i,k in enumerate(t_train)]"
   ]
  },
  {
   "cell_type": "code",
   "execution_count": 154,
   "metadata": {},
   "outputs": [
    {
     "data": {
      "text/plain": [
       "(array([ 1.,  2.,  6., 27., 30., 41., 30., 14.,  8.,  7.]),\n",
       " array([-247.62644705, -202.40608297, -157.18571889, -111.96535481,\n",
       "         -66.74499073,  -21.52462665,   23.69573743,   68.91610151,\n",
       "         114.13646559,  159.35682967,  204.57719375]),\n",
       " <a list of 10 Patch objects>)"
      ]
     },
     "execution_count": 154,
     "metadata": {},
     "output_type": "execute_result"
    },
    {
     "data": {
      "image/png": "[encoded data removed]",
      "text/plain": [
       "<matplotlib.figure.Figure at 0x7fbe52c57a20>"
      ]
     },
     "metadata": {
      "needs_background": "light"
     },
     "output_type": "display_data"
    }
   ],
   "source": [
    "plt.hist(t_errs)"
   ]
  },
  {
   "cell_type": "code",
   "execution_count": 155,
   "metadata": {},
   "outputs": [
    {
     "data": {
      "text/plain": [
       "Text(0.5,1,'errs vs day number')"
      ]
     },
     "execution_count": 155,
     "metadata": {},
     "output_type": "execute_result"
    },
    {
     "data": {
      "image/png": "[encoded data removed]",
      "text/plain": [
       "<matplotlib.figure.Figure at 0x7fbe52d60048>"
      ]
     },
     "metadata": {
      "needs_background": "light"
     },
     "output_type": "display_data"
    }
   ],
   "source": [
    "plt.plot(t_train,t_errs)\n",
    "plt.title('errs vs day number')"
   ]
  },
  {
   "cell_type": "markdown",
   "metadata": {},
   "source": [
    "### Linear model on residuals"
   ]
  },
  {
   "cell_type": "code",
   "execution_count": 156,
   "metadata": {},
   "outputs": [
    {
     "data": {
      "text/html": [
       "<table class=\"simpletable\">\n",
       "<caption>OLS Regression Results</caption>\n",
       "<tr>\n",
       "  <th>Dep. Variable:</th>            <td>y</td>        <th>  R-squared:         </th> <td>   0.251</td>\n",
       "</tr>\n",
       "<tr>\n",
       "  <th>Model:</th>                   <td>OLS</td>       <th>  Adj. R-squared:    </th> <td>   0.160</td>\n",
       "</tr>\n",
       "<tr>\n",
       "  <th>Method:</th>             <td>Least Squares</td>  <th>  F-statistic:       </th> <td>   2.741</td>\n",
       "</tr>\n",
       "<tr>\n",
       "  <th>Date:</th>             <td>Wed, 11 Nov 2020</td> <th>  Prob (F-statistic):</th> <td>0.000446</td>\n",
       "</tr>\n",
       "<tr>\n",
       "  <th>Time:</th>                 <td>09:38:06</td>     <th>  Log-Likelihood:    </th> <td> -939.69</td>\n",
       "</tr>\n",
       "<tr>\n",
       "  <th>No. Observations:</th>      <td>   166</td>      <th>  AIC:               </th> <td>   1917.</td>\n",
       "</tr>\n",
       "<tr>\n",
       "  <th>Df Residuals:</th>          <td>   147</td>      <th>  BIC:               </th> <td>   1977.</td>\n",
       "</tr>\n",
       "<tr>\n",
       "  <th>Df Model:</th>              <td>    18</td>      <th>                     </th>     <td> </td>   \n",
       "</tr>\n",
       "<tr>\n",
       "  <th>Covariance Type:</th>      <td>nonrobust</td>    <th>                     </th>     <td> </td>   \n",
       "</tr>\n",
       "</table>\n",
       "<table class=\"simpletable\">\n",
       "<tr>\n",
       "                           <td></td>                             <th>coef</th>     <th>std err</th>      <th>t</th>      <th>P>|t|</th>  <th>[0.025</th>    <th>0.975]</th>  \n",
       "</tr>\n",
       "<tr>\n",
       "  <th>school_closing</th>                                     <td>  -29.8727</td> <td>   34.660</td> <td>   -0.862</td> <td> 0.390</td> <td>  -98.368</td> <td>   38.623</td>\n",
       "</tr>\n",
       "<tr>\n",
       "  <th>workplace_closing</th>                                  <td>  -93.1385</td> <td>   21.096</td> <td>   -4.415</td> <td> 0.000</td> <td> -134.830</td> <td>  -51.447</td>\n",
       "</tr>\n",
       "<tr>\n",
       "  <th>cancel_events</th>                                      <td>    3.1607</td> <td>   53.132</td> <td>    0.059</td> <td> 0.953</td> <td> -101.840</td> <td>  108.161</td>\n",
       "</tr>\n",
       "<tr>\n",
       "  <th>gatherings_restrictions</th>                            <td>   43.3228</td> <td>   46.170</td> <td>    0.938</td> <td> 0.350</td> <td>  -47.920</td> <td>  134.565</td>\n",
       "</tr>\n",
       "<tr>\n",
       "  <th>stay_home_restrictions</th>                             <td> -111.9788</td> <td>   92.033</td> <td>   -1.217</td> <td> 0.226</td> <td> -293.858</td> <td>   69.900</td>\n",
       "</tr>\n",
       "<tr>\n",
       "  <th>internal_movement_restrictions</th>                     <td>   39.6266</td> <td>   32.566</td> <td>    1.217</td> <td> 0.226</td> <td>  -24.731</td> <td>  103.984</td>\n",
       "</tr>\n",
       "<tr>\n",
       "  <th>international_movement_restrictions</th>                <td>   47.2210</td> <td>   20.226</td> <td>    2.335</td> <td> 0.021</td> <td>    7.249</td> <td>   87.193</td>\n",
       "</tr>\n",
       "<tr>\n",
       "  <th>information_campaigns</th>                              <td>  -94.8033</td> <td>   46.322</td> <td>   -2.047</td> <td> 0.042</td> <td> -186.346</td> <td>   -3.261</td>\n",
       "</tr>\n",
       "<tr>\n",
       "  <th>retail_and_recreation_percent_change_from_baseline</th> <td>   -0.3325</td> <td>    2.435</td> <td>   -0.137</td> <td> 0.892</td> <td>   -5.144</td> <td>    4.479</td>\n",
       "</tr>\n",
       "<tr>\n",
       "  <th>grocery_and_pharmacy_percent_change_from_baseline</th>  <td>   -0.3339</td> <td>    1.541</td> <td>   -0.217</td> <td> 0.829</td> <td>   -3.380</td> <td>    2.712</td>\n",
       "</tr>\n",
       "<tr>\n",
       "  <th>parks_percent_change_from_baseline</th>                 <td>    0.3354</td> <td>    0.262</td> <td>    1.281</td> <td> 0.202</td> <td>   -0.182</td> <td>    0.853</td>\n",
       "</tr>\n",
       "<tr>\n",
       "  <th>transit_stations_percent_change_from_baseline</th>      <td>   -4.0287</td> <td>    3.871</td> <td>   -1.041</td> <td> 0.300</td> <td>  -11.679</td> <td>    3.622</td>\n",
       "</tr>\n",
       "<tr>\n",
       "  <th>workplaces_percent_change_from_baseline</th>            <td>    2.1340</td> <td>    2.026</td> <td>    1.053</td> <td> 0.294</td> <td>   -1.871</td> <td>    6.139</td>\n",
       "</tr>\n",
       "<tr>\n",
       "  <th>residential_percent_change_from_baseline</th>           <td>    3.5818</td> <td>    5.176</td> <td>    0.692</td> <td> 0.490</td> <td>   -6.647</td> <td>   13.811</td>\n",
       "</tr>\n",
       "<tr>\n",
       "  <th>day_num</th>                                            <td>    0.1988</td> <td>    0.505</td> <td>    0.394</td> <td> 0.694</td> <td>   -0.800</td> <td>    1.197</td>\n",
       "</tr>\n",
       "<tr>\n",
       "  <th>constant</th>                                           <td>  -47.4016</td> <td>   23.161</td> <td>   -2.047</td> <td> 0.042</td> <td>  -93.173</td> <td>   -1.630</td>\n",
       "</tr>\n",
       "<tr>\n",
       "  <th>mean_lag</th>                                           <td>    3.8829</td> <td>    5.207</td> <td>    0.746</td> <td> 0.457</td> <td>   -6.407</td> <td>   14.173</td>\n",
       "</tr>\n",
       "<tr>\n",
       "  <th>is_weekday</th>                                         <td>   -5.6912</td> <td>   66.827</td> <td>   -0.085</td> <td> 0.932</td> <td> -137.757</td> <td>  126.375</td>\n",
       "</tr>\n",
       "<tr>\n",
       "  <th>is_winter</th>                                          <td>  1.57e-14</td> <td> 8.75e-15</td> <td>    1.795</td> <td> 0.075</td> <td>-1.59e-15</td> <td>  3.3e-14</td>\n",
       "</tr>\n",
       "<tr>\n",
       "  <th>is_spring</th>                                          <td>   22.5664</td> <td>   24.342</td> <td>    0.927</td> <td> 0.355</td> <td>  -25.538</td> <td>   70.671</td>\n",
       "</tr>\n",
       "<tr>\n",
       "  <th>is_summer</th>                                          <td>  -35.0655</td> <td>   18.686</td> <td>   -1.877</td> <td> 0.063</td> <td>  -71.992</td> <td>    1.862</td>\n",
       "</tr>\n",
       "<tr>\n",
       "  <th>is_fall</th>                                            <td>  -34.9026</td> <td>   30.686</td> <td>   -1.137</td> <td> 0.257</td> <td>  -95.546</td> <td>   25.740</td>\n",
       "</tr>\n",
       "</table>\n",
       "<table class=\"simpletable\">\n",
       "<tr>\n",
       "  <th>Omnibus:</th>       <td> 5.020</td> <th>  Durbin-Watson:     </th> <td>   1.492</td>\n",
       "</tr>\n",
       "<tr>\n",
       "  <th>Prob(Omnibus):</th> <td> 0.081</td> <th>  Jarque-Bera (JB):  </th> <td>   6.672</td>\n",
       "</tr>\n",
       "<tr>\n",
       "  <th>Skew:</th>          <td>-0.114</td> <th>  Prob(JB):          </th> <td>  0.0356</td>\n",
       "</tr>\n",
       "<tr>\n",
       "  <th>Kurtosis:</th>      <td> 3.956</td> <th>  Cond. No.          </th> <td>7.55e+20</td>\n",
       "</tr>\n",
       "</table><br/><br/>Notes:<br/>[1] Standard Errors assume that the covariance matrix of the errors is correctly specified.<br/>[2] The smallest eigenvalue is 8.23e-36. This might indicate that there are<br/>strong multicollinearity problems or that the design matrix is singular."
      ],
      "text/plain": [
       "<class 'statsmodels.iolib.summary.Summary'>\n",
       "\"\"\"\n",
       "                            OLS Regression Results                            \n",
       "==============================================================================\n",
       "Dep. Variable:                      y   R-squared:                       0.251\n",
       "Model:                            OLS   Adj. R-squared:                  0.160\n",
       "Method:                 Least Squares   F-statistic:                     2.741\n",
       "Date:                Wed, 11 Nov 2020   Prob (F-statistic):           0.000446\n",
       "Time:                        09:38:06   Log-Likelihood:                -939.69\n",
       "No. Observations:                 166   AIC:                             1917.\n",
       "Df Residuals:                     147   BIC:                             1977.\n",
       "Df Model:                          18                                         \n",
       "Covariance Type:            nonrobust                                         \n",
       "======================================================================================================================\n",
       "                                                         coef    std err          t      P>|t|      [0.025      0.975]\n",
       "----------------------------------------------------------------------------------------------------------------------\n",
       "school_closing                                       -29.8727     34.660     -0.862      0.390     -98.368      38.623\n",
       "workplace_closing                                    -93.1385     21.096     -4.415      0.000    -134.830     -51.447\n",
       "cancel_events                                          3.1607     53.132      0.059      0.953    -101.840     108.161\n",
       "gatherings_restrictions                               43.3228     46.170      0.938      0.350     -47.920     134.565\n",
       "stay_home_restrictions                              -111.9788     92.033     -1.217      0.226    -293.858      69.900\n",
       "internal_movement_restrictions                        39.6266     32.566      1.217      0.226     -24.731     103.984\n",
       "international_movement_restrictions                   47.2210     20.226      2.335      0.021       7.249      87.193\n",
       "information_campaigns                                -94.8033     46.322     -2.047      0.042    -186.346      -3.261\n",
       "retail_and_recreation_percent_change_from_baseline    -0.3325      2.435     -0.137      0.892      -5.144       4.479\n",
       "grocery_and_pharmacy_percent_change_from_baseline     -0.3339      1.541     -0.217      0.829      -3.380       2.712\n",
       "parks_percent_change_from_baseline                     0.3354      0.262      1.281      0.202      -0.182       0.853\n",
       "transit_stations_percent_change_from_baseline         -4.0287      3.871     -1.041      0.300     -11.679       3.622\n",
       "workplaces_percent_change_from_baseline                2.1340      2.026      1.053      0.294      -1.871       6.139\n",
       "residential_percent_change_from_baseline               3.5818      5.176      0.692      0.490      -6.647      13.811\n",
       "day_num                                                0.1988      0.505      0.394      0.694      -0.800       1.197\n",
       "constant                                             -47.4016     23.161     -2.047      0.042     -93.173      -1.630\n",
       "mean_lag                                               3.8829      5.207      0.746      0.457      -6.407      14.173\n",
       "is_weekday                                            -5.6912     66.827     -0.085      0.932    -137.757     126.375\n",
       "is_winter                                            1.57e-14   8.75e-15      1.795      0.075   -1.59e-15     3.3e-14\n",
       "is_spring                                             22.5664     24.342      0.927      0.355     -25.538      70.671\n",
       "is_summer                                            -35.0655     18.686     -1.877      0.063     -71.992       1.862\n",
       "is_fall                                              -34.9026     30.686     -1.137      0.257     -95.546      25.740\n",
       "==============================================================================\n",
       "Omnibus:                        5.020   Durbin-Watson:                   1.492\n",
       "Prob(Omnibus):                  0.081   Jarque-Bera (JB):                6.672\n",
       "Skew:                          -0.114   Prob(JB):                       0.0356\n",
       "Kurtosis:                       3.956   Cond. No.                     7.55e+20\n",
       "==============================================================================\n",
       "\n",
       "Notes:\n",
       "[1] Standard Errors assume that the covariance matrix of the errors is correctly specified.\n",
       "[2] The smallest eigenvalue is 8.23e-36. This might indicate that there are\n",
       "strong multicollinearity problems or that the design matrix is singular.\n",
       "\"\"\""
      ]
     },
     "execution_count": 156,
     "metadata": {},
     "output_type": "execute_result"
    }
   ],
   "source": [
    "t_err_lr = sm.OLS(t_errs, Xpoi_train)\n",
    "t_err_lr_fit = t_err_lr.fit()\n",
    "t_err_lr_fit.summary()"
   ]
  },
  {
   "cell_type": "markdown",
   "metadata": {},
   "source": [
    "### Poisson model on residuals"
   ]
  },
  {
   "cell_type": "code",
   "execution_count": 157,
   "metadata": {},
   "outputs": [
    {
     "name": "stderr",
     "output_type": "stream",
     "text": [
      "/Users/stephenbrock/anaconda3/lib/python3.6/site-packages/statsmodels/genmod/families/family.py:428: RuntimeWarning: divide by zero encountered in true_divide\n",
      "  endog_mu = self._clean(endog / mu)\n",
      "/Users/stephenbrock/anaconda3/lib/python3.6/site-packages/statsmodels/genmod/families/family.py:134: RuntimeWarning: divide by zero encountered in true_divide\n",
      "  return 1. / (self.link.deriv(mu)**2 * self.variance(mu))\n"
     ]
    },
    {
     "ename": "ValueError",
     "evalue": "NaN, inf or invalid value detected in weights, estimation infeasible.",
     "output_type": "error",
     "traceback": [
      "\u001b[0;31m---------------------------------------------------------------------------\u001b[0m",
      "\u001b[0;31mValueError\u001b[0m                                Traceback (most recent call last)",
      "\u001b[0;32m<ipython-input-157-b7484aa52246>\u001b[0m in \u001b[0;36m<module>\u001b[0;34m\u001b[0m\n\u001b[0;32m----> 1\u001b[0;31m \u001b[0mpoisson_errs\u001b[0m \u001b[0;34m=\u001b[0m \u001b[0msm\u001b[0m\u001b[0;34m.\u001b[0m\u001b[0mGLM\u001b[0m\u001b[0;34m(\u001b[0m\u001b[0mt_errs\u001b[0m\u001b[0;34m,\u001b[0m \u001b[0mXpoi_train\u001b[0m\u001b[0;34m,\u001b[0m \u001b[0mfamily\u001b[0m\u001b[0;34m=\u001b[0m\u001b[0msm\u001b[0m\u001b[0;34m.\u001b[0m\u001b[0mfamilies\u001b[0m\u001b[0;34m.\u001b[0m\u001b[0mPoisson\u001b[0m\u001b[0;34m(\u001b[0m\u001b[0;34m)\u001b[0m\u001b[0;34m)\u001b[0m\u001b[0;34m.\u001b[0m\u001b[0mfit\u001b[0m\u001b[0;34m(\u001b[0m\u001b[0;34m)\u001b[0m\u001b[0;34m\u001b[0m\u001b[0m\n\u001b[0m\u001b[1;32m      2\u001b[0m \u001b[0;31m# poisson_errs.summary()\u001b[0m\u001b[0;34m\u001b[0m\u001b[0;34m\u001b[0m\u001b[0m\n",
      "\u001b[0;32m~/anaconda3/lib/python3.6/site-packages/statsmodels/genmod/generalized_linear_model.py\u001b[0m in \u001b[0;36mfit\u001b[0;34m(self, start_params, maxiter, method, tol, scale, cov_type, cov_kwds, use_t, full_output, disp, max_start_irls, **kwargs)\u001b[0m\n\u001b[1;32m   1063\u001b[0m             return self._fit_irls(start_params=start_params, maxiter=maxiter,\n\u001b[1;32m   1064\u001b[0m                                   \u001b[0mtol\u001b[0m\u001b[0;34m=\u001b[0m\u001b[0mtol\u001b[0m\u001b[0;34m,\u001b[0m \u001b[0mscale\u001b[0m\u001b[0;34m=\u001b[0m\u001b[0mscale\u001b[0m\u001b[0;34m,\u001b[0m \u001b[0mcov_type\u001b[0m\u001b[0;34m=\u001b[0m\u001b[0mcov_type\u001b[0m\u001b[0;34m,\u001b[0m\u001b[0;34m\u001b[0m\u001b[0m\n\u001b[0;32m-> 1065\u001b[0;31m                                   cov_kwds=cov_kwds, use_t=use_t, **kwargs)\n\u001b[0m\u001b[1;32m   1066\u001b[0m         \u001b[0;32melse\u001b[0m\u001b[0;34m:\u001b[0m\u001b[0;34m\u001b[0m\u001b[0m\n\u001b[1;32m   1067\u001b[0m             \u001b[0mself\u001b[0m\u001b[0;34m.\u001b[0m\u001b[0m_optim_hessian\u001b[0m \u001b[0;34m=\u001b[0m \u001b[0mkwargs\u001b[0m\u001b[0;34m.\u001b[0m\u001b[0mget\u001b[0m\u001b[0;34m(\u001b[0m\u001b[0;34m'optim_hessian'\u001b[0m\u001b[0;34m)\u001b[0m\u001b[0;34m\u001b[0m\u001b[0m\n",
      "\u001b[0;32m~/anaconda3/lib/python3.6/site-packages/statsmodels/genmod/generalized_linear_model.py\u001b[0m in \u001b[0;36m_fit_irls\u001b[0;34m(self, start_params, maxiter, tol, scale, cov_type, cov_kwds, use_t, **kwargs)\u001b[0m\n\u001b[1;32m   1200\u001b[0m             wls_mod = reg_tools._MinimalWLS(wlsendog, wlsexog,\n\u001b[1;32m   1201\u001b[0m                                             \u001b[0mself\u001b[0m\u001b[0;34m.\u001b[0m\u001b[0mweights\u001b[0m\u001b[0;34m,\u001b[0m \u001b[0mcheck_endog\u001b[0m\u001b[0;34m=\u001b[0m\u001b[0;32mTrue\u001b[0m\u001b[0;34m,\u001b[0m\u001b[0;34m\u001b[0m\u001b[0m\n\u001b[0;32m-> 1202\u001b[0;31m                                             check_weights=True)\n\u001b[0m\u001b[1;32m   1203\u001b[0m             \u001b[0mwls_results\u001b[0m \u001b[0;34m=\u001b[0m \u001b[0mwls_mod\u001b[0m\u001b[0;34m.\u001b[0m\u001b[0mfit\u001b[0m\u001b[0;34m(\u001b[0m\u001b[0mmethod\u001b[0m\u001b[0;34m=\u001b[0m\u001b[0mwls_method\u001b[0m\u001b[0;34m)\u001b[0m\u001b[0;34m\u001b[0m\u001b[0m\n\u001b[1;32m   1204\u001b[0m             \u001b[0mlin_pred\u001b[0m \u001b[0;34m=\u001b[0m \u001b[0mnp\u001b[0m\u001b[0;34m.\u001b[0m\u001b[0mdot\u001b[0m\u001b[0;34m(\u001b[0m\u001b[0mself\u001b[0m\u001b[0;34m.\u001b[0m\u001b[0mexog\u001b[0m\u001b[0;34m,\u001b[0m \u001b[0mwls_results\u001b[0m\u001b[0;34m.\u001b[0m\u001b[0mparams\u001b[0m\u001b[0;34m)\u001b[0m\u001b[0;34m\u001b[0m\u001b[0m\n",
      "\u001b[0;32m~/anaconda3/lib/python3.6/site-packages/statsmodels/regression/_tools.py\u001b[0m in \u001b[0;36m__init__\u001b[0;34m(self, endog, exog, weights, check_endog, check_weights)\u001b[0m\n\u001b[1;32m     46\u001b[0m         \u001b[0;32mif\u001b[0m \u001b[0mcheck_weights\u001b[0m\u001b[0;34m:\u001b[0m\u001b[0;34m\u001b[0m\u001b[0m\n\u001b[1;32m     47\u001b[0m             \u001b[0;32mif\u001b[0m \u001b[0;32mnot\u001b[0m \u001b[0mnp\u001b[0m\u001b[0;34m.\u001b[0m\u001b[0mall\u001b[0m\u001b[0;34m(\u001b[0m\u001b[0mnp\u001b[0m\u001b[0;34m.\u001b[0m\u001b[0misfinite\u001b[0m\u001b[0;34m(\u001b[0m\u001b[0mw_half\u001b[0m\u001b[0;34m)\u001b[0m\u001b[0;34m)\u001b[0m\u001b[0;34m:\u001b[0m\u001b[0;34m\u001b[0m\u001b[0m\n\u001b[0;32m---> 48\u001b[0;31m                 \u001b[0;32mraise\u001b[0m \u001b[0mValueError\u001b[0m\u001b[0;34m(\u001b[0m\u001b[0mself\u001b[0m\u001b[0;34m.\u001b[0m\u001b[0mmsg\u001b[0m\u001b[0;34m.\u001b[0m\u001b[0mformat\u001b[0m\u001b[0;34m(\u001b[0m\u001b[0;34m'weights'\u001b[0m\u001b[0;34m)\u001b[0m\u001b[0;34m)\u001b[0m\u001b[0;34m\u001b[0m\u001b[0m\n\u001b[0m\u001b[1;32m     49\u001b[0m \u001b[0;34m\u001b[0m\u001b[0m\n\u001b[1;32m     50\u001b[0m         \u001b[0;32mif\u001b[0m \u001b[0mcheck_endog\u001b[0m\u001b[0;34m:\u001b[0m\u001b[0;34m\u001b[0m\u001b[0m\n",
      "\u001b[0;31mValueError\u001b[0m: NaN, inf or invalid value detected in weights, estimation infeasible."
     ]
    }
   ],
   "source": [
    "poisson_errs = sm.GLM(t_errs, Xpoi_train, family=sm.families.Poisson()).fit()\n",
    "# poisson_errs.summary()\n"
   ]
  },
  {
   "cell_type": "markdown",
   "metadata": {},
   "source": [
    "Cannot do Poisson regression on negative residuals!"
   ]
  },
  {
   "cell_type": "code",
   "execution_count": null,
   "metadata": {},
   "outputs": [],
   "source": []
  },
  {
   "cell_type": "markdown",
   "metadata": {},
   "source": [
    "## US Data"
   ]
  },
  {
   "cell_type": "code",
   "execution_count": null,
   "metadata": {},
   "outputs": [],
   "source": [
    "usa = pd.read_csv('../Datasets/data_usa2.csv')"
   ]
  },
  {
   "cell_type": "code",
   "execution_count": null,
   "metadata": {},
   "outputs": [],
   "source": [
    "usa.head()"
   ]
  },
  {
   "cell_type": "code",
   "execution_count": null,
   "metadata": {},
   "outputs": [],
   "source": [
    "# use the top 4 to compare closings\n",
    "states1 = usa.key_google_mobility.unique()[:4]\n",
    "states1"
   ]
  },
  {
   "cell_type": "code",
   "execution_count": null,
   "metadata": {},
   "outputs": [],
   "source": [
    "usa.columns"
   ]
  },
  {
   "cell_type": "code",
   "execution_count": null,
   "metadata": {},
   "outputs": [],
   "source": [
    "lockdown_procs = ['school_closing', 'workplace_closing', 'cancel_events',\n",
    "       'gatherings_restrictions', 'transport_closing',\n",
    "       'stay_home_restrictions', 'internal_movement_restrictions','international_movement_restrictions']"
   ]
  },
  {
   "cell_type": "code",
   "execution_count": null,
   "metadata": {},
   "outputs": [],
   "source": [
    "temp = usa[usa.key_google_mobility.isin(states1)][lockdown_procs+['date']].dropna()\n",
    "for i, p in enumerate(lockdown_procs):\n",
    "    temp[['date']+[p]].plot()"
   ]
  },
  {
   "cell_type": "code",
   "execution_count": null,
   "metadata": {},
   "outputs": [],
   "source": [
    "# USA is also country wide"
   ]
  },
  {
   "cell_type": "code",
   "execution_count": null,
   "metadata": {},
   "outputs": [],
   "source": [
    "# weekly mobility data\n"
   ]
  },
  {
   "cell_type": "code",
   "execution_count": null,
   "metadata": {},
   "outputs": [],
   "source": []
  }
 ],
 "metadata": {
  "kernelspec": {
   "display_name": "Python 3",
   "language": "python",
   "name": "python3"
  },
  "language_info": {
   "codemirror_mode": {
    "name": "ipython",
    "version": 3
   },
   "file_extension": ".py",
   "mimetype": "text/x-python",
   "name": "python",
   "nbconvert_exporter": "python",
   "pygments_lexer": "ipython3",
   "version": "3.6.4"
  }
 },
 "nbformat": 4,
 "nbformat_minor": 2
}
