{
 "cells": [
  {
   "cell_type": "code",
   "execution_count": 1,
   "metadata": {},
   "outputs": [],
   "source": [
    "import pandas as pd\n",
    "from datetime import datetime\n",
    "from datetime import timedelta\n",
    "import numpy as np\n",
    "import matplotlib.pyplot as plt"
   ]
  },
  {
   "cell_type": "code",
   "execution_count": 2,
   "metadata": {},
   "outputs": [],
   "source": [
    "on_new = pd.read_csv(\"Data/on_covid19.csv\")\n",
    "on_events = pd.read_csv(\"Data/on_events.csv\")\n",
    "on_mobil = pd.read_csv(\"Data/ontario.csv\")"
   ]
  },
  {
   "cell_type": "code",
   "execution_count": 3,
   "metadata": {},
   "outputs": [
    {
     "data": {
      "text/html": [
       "<div>\n",
       "<style scoped>\n",
       "    .dataframe tbody tr th:only-of-type {\n",
       "        vertical-align: middle;\n",
       "    }\n",
       "\n",
       "    .dataframe tbody tr th {\n",
       "        vertical-align: top;\n",
       "    }\n",
       "\n",
       "    .dataframe thead th {\n",
       "        text-align: right;\n",
       "    }\n",
       "</style>\n",
       "<table border=\"1\" class=\"dataframe\">\n",
       "  <thead>\n",
       "    <tr style=\"text-align: right;\">\n",
       "      <th></th>\n",
       "      <th>category</th>\n",
       "      <th>New cases</th>\n",
       "    </tr>\n",
       "  </thead>\n",
       "  <tbody>\n",
       "    <tr>\n",
       "      <th>0</th>\n",
       "      <td>2020-01-30T00:00:00</td>\n",
       "      <td>1</td>\n",
       "    </tr>\n",
       "    <tr>\n",
       "      <th>1</th>\n",
       "      <td>2020-01-31T00:00:00</td>\n",
       "      <td>0</td>\n",
       "    </tr>\n",
       "    <tr>\n",
       "      <th>2</th>\n",
       "      <td>2020-02-03T00:00:00</td>\n",
       "      <td>1</td>\n",
       "    </tr>\n",
       "    <tr>\n",
       "      <th>3</th>\n",
       "      <td>2020-02-04T00:00:00</td>\n",
       "      <td>0</td>\n",
       "    </tr>\n",
       "    <tr>\n",
       "      <th>4</th>\n",
       "      <td>2020-02-05T00:00:00</td>\n",
       "      <td>0</td>\n",
       "    </tr>\n",
       "  </tbody>\n",
       "</table>\n",
       "</div>"
      ],
      "text/plain": [
       "              category  New cases\n",
       "0  2020-01-30T00:00:00          1\n",
       "1  2020-01-31T00:00:00          0\n",
       "2  2020-02-03T00:00:00          1\n",
       "3  2020-02-04T00:00:00          0\n",
       "4  2020-02-05T00:00:00          0"
      ]
     },
     "execution_count": 3,
     "metadata": {},
     "output_type": "execute_result"
    }
   ],
   "source": [
    "on_new.head()"
   ]
  },
  {
   "cell_type": "code",
   "execution_count": 4,
   "metadata": {},
   "outputs": [],
   "source": [
    "on_new.columns = [\"date\", \"new\"]"
   ]
  },
  {
   "cell_type": "code",
   "execution_count": 5,
   "metadata": {},
   "outputs": [
    {
     "data": {
      "text/plain": [
       "str"
      ]
     },
     "execution_count": 5,
     "metadata": {},
     "output_type": "execute_result"
    }
   ],
   "source": [
    "type(on_new[\"date\"][1])"
   ]
  },
  {
   "cell_type": "code",
   "execution_count": 6,
   "metadata": {},
   "outputs": [
    {
     "data": {
      "text/plain": [
       "'2020-10-04T00:00:00'"
      ]
     },
     "execution_count": 6,
     "metadata": {},
     "output_type": "execute_result"
    }
   ],
   "source": [
    "max(on_new.date)"
   ]
  },
  {
   "cell_type": "code",
   "execution_count": 7,
   "metadata": {},
   "outputs": [],
   "source": [
    "on_new = on_new.assign(date = lambda x: x['date'].map(lambda d: d[:10]))\n",
    "#on_new['date'] = [d[:10] for d in on_new.date.values]"
   ]
  },
  {
   "cell_type": "code",
   "execution_count": 8,
   "metadata": {},
   "outputs": [
    {
     "data": {
      "text/html": [
       "<div>\n",
       "<style scoped>\n",
       "    .dataframe tbody tr th:only-of-type {\n",
       "        vertical-align: middle;\n",
       "    }\n",
       "\n",
       "    .dataframe tbody tr th {\n",
       "        vertical-align: top;\n",
       "    }\n",
       "\n",
       "    .dataframe thead th {\n",
       "        text-align: right;\n",
       "    }\n",
       "</style>\n",
       "<table border=\"1\" class=\"dataframe\">\n",
       "  <thead>\n",
       "    <tr style=\"text-align: right;\">\n",
       "      <th></th>\n",
       "      <th>date</th>\n",
       "      <th>new</th>\n",
       "    </tr>\n",
       "  </thead>\n",
       "  <tbody>\n",
       "    <tr>\n",
       "      <th>0</th>\n",
       "      <td>2020-01-30</td>\n",
       "      <td>1</td>\n",
       "    </tr>\n",
       "    <tr>\n",
       "      <th>1</th>\n",
       "      <td>2020-01-31</td>\n",
       "      <td>0</td>\n",
       "    </tr>\n",
       "    <tr>\n",
       "      <th>2</th>\n",
       "      <td>2020-02-03</td>\n",
       "      <td>1</td>\n",
       "    </tr>\n",
       "    <tr>\n",
       "      <th>3</th>\n",
       "      <td>2020-02-04</td>\n",
       "      <td>0</td>\n",
       "    </tr>\n",
       "    <tr>\n",
       "      <th>4</th>\n",
       "      <td>2020-02-05</td>\n",
       "      <td>0</td>\n",
       "    </tr>\n",
       "  </tbody>\n",
       "</table>\n",
       "</div>"
      ],
      "text/plain": [
       "         date  new\n",
       "0  2020-01-30    1\n",
       "1  2020-01-31    0\n",
       "2  2020-02-03    1\n",
       "3  2020-02-04    0\n",
       "4  2020-02-05    0"
      ]
     },
     "execution_count": 8,
     "metadata": {},
     "output_type": "execute_result"
    }
   ],
   "source": [
    "on_new.head()"
   ]
  },
  {
   "cell_type": "code",
   "execution_count": 9,
   "metadata": {},
   "outputs": [],
   "source": [
    "first_date = min(on_new.date.values)\n",
    "last_date = max(on_new.date.values)\n",
    "in_btw_dates = pd.date_range(start=first_date, end=last_date).values"
   ]
  },
  {
   "cell_type": "code",
   "execution_count": 10,
   "metadata": {},
   "outputs": [],
   "source": [
    "in_btw_dates = [str(d)[:10] for d in in_btw_dates]"
   ]
  },
  {
   "cell_type": "code",
   "execution_count": 11,
   "metadata": {},
   "outputs": [
    {
     "data": {
      "text/plain": [
       "249"
      ]
     },
     "execution_count": 11,
     "metadata": {},
     "output_type": "execute_result"
    }
   ],
   "source": [
    "len(in_btw_dates)"
   ]
  },
  {
   "cell_type": "code",
   "execution_count": 12,
   "metadata": {},
   "outputs": [
    {
     "data": {
      "text/plain": [
       "(239, 2)"
      ]
     },
     "execution_count": 12,
     "metadata": {},
     "output_type": "execute_result"
    }
   ],
   "source": [
    "on_new.shape"
   ]
  },
  {
   "cell_type": "code",
   "execution_count": 13,
   "metadata": {},
   "outputs": [],
   "source": [
    "dates = pd.DataFrame({'date':in_btw_dates})\n",
    "on_new = on_new.merge(right=dates, how='right', on='date')"
   ]
  },
  {
   "cell_type": "code",
   "execution_count": 14,
   "metadata": {},
   "outputs": [
    {
     "data": {
      "text/plain": [
       "(249, 2)"
      ]
     },
     "execution_count": 14,
     "metadata": {},
     "output_type": "execute_result"
    }
   ],
   "source": [
    "on_new.shape"
   ]
  },
  {
   "cell_type": "code",
   "execution_count": 15,
   "metadata": {},
   "outputs": [
    {
     "data": {
      "text/plain": [
       "date     0\n",
       "new     10\n",
       "dtype: int64"
      ]
     },
     "execution_count": 15,
     "metadata": {},
     "output_type": "execute_result"
    }
   ],
   "source": [
    "pd.isnull(on_new).sum()"
   ]
  },
  {
   "cell_type": "code",
   "execution_count": 16,
   "metadata": {},
   "outputs": [],
   "source": [
    "on_new = on_new.fillna(value=0)"
   ]
  },
  {
   "cell_type": "code",
   "execution_count": 17,
   "metadata": {},
   "outputs": [
    {
     "data": {
      "text/plain": [
       "date    0\n",
       "new     0\n",
       "dtype: int64"
      ]
     },
     "execution_count": 17,
     "metadata": {},
     "output_type": "execute_result"
    }
   ],
   "source": [
    "pd.isnull(on_new).sum()"
   ]
  },
  {
   "cell_type": "code",
   "execution_count": 18,
   "metadata": {},
   "outputs": [
    {
     "data": {
      "text/html": [
       "<div>\n",
       "<style scoped>\n",
       "    .dataframe tbody tr th:only-of-type {\n",
       "        vertical-align: middle;\n",
       "    }\n",
       "\n",
       "    .dataframe tbody tr th {\n",
       "        vertical-align: top;\n",
       "    }\n",
       "\n",
       "    .dataframe thead th {\n",
       "        text-align: right;\n",
       "    }\n",
       "</style>\n",
       "<table border=\"1\" class=\"dataframe\">\n",
       "  <thead>\n",
       "    <tr style=\"text-align: right;\">\n",
       "      <th></th>\n",
       "      <th>province</th>\n",
       "      <th>region</th>\n",
       "      <th>date</th>\n",
       "      <th>retail_and_recreation_percent_change_from_baseline</th>\n",
       "      <th>grocery_and_pharmacy_percent_change_from_baseline</th>\n",
       "      <th>parks_percent_change_from_baseline</th>\n",
       "      <th>transit_stations_percent_change_from_baseline</th>\n",
       "      <th>workplaces_percent_change_from_baseline</th>\n",
       "      <th>residential_percent_change_from_baseline</th>\n",
       "    </tr>\n",
       "  </thead>\n",
       "  <tbody>\n",
       "    <tr>\n",
       "      <th>0</th>\n",
       "      <td>Ontario</td>\n",
       "      <td>Algoma District</td>\n",
       "      <td>2020-02-15</td>\n",
       "      <td>0.0</td>\n",
       "      <td>0.0</td>\n",
       "      <td>23.0</td>\n",
       "      <td>8.0</td>\n",
       "      <td>-2.0</td>\n",
       "      <td>0.0</td>\n",
       "    </tr>\n",
       "    <tr>\n",
       "      <th>1</th>\n",
       "      <td>Ontario</td>\n",
       "      <td>Algoma District</td>\n",
       "      <td>2020-02-16</td>\n",
       "      <td>5.0</td>\n",
       "      <td>-1.0</td>\n",
       "      <td>NaN</td>\n",
       "      <td>-3.0</td>\n",
       "      <td>-5.0</td>\n",
       "      <td>0.0</td>\n",
       "    </tr>\n",
       "    <tr>\n",
       "      <th>2</th>\n",
       "      <td>Ontario</td>\n",
       "      <td>Algoma District</td>\n",
       "      <td>2020-02-17</td>\n",
       "      <td>-51.0</td>\n",
       "      <td>-66.0</td>\n",
       "      <td>NaN</td>\n",
       "      <td>-28.0</td>\n",
       "      <td>-66.0</td>\n",
       "      <td>12.0</td>\n",
       "    </tr>\n",
       "    <tr>\n",
       "      <th>3</th>\n",
       "      <td>Ontario</td>\n",
       "      <td>Algoma District</td>\n",
       "      <td>2020-02-18</td>\n",
       "      <td>-10.0</td>\n",
       "      <td>3.0</td>\n",
       "      <td>-16.0</td>\n",
       "      <td>-4.0</td>\n",
       "      <td>-4.0</td>\n",
       "      <td>3.0</td>\n",
       "    </tr>\n",
       "    <tr>\n",
       "      <th>4</th>\n",
       "      <td>Ontario</td>\n",
       "      <td>Algoma District</td>\n",
       "      <td>2020-02-19</td>\n",
       "      <td>3.0</td>\n",
       "      <td>-1.0</td>\n",
       "      <td>-6.0</td>\n",
       "      <td>-1.0</td>\n",
       "      <td>0.0</td>\n",
       "      <td>1.0</td>\n",
       "    </tr>\n",
       "  </tbody>\n",
       "</table>\n",
       "</div>"
      ],
      "text/plain": [
       "  province           region        date  \\\n",
       "0  Ontario  Algoma District  2020-02-15   \n",
       "1  Ontario  Algoma District  2020-02-16   \n",
       "2  Ontario  Algoma District  2020-02-17   \n",
       "3  Ontario  Algoma District  2020-02-18   \n",
       "4  Ontario  Algoma District  2020-02-19   \n",
       "\n",
       "   retail_and_recreation_percent_change_from_baseline  \\\n",
       "0                                                0.0    \n",
       "1                                                5.0    \n",
       "2                                              -51.0    \n",
       "3                                              -10.0    \n",
       "4                                                3.0    \n",
       "\n",
       "   grocery_and_pharmacy_percent_change_from_baseline  \\\n",
       "0                                                0.0   \n",
       "1                                               -1.0   \n",
       "2                                              -66.0   \n",
       "3                                                3.0   \n",
       "4                                               -1.0   \n",
       "\n",
       "   parks_percent_change_from_baseline  \\\n",
       "0                                23.0   \n",
       "1                                 NaN   \n",
       "2                                 NaN   \n",
       "3                               -16.0   \n",
       "4                                -6.0   \n",
       "\n",
       "   transit_stations_percent_change_from_baseline  \\\n",
       "0                                            8.0   \n",
       "1                                           -3.0   \n",
       "2                                          -28.0   \n",
       "3                                           -4.0   \n",
       "4                                           -1.0   \n",
       "\n",
       "   workplaces_percent_change_from_baseline  \\\n",
       "0                                     -2.0   \n",
       "1                                     -5.0   \n",
       "2                                    -66.0   \n",
       "3                                     -4.0   \n",
       "4                                      0.0   \n",
       "\n",
       "   residential_percent_change_from_baseline  \n",
       "0                                       0.0  \n",
       "1                                       0.0  \n",
       "2                                      12.0  \n",
       "3                                       3.0  \n",
       "4                                       1.0  "
      ]
     },
     "execution_count": 18,
     "metadata": {},
     "output_type": "execute_result"
    }
   ],
   "source": [
    "on_mobil.head()"
   ]
  },
  {
   "cell_type": "code",
   "execution_count": 19,
   "metadata": {},
   "outputs": [
    {
     "data": {
      "text/plain": [
       "(array(['Algoma District', 'Brant County', 'Brantford', 'Bruce County',\n",
       "        'Chatham-Kent Division', 'Cochrane District', 'Dufferin County',\n",
       "        'Elgin County', 'Essex County', 'Frontenac County',\n",
       "        'Greater Sudbury Division', 'Grey County', 'Haldimand County',\n",
       "        'Haliburton County', 'Hamilton Division', 'Hastings County',\n",
       "        'Huron County', 'Kawartha Lakes Division', 'Kenora District',\n",
       "        'Lambton County', 'Lanark County',\n",
       "        'Leeds and Grenville United Counties',\n",
       "        'Lennox and Addington County', 'Manitoulin District',\n",
       "        'Middlesex County', 'Muskoka District Municipality',\n",
       "        'Nipissing District', 'Norfolk County', 'Northumberland County',\n",
       "        'Ottawa Division', 'Oxford County', 'Parry Sound District',\n",
       "        'Perth County', 'Peterborough County',\n",
       "        'Prescott and Russell United Counties', 'Prince Edward County',\n",
       "        'Rainy River District', 'Regional Municipality of Durham',\n",
       "        'Regional Municipality of Halton',\n",
       "        'Regional Municipality of Niagara',\n",
       "        'Regional Municipality of Peel', 'Regional Municipality of York',\n",
       "        'Renfrew County', 'Simcoe County',\n",
       "        'Stormont, Dundas and Glengarry United Counties',\n",
       "        'Sudbury District', 'Thunder Bay District', 'Timiskaming District',\n",
       "        'Toronto Division', 'Waterloo Regional Municipality',\n",
       "        'Wellington County'], dtype=object),\n",
       " array([235, 229, 235, 228, 234, 229, 229, 232, 235, 235, 235, 232, 229,\n",
       "        146, 235, 235, 228, 229, 228, 235, 229, 232, 228,  95, 235, 229,\n",
       "        231, 229, 229, 235, 235, 213, 229, 235, 229, 148,  71, 235, 235,\n",
       "        235, 235, 235, 229, 235, 235, 151, 235, 193, 235, 235, 235]))"
      ]
     },
     "execution_count": 19,
     "metadata": {},
     "output_type": "execute_result"
    }
   ],
   "source": [
    "# get unique regions\n",
    "np.unique(on_mobil.region.values, return_counts=True)"
   ]
  },
  {
   "cell_type": "code",
   "execution_count": 20,
   "metadata": {},
   "outputs": [
    {
     "data": {
      "text/plain": [
       "235"
      ]
     },
     "execution_count": 20,
     "metadata": {},
     "output_type": "execute_result"
    }
   ],
   "source": [
    "len(np.unique(on_mobil.date.values))"
   ]
  },
  {
   "cell_type": "code",
   "execution_count": 21,
   "metadata": {},
   "outputs": [],
   "source": [
    "on_mobil_mean = on_mobil.groupby(['date', 'province']).agg(\n",
    "    mean_retail_change = pd.NamedAgg(column='retail_and_recreation_percent_change_from_baseline', aggfunc=np.mean),\n",
    "    mean_grocery_change = pd.NamedAgg(column='grocery_and_pharmacy_percent_change_from_baseline', aggfunc=np.mean),\n",
    "    mean_parks_change = pd.NamedAgg(column='parks_percent_change_from_baseline', aggfunc=np.mean),\n",
    "    mean_transit_change = pd.NamedAgg(column='transit_stations_percent_change_from_baseline', aggfunc=np.mean),\n",
    "    mean_workplace_change = pd.NamedAgg(column='workplaces_percent_change_from_baseline', aggfunc=np.mean),\n",
    "    mean_residential_change = pd.NamedAgg(column='residential_percent_change_from_baseline', aggfunc=np.mean)\n",
    ")"
   ]
  },
  {
   "cell_type": "code",
   "execution_count": 22,
   "metadata": {},
   "outputs": [],
   "source": [
    "on_mobil_mean = on_mobil_mean.reset_index()"
   ]
  },
  {
   "cell_type": "code",
   "execution_count": 23,
   "metadata": {},
   "outputs": [
    {
     "name": "stdout",
     "output_type": "stream",
     "text": [
      "2020-02-15\n",
      "2020-10-06\n"
     ]
    }
   ],
   "source": [
    "print(on_mobil_mean.date.min())\n",
    "print(on_mobil_mean.date.max())"
   ]
  },
  {
   "cell_type": "code",
   "execution_count": 24,
   "metadata": {},
   "outputs": [],
   "source": [
    "diff = datetime.date(datetime.strptime(on_mobil_mean.date.max(), \"%Y-%m-%d\")) - \\\n",
    "datetime.date(datetime.strptime(on_mobil_mean.date.min(), \"%Y-%m-%d\"))"
   ]
  },
  {
   "cell_type": "code",
   "execution_count": 25,
   "metadata": {},
   "outputs": [
    {
     "data": {
      "text/plain": [
       "234"
      ]
     },
     "execution_count": 25,
     "metadata": {},
     "output_type": "execute_result"
    }
   ],
   "source": [
    "diff.days"
   ]
  },
  {
   "cell_type": "code",
   "execution_count": 26,
   "metadata": {},
   "outputs": [
    {
     "data": {
      "text/plain": [
       "datetime.date(2020, 10, 6)"
      ]
     },
     "execution_count": 26,
     "metadata": {},
     "output_type": "execute_result"
    }
   ],
   "source": [
    "datetime.date(datetime.strptime(on_mobil_mean.date.min(), \"%Y-%m-%d\")) + timedelta(days=234)"
   ]
  },
  {
   "cell_type": "code",
   "execution_count": 27,
   "metadata": {},
   "outputs": [],
   "source": [
    "# left join new cases onto mobil_mean\n",
    "data = on_mobil_mean.merge(right=on_new, how='left', on='date')"
   ]
  },
  {
   "cell_type": "code",
   "execution_count": 28,
   "metadata": {},
   "outputs": [
    {
     "data": {
      "text/html": [
       "<div>\n",
       "<style scoped>\n",
       "    .dataframe tbody tr th:only-of-type {\n",
       "        vertical-align: middle;\n",
       "    }\n",
       "\n",
       "    .dataframe tbody tr th {\n",
       "        vertical-align: top;\n",
       "    }\n",
       "\n",
       "    .dataframe thead th {\n",
       "        text-align: right;\n",
       "    }\n",
       "</style>\n",
       "<table border=\"1\" class=\"dataframe\">\n",
       "  <thead>\n",
       "    <tr style=\"text-align: right;\">\n",
       "      <th></th>\n",
       "      <th>date</th>\n",
       "      <th>province</th>\n",
       "      <th>mean_retail_change</th>\n",
       "      <th>mean_grocery_change</th>\n",
       "      <th>mean_parks_change</th>\n",
       "      <th>mean_transit_change</th>\n",
       "      <th>mean_workplace_change</th>\n",
       "      <th>mean_residential_change</th>\n",
       "      <th>new</th>\n",
       "    </tr>\n",
       "  </thead>\n",
       "  <tbody>\n",
       "    <tr>\n",
       "      <th>0</th>\n",
       "      <td>2020-02-15</td>\n",
       "      <td>Ontario</td>\n",
       "      <td>6.466667</td>\n",
       "      <td>4.674419</td>\n",
       "      <td>24.333333</td>\n",
       "      <td>23.724138</td>\n",
       "      <td>1.767442</td>\n",
       "      <td>-1.000000</td>\n",
       "      <td>0.0</td>\n",
       "    </tr>\n",
       "    <tr>\n",
       "      <th>1</th>\n",
       "      <td>2020-02-16</td>\n",
       "      <td>Ontario</td>\n",
       "      <td>15.555556</td>\n",
       "      <td>15.452381</td>\n",
       "      <td>46.368421</td>\n",
       "      <td>6.678571</td>\n",
       "      <td>-1.595238</td>\n",
       "      <td>-2.291667</td>\n",
       "      <td>0.0</td>\n",
       "    </tr>\n",
       "    <tr>\n",
       "      <th>2</th>\n",
       "      <td>2020-02-17</td>\n",
       "      <td>Ontario</td>\n",
       "      <td>-25.545455</td>\n",
       "      <td>-43.250000</td>\n",
       "      <td>67.333333</td>\n",
       "      <td>-4.827586</td>\n",
       "      <td>-67.725490</td>\n",
       "      <td>14.454545</td>\n",
       "      <td>0.0</td>\n",
       "    </tr>\n",
       "    <tr>\n",
       "      <th>3</th>\n",
       "      <td>2020-02-18</td>\n",
       "      <td>Ontario</td>\n",
       "      <td>-2.822222</td>\n",
       "      <td>11.777778</td>\n",
       "      <td>-8.600000</td>\n",
       "      <td>0.310345</td>\n",
       "      <td>-1.125000</td>\n",
       "      <td>1.266667</td>\n",
       "      <td>0.0</td>\n",
       "    </tr>\n",
       "    <tr>\n",
       "      <th>4</th>\n",
       "      <td>2020-02-19</td>\n",
       "      <td>Ontario</td>\n",
       "      <td>-0.466667</td>\n",
       "      <td>4.111111</td>\n",
       "      <td>-4.538462</td>\n",
       "      <td>0.758621</td>\n",
       "      <td>1.375000</td>\n",
       "      <td>0.533333</td>\n",
       "      <td>0.0</td>\n",
       "    </tr>\n",
       "    <tr>\n",
       "      <th>5</th>\n",
       "      <td>2020-02-20</td>\n",
       "      <td>Ontario</td>\n",
       "      <td>5.311111</td>\n",
       "      <td>6.822222</td>\n",
       "      <td>0.652174</td>\n",
       "      <td>1.034483</td>\n",
       "      <td>2.395833</td>\n",
       "      <td>-0.288889</td>\n",
       "      <td>0.0</td>\n",
       "    </tr>\n",
       "    <tr>\n",
       "      <th>6</th>\n",
       "      <td>2020-02-21</td>\n",
       "      <td>Ontario</td>\n",
       "      <td>0.913043</td>\n",
       "      <td>-2.377778</td>\n",
       "      <td>3.629630</td>\n",
       "      <td>1.344828</td>\n",
       "      <td>-6.187500</td>\n",
       "      <td>1.466667</td>\n",
       "      <td>0.0</td>\n",
       "    </tr>\n",
       "    <tr>\n",
       "      <th>7</th>\n",
       "      <td>2020-02-22</td>\n",
       "      <td>Ontario</td>\n",
       "      <td>10.977778</td>\n",
       "      <td>7.000000</td>\n",
       "      <td>45.826087</td>\n",
       "      <td>18.620690</td>\n",
       "      <td>7.255814</td>\n",
       "      <td>-2.035714</td>\n",
       "      <td>0.0</td>\n",
       "    </tr>\n",
       "    <tr>\n",
       "      <th>8</th>\n",
       "      <td>2020-02-23</td>\n",
       "      <td>Ontario</td>\n",
       "      <td>12.933333</td>\n",
       "      <td>8.095238</td>\n",
       "      <td>50.100000</td>\n",
       "      <td>14.785714</td>\n",
       "      <td>4.804878</td>\n",
       "      <td>-1.541667</td>\n",
       "      <td>0.0</td>\n",
       "    </tr>\n",
       "    <tr>\n",
       "      <th>9</th>\n",
       "      <td>2020-02-24</td>\n",
       "      <td>Ontario</td>\n",
       "      <td>2.000000</td>\n",
       "      <td>3.311111</td>\n",
       "      <td>14.200000</td>\n",
       "      <td>2.724138</td>\n",
       "      <td>2.729167</td>\n",
       "      <td>-0.022222</td>\n",
       "      <td>1.0</td>\n",
       "    </tr>\n",
       "    <tr>\n",
       "      <th>10</th>\n",
       "      <td>2020-02-25</td>\n",
       "      <td>Ontario</td>\n",
       "      <td>1.488889</td>\n",
       "      <td>6.800000</td>\n",
       "      <td>1.260870</td>\n",
       "      <td>1.724138</td>\n",
       "      <td>3.166667</td>\n",
       "      <td>-0.333333</td>\n",
       "      <td>0.0</td>\n",
       "    </tr>\n",
       "    <tr>\n",
       "      <th>11</th>\n",
       "      <td>2020-02-26</td>\n",
       "      <td>Ontario</td>\n",
       "      <td>-7.000000</td>\n",
       "      <td>-0.733333</td>\n",
       "      <td>-14.192308</td>\n",
       "      <td>-3.758621</td>\n",
       "      <td>-0.937500</td>\n",
       "      <td>2.333333</td>\n",
       "      <td>0.0</td>\n",
       "    </tr>\n",
       "    <tr>\n",
       "      <th>12</th>\n",
       "      <td>2020-02-27</td>\n",
       "      <td>Ontario</td>\n",
       "      <td>-17.444444</td>\n",
       "      <td>-13.545455</td>\n",
       "      <td>-21.576923</td>\n",
       "      <td>-9.689655</td>\n",
       "      <td>-10.591837</td>\n",
       "      <td>6.177778</td>\n",
       "      <td>1.0</td>\n",
       "    </tr>\n",
       "    <tr>\n",
       "      <th>13</th>\n",
       "      <td>2020-02-28</td>\n",
       "      <td>Ontario</td>\n",
       "      <td>-6.891304</td>\n",
       "      <td>-2.977778</td>\n",
       "      <td>-13.392857</td>\n",
       "      <td>2.172414</td>\n",
       "      <td>-4.145833</td>\n",
       "      <td>3.000000</td>\n",
       "      <td>1.0</td>\n",
       "    </tr>\n",
       "    <tr>\n",
       "      <th>14</th>\n",
       "      <td>2020-02-29</td>\n",
       "      <td>Ontario</td>\n",
       "      <td>10.600000</td>\n",
       "      <td>9.511628</td>\n",
       "      <td>13.880000</td>\n",
       "      <td>17.965517</td>\n",
       "      <td>8.651163</td>\n",
       "      <td>-1.551724</td>\n",
       "      <td>0.0</td>\n",
       "    </tr>\n",
       "    <tr>\n",
       "      <th>15</th>\n",
       "      <td>2020-03-01</td>\n",
       "      <td>Ontario</td>\n",
       "      <td>14.222222</td>\n",
       "      <td>12.761905</td>\n",
       "      <td>24.652174</td>\n",
       "      <td>8.392857</td>\n",
       "      <td>6.219512</td>\n",
       "      <td>-1.160000</td>\n",
       "      <td>0.0</td>\n",
       "    </tr>\n",
       "    <tr>\n",
       "      <th>16</th>\n",
       "      <td>2020-03-02</td>\n",
       "      <td>Ontario</td>\n",
       "      <td>4.333333</td>\n",
       "      <td>5.511111</td>\n",
       "      <td>-5.047619</td>\n",
       "      <td>1.137931</td>\n",
       "      <td>3.562500</td>\n",
       "      <td>0.311111</td>\n",
       "      <td>12.0</td>\n",
       "    </tr>\n",
       "    <tr>\n",
       "      <th>17</th>\n",
       "      <td>2020-03-03</td>\n",
       "      <td>Ontario</td>\n",
       "      <td>2.355556</td>\n",
       "      <td>2.933333</td>\n",
       "      <td>-8.545455</td>\n",
       "      <td>1.413793</td>\n",
       "      <td>4.083333</td>\n",
       "      <td>0.111111</td>\n",
       "      <td>2.0</td>\n",
       "    </tr>\n",
       "    <tr>\n",
       "      <th>18</th>\n",
       "      <td>2020-03-04</td>\n",
       "      <td>Ontario</td>\n",
       "      <td>4.266667</td>\n",
       "      <td>4.444444</td>\n",
       "      <td>0.920000</td>\n",
       "      <td>3.655172</td>\n",
       "      <td>4.062500</td>\n",
       "      <td>-0.111111</td>\n",
       "      <td>0.0</td>\n",
       "    </tr>\n",
       "    <tr>\n",
       "      <th>19</th>\n",
       "      <td>2020-03-05</td>\n",
       "      <td>Ontario</td>\n",
       "      <td>7.088889</td>\n",
       "      <td>6.111111</td>\n",
       "      <td>14.409091</td>\n",
       "      <td>3.896552</td>\n",
       "      <td>1.500000</td>\n",
       "      <td>0.088889</td>\n",
       "      <td>2.0</td>\n",
       "    </tr>\n",
       "  </tbody>\n",
       "</table>\n",
       "</div>"
      ],
      "text/plain": [
       "          date province  mean_retail_change  mean_grocery_change  \\\n",
       "0   2020-02-15  Ontario            6.466667             4.674419   \n",
       "1   2020-02-16  Ontario           15.555556            15.452381   \n",
       "2   2020-02-17  Ontario          -25.545455           -43.250000   \n",
       "3   2020-02-18  Ontario           -2.822222            11.777778   \n",
       "4   2020-02-19  Ontario           -0.466667             4.111111   \n",
       "5   2020-02-20  Ontario            5.311111             6.822222   \n",
       "6   2020-02-21  Ontario            0.913043            -2.377778   \n",
       "7   2020-02-22  Ontario           10.977778             7.000000   \n",
       "8   2020-02-23  Ontario           12.933333             8.095238   \n",
       "9   2020-02-24  Ontario            2.000000             3.311111   \n",
       "10  2020-02-25  Ontario            1.488889             6.800000   \n",
       "11  2020-02-26  Ontario           -7.000000            -0.733333   \n",
       "12  2020-02-27  Ontario          -17.444444           -13.545455   \n",
       "13  2020-02-28  Ontario           -6.891304            -2.977778   \n",
       "14  2020-02-29  Ontario           10.600000             9.511628   \n",
       "15  2020-03-01  Ontario           14.222222            12.761905   \n",
       "16  2020-03-02  Ontario            4.333333             5.511111   \n",
       "17  2020-03-03  Ontario            2.355556             2.933333   \n",
       "18  2020-03-04  Ontario            4.266667             4.444444   \n",
       "19  2020-03-05  Ontario            7.088889             6.111111   \n",
       "\n",
       "    mean_parks_change  mean_transit_change  mean_workplace_change  \\\n",
       "0           24.333333            23.724138               1.767442   \n",
       "1           46.368421             6.678571              -1.595238   \n",
       "2           67.333333            -4.827586             -67.725490   \n",
       "3           -8.600000             0.310345              -1.125000   \n",
       "4           -4.538462             0.758621               1.375000   \n",
       "5            0.652174             1.034483               2.395833   \n",
       "6            3.629630             1.344828              -6.187500   \n",
       "7           45.826087            18.620690               7.255814   \n",
       "8           50.100000            14.785714               4.804878   \n",
       "9           14.200000             2.724138               2.729167   \n",
       "10           1.260870             1.724138               3.166667   \n",
       "11         -14.192308            -3.758621              -0.937500   \n",
       "12         -21.576923            -9.689655             -10.591837   \n",
       "13         -13.392857             2.172414              -4.145833   \n",
       "14          13.880000            17.965517               8.651163   \n",
       "15          24.652174             8.392857               6.219512   \n",
       "16          -5.047619             1.137931               3.562500   \n",
       "17          -8.545455             1.413793               4.083333   \n",
       "18           0.920000             3.655172               4.062500   \n",
       "19          14.409091             3.896552               1.500000   \n",
       "\n",
       "    mean_residential_change   new  \n",
       "0                 -1.000000   0.0  \n",
       "1                 -2.291667   0.0  \n",
       "2                 14.454545   0.0  \n",
       "3                  1.266667   0.0  \n",
       "4                  0.533333   0.0  \n",
       "5                 -0.288889   0.0  \n",
       "6                  1.466667   0.0  \n",
       "7                 -2.035714   0.0  \n",
       "8                 -1.541667   0.0  \n",
       "9                 -0.022222   1.0  \n",
       "10                -0.333333   0.0  \n",
       "11                 2.333333   0.0  \n",
       "12                 6.177778   1.0  \n",
       "13                 3.000000   1.0  \n",
       "14                -1.551724   0.0  \n",
       "15                -1.160000   0.0  \n",
       "16                 0.311111  12.0  \n",
       "17                 0.111111   2.0  \n",
       "18                -0.111111   0.0  \n",
       "19                 0.088889   2.0  "
      ]
     },
     "execution_count": 28,
     "metadata": {},
     "output_type": "execute_result"
    }
   ],
   "source": [
    "data.head(20)"
   ]
  },
  {
   "cell_type": "code",
   "execution_count": 29,
   "metadata": {},
   "outputs": [],
   "source": [
    "# create 3 day and 5 day moving averages\n",
    "# shift the moving average down 3 and 5 respectively and drop NA rows at the tail\n",
    "data['1d_lag'] = data['new'].shift(-1)\n",
    "data['3d_SMA'] = data['1d_lag'].rolling(window=3).mean().shift(-2)\n",
    "data['5d_SMA'] = data['1d_lag'].rolling(window=5).mean().shift(-4)\n",
    "data['3d_SMA_14d_lag'] = data['new'].shift(-1)\n",
    "\n",
    "# auto-correlation investigation"
   ]
  },
  {
   "cell_type": "code",
   "execution_count": 30,
   "metadata": {},
   "outputs": [
    {
     "data": {
      "text/plain": [
       "<matplotlib.axes._subplots.AxesSubplot at 0x1063da828>"
      ]
     },
     "execution_count": 30,
     "metadata": {},
     "output_type": "execute_result"
    },
    {
     "data": {
      "image/png": "[encoded data removed]",
      "text/plain": [
       "<matplotlib.figure.Figure at 0x1063d0f98>"
      ]
     },
     "metadata": {
      "needs_background": "light"
     },
     "output_type": "display_data"
    }
   ],
   "source": [
    "data['3d_SMA'].plot()"
   ]
  },
  {
   "cell_type": "code",
   "execution_count": 31,
   "metadata": {},
   "outputs": [
    {
     "data": {
      "text/plain": [
       "<matplotlib.axes._subplots.AxesSubplot at 0x10646b208>"
      ]
     },
     "execution_count": 31,
     "metadata": {},
     "output_type": "execute_result"
    },
    {
     "data": {
      "image/png": "[encoded data removed]",
      "text/plain": [
       "<matplotlib.figure.Figure at 0x1139e0828>"
      ]
     },
     "metadata": {
      "needs_background": "light"
     },
     "output_type": "display_data"
    }
   ],
   "source": [
    "data['5d_SMA'].plot()"
   ]
  },
  {
   "cell_type": "code",
   "execution_count": 32,
   "metadata": {},
   "outputs": [
    {
     "data": {
      "text/html": [
       "<div>\n",
       "<style scoped>\n",
       "    .dataframe tbody tr th:only-of-type {\n",
       "        vertical-align: middle;\n",
       "    }\n",
       "\n",
       "    .dataframe tbody tr th {\n",
       "        vertical-align: top;\n",
       "    }\n",
       "\n",
       "    .dataframe thead th {\n",
       "        text-align: right;\n",
       "    }\n",
       "</style>\n",
       "<table border=\"1\" class=\"dataframe\">\n",
       "  <thead>\n",
       "    <tr style=\"text-align: right;\">\n",
       "      <th></th>\n",
       "      <th>date</th>\n",
       "      <th>province</th>\n",
       "      <th>mean_retail_change</th>\n",
       "      <th>mean_grocery_change</th>\n",
       "      <th>mean_parks_change</th>\n",
       "      <th>mean_transit_change</th>\n",
       "      <th>mean_workplace_change</th>\n",
       "      <th>mean_residential_change</th>\n",
       "      <th>new</th>\n",
       "      <th>1d_lag</th>\n",
       "      <th>3d_SMA</th>\n",
       "      <th>5d_SMA</th>\n",
       "      <th>3d_SMA_14d_lag</th>\n",
       "    </tr>\n",
       "  </thead>\n",
       "  <tbody>\n",
       "    <tr>\n",
       "      <th>0</th>\n",
       "      <td>2020-02-15</td>\n",
       "      <td>Ontario</td>\n",
       "      <td>6.466667</td>\n",
       "      <td>4.674419</td>\n",
       "      <td>24.333333</td>\n",
       "      <td>23.724138</td>\n",
       "      <td>1.767442</td>\n",
       "      <td>-1.000000</td>\n",
       "      <td>0.0</td>\n",
       "      <td>0.0</td>\n",
       "      <td>0.0</td>\n",
       "      <td>0.0</td>\n",
       "      <td>0.0</td>\n",
       "    </tr>\n",
       "    <tr>\n",
       "      <th>1</th>\n",
       "      <td>2020-02-16</td>\n",
       "      <td>Ontario</td>\n",
       "      <td>15.555556</td>\n",
       "      <td>15.452381</td>\n",
       "      <td>46.368421</td>\n",
       "      <td>6.678571</td>\n",
       "      <td>-1.595238</td>\n",
       "      <td>-2.291667</td>\n",
       "      <td>0.0</td>\n",
       "      <td>0.0</td>\n",
       "      <td>0.0</td>\n",
       "      <td>0.0</td>\n",
       "      <td>0.0</td>\n",
       "    </tr>\n",
       "    <tr>\n",
       "      <th>2</th>\n",
       "      <td>2020-02-17</td>\n",
       "      <td>Ontario</td>\n",
       "      <td>-25.545455</td>\n",
       "      <td>-43.250000</td>\n",
       "      <td>67.333333</td>\n",
       "      <td>-4.827586</td>\n",
       "      <td>-67.725490</td>\n",
       "      <td>14.454545</td>\n",
       "      <td>0.0</td>\n",
       "      <td>0.0</td>\n",
       "      <td>0.0</td>\n",
       "      <td>0.0</td>\n",
       "      <td>0.0</td>\n",
       "    </tr>\n",
       "    <tr>\n",
       "      <th>3</th>\n",
       "      <td>2020-02-18</td>\n",
       "      <td>Ontario</td>\n",
       "      <td>-2.822222</td>\n",
       "      <td>11.777778</td>\n",
       "      <td>-8.600000</td>\n",
       "      <td>0.310345</td>\n",
       "      <td>-1.125000</td>\n",
       "      <td>1.266667</td>\n",
       "      <td>0.0</td>\n",
       "      <td>0.0</td>\n",
       "      <td>0.0</td>\n",
       "      <td>0.0</td>\n",
       "      <td>0.0</td>\n",
       "    </tr>\n",
       "    <tr>\n",
       "      <th>4</th>\n",
       "      <td>2020-02-19</td>\n",
       "      <td>Ontario</td>\n",
       "      <td>-0.466667</td>\n",
       "      <td>4.111111</td>\n",
       "      <td>-4.538462</td>\n",
       "      <td>0.758621</td>\n",
       "      <td>1.375000</td>\n",
       "      <td>0.533333</td>\n",
       "      <td>0.0</td>\n",
       "      <td>0.0</td>\n",
       "      <td>0.0</td>\n",
       "      <td>0.2</td>\n",
       "      <td>0.0</td>\n",
       "    </tr>\n",
       "  </tbody>\n",
       "</table>\n",
       "</div>"
      ],
      "text/plain": [
       "         date province  mean_retail_change  mean_grocery_change  \\\n",
       "0  2020-02-15  Ontario            6.466667             4.674419   \n",
       "1  2020-02-16  Ontario           15.555556            15.452381   \n",
       "2  2020-02-17  Ontario          -25.545455           -43.250000   \n",
       "3  2020-02-18  Ontario           -2.822222            11.777778   \n",
       "4  2020-02-19  Ontario           -0.466667             4.111111   \n",
       "\n",
       "   mean_parks_change  mean_transit_change  mean_workplace_change  \\\n",
       "0          24.333333            23.724138               1.767442   \n",
       "1          46.368421             6.678571              -1.595238   \n",
       "2          67.333333            -4.827586             -67.725490   \n",
       "3          -8.600000             0.310345              -1.125000   \n",
       "4          -4.538462             0.758621               1.375000   \n",
       "\n",
       "   mean_residential_change  new  1d_lag  3d_SMA  5d_SMA  3d_SMA_14d_lag  \n",
       "0                -1.000000  0.0     0.0     0.0     0.0             0.0  \n",
       "1                -2.291667  0.0     0.0     0.0     0.0             0.0  \n",
       "2                14.454545  0.0     0.0     0.0     0.0             0.0  \n",
       "3                 1.266667  0.0     0.0     0.0     0.0             0.0  \n",
       "4                 0.533333  0.0     0.0     0.0     0.2             0.0  "
      ]
     },
     "execution_count": 32,
     "metadata": {},
     "output_type": "execute_result"
    }
   ],
   "source": [
    "data.head()"
   ]
  },
  {
   "cell_type": "code",
   "execution_count": 33,
   "metadata": {},
   "outputs": [
    {
     "data": {
      "text/plain": [
       "date                       0\n",
       "province                   0\n",
       "mean_retail_change         0\n",
       "mean_grocery_change        0\n",
       "mean_parks_change          0\n",
       "mean_transit_change        0\n",
       "mean_workplace_change      0\n",
       "mean_residential_change    0\n",
       "new                        2\n",
       "1d_lag                     3\n",
       "3d_SMA                     5\n",
       "5d_SMA                     7\n",
       "3d_SMA_14d_lag             3\n",
       "dtype: int64"
      ]
     },
     "execution_count": 33,
     "metadata": {},
     "output_type": "execute_result"
    }
   ],
   "source": [
    "data.isnull().sum()"
   ]
  },
  {
   "cell_type": "code",
   "execution_count": 34,
   "metadata": {},
   "outputs": [
    {
     "data": {
      "text/plain": [
       "date                       0\n",
       "province                   0\n",
       "mean_retail_change         0\n",
       "mean_grocery_change        0\n",
       "mean_parks_change          0\n",
       "mean_transit_change        0\n",
       "mean_workplace_change      0\n",
       "mean_residential_change    0\n",
       "new                        2\n",
       "1d_lag                     3\n",
       "3d_SMA                     5\n",
       "5d_SMA                     7\n",
       "3d_SMA_14d_lag             3\n",
       "dtype: int64"
      ]
     },
     "execution_count": 34,
     "metadata": {},
     "output_type": "execute_result"
    }
   ],
   "source": [
    "data.tail(7).isnull().sum()"
   ]
  },
  {
   "cell_type": "code",
   "execution_count": 35,
   "metadata": {},
   "outputs": [],
   "source": [
    "data = data.dropna()"
   ]
  },
  {
   "cell_type": "code",
   "execution_count": 36,
   "metadata": {},
   "outputs": [
    {
     "data": {
      "text/plain": [
       "date                       0\n",
       "province                   0\n",
       "mean_retail_change         0\n",
       "mean_grocery_change        0\n",
       "mean_parks_change          0\n",
       "mean_transit_change        0\n",
       "mean_workplace_change      0\n",
       "mean_residential_change    0\n",
       "new                        0\n",
       "1d_lag                     0\n",
       "3d_SMA                     0\n",
       "5d_SMA                     0\n",
       "3d_SMA_14d_lag             0\n",
       "dtype: int64"
      ]
     },
     "execution_count": 36,
     "metadata": {},
     "output_type": "execute_result"
    }
   ],
   "source": [
    "data.isnull().sum()"
   ]
  },
  {
   "cell_type": "code",
   "execution_count": 37,
   "metadata": {},
   "outputs": [],
   "source": [
    "data = data.reset_index()"
   ]
  },
  {
   "cell_type": "code",
   "execution_count": 38,
   "metadata": {},
   "outputs": [],
   "source": [
    "from sklearn.linear_model import LinearRegression"
   ]
  },
  {
   "cell_type": "code",
   "execution_count": 39,
   "metadata": {},
   "outputs": [
    {
     "data": {
      "text/plain": [
       "LinearRegression()"
      ]
     },
     "execution_count": 39,
     "metadata": {},
     "output_type": "execute_result"
    }
   ],
   "source": [
    "X = data[['index', 'mean_retail_change', 'mean_grocery_change', 'mean_parks_change', \\\n",
    "         'mean_transit_change', 'mean_workplace_change', 'mean_residential_change']]\n",
    "y_new = data['new']\n",
    "y_3d_sma = data['3d_SMA']\n",
    "y_5d_sma = data['5d_SMA']\n",
    "\n",
    "# fit to new\n",
    "model_new = LinearRegression()\n",
    "model_new.fit(X,y_new)\n",
    "\n",
    "# fit to 3d sma\n",
    "model_3d = LinearRegression()\n",
    "model_3d.fit(X,y_3d_sma)\n",
    "\n",
    "# fit to 5d sma\n",
    "model_5d = LinearRegression()\n",
    "model_5d.fit(X,y_5d_sma)"
   ]
  },
  {
   "cell_type": "code",
   "execution_count": 40,
   "metadata": {},
   "outputs": [
    {
     "name": "stdout",
     "output_type": "stream",
     "text": [
      "model_new has R2: 0.5867772108283704\n",
      "model_3d has R2: 0.6236913891831168\n",
      "model_5d has R2: 0.6418469704140596\n"
     ]
    }
   ],
   "source": [
    "print(\"model_new has R2:\",model_new.score(X, y_new))\n",
    "print(\"model_3d has R2:\",model_3d.score(X, y_3d_sma))\n",
    "print(\"model_5d has R2:\",model_5d.score(X, y_5d_sma))"
   ]
  },
  {
   "cell_type": "code",
   "execution_count": null,
   "metadata": {},
   "outputs": [],
   "source": []
  },
  {
   "cell_type": "code",
   "execution_count": 41,
   "metadata": {
    "scrolled": true
   },
   "outputs": [
    {
     "data": {
      "text/html": [
       "<table class=\"simpletable\">\n",
       "<caption>OLS Regression Results</caption>\n",
       "<tr>\n",
       "  <th>Dep. Variable:</th>           <td>new</td>       <th>  R-squared (uncentered):</th>      <td>   0.850</td>\n",
       "</tr>\n",
       "<tr>\n",
       "  <th>Model:</th>                   <td>OLS</td>       <th>  Adj. R-squared (uncentered):</th> <td>   0.845</td>\n",
       "</tr>\n",
       "<tr>\n",
       "  <th>Method:</th>             <td>Least Squares</td>  <th>  F-statistic:       </th>          <td>   178.6</td>\n",
       "</tr>\n",
       "<tr>\n",
       "  <th>Date:</th>             <td>Sun, 18 Oct 2020</td> <th>  Prob (F-statistic):</th>          <td>2.79e-87</td>\n",
       "</tr>\n",
       "<tr>\n",
       "  <th>Time:</th>                 <td>08:45:11</td>     <th>  Log-Likelihood:    </th>          <td> -1392.6</td>\n",
       "</tr>\n",
       "<tr>\n",
       "  <th>No. Observations:</th>      <td>   228</td>      <th>  AIC:               </th>          <td>   2799.</td>\n",
       "</tr>\n",
       "<tr>\n",
       "  <th>Df Residuals:</th>          <td>   221</td>      <th>  BIC:               </th>          <td>   2823.</td>\n",
       "</tr>\n",
       "<tr>\n",
       "  <th>Df Model:</th>              <td>     7</td>      <th>                     </th>              <td> </td>   \n",
       "</tr>\n",
       "<tr>\n",
       "  <th>Covariance Type:</th>      <td>nonrobust</td>    <th>                     </th>              <td> </td>   \n",
       "</tr>\n",
       "</table>\n",
       "<table class=\"simpletable\">\n",
       "<tr>\n",
       "             <td></td>                <th>coef</th>     <th>std err</th>      <th>t</th>      <th>P>|t|</th>  <th>[0.025</th>    <th>0.975]</th>  \n",
       "</tr>\n",
       "<tr>\n",
       "  <th>index</th>                   <td>    0.9308</td> <td>    0.255</td> <td>    3.647</td> <td> 0.000</td> <td>    0.428</td> <td>    1.434</td>\n",
       "</tr>\n",
       "<tr>\n",
       "  <th>mean_retail_change</th>      <td>   -1.2280</td> <td>    1.691</td> <td>   -0.726</td> <td> 0.469</td> <td>   -4.561</td> <td>    2.105</td>\n",
       "</tr>\n",
       "<tr>\n",
       "  <th>mean_grocery_change</th>     <td>   -1.0574</td> <td>    0.996</td> <td>   -1.061</td> <td> 0.290</td> <td>   -3.021</td> <td>    0.906</td>\n",
       "</tr>\n",
       "<tr>\n",
       "  <th>mean_parks_change</th>       <td>    0.1002</td> <td>    0.211</td> <td>    0.475</td> <td> 0.635</td> <td>   -0.315</td> <td>    0.516</td>\n",
       "</tr>\n",
       "<tr>\n",
       "  <th>mean_transit_change</th>     <td>   -2.9989</td> <td>    1.527</td> <td>   -1.964</td> <td> 0.051</td> <td>   -6.008</td> <td>    0.011</td>\n",
       "</tr>\n",
       "<tr>\n",
       "  <th>mean_workplace_change</th>   <td>    9.7987</td> <td>    1.311</td> <td>    7.473</td> <td> 0.000</td> <td>    7.215</td> <td>   12.383</td>\n",
       "</tr>\n",
       "<tr>\n",
       "  <th>mean_residential_change</th> <td>   30.3296</td> <td>    4.100</td> <td>    7.398</td> <td> 0.000</td> <td>   22.250</td> <td>   38.409</td>\n",
       "</tr>\n",
       "</table>\n",
       "<table class=\"simpletable\">\n",
       "<tr>\n",
       "  <th>Omnibus:</th>       <td> 3.760</td> <th>  Durbin-Watson:     </th> <td>   0.564</td>\n",
       "</tr>\n",
       "<tr>\n",
       "  <th>Prob(Omnibus):</th> <td> 0.153</td> <th>  Jarque-Bera (JB):  </th> <td>   3.797</td>\n",
       "</tr>\n",
       "<tr>\n",
       "  <th>Skew:</th>          <td> 0.172</td> <th>  Prob(JB):          </th> <td>   0.150</td>\n",
       "</tr>\n",
       "<tr>\n",
       "  <th>Kurtosis:</th>      <td> 3.530</td> <th>  Cond. No.          </th> <td>    94.6</td>\n",
       "</tr>\n",
       "</table><br/><br/>Notes:<br/>[1] R² is computed without centering (uncentered) since the model does not contain a constant.<br/>[2] Standard Errors assume that the covariance matrix of the errors is correctly specified."
      ],
      "text/plain": [
       "<class 'statsmodels.iolib.summary.Summary'>\n",
       "\"\"\"\n",
       "                                 OLS Regression Results                                \n",
       "=======================================================================================\n",
       "Dep. Variable:                    new   R-squared (uncentered):                   0.850\n",
       "Model:                            OLS   Adj. R-squared (uncentered):              0.845\n",
       "Method:                 Least Squares   F-statistic:                              178.6\n",
       "Date:                Sun, 18 Oct 2020   Prob (F-statistic):                    2.79e-87\n",
       "Time:                        08:45:11   Log-Likelihood:                         -1392.6\n",
       "No. Observations:                 228   AIC:                                      2799.\n",
       "Df Residuals:                     221   BIC:                                      2823.\n",
       "Df Model:                           7                                                  \n",
       "Covariance Type:            nonrobust                                                  \n",
       "===========================================================================================\n",
       "                              coef    std err          t      P>|t|      [0.025      0.975]\n",
       "-------------------------------------------------------------------------------------------\n",
       "index                       0.9308      0.255      3.647      0.000       0.428       1.434\n",
       "mean_retail_change         -1.2280      1.691     -0.726      0.469      -4.561       2.105\n",
       "mean_grocery_change        -1.0574      0.996     -1.061      0.290      -3.021       0.906\n",
       "mean_parks_change           0.1002      0.211      0.475      0.635      -0.315       0.516\n",
       "mean_transit_change        -2.9989      1.527     -1.964      0.051      -6.008       0.011\n",
       "mean_workplace_change       9.7987      1.311      7.473      0.000       7.215      12.383\n",
       "mean_residential_change    30.3296      4.100      7.398      0.000      22.250      38.409\n",
       "==============================================================================\n",
       "Omnibus:                        3.760   Durbin-Watson:                   0.564\n",
       "Prob(Omnibus):                  0.153   Jarque-Bera (JB):                3.797\n",
       "Skew:                           0.172   Prob(JB):                        0.150\n",
       "Kurtosis:                       3.530   Cond. No.                         94.6\n",
       "==============================================================================\n",
       "\n",
       "Notes:\n",
       "[1] R² is computed without centering (uncentered) since the model does not contain a constant.\n",
       "[2] Standard Errors assume that the covariance matrix of the errors is correctly specified.\n",
       "\"\"\""
      ]
     },
     "execution_count": 41,
     "metadata": {},
     "output_type": "execute_result"
    }
   ],
   "source": [
    "from statsmodels.api import OLS\n",
    "OLS(y_new,X).fit().summary()"
   ]
  },
  {
   "cell_type": "code",
   "execution_count": 42,
   "metadata": {},
   "outputs": [],
   "source": [
    "# try splitting into train test\n",
    "from sklearn.model_selection import train_test_split\n",
    "\n",
    "\n",
    "X_train_new, X_test_new, y_train_new, y_test_new = train_test_split(X, y_new, test_size=0.3, random_state=23)\n",
    "X_train_3d, X_test_3d, y_train_3d, y_test_3d = train_test_split(X, y_3d_sma, test_size=0.3, random_state=23)\n",
    "X_train_5d, X_test_5d, y_train_5d, y_test_5d = train_test_split(X, y_5d_sma, test_size=0.3, random_state=23)"
   ]
  },
  {
   "cell_type": "code",
   "execution_count": 43,
   "metadata": {},
   "outputs": [
    {
     "name": "stdout",
     "output_type": "stream",
     "text": [
      "m1_new\n",
      "training rmse: 106.8890914898478\n",
      "test rmse: 113.450207074951\n",
      "m1_3d\n",
      "training rmse: 103.48217664109609\n",
      "test rmse: 103.73874663881357\n",
      "m1_5d\n",
      "training rmse: 100.94234079688711\n",
      "test rmse: 101.35697741781462\n"
     ]
    }
   ],
   "source": [
    "# check new performance\n",
    "from sklearn.metrics import mean_squared_error\n",
    "m1_new = LinearRegression()\n",
    "m1_new.fit(X_train_new, y_train_new)\n",
    "m1_new_pred = m1_new.predict(X_test_new)\n",
    "m1_new_pred_train = m1_new.predict(X_train_new)\n",
    "\n",
    "m1_3d = LinearRegression()\n",
    "m1_3d.fit(X_train_3d, y_train_3d)\n",
    "m1_3d_pred = m1_3d.predict(X_test_3d)\n",
    "m1_3d_pred_train = m1_3d.predict(X_train_3d)\n",
    "\n",
    "m1_5d = LinearRegression()\n",
    "m1_5d.fit(X_train_5d, y_train_5d)\n",
    "m1_5d_pred = m1_5d.predict(X_test_5d)\n",
    "m1_5d_pred_train = m1_5d.predict(X_train_5d)\n",
    "\n",
    "# we will use rmse to evaluate model performance\n",
    "print('m1_new')\n",
    "print('training rmse:', mean_squared_error(m1_new_pred_train, y_train_new, squared=False))\n",
    "print('test rmse:', mean_squared_error(m1_new_pred, y_test_new)**0.5)\n",
    "\n",
    "print('m1_3d')\n",
    "print('training rmse:', mean_squared_error(m1_3d_pred_train, y_train_3d, squared=False))\n",
    "print('test rmse:', mean_squared_error(m1_3d_pred, y_test_3d, squared=False))\n",
    "\n",
    "print('m1_5d')\n",
    "print('training rmse:', mean_squared_error(m1_5d_pred_train, y_train_5d, squared=False))\n",
    "print('test rmse:', mean_squared_error(m1_5d_pred, y_test_5d, squared=False))\n",
    "\n",
    "\n",
    "\n",
    "\n"
   ]
  },
  {
   "cell_type": "markdown",
   "metadata": {},
   "source": [
    "This means that our predictions are off by a margin of $\\pm 100$ cases on average"
   ]
  },
  {
   "cell_type": "code",
   "execution_count": 44,
   "metadata": {},
   "outputs": [
    {
     "data": {
      "text/html": [
       "<div>\n",
       "<style scoped>\n",
       "    .dataframe tbody tr th:only-of-type {\n",
       "        vertical-align: middle;\n",
       "    }\n",
       "\n",
       "    .dataframe tbody tr th {\n",
       "        vertical-align: top;\n",
       "    }\n",
       "\n",
       "    .dataframe thead th {\n",
       "        text-align: right;\n",
       "    }\n",
       "</style>\n",
       "<table border=\"1\" class=\"dataframe\">\n",
       "  <thead>\n",
       "    <tr style=\"text-align: right;\">\n",
       "      <th></th>\n",
       "      <th>new_pred</th>\n",
       "      <th>new_actual</th>\n",
       "      <th>3d_pred</th>\n",
       "      <th>3d_actual</th>\n",
       "      <th>5d_pred</th>\n",
       "      <th>5d_actual</th>\n",
       "    </tr>\n",
       "  </thead>\n",
       "  <tbody>\n",
       "    <tr>\n",
       "      <th>0</th>\n",
       "      <td>343.100051</td>\n",
       "      <td>525.0</td>\n",
       "      <td>351.559285</td>\n",
       "      <td>409.000000</td>\n",
       "      <td>359.984569</td>\n",
       "      <td>434.4</td>\n",
       "    </tr>\n",
       "    <tr>\n",
       "      <th>1</th>\n",
       "      <td>203.822596</td>\n",
       "      <td>105.0</td>\n",
       "      <td>222.901124</td>\n",
       "      <td>102.000000</td>\n",
       "      <td>234.931259</td>\n",
       "      <td>115.2</td>\n",
       "    </tr>\n",
       "    <tr>\n",
       "      <th>2</th>\n",
       "      <td>237.341643</td>\n",
       "      <td>197.0</td>\n",
       "      <td>236.607651</td>\n",
       "      <td>185.000000</td>\n",
       "      <td>238.447646</td>\n",
       "      <td>181.2</td>\n",
       "    </tr>\n",
       "    <tr>\n",
       "      <th>3</th>\n",
       "      <td>267.141255</td>\n",
       "      <td>203.0</td>\n",
       "      <td>265.606751</td>\n",
       "      <td>215.000000</td>\n",
       "      <td>267.189643</td>\n",
       "      <td>202.0</td>\n",
       "    </tr>\n",
       "    <tr>\n",
       "      <th>4</th>\n",
       "      <td>393.813698</td>\n",
       "      <td>351.0</td>\n",
       "      <td>407.441721</td>\n",
       "      <td>362.333333</td>\n",
       "      <td>420.444777</td>\n",
       "      <td>384.8</td>\n",
       "    </tr>\n",
       "    <tr>\n",
       "      <th>5</th>\n",
       "      <td>363.141591</td>\n",
       "      <td>426.0</td>\n",
       "      <td>368.387666</td>\n",
       "      <td>412.666667</td>\n",
       "      <td>377.535812</td>\n",
       "      <td>391.0</td>\n",
       "    </tr>\n",
       "    <tr>\n",
       "      <th>6</th>\n",
       "      <td>337.538720</td>\n",
       "      <td>424.0</td>\n",
       "      <td>345.888948</td>\n",
       "      <td>443.666667</td>\n",
       "      <td>355.066826</td>\n",
       "      <td>452.6</td>\n",
       "    </tr>\n",
       "    <tr>\n",
       "      <th>7</th>\n",
       "      <td>381.923299</td>\n",
       "      <td>309.0</td>\n",
       "      <td>391.874467</td>\n",
       "      <td>470.666667</td>\n",
       "      <td>403.296795</td>\n",
       "      <td>460.2</td>\n",
       "    </tr>\n",
       "    <tr>\n",
       "      <th>8</th>\n",
       "      <td>193.431102</td>\n",
       "      <td>129.0</td>\n",
       "      <td>192.445929</td>\n",
       "      <td>109.666667</td>\n",
       "      <td>192.481403</td>\n",
       "      <td>110.2</td>\n",
       "    </tr>\n",
       "    <tr>\n",
       "      <th>9</th>\n",
       "      <td>368.669109</td>\n",
       "      <td>399.0</td>\n",
       "      <td>375.683952</td>\n",
       "      <td>372.333333</td>\n",
       "      <td>383.003409</td>\n",
       "      <td>357.2</td>\n",
       "    </tr>\n",
       "    <tr>\n",
       "      <th>10</th>\n",
       "      <td>195.127983</td>\n",
       "      <td>173.0</td>\n",
       "      <td>188.774524</td>\n",
       "      <td>186.333333</td>\n",
       "      <td>187.673302</td>\n",
       "      <td>187.2</td>\n",
       "    </tr>\n",
       "    <tr>\n",
       "      <th>11</th>\n",
       "      <td>196.764063</td>\n",
       "      <td>112.0</td>\n",
       "      <td>215.318398</td>\n",
       "      <td>137.666667</td>\n",
       "      <td>225.678198</td>\n",
       "      <td>148.0</td>\n",
       "    </tr>\n",
       "    <tr>\n",
       "      <th>12</th>\n",
       "      <td>335.620411</td>\n",
       "      <td>700.0</td>\n",
       "      <td>361.383867</td>\n",
       "      <td>572.333333</td>\n",
       "      <td>371.657798</td>\n",
       "      <td>620.4</td>\n",
       "    </tr>\n",
       "    <tr>\n",
       "      <th>13</th>\n",
       "      <td>-33.124849</td>\n",
       "      <td>0.0</td>\n",
       "      <td>-30.681026</td>\n",
       "      <td>4.666667</td>\n",
       "      <td>-32.487708</td>\n",
       "      <td>3.2</td>\n",
       "    </tr>\n",
       "    <tr>\n",
       "      <th>14</th>\n",
       "      <td>274.494207</td>\n",
       "      <td>266.0</td>\n",
       "      <td>274.467597</td>\n",
       "      <td>187.333333</td>\n",
       "      <td>272.521714</td>\n",
       "      <td>185.0</td>\n",
       "    </tr>\n",
       "    <tr>\n",
       "      <th>15</th>\n",
       "      <td>233.960752</td>\n",
       "      <td>413.0</td>\n",
       "      <td>227.655197</td>\n",
       "      <td>437.666667</td>\n",
       "      <td>228.760028</td>\n",
       "      <td>400.8</td>\n",
       "    </tr>\n",
       "    <tr>\n",
       "      <th>16</th>\n",
       "      <td>-3.233371</td>\n",
       "      <td>2.0</td>\n",
       "      <td>-0.386319</td>\n",
       "      <td>2.333333</td>\n",
       "      <td>1.176282</td>\n",
       "      <td>2.8</td>\n",
       "    </tr>\n",
       "    <tr>\n",
       "      <th>17</th>\n",
       "      <td>180.350333</td>\n",
       "      <td>170.0</td>\n",
       "      <td>177.122647</td>\n",
       "      <td>125.000000</td>\n",
       "      <td>177.069377</td>\n",
       "      <td>120.4</td>\n",
       "    </tr>\n",
       "    <tr>\n",
       "      <th>18</th>\n",
       "      <td>305.001036</td>\n",
       "      <td>483.0</td>\n",
       "      <td>299.664274</td>\n",
       "      <td>430.000000</td>\n",
       "      <td>302.971107</td>\n",
       "      <td>438.8</td>\n",
       "    </tr>\n",
       "    <tr>\n",
       "      <th>19</th>\n",
       "      <td>229.192273</td>\n",
       "      <td>133.0</td>\n",
       "      <td>252.638491</td>\n",
       "      <td>149.666667</td>\n",
       "      <td>265.201840</td>\n",
       "      <td>159.4</td>\n",
       "    </tr>\n",
       "  </tbody>\n",
       "</table>\n",
       "</div>"
      ],
      "text/plain": [
       "      new_pred  new_actual     3d_pred   3d_actual     5d_pred  5d_actual\n",
       "0   343.100051       525.0  351.559285  409.000000  359.984569      434.4\n",
       "1   203.822596       105.0  222.901124  102.000000  234.931259      115.2\n",
       "2   237.341643       197.0  236.607651  185.000000  238.447646      181.2\n",
       "3   267.141255       203.0  265.606751  215.000000  267.189643      202.0\n",
       "4   393.813698       351.0  407.441721  362.333333  420.444777      384.8\n",
       "5   363.141591       426.0  368.387666  412.666667  377.535812      391.0\n",
       "6   337.538720       424.0  345.888948  443.666667  355.066826      452.6\n",
       "7   381.923299       309.0  391.874467  470.666667  403.296795      460.2\n",
       "8   193.431102       129.0  192.445929  109.666667  192.481403      110.2\n",
       "9   368.669109       399.0  375.683952  372.333333  383.003409      357.2\n",
       "10  195.127983       173.0  188.774524  186.333333  187.673302      187.2\n",
       "11  196.764063       112.0  215.318398  137.666667  225.678198      148.0\n",
       "12  335.620411       700.0  361.383867  572.333333  371.657798      620.4\n",
       "13  -33.124849         0.0  -30.681026    4.666667  -32.487708        3.2\n",
       "14  274.494207       266.0  274.467597  187.333333  272.521714      185.0\n",
       "15  233.960752       413.0  227.655197  437.666667  228.760028      400.8\n",
       "16   -3.233371         2.0   -0.386319    2.333333    1.176282        2.8\n",
       "17  180.350333       170.0  177.122647  125.000000  177.069377      120.4\n",
       "18  305.001036       483.0  299.664274  430.000000  302.971107      438.8\n",
       "19  229.192273       133.0  252.638491  149.666667  265.201840      159.4"
      ]
     },
     "execution_count": 44,
     "metadata": {},
     "output_type": "execute_result"
    }
   ],
   "source": [
    "results = pd.DataFrame({'new_pred':m1_new_pred, 'new_actual':y_test_new, \\\n",
    "                        '3d_pred':m1_3d_pred, '3d_actual':y_test_3d, \\\n",
    "                        '5d_pred':m1_5d_pred, '5d_actual':y_test_5d}).reset_index(drop=True)\n",
    "results.head(20)"
   ]
  },
  {
   "cell_type": "markdown",
   "metadata": {},
   "source": [
    "### Check for auto-correlation in the response"
   ]
  },
  {
   "cell_type": "code",
   "execution_count": 45,
   "metadata": {},
   "outputs": [],
   "source": [
    "import statsmodels.api as sm"
   ]
  },
  {
   "cell_type": "code",
   "execution_count": 46,
   "metadata": {},
   "outputs": [
    {
     "data": {
      "text/plain": [
       "[<matplotlib.lines.Line2D at 0x12b6a2898>]"
      ]
     },
     "execution_count": 46,
     "metadata": {},
     "output_type": "execute_result"
    },
    {
     "data": {
      "image/png": "[encoded data removed]",
      "text/plain": [
       "<matplotlib.figure.Figure at 0x12b647780>"
      ]
     },
     "metadata": {
      "needs_background": "light"
     },
     "output_type": "display_data"
    }
   ],
   "source": [
    "plt.plot(data['new'])"
   ]
  },
  {
   "cell_type": "code",
   "execution_count": 47,
   "metadata": {},
   "outputs": [
    {
     "data": {
      "image/png": "[encoded data removed]",
      "text/plain": [
       "<matplotlib.figure.Figure at 0x12b6ab240>"
      ]
     },
     "metadata": {
      "needs_background": "light"
     },
     "output_type": "display_data"
    }
   ],
   "source": [
    "sm.graphics.tsa.plot_acf(data['new'], lags=40)\n",
    "plt.show()"
   ]
  },
  {
   "cell_type": "markdown",
   "metadata": {},
   "source": [
    "The correlation between 2 points diminishes as the time between the points increases"
   ]
  },
  {
   "cell_type": "code",
   "execution_count": 48,
   "metadata": {},
   "outputs": [
    {
     "data": {
      "image/png": "[encoded data removed]",
      "text/plain": [
       "<matplotlib.figure.Figure at 0x12b6e04a8>"
      ]
     },
     "metadata": {
      "needs_background": "light"
     },
     "output_type": "display_data"
    }
   ],
   "source": [
    "sm.graphics.tsa.plot_pacf(data['new'], lags=40)\n",
    "plt.show()"
   ]
  },
  {
   "cell_type": "markdown",
   "metadata": {},
   "source": [
    "After lag 4, the correlation is no longer statistically significant. This suggests that with the previous 4 day counts, we can predict the number of new cases on the 5th day. "
   ]
  },
  {
   "cell_type": "markdown",
   "metadata": {},
   "source": [
    "#### Hypotheses to Explore\n",
    "Be careful not to use SMA data to predict one of the points in the SMA.\n",
    "\n",
    "1. Try a bunch of different lags with a 3d SMA and see which day gives the best performance.\n",
    "2. Try using mobility for day t with counts for day t, t+1, t+2, and t+3 to predict t+4."
   ]
  },
  {
   "cell_type": "markdown",
   "metadata": {},
   "source": [
    "1. lag of reporting per province\n",
    "2. lag of environment to onset (mobility -> onset)\n",
    "3. lag of onset to reporting"
   ]
  },
  {
   "cell_type": "code",
   "execution_count": 49,
   "metadata": {},
   "outputs": [],
   "source": [
    "# try lag 0 to lag 20 (up to 3 weeks)\n",
    "max_lag = 21\n",
    "\n",
    "data2 = data.copy()\n",
    "\n",
    "# 3d_SMA is lag 0\n",
    "for i in range(1,max_lag):\n",
    "    data2[\"lag_\"+str(i)] = data['3d_SMA'].shift(-i)\n",
    "    \n"
   ]
  },
  {
   "cell_type": "code",
   "execution_count": 50,
   "metadata": {},
   "outputs": [],
   "source": [
    "data2 = data2.dropna()"
   ]
  },
  {
   "cell_type": "code",
   "execution_count": 51,
   "metadata": {},
   "outputs": [],
   "source": [
    "np.random.seed(23)"
   ]
  },
  {
   "cell_type": "code",
   "execution_count": 52,
   "metadata": {
    "scrolled": false
   },
   "outputs": [
    {
     "data": {
      "text/html": [
       "<div>\n",
       "<style scoped>\n",
       "    .dataframe tbody tr th:only-of-type {\n",
       "        vertical-align: middle;\n",
       "    }\n",
       "\n",
       "    .dataframe tbody tr th {\n",
       "        vertical-align: top;\n",
       "    }\n",
       "\n",
       "    .dataframe thead th {\n",
       "        text-align: right;\n",
       "    }\n",
       "</style>\n",
       "<table border=\"1\" class=\"dataframe\">\n",
       "  <thead>\n",
       "    <tr style=\"text-align: right;\">\n",
       "      <th></th>\n",
       "      <th>lag</th>\n",
       "      <th>R2</th>\n",
       "    </tr>\n",
       "  </thead>\n",
       "  <tbody>\n",
       "    <tr>\n",
       "      <th>0</th>\n",
       "      <td>1</td>\n",
       "      <td>0.724061</td>\n",
       "    </tr>\n",
       "    <tr>\n",
       "      <th>1</th>\n",
       "      <td>2</td>\n",
       "      <td>0.748467</td>\n",
       "    </tr>\n",
       "    <tr>\n",
       "      <th>2</th>\n",
       "      <td>3</td>\n",
       "      <td>0.775463</td>\n",
       "    </tr>\n",
       "    <tr>\n",
       "      <th>3</th>\n",
       "      <td>4</td>\n",
       "      <td>0.799781</td>\n",
       "    </tr>\n",
       "    <tr>\n",
       "      <th>4</th>\n",
       "      <td>5</td>\n",
       "      <td>0.817607</td>\n",
       "    </tr>\n",
       "    <tr>\n",
       "      <th>5</th>\n",
       "      <td>6</td>\n",
       "      <td>0.830104</td>\n",
       "    </tr>\n",
       "    <tr>\n",
       "      <th>6</th>\n",
       "      <td>7</td>\n",
       "      <td>0.836798</td>\n",
       "    </tr>\n",
       "    <tr>\n",
       "      <th>7</th>\n",
       "      <td>8</td>\n",
       "      <td>0.847311</td>\n",
       "    </tr>\n",
       "    <tr>\n",
       "      <th>8</th>\n",
       "      <td>9</td>\n",
       "      <td>0.852135</td>\n",
       "    </tr>\n",
       "    <tr>\n",
       "      <th>9</th>\n",
       "      <td>10</td>\n",
       "      <td>0.848698</td>\n",
       "    </tr>\n",
       "    <tr>\n",
       "      <th>10</th>\n",
       "      <td>11</td>\n",
       "      <td>0.839214</td>\n",
       "    </tr>\n",
       "    <tr>\n",
       "      <th>11</th>\n",
       "      <td>12</td>\n",
       "      <td>0.826782</td>\n",
       "    </tr>\n",
       "    <tr>\n",
       "      <th>12</th>\n",
       "      <td>13</td>\n",
       "      <td>0.813446</td>\n",
       "    </tr>\n",
       "    <tr>\n",
       "      <th>13</th>\n",
       "      <td>14</td>\n",
       "      <td>0.800073</td>\n",
       "    </tr>\n",
       "    <tr>\n",
       "      <th>14</th>\n",
       "      <td>15</td>\n",
       "      <td>0.781336</td>\n",
       "    </tr>\n",
       "    <tr>\n",
       "      <th>15</th>\n",
       "      <td>16</td>\n",
       "      <td>0.758593</td>\n",
       "    </tr>\n",
       "    <tr>\n",
       "      <th>16</th>\n",
       "      <td>17</td>\n",
       "      <td>0.726065</td>\n",
       "    </tr>\n",
       "    <tr>\n",
       "      <th>17</th>\n",
       "      <td>18</td>\n",
       "      <td>0.690536</td>\n",
       "    </tr>\n",
       "    <tr>\n",
       "      <th>18</th>\n",
       "      <td>19</td>\n",
       "      <td>0.648135</td>\n",
       "    </tr>\n",
       "    <tr>\n",
       "      <th>19</th>\n",
       "      <td>20</td>\n",
       "      <td>0.613112</td>\n",
       "    </tr>\n",
       "  </tbody>\n",
       "</table>\n",
       "</div>"
      ],
      "text/plain": [
       "    lag        R2\n",
       "0     1  0.724061\n",
       "1     2  0.748467\n",
       "2     3  0.775463\n",
       "3     4  0.799781\n",
       "4     5  0.817607\n",
       "5     6  0.830104\n",
       "6     7  0.836798\n",
       "7     8  0.847311\n",
       "8     9  0.852135\n",
       "9    10  0.848698\n",
       "10   11  0.839214\n",
       "11   12  0.826782\n",
       "12   13  0.813446\n",
       "13   14  0.800073\n",
       "14   15  0.781336\n",
       "15   16  0.758593\n",
       "16   17  0.726065\n",
       "17   18  0.690536\n",
       "18   19  0.648135\n",
       "19   20  0.613112"
      ]
     },
     "execution_count": 52,
     "metadata": {},
     "output_type": "execute_result"
    }
   ],
   "source": [
    "X2 = data2[['index', 'mean_retail_change', 'mean_grocery_change', \n",
    "            'mean_parks_change', 'mean_transit_change',\n",
    "            'mean_workplace_change', 'mean_residential_change']]\n",
    "\n",
    "lag_results = list()\n",
    "\n",
    "for i in range(1,max_lag):\n",
    "    #print('predicting:',\"lag_\"+str(i))\n",
    "    name = \"lag_\"+str(i)\n",
    "    target = data2[name]\n",
    "    temp_model = LinearRegression()\n",
    "    temp_model.fit(X2, target)\n",
    "    R2 = temp_model.score(X2, target)\n",
    "    lag_results.append(R2)\n",
    "    #print(\"R2\", R2)\n",
    "\n",
    "lag_res_df = pd.DataFrame({'lag':np.array(range(1,max_lag)), 'R2': lag_results})\n",
    "lag_res_df\n"
   ]
  },
  {
   "cell_type": "markdown",
   "metadata": {},
   "source": [
    "Lag 7 to 11 are good, with lag 9 being the best predicted.\n",
    "\n",
    "#### Improvements to hypothesis 2:\n",
    "- we can add case counts for the 3-4 days leading up to the predicted lag time.\n",
    "- this can get tricky with the smoothing (we do not want to overlap explanatory new cases and predicted new cases), so we can redo hypothesis 1 without using the 3 day smoothed new case count.\n",
    "- alternatively, we could only attach new case counts for days -3 to -6"
   ]
  },
  {
   "cell_type": "code",
   "execution_count": 53,
   "metadata": {},
   "outputs": [],
   "source": [
    "can2 = pd.read_csv('Data/data_can2.csv')"
   ]
  },
  {
   "cell_type": "code",
   "execution_count": 54,
   "metadata": {},
   "outputs": [
    {
     "data": {
      "text/html": [
       "<div>\n",
       "<style scoped>\n",
       "    .dataframe tbody tr th:only-of-type {\n",
       "        vertical-align: middle;\n",
       "    }\n",
       "\n",
       "    .dataframe tbody tr th {\n",
       "        vertical-align: top;\n",
       "    }\n",
       "\n",
       "    .dataframe thead th {\n",
       "        text-align: right;\n",
       "    }\n",
       "</style>\n",
       "<table border=\"1\" class=\"dataframe\">\n",
       "  <thead>\n",
       "    <tr style=\"text-align: right;\">\n",
       "      <th></th>\n",
       "      <th>date</th>\n",
       "      <th>key_apple_mobility</th>\n",
       "      <th>key_google_mobility</th>\n",
       "      <th>id</th>\n",
       "      <th>tests</th>\n",
       "      <th>confirmed</th>\n",
       "      <th>recovered</th>\n",
       "      <th>deaths</th>\n",
       "      <th>hosp</th>\n",
       "      <th>vent</th>\n",
       "      <th>...</th>\n",
       "      <th>census_fips_code</th>\n",
       "      <th>retail_and_recreation_percent_change_from_baseline</th>\n",
       "      <th>grocery_and_pharmacy_percent_change_from_baseline</th>\n",
       "      <th>parks_percent_change_from_baseline</th>\n",
       "      <th>transit_stations_percent_change_from_baseline</th>\n",
       "      <th>workplaces_percent_change_from_baseline</th>\n",
       "      <th>residential_percent_change_from_baseline</th>\n",
       "      <th>driving</th>\n",
       "      <th>walking</th>\n",
       "      <th>transit</th>\n",
       "    </tr>\n",
       "  </thead>\n",
       "  <tbody>\n",
       "    <tr>\n",
       "      <th>0</th>\n",
       "      <td>2020-03-11</td>\n",
       "      <td>Prince Edward Island</td>\n",
       "      <td>CA, Prince Edward Island</td>\n",
       "      <td>015d95fc</td>\n",
       "      <td>6.0</td>\n",
       "      <td>0</td>\n",
       "      <td>NaN</td>\n",
       "      <td>0</td>\n",
       "      <td>NaN</td>\n",
       "      <td>NaN</td>\n",
       "      <td>...</td>\n",
       "      <td>NaN</td>\n",
       "      <td>-1.0</td>\n",
       "      <td>0.0</td>\n",
       "      <td>NaN</td>\n",
       "      <td>NaN</td>\n",
       "      <td>0.0</td>\n",
       "      <td>1.0</td>\n",
       "      <td>112.23</td>\n",
       "      <td>NaN</td>\n",
       "      <td>NaN</td>\n",
       "    </tr>\n",
       "    <tr>\n",
       "      <th>1</th>\n",
       "      <td>2020-03-12</td>\n",
       "      <td>Prince Edward Island</td>\n",
       "      <td>CA, Prince Edward Island</td>\n",
       "      <td>015d95fc</td>\n",
       "      <td>6.0</td>\n",
       "      <td>0</td>\n",
       "      <td>NaN</td>\n",
       "      <td>0</td>\n",
       "      <td>NaN</td>\n",
       "      <td>NaN</td>\n",
       "      <td>...</td>\n",
       "      <td>NaN</td>\n",
       "      <td>8.0</td>\n",
       "      <td>16.0</td>\n",
       "      <td>NaN</td>\n",
       "      <td>NaN</td>\n",
       "      <td>0.0</td>\n",
       "      <td>0.0</td>\n",
       "      <td>107.63</td>\n",
       "      <td>NaN</td>\n",
       "      <td>NaN</td>\n",
       "    </tr>\n",
       "    <tr>\n",
       "      <th>2</th>\n",
       "      <td>2020-03-13</td>\n",
       "      <td>Prince Edward Island</td>\n",
       "      <td>CA, Prince Edward Island</td>\n",
       "      <td>015d95fc</td>\n",
       "      <td>6.0</td>\n",
       "      <td>0</td>\n",
       "      <td>NaN</td>\n",
       "      <td>0</td>\n",
       "      <td>NaN</td>\n",
       "      <td>NaN</td>\n",
       "      <td>...</td>\n",
       "      <td>NaN</td>\n",
       "      <td>-5.0</td>\n",
       "      <td>35.0</td>\n",
       "      <td>NaN</td>\n",
       "      <td>NaN</td>\n",
       "      <td>-3.0</td>\n",
       "      <td>3.0</td>\n",
       "      <td>108.80</td>\n",
       "      <td>NaN</td>\n",
       "      <td>NaN</td>\n",
       "    </tr>\n",
       "    <tr>\n",
       "      <th>3</th>\n",
       "      <td>2020-03-14</td>\n",
       "      <td>Prince Edward Island</td>\n",
       "      <td>CA, Prince Edward Island</td>\n",
       "      <td>015d95fc</td>\n",
       "      <td>6.0</td>\n",
       "      <td>0</td>\n",
       "      <td>NaN</td>\n",
       "      <td>0</td>\n",
       "      <td>NaN</td>\n",
       "      <td>NaN</td>\n",
       "      <td>...</td>\n",
       "      <td>NaN</td>\n",
       "      <td>-17.0</td>\n",
       "      <td>11.0</td>\n",
       "      <td>NaN</td>\n",
       "      <td>NaN</td>\n",
       "      <td>-4.0</td>\n",
       "      <td>NaN</td>\n",
       "      <td>104.16</td>\n",
       "      <td>NaN</td>\n",
       "      <td>NaN</td>\n",
       "    </tr>\n",
       "    <tr>\n",
       "      <th>4</th>\n",
       "      <td>2020-03-15</td>\n",
       "      <td>Prince Edward Island</td>\n",
       "      <td>CA, Prince Edward Island</td>\n",
       "      <td>015d95fc</td>\n",
       "      <td>6.0</td>\n",
       "      <td>1</td>\n",
       "      <td>NaN</td>\n",
       "      <td>0</td>\n",
       "      <td>NaN</td>\n",
       "      <td>NaN</td>\n",
       "      <td>...</td>\n",
       "      <td>NaN</td>\n",
       "      <td>-3.0</td>\n",
       "      <td>18.0</td>\n",
       "      <td>NaN</td>\n",
       "      <td>NaN</td>\n",
       "      <td>2.0</td>\n",
       "      <td>NaN</td>\n",
       "      <td>77.46</td>\n",
       "      <td>NaN</td>\n",
       "      <td>NaN</td>\n",
       "    </tr>\n",
       "  </tbody>\n",
       "</table>\n",
       "<p>5 rows × 49 columns</p>\n",
       "</div>"
      ],
      "text/plain": [
       "         date    key_apple_mobility       key_google_mobility        id  \\\n",
       "0  2020-03-11  Prince Edward Island  CA, Prince Edward Island  015d95fc   \n",
       "1  2020-03-12  Prince Edward Island  CA, Prince Edward Island  015d95fc   \n",
       "2  2020-03-13  Prince Edward Island  CA, Prince Edward Island  015d95fc   \n",
       "3  2020-03-14  Prince Edward Island  CA, Prince Edward Island  015d95fc   \n",
       "4  2020-03-15  Prince Edward Island  CA, Prince Edward Island  015d95fc   \n",
       "\n",
       "   tests  confirmed  recovered  deaths  hosp  vent  ...  census_fips_code  \\\n",
       "0    6.0          0        NaN       0   NaN   NaN  ...               NaN   \n",
       "1    6.0          0        NaN       0   NaN   NaN  ...               NaN   \n",
       "2    6.0          0        NaN       0   NaN   NaN  ...               NaN   \n",
       "3    6.0          0        NaN       0   NaN   NaN  ...               NaN   \n",
       "4    6.0          1        NaN       0   NaN   NaN  ...               NaN   \n",
       "\n",
       "   retail_and_recreation_percent_change_from_baseline  \\\n",
       "0                                               -1.0    \n",
       "1                                                8.0    \n",
       "2                                               -5.0    \n",
       "3                                              -17.0    \n",
       "4                                               -3.0    \n",
       "\n",
       "   grocery_and_pharmacy_percent_change_from_baseline  \\\n",
       "0                                                0.0   \n",
       "1                                               16.0   \n",
       "2                                               35.0   \n",
       "3                                               11.0   \n",
       "4                                               18.0   \n",
       "\n",
       "   parks_percent_change_from_baseline  \\\n",
       "0                                 NaN   \n",
       "1                                 NaN   \n",
       "2                                 NaN   \n",
       "3                                 NaN   \n",
       "4                                 NaN   \n",
       "\n",
       "   transit_stations_percent_change_from_baseline  \\\n",
       "0                                            NaN   \n",
       "1                                            NaN   \n",
       "2                                            NaN   \n",
       "3                                            NaN   \n",
       "4                                            NaN   \n",
       "\n",
       "   workplaces_percent_change_from_baseline  \\\n",
       "0                                      0.0   \n",
       "1                                      0.0   \n",
       "2                                     -3.0   \n",
       "3                                     -4.0   \n",
       "4                                      2.0   \n",
       "\n",
       "   residential_percent_change_from_baseline  driving  walking  transit  \n",
       "0                                       1.0   112.23      NaN      NaN  \n",
       "1                                       0.0   107.63      NaN      NaN  \n",
       "2                                       3.0   108.80      NaN      NaN  \n",
       "3                                       NaN   104.16      NaN      NaN  \n",
       "4                                       NaN    77.46      NaN      NaN  \n",
       "\n",
       "[5 rows x 49 columns]"
      ]
     },
     "execution_count": 54,
     "metadata": {},
     "output_type": "execute_result"
    }
   ],
   "source": [
    "can2.head()"
   ]
  },
  {
   "cell_type": "code",
   "execution_count": 55,
   "metadata": {},
   "outputs": [
    {
     "data": {
      "text/plain": [
       "(2862, 49)"
      ]
     },
     "execution_count": 55,
     "metadata": {},
     "output_type": "execute_result"
    }
   ],
   "source": [
    "can2.shape"
   ]
  },
  {
   "cell_type": "code",
   "execution_count": 56,
   "metadata": {},
   "outputs": [
    {
     "data": {
      "text/plain": [
       "array(['CA, Alberta', 'CA, British Columbia', 'CA, Manitoba',\n",
       "       'CA, New Brunswick', 'CA, Newfoundland and Labrador',\n",
       "       'CA, Northwest Territories', 'CA, Nova Scotia', 'CA, Nunavut',\n",
       "       'CA, Ontario', 'CA, Prince Edward Island', 'CA, Quebec',\n",
       "       'CA, Saskatchewan', 'CA, Yukon'], dtype=object)"
      ]
     },
     "execution_count": 56,
     "metadata": {},
     "output_type": "execute_result"
    }
   ],
   "source": [
    "np.unique(can2['key_google_mobility'].values)"
   ]
  },
  {
   "cell_type": "code",
   "execution_count": 57,
   "metadata": {},
   "outputs": [],
   "source": [
    "on2 = can2[can2['key_google_mobility'] == 'CA, Ontario']"
   ]
  },
  {
   "cell_type": "code",
   "execution_count": 58,
   "metadata": {},
   "outputs": [
    {
     "data": {
      "text/plain": [
       "Index(['date', 'key_apple_mobility', 'key_google_mobility', 'id', 'tests',\n",
       "       'confirmed', 'recovered', 'deaths', 'hosp', 'vent', 'icu', 'population',\n",
       "       'school_closing', 'workplace_closing', 'cancel_events',\n",
       "       'gatherings_restrictions', 'transport_closing',\n",
       "       'stay_home_restrictions', 'internal_movement_restrictions',\n",
       "       'international_movement_restrictions', 'information_campaigns',\n",
       "       'testing_policy', 'contact_tracing', 'stringency_index', 'iso_alpha_3',\n",
       "       'iso_alpha_2', 'iso_numeric', 'currency', 'administrative_area_level',\n",
       "       'administrative_area_level_1', 'administrative_area_level_2',\n",
       "       'administrative_area_level_3', 'latitude', 'longitude', 'key',\n",
       "       'key_alpha_2', 'key_numeric', 'metro_area', 'iso_3166_2_code',\n",
       "       'census_fips_code',\n",
       "       'retail_and_recreation_percent_change_from_baseline',\n",
       "       'grocery_and_pharmacy_percent_change_from_baseline',\n",
       "       'parks_percent_change_from_baseline',\n",
       "       'transit_stations_percent_change_from_baseline',\n",
       "       'workplaces_percent_change_from_baseline',\n",
       "       'residential_percent_change_from_baseline', 'driving', 'walking',\n",
       "       'transit'],\n",
       "      dtype='object')"
      ]
     },
     "execution_count": 58,
     "metadata": {},
     "output_type": "execute_result"
    }
   ],
   "source": [
    "can2.columns"
   ]
  },
  {
   "cell_type": "code",
   "execution_count": 59,
   "metadata": {},
   "outputs": [
    {
     "data": {
      "text/plain": [
       "(233, 49)"
      ]
     },
     "execution_count": 59,
     "metadata": {},
     "output_type": "execute_result"
    }
   ],
   "source": [
    "on2.shape"
   ]
  },
  {
   "cell_type": "code",
   "execution_count": 60,
   "metadata": {},
   "outputs": [
    {
     "data": {
      "text/plain": [
       "<matplotlib.axes._subplots.AxesSubplot at 0x12b7047f0>"
      ]
     },
     "execution_count": 60,
     "metadata": {},
     "output_type": "execute_result"
    },
    {
     "data": {
      "image/png": "[encoded data removed]",
      "text/plain": [
       "<matplotlib.figure.Figure at 0x12b6e0e80>"
      ]
     },
     "metadata": {
      "needs_background": "light"
     },
     "output_type": "display_data"
    }
   ],
   "source": [
    "on2.school_closing.plot()"
   ]
  },
  {
   "cell_type": "code",
   "execution_count": 61,
   "metadata": {},
   "outputs": [
    {
     "data": {
      "image/png": "[encoded data removed]",
      "text/plain": [
       "<matplotlib.figure.Figure at 0x12b98f828>"
      ]
     },
     "metadata": {
      "needs_background": "light"
     },
     "output_type": "display_data"
    }
   ],
   "source": [
    "from matplotlib.pyplot import figure\n",
    "lockdown_procs = ['school_closing', 'workplace_closing', 'cancel_events',\n",
    " 'gatherings_restrictions', 'transport_closing',\n",
    " 'stay_home_restrictions', 'internal_movement_restrictions',\n",
    " 'international_movement_restrictions', 'information_campaigns']\n",
    "\n",
    "\n",
    "#figure(num=None, figsize=(20, 6), dpi=80, facecolor='w', edgecolor='k')\n",
    "fig, axs = plt.subplots(3, 3)\n",
    "fig.set_size_inches(18.5, 10.5)\n",
    "x = on2['date']\n",
    "for i, proc in enumerate(lockdown_procs):\n",
    "    a = i//3\n",
    "    b = i%3\n",
    "    y = on2[proc]\n",
    "    axs[a,b].plot(x.values,y.values)\n",
    "    axs[a,b].set_title(proc)\n",
    "    axs[a,b].tick_params(\n",
    "        axis='x',          # changes apply to the x-axis\n",
    "        which='both',      # both major and minor ticks are affected\n",
    "        bottom=False,      # ticks along the bottom edge are off\n",
    "        top=False,         # ticks along the top edge are off\n",
    "        labelbottom=False) # labels along the bottom edge are off\n",
    "plt.show()\n",
    "    "
   ]
  },
  {
   "cell_type": "code",
   "execution_count": 71,
   "metadata": {},
   "outputs": [
    {
     "name": "stderr",
     "output_type": "stream",
     "text": [
      "/Users/stephenbrock/anaconda3/lib/python3.6/site-packages/ipykernel_launcher.py:4: SettingWithCopyWarning: \n",
      "A value is trying to be set on a copy of a slice from a DataFrame.\n",
      "Try using .loc[row_indexer,col_indexer] = value instead\n",
      "\n",
      "See the caveats in the documentation: https://pandas.pydata.org/pandas-docs/stable/user_guide/indexing.html#returning-a-view-versus-a-copy\n",
      "  after removing the cwd from sys.path.\n"
     ]
    },
    {
     "data": {
      "text/html": [
       "<div>\n",
       "<style scoped>\n",
       "    .dataframe tbody tr th:only-of-type {\n",
       "        vertical-align: middle;\n",
       "    }\n",
       "\n",
       "    .dataframe tbody tr th {\n",
       "        vertical-align: top;\n",
       "    }\n",
       "\n",
       "    .dataframe thead th {\n",
       "        text-align: right;\n",
       "    }\n",
       "</style>\n",
       "<table border=\"1\" class=\"dataframe\">\n",
       "  <thead>\n",
       "    <tr style=\"text-align: right;\">\n",
       "      <th></th>\n",
       "      <th>school_closing</th>\n",
       "      <th>workplace_closing</th>\n",
       "      <th>cancel_events</th>\n",
       "      <th>gatherings_restrictions</th>\n",
       "      <th>transport_closing</th>\n",
       "      <th>stay_home_restrictions</th>\n",
       "      <th>internal_movement_restrictions</th>\n",
       "      <th>international_movement_restrictions</th>\n",
       "      <th>information_campaigns</th>\n",
       "      <th>new</th>\n",
       "    </tr>\n",
       "  </thead>\n",
       "  <tbody>\n",
       "    <tr>\n",
       "      <th>school_closing</th>\n",
       "      <td>1.000000</td>\n",
       "      <td>0.819194</td>\n",
       "      <td>0.830990</td>\n",
       "      <td>0.918324</td>\n",
       "      <td>NaN</td>\n",
       "      <td>0.882788</td>\n",
       "      <td>0.837906</td>\n",
       "      <td>0.893071</td>\n",
       "      <td>0.804239</td>\n",
       "      <td>0.282166</td>\n",
       "    </tr>\n",
       "    <tr>\n",
       "      <th>workplace_closing</th>\n",
       "      <td>0.819194</td>\n",
       "      <td>1.000000</td>\n",
       "      <td>0.717060</td>\n",
       "      <td>0.805183</td>\n",
       "      <td>NaN</td>\n",
       "      <td>0.761756</td>\n",
       "      <td>0.791130</td>\n",
       "      <td>0.894532</td>\n",
       "      <td>0.693976</td>\n",
       "      <td>0.600926</td>\n",
       "    </tr>\n",
       "    <tr>\n",
       "      <th>cancel_events</th>\n",
       "      <td>0.830990</td>\n",
       "      <td>0.717060</td>\n",
       "      <td>1.000000</td>\n",
       "      <td>0.881106</td>\n",
       "      <td>NaN</td>\n",
       "      <td>0.941325</td>\n",
       "      <td>0.808529</td>\n",
       "      <td>0.755774</td>\n",
       "      <td>0.967808</td>\n",
       "      <td>0.418098</td>\n",
       "    </tr>\n",
       "    <tr>\n",
       "      <th>gatherings_restrictions</th>\n",
       "      <td>0.918324</td>\n",
       "      <td>0.805183</td>\n",
       "      <td>0.881106</td>\n",
       "      <td>1.000000</td>\n",
       "      <td>NaN</td>\n",
       "      <td>0.936028</td>\n",
       "      <td>0.944209</td>\n",
       "      <td>0.854969</td>\n",
       "      <td>0.852741</td>\n",
       "      <td>0.460294</td>\n",
       "    </tr>\n",
       "    <tr>\n",
       "      <th>transport_closing</th>\n",
       "      <td>NaN</td>\n",
       "      <td>NaN</td>\n",
       "      <td>NaN</td>\n",
       "      <td>NaN</td>\n",
       "      <td>NaN</td>\n",
       "      <td>NaN</td>\n",
       "      <td>NaN</td>\n",
       "      <td>NaN</td>\n",
       "      <td>NaN</td>\n",
       "      <td>NaN</td>\n",
       "    </tr>\n",
       "    <tr>\n",
       "      <th>stay_home_restrictions</th>\n",
       "      <td>0.882788</td>\n",
       "      <td>0.761756</td>\n",
       "      <td>0.941325</td>\n",
       "      <td>0.936028</td>\n",
       "      <td>NaN</td>\n",
       "      <td>1.000000</td>\n",
       "      <td>0.858927</td>\n",
       "      <td>0.802884</td>\n",
       "      <td>0.911021</td>\n",
       "      <td>0.435397</td>\n",
       "    </tr>\n",
       "    <tr>\n",
       "      <th>internal_movement_restrictions</th>\n",
       "      <td>0.837906</td>\n",
       "      <td>0.791130</td>\n",
       "      <td>0.808529</td>\n",
       "      <td>0.944209</td>\n",
       "      <td>NaN</td>\n",
       "      <td>0.858927</td>\n",
       "      <td>1.000000</td>\n",
       "      <td>0.843218</td>\n",
       "      <td>0.782501</td>\n",
       "      <td>0.454541</td>\n",
       "    </tr>\n",
       "    <tr>\n",
       "      <th>international_movement_restrictions</th>\n",
       "      <td>0.893071</td>\n",
       "      <td>0.894532</td>\n",
       "      <td>0.755774</td>\n",
       "      <td>0.854969</td>\n",
       "      <td>NaN</td>\n",
       "      <td>0.802884</td>\n",
       "      <td>0.843218</td>\n",
       "      <td>1.000000</td>\n",
       "      <td>0.731444</td>\n",
       "      <td>0.374651</td>\n",
       "    </tr>\n",
       "    <tr>\n",
       "      <th>information_campaigns</th>\n",
       "      <td>0.804239</td>\n",
       "      <td>0.693976</td>\n",
       "      <td>0.967808</td>\n",
       "      <td>0.852741</td>\n",
       "      <td>NaN</td>\n",
       "      <td>0.911021</td>\n",
       "      <td>0.782501</td>\n",
       "      <td>0.731444</td>\n",
       "      <td>1.000000</td>\n",
       "      <td>0.407792</td>\n",
       "    </tr>\n",
       "    <tr>\n",
       "      <th>new</th>\n",
       "      <td>0.282166</td>\n",
       "      <td>0.600926</td>\n",
       "      <td>0.418098</td>\n",
       "      <td>0.460294</td>\n",
       "      <td>NaN</td>\n",
       "      <td>0.435397</td>\n",
       "      <td>0.454541</td>\n",
       "      <td>0.374651</td>\n",
       "      <td>0.407792</td>\n",
       "      <td>1.000000</td>\n",
       "    </tr>\n",
       "  </tbody>\n",
       "</table>\n",
       "</div>"
      ],
      "text/plain": [
       "                                     school_closing  workplace_closing  \\\n",
       "school_closing                             1.000000           0.819194   \n",
       "workplace_closing                          0.819194           1.000000   \n",
       "cancel_events                              0.830990           0.717060   \n",
       "gatherings_restrictions                    0.918324           0.805183   \n",
       "transport_closing                               NaN                NaN   \n",
       "stay_home_restrictions                     0.882788           0.761756   \n",
       "internal_movement_restrictions             0.837906           0.791130   \n",
       "international_movement_restrictions        0.893071           0.894532   \n",
       "information_campaigns                      0.804239           0.693976   \n",
       "new                                        0.282166           0.600926   \n",
       "\n",
       "                                     cancel_events  gatherings_restrictions  \\\n",
       "school_closing                            0.830990                 0.918324   \n",
       "workplace_closing                         0.717060                 0.805183   \n",
       "cancel_events                             1.000000                 0.881106   \n",
       "gatherings_restrictions                   0.881106                 1.000000   \n",
       "transport_closing                              NaN                      NaN   \n",
       "stay_home_restrictions                    0.941325                 0.936028   \n",
       "internal_movement_restrictions            0.808529                 0.944209   \n",
       "international_movement_restrictions       0.755774                 0.854969   \n",
       "information_campaigns                     0.967808                 0.852741   \n",
       "new                                       0.418098                 0.460294   \n",
       "\n",
       "                                     transport_closing  \\\n",
       "school_closing                                     NaN   \n",
       "workplace_closing                                  NaN   \n",
       "cancel_events                                      NaN   \n",
       "gatherings_restrictions                            NaN   \n",
       "transport_closing                                  NaN   \n",
       "stay_home_restrictions                             NaN   \n",
       "internal_movement_restrictions                     NaN   \n",
       "international_movement_restrictions                NaN   \n",
       "information_campaigns                              NaN   \n",
       "new                                                NaN   \n",
       "\n",
       "                                     stay_home_restrictions  \\\n",
       "school_closing                                     0.882788   \n",
       "workplace_closing                                  0.761756   \n",
       "cancel_events                                      0.941325   \n",
       "gatherings_restrictions                            0.936028   \n",
       "transport_closing                                       NaN   \n",
       "stay_home_restrictions                             1.000000   \n",
       "internal_movement_restrictions                     0.858927   \n",
       "international_movement_restrictions                0.802884   \n",
       "information_campaigns                              0.911021   \n",
       "new                                                0.435397   \n",
       "\n",
       "                                     internal_movement_restrictions  \\\n",
       "school_closing                                             0.837906   \n",
       "workplace_closing                                          0.791130   \n",
       "cancel_events                                              0.808529   \n",
       "gatherings_restrictions                                    0.944209   \n",
       "transport_closing                                               NaN   \n",
       "stay_home_restrictions                                     0.858927   \n",
       "internal_movement_restrictions                             1.000000   \n",
       "international_movement_restrictions                        0.843218   \n",
       "information_campaigns                                      0.782501   \n",
       "new                                                        0.454541   \n",
       "\n",
       "                                     international_movement_restrictions  \\\n",
       "school_closing                                                  0.893071   \n",
       "workplace_closing                                               0.894532   \n",
       "cancel_events                                                   0.755774   \n",
       "gatherings_restrictions                                         0.854969   \n",
       "transport_closing                                                    NaN   \n",
       "stay_home_restrictions                                          0.802884   \n",
       "internal_movement_restrictions                                  0.843218   \n",
       "international_movement_restrictions                             1.000000   \n",
       "information_campaigns                                           0.731444   \n",
       "new                                                             0.374651   \n",
       "\n",
       "                                     information_campaigns       new  \n",
       "school_closing                                    0.804239  0.282166  \n",
       "workplace_closing                                 0.693976  0.600926  \n",
       "cancel_events                                     0.967808  0.418098  \n",
       "gatherings_restrictions                           0.852741  0.460294  \n",
       "transport_closing                                      NaN       NaN  \n",
       "stay_home_restrictions                            0.911021  0.435397  \n",
       "internal_movement_restrictions                    0.782501  0.454541  \n",
       "international_movement_restrictions               0.731444  0.374651  \n",
       "information_campaigns                             1.000000  0.407792  \n",
       "new                                               0.407792  1.000000  "
      ]
     },
     "execution_count": 71,
     "metadata": {},
     "output_type": "execute_result"
    }
   ],
   "source": [
    "# check for correlation between lockdown procedures and case count\n",
    "temp = lockdown_procs+['new']\n",
    "\n",
    "on2['new'] = on2['confirmed'].shift(-14).values - on2['confirmed'].values\n",
    "\n",
    "\n",
    "on2[temp].corr()"
   ]
  },
  {
   "cell_type": "markdown",
   "metadata": {},
   "source": [
    "New cases for the next week"
   ]
  },
  {
   "cell_type": "code",
   "execution_count": 74,
   "metadata": {},
   "outputs": [
    {
     "data": {
      "text/plain": [
       "33.285714285714285"
      ]
     },
     "execution_count": 74,
     "metadata": {},
     "output_type": "execute_result"
    }
   ],
   "source": [
    "on2.shape[0]"
   ]
  },
  {
   "cell_type": "code",
   "execution_count": 72,
   "metadata": {},
   "outputs": [
    {
     "data": {
      "text/plain": [
       "<matplotlib.axes._subplots.AxesSubplot at 0x12d38a518>"
      ]
     },
     "execution_count": 72,
     "metadata": {},
     "output_type": "execute_result"
    },
    {
     "data": {
      "image/png": "[encoded data removed]",
      "text/plain": [
       "<matplotlib.figure.Figure at 0x12d384320>"
      ]
     },
     "metadata": {
      "needs_background": "light"
     },
     "output_type": "display_data"
    }
   ],
   "source": [
    "on2.new.plot()"
   ]
  },
  {
   "cell_type": "code",
   "execution_count": 64,
   "metadata": {},
   "outputs": [
    {
     "data": {
      "text/plain": [
       "<matplotlib.axes._subplots.AxesSubplot at 0x12c831160>"
      ]
     },
     "execution_count": 64,
     "metadata": {},
     "output_type": "execute_result"
    },
    {
     "data": {
      "image/png": "[encoded data removed]",
      "text/plain": [
       "<matplotlib.figure.Figure at 0x12c1687f0>"
      ]
     },
     "metadata": {
      "needs_background": "light"
     },
     "output_type": "display_data"
    }
   ],
   "source": [
    "import seaborn as sns\n",
    "\n",
    "sns.heatmap(on2[temp].corr())"
   ]
  },
  {
   "cell_type": "markdown",
   "metadata": {},
   "source": [
    "Can use all except transport_closing (no changes)"
   ]
  },
  {
   "cell_type": "code",
   "execution_count": 65,
   "metadata": {},
   "outputs": [
    {
     "ename": "SyntaxError",
     "evalue": "invalid syntax (<ipython-input-65-344b4de39818>, line 1)",
     "output_type": "error",
     "traceback": [
      "\u001b[0;36m  File \u001b[0;32m\"<ipython-input-65-344b4de39818>\"\u001b[0;36m, line \u001b[0;32m1\u001b[0m\n\u001b[0;31m    on2_sub = on2[]\u001b[0m\n\u001b[0m                  ^\u001b[0m\n\u001b[0;31mSyntaxError\u001b[0m\u001b[0;31m:\u001b[0m invalid syntax\n"
     ]
    }
   ],
   "source": [
    "on2_sub = on2"
   ]
  }
 ],
 "metadata": {
  "kernelspec": {
   "display_name": "Python 3",
   "language": "python",
   "name": "python3"
  },
  "language_info": {
   "codemirror_mode": {
    "name": "ipython",
    "version": 3
   },
   "file_extension": ".py",
   "mimetype": "text/x-python",
   "name": "python",
   "nbconvert_exporter": "python",
   "pygments_lexer": "ipython3",
   "version": "3.6.4"
  }
 },
 "nbformat": 4,
 "nbformat_minor": 2
}
